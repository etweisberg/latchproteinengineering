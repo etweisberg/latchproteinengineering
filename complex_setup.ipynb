{
 "cells": [
  {
   "cell_type": "markdown",
   "id": "4c8c4feb",
   "metadata": {},
   "source": [
    "# Cleaning Crystal Structure"
   ]
  },
  {
   "cell_type": "code",
   "execution_count": 3,
   "id": "3cd50da0",
   "metadata": {},
   "outputs": [
    {
     "data": {
      "application/vnd.jupyter.widget-view+json": {
       "model_id": "86e17e2487e84a87989e348425549366",
       "version_major": 2,
       "version_minor": 0
      },
      "text/plain": []
     },
     "metadata": {},
     "output_type": "display_data"
    }
   ],
   "source": [
    "import nglview\n",
    "import ipywidgets\n",
    "import plotly\n",
    "from plotly import subplots\n",
    "import plotly.graph_objs as go\n",
    "\n",
    "pdbCode = \"4rc7\"\n",
    "ligandCode = \"pl3\"\n",
    "mol_charge = 0"
   ]
  },
  {
   "cell_type": "code",
   "execution_count": 10,
   "id": "fd12f9e6",
   "metadata": {
    "scrolled": true
   },
   "outputs": [
    {
     "data": {
      "application/vnd.jupyter.widget-view+json": {
       "model_id": "2db684abd71240fabff7794c82da164d",
       "version_major": 2,
       "version_minor": 0
      },
      "text/plain": [
       "NGLWidget()"
      ]
     },
     "metadata": {},
     "output_type": "display_data"
    }
   ],
   "source": [
    "view = nglview.show_structure_file(f\"input/{pdbCode}.pdb\")\n",
    "view.clear_representations()\n",
    "view.add_representation(repr_type='cartoon', selection='protein', color='sstruc')\n",
    "view.add_representation(repr_type='ball+stick', radius='0.1', selection='water')\n",
    "view.add_representation(repr_type='ball+stick', radius='0.5', selection='ligand')\n",
    "view.add_representation(repr_type='ball+stick', radius='0.5', selection='ion')\n",
    "view._remote_call('setSize', target='Widget', args=['','600px'])\n",
    "\n",
    "view"
   ]
  },
  {
   "cell_type": "code",
   "execution_count": 11,
   "id": "e7ed3475",
   "metadata": {
    "scrolled": true
   },
   "outputs": [
    {
     "name": "stdout",
     "output_type": "stream",
     "text": [
      "2022-06-29 22:27:58,026 [MainThread  ] [INFO ]  check_structure -i input/4rc7.pdb -o input/4rc7.nowat.pdb --force_save water --remove yes\n",
      "\n",
      "2022-06-29 22:27:58,029 [MainThread  ] [INFO ]  Exit code 0\n",
      "\n",
      "2022-06-29 22:27:58,030 [MainThread  ] [INFO ]  ===============================================================================\n",
      "=                   BioBB structure checking utility v3.8.1                   =\n",
      "=                 A. Hospital, P. Andrio, J.L. Gelpi 2018-21                  =\n",
      "===============================================================================\n",
      "\n",
      "Warning: sequence features only available in mmCIF format or with external fasta input\n",
      "Structure input/4rc7.pdb loaded\n",
      " Title: \n",
      " Experimental method: unknown\n",
      " Resolution (A): N.A.\n",
      "\n",
      " Num. models: 1\n",
      " Num. chains: 1 (A: Protein)\n",
      " Num. residues:  318\n",
      " Num. residues with ins. codes:  0\n",
      " Num. HETATM residues:  98\n",
      " Num. ligands or modified residues:  3\n",
      " Num. water mol.:  95\n",
      " Num. atoms:  1881\n",
      "Metal/Ion residues found\n",
      "FE2 A1002\n",
      "FE2 A1003\n",
      "Small mol ligands found\n",
      "PL3 A1001\n",
      "\n",
      "Running water. Options: --remove yes\n",
      "95 Water molecules detected\n",
      "95 Water molecules removed\n",
      "Final Num. models: 1\n",
      "Final Num. chains: 1 (A: Protein)\n",
      "Final Num. residues:  223\n",
      "Final Num. residues with ins. codes:  0\n",
      "Final Num. HETATM residues:  3\n",
      "Final Num. ligands or modified residues:  3\n",
      "Final Num. water mol.:  0\n",
      "Final Num. atoms:  1786\n",
      "Metal/Ion residues found\n",
      "FE2 A1002\n",
      "FE2 A1003\n",
      "Small mol ligands found\n",
      "PL3 A1001\n",
      "Structure saved on input/4rc7.nowat.pdb\n",
      "\n"
     ]
    },
    {
     "data": {
      "text/plain": [
       "0"
      ]
     },
     "execution_count": 11,
     "metadata": {},
     "output_type": "execute_result"
    }
   ],
   "source": [
    "from biobb_structure_utils.utils.remove_pdb_water import remove_pdb_water\n",
    "\n",
    "nowat_pdb = pdbCode+'.nowat.pdb'\n",
    "\n",
    "remove_pdb_water(input_pdb_path=f\"input/{pdbCode}.pdb\",\n",
    "    output_pdb_path=f\"input/{nowat_pdb}\")"
   ]
  },
  {
   "cell_type": "code",
   "execution_count": 12,
   "id": "18ad053f",
   "metadata": {},
   "outputs": [
    {
     "name": "stdout",
     "output_type": "stream",
     "text": [
      "2022-06-29 22:27:58,087 [MainThread  ] [INFO ]  PDB format detected, removing all atoms from residues named FE2\n"
     ]
    },
    {
     "data": {
      "text/plain": [
       "0"
      ]
     },
     "execution_count": 12,
     "metadata": {},
     "output_type": "execute_result"
    }
   ],
   "source": [
    "from biobb_structure_utils.utils.remove_ligand import remove_ligand\n",
    "\n",
    "nofe2_pdb = pdbCode+'.noFe2.pdb'\n",
    "\n",
    "prop = {\n",
    "    'ligand' : 'FE2'\n",
    "}\n",
    "\n",
    "remove_ligand(input_structure_path=f\"input/{nowat_pdb}\",\n",
    "    output_structure_path=f\"input/{nofe2_pdb}\",\n",
    "    properties=prop)"
   ]
  },
  {
   "cell_type": "code",
   "execution_count": 13,
   "id": "c208183b",
   "metadata": {
    "scrolled": true
   },
   "outputs": [
    {
     "data": {
      "application/vnd.jupyter.widget-view+json": {
       "model_id": "7793074cf0534c20bf806e509171fa21",
       "version_major": 2,
       "version_minor": 0
      },
      "text/plain": [
       "NGLWidget()"
      ]
     },
     "metadata": {},
     "output_type": "display_data"
    }
   ],
   "source": [
    "view = nglview.show_structure_file(f\"input/{nofe2_pdb}\")\n",
    "view.clear_representations()\n",
    "view.add_representation(repr_type='cartoon', selection='protein', color='sstruc')\n",
    "view.add_representation(repr_type='ball+stick', radius='0.1', selection='water')\n",
    "view.add_representation(repr_type='ball+stick', radius='0.5', selection='ligand')\n",
    "view.add_representation(repr_type='ball+stick', radius='0.5', selection='ion')\n",
    "view._remote_call('setSize', target='Widget', args=['','600px'])\n",
    "\n",
    "view"
   ]
  },
  {
   "cell_type": "markdown",
   "id": "ed7f2c03",
   "metadata": {},
   "source": [
    "# Ligand Topology"
   ]
  },
  {
   "cell_type": "code",
   "execution_count": 14,
   "id": "3e6dd30a",
   "metadata": {
    "scrolled": true
   },
   "outputs": [
    {
     "name": "stdout",
     "output_type": "stream",
     "text": [
      "2022-06-29 22:27:58,319 [MainThread  ] [INFO ]  Creating 12775723-c7a6-4d42-b1f1-cfc81268ba40 temporary folder\n",
      "2022-06-29 22:27:58,320 [MainThread  ] [INFO ]  Creating command line with instructions and required arguments\n",
      "2022-06-29 22:27:59,384 [MainThread  ] [INFO ]  pdb4amber  -i input/4rc7.noFe2.pdb -o input/structure.pdb4amber.pdb\n",
      "\n",
      "2022-06-29 22:27:59,386 [MainThread  ] [INFO ]  Exit code 0\n",
      "\n",
      "2022-06-29 22:27:59,388 [MainThread  ] [INFO ]  \n",
      "==================================================\n",
      "Summary of pdb4amber for: input/4rc7.noFe2.pdb\n",
      "===================================================\n",
      "\n",
      "----------Chains\n",
      "The following (original) chains have been found:\n",
      "A\n",
      "\n",
      "---------- Alternate Locations (Original Residues!))\n",
      "\n",
      "The following residues had alternate locations:\n",
      "None\n",
      "-----------Non-standard-resnames\n",
      "PL3\n",
      "\n",
      "---------- Mising heavy atom(s)\n",
      "\n",
      "None\n",
      "\n",
      "2022-06-29 22:27:59,390 [MainThread  ] [INFO ]  Removed: 12775723-c7a6-4d42-b1f1-cfc81268ba40\n"
     ]
    },
    {
     "data": {
      "text/plain": [
       "0"
      ]
     },
     "execution_count": 14,
     "metadata": {},
     "output_type": "execute_result"
    }
   ],
   "source": [
    "# Import module\n",
    "from biobb_amber.pdb4amber.pdb4amber_run import pdb4amber_run\n",
    "\n",
    "# Crea# Cleaning Crystal Structurete prop dict and inputs/outputs\n",
    "output_pdb4amber_path = 'structure.pdb4amber.pdb'\n",
    "\n",
    "# Create and launch bb\n",
    "pdb4amber_run(input_pdb_path=f\"input/{nofe2_pdb}\",\n",
    "            output_pdb_path=f\"input/{output_pdb4amber_path}\")"
   ]
  },
  {
   "cell_type": "code",
   "execution_count": 15,
   "id": "7d4d05c7",
   "metadata": {},
   "outputs": [
    {
     "name": "stdout",
     "output_type": "stream",
     "text": [
      "2022-06-29 22:27:59,554 [MainThread  ] [INFO ]  File input/pl3.pdb created\n"
     ]
    },
    {
     "data": {
      "text/plain": [
       "0"
      ]
     },
     "execution_count": 15,
     "metadata": {},
     "output_type": "execute_result"
    }
   ],
   "source": [
    "from biobb_structure_utils.utils.extract_heteroatoms import extract_heteroatoms\n",
    "\n",
    "ligandFile = ligandCode+'.pdb'\n",
    "\n",
    "prop = {\n",
    "     'heteroatoms' : [{\"name\": \"PL3\"}]\n",
    "}\n",
    "\n",
    "extract_heteroatoms(input_structure_path=f\"input/{output_pdb4amber_path}\",\n",
    "     output_heteroatom_path=f\"input/{ligandFile}\",\n",
    "     properties=prop)"
   ]
  },
  {
   "cell_type": "code",
   "execution_count": 16,
   "id": "c5c98a6a",
   "metadata": {
    "scrolled": true
   },
   "outputs": [
    {
     "name": "stdout",
     "output_type": "stream",
     "text": [
      "2022-06-29 22:27:59,609 [MainThread  ] [INFO ]  Not using any container\n",
      "2022-06-29 22:28:00,231 [MainThread  ] [INFO ]  reduce -FLIP -NUClear -OH -ROTNH3 -ROTEXist -ALLALT -BUILD input/pl3.pdb > input/pl3.reduce.H.pdb\n",
      "\n",
      "2022-06-29 22:28:00,233 [MainThread  ] [INFO ]  Exit code 0\n",
      "\n",
      "2022-06-29 22:28:00,234 [MainThread  ] [INFO ]  reduce: version 3.3 06/02/2016, Copyright 1997-2016, J. Michael Word\n",
      "Processing file: \"input/pl3.pdb\"\n",
      "Database of HETATM connections: \"/Users/ethan/anaconda3/envs/biobb_AMBER_MD//dat/reduce_wwPDB_het_dict.txt\u0000\u0000\u0000\u0000\u0000\u0000\u0000\u0000\u0000\u0000\u0000\u0000\u0000\u0000\u0000\u0000\u0000\u0000\u0000\u0000\u0000\u0000\u0000\u0000\u0000\u0000\u0000\u0000\u0000\u0000\u0000\u0000\u0000\u0000\u0000\u0000\u0000\u0000\u0000\u0000\u0000\u0000\u0000\u0000\u0000\u0000\u0000\u0000\u0000\u0000\u0000\u0000\u0000\u0000\u0000\u0000\u0000\u0000\u0000\u0000\u0000\u0000\u0000\u0000\u0000\u0000\u0000\u0000\u0000\u0000\u0000\u0000\u0000\u0000\u0000\u0000\u0000\u0000\u0000\u0000\u0000\u0000\u0000\u0000\u0000\u0000\u0000\u0000\u0000\u0000\u0000\u0000\u0000\u0000\u0000\u0000\u0000\u0000\u0000\u0000\u0000\u0000\u0000\u0000\u0000\u0000\u0000\u0000\u0000\u0000\u0000\u0000\u0000\u0000\u0000\u0000\u0000\u0000\u0000\u0000\u0000\u0000\u0000\u0000\u0000\u0000\u0000\u0000\u0000\u0000\u0000\u0000\u0000\u0000\u0000\u0000\u0000\u0000\u0000\u0000\u0000\u0000\u0000\u0000\u0000\u0000\u0000\u0000\u0000\u0000\u0000\u0000\u0000\u0000\u0000\u0000\u0000\u0000\u0000\u0000\u0000\u0000\u0000\u0000\u0000\u0000\u0000\u0000\u0000\u0000\u0000\u0000\u0000\u0000\u0000\u0000\u0000\u0000\u0000\u0000\u0000\u0000\u0000\u0000\u0000\u0000\u0000\u0000\u0000\u0000\u0000\u0000\u0000\u0000\u0000\u0000\u0000\u0000\u0000\u0000\u0000\u0000\u0000\u0000\u0000\u0000\u0000\u0000\u0000\u0000\u0000\u0000\u0000\"\n",
      "VDW dot density = 16/A^2\n",
      "Orientation penalty scale = 1 (100%)\n",
      "Eliminate contacts within 3 bonds.\n",
      "Ignore atoms with |occupancy| <= 0.01 during adjustments.\n",
      "Waters ignored if B-Factor >= 40 or |occupancy| < 0.66\n",
      "Aromatic rings in amino acids accept hydrogen bonds.\n",
      "Building His ring NH Hydrogens.\n",
      "Flipping Asn, Gln and His groups.\n",
      "For each flip state, bumps where gap is more than 0.4A are indicated with '!'.\n",
      "Building or keeping OH & SH Hydrogens.\n",
      "Rotating NH3 Hydrogens.\n",
      "Not processing Met methyls.\n",
      "Rotating pre-existing groups.\n",
      "WARNING: atom H1C1 from PL3 will be treated as hydrogen\n",
      "WARNING: atom H1C1 from PL3 will be treated as hydrogen\n",
      "WARNING: atom H1C2 from PL3 will be treated as hydrogen\n",
      "WARNING: atom H1C2 from PL3 will be treated as hydrogen\n",
      "WARNING: atom H1C1 from PL3 will be treated as hydrogen\n",
      "WARNING: atom H1C2 from PL3 will be treated as hydrogen\n",
      "WARNING: atom H2C1 from PL3 will be treated as hydrogen\n",
      "WARNING: atom H2C1 from PL3 will be treated as hydrogen\n",
      "WARNING: atom H2C2 from PL3 will be treated as hydrogen\n",
      "WARNING: atom H2C2 from PL3 will be treated as hydrogen\n",
      "WARNING: atom H2C1 from PL3 will be treated as hydrogen\n",
      "WARNING: atom H2C2 from PL3 will be treated as hydrogen\n",
      "WARNING: atom H3C1 from PL3 will be treated as hydrogen\n",
      "WARNING: atom H3C1 from PL3 will be treated as hydrogen\n",
      "WARNING: atom H3C2 from PL3 will be treated as hydrogen\n",
      "WARNING: atom H3C2 from PL3 will be treated as hydrogen\n",
      "WARNING: atom H3C1 from PL3 will be treated as hydrogen\n",
      "WARNING: atom H3C2 from PL3 will be treated as hydrogen\n",
      "WARNING: atom H4C1 from PL3 will be treated as hydrogen\n",
      "WARNING: atom H4C1 from PL3 will be treated as hydrogen\n",
      "WARNING: atom H4C2 from PL3 will be treated as hydrogen\n",
      "WARNING: atom H4C2 from PL3 will be treated as hydrogen\n",
      "WARNING: atom H4C1 from PL3 will be treated as hydrogen\n",
      "WARNING: atom H4C2 from PL3 will be treated as hydrogen\n",
      "WARNING: atom H6C1 from PL3 will be treated as hydrogen\n",
      "WARNING: atom H6C1 from PL3 will be treated as hydrogen\n",
      "WARNING: atom H6C2 from PL3 will be treated as hydrogen\n",
      "WARNING: atom H6C2 from PL3 will be treated as hydrogen\n",
      "WARNING: atom H6C1 from PL3 will be treated as hydrogen\n",
      "WARNING: atom H6C2 from PL3 will be treated as hydrogen\n",
      "WARNING: atom H7C1 from PL3 will be treated as hydrogen\n",
      "WARNING: atom H7C1 from PL3 will be treated as hydrogen\n",
      "WARNING: atom H7C2 from PL3 will be treated as hydrogen\n",
      "WARNING: atom H7C2 from PL3 will be treated as hydrogen\n",
      "WARNING: atom H7C1 from PL3 will be treated as hydrogen\n",
      "WARNING: atom H7C2 from PL3 will be treated as hydrogen\n",
      "WARNING: atom H8C1 from PL3 will be treated as hydrogen\n",
      "WARNING: atom H8C1 from PL3 will be treated as hydrogen\n",
      "WARNING: atom H8C2 from PL3 will be treated as hydrogen\n",
      "WARNING: atom H8C2 from PL3 will be treated as hydrogen\n",
      "WARNING: atom H8C1 from PL3 will be treated as hydrogen\n",
      "WARNING: atom H8C2 from PL3 will be treated as hydrogen\n",
      "WARNING: atom H9C1 from PL3 will be treated as hydrogen\n",
      "WARNING: atom H9C1 from PL3 will be treated as hydrogen\n",
      "WARNING: atom H9C2 from PL3 will be treated as hydrogen\n",
      "WARNING: atom H9C2 from PL3 will be treated as hydrogen\n",
      "WARNING: atom H9C1 from PL3 will be treated as hydrogen\n",
      "WARNING: atom H9C2 from PL3 will be treated as hydrogen\n",
      "WARNING: atom HAC1 from PL3 will be treated as hydrogen\n",
      "WARNING: atom HAC1 from PL3 will be treated as hydrogen\n",
      "WARNING: atom HAC2 from PL3 will be treated as hydrogen\n",
      "WARNING: atom HAC2 from PL3 will be treated as hydrogen\n",
      "WARNING: atom HAC1 from PL3 will be treated as hydrogen\n",
      "WARNING: atom HAC2 from PL3 will be treated as hydrogen\n",
      "WARNING: atom HBC1 from PL3 will be treated as hydrogen\n",
      "WARNING: atom HBC1 from PL3 will be treated as hydrogen\n",
      "WARNING: atom HBC2 from PL3 will be treated as hydrogen\n",
      "WARNING: atom HBC2 from PL3 will be treated as hydrogen\n",
      "WARNING: atom HBC1 from PL3 will be treated as hydrogen\n",
      "WARNING: atom HBC2 from PL3 will be treated as hydrogen\n",
      "WARNING: atom HCC1 from PL3 will be treated as hydrogen\n",
      "WARNING: atom HCC1 from PL3 will be treated as hydrogen\n",
      "WARNING: atom HCC2 from PL3 will be treated as hydrogen\n",
      "WARNING: atom HCC2 from PL3 will be treated as hydrogen\n",
      "WARNING: atom HCC1 from PL3 will be treated as hydrogen\n",
      "WARNING: atom HCC2 from PL3 will be treated as hydrogen\n",
      "WARNING: atom HCC2 from PL3 will be treated as hydrogen\n",
      "WARNING: atom HCC2 from PL3 will be treated as hydrogen\n",
      "WARNING: atom HCC1 from PL3 will be treated as hydrogen\n",
      "WARNING: atom HCC1 from PL3 will be treated as hydrogen\n",
      "WARNING: atom HCC2 from PL3 will be treated as hydrogen\n",
      "WARNING: atom HCC1 from PL3 will be treated as hydrogen\n",
      "WARNING: atom HBC2 from PL3 will be treated as hydrogen\n",
      "WARNING: atom HBC2 from PL3 will be treated as hydrogen\n",
      "WARNING: atom HBC1 from PL3 will be treated as hydrogen\n",
      "WARNING: atom HBC1 from PL3 will be treated as hydrogen\n",
      "WARNING: atom HBC2 from PL3 will be treated as hydrogen\n",
      "WARNING: atom HBC1 from PL3 will be treated as hydrogen\n",
      "WARNING: atom HAC2 from PL3 will be treated as hydrogen\n",
      "WARNING: atom HAC2 from PL3 will be treated as hydrogen\n",
      "WARNING: atom HAC1 from PL3 will be treated as hydrogen\n",
      "WARNING: atom HAC1 from PL3 will be treated as hydrogen\n",
      "WARNING: atom HAC2 from PL3 will be treated as hydrogen\n",
      "WARNING: atom HAC1 from PL3 will be treated as hydrogen\n",
      "WARNING: atom H9C2 from PL3 will be treated as hydrogen\n",
      "WARNING: atom H9C2 from PL3 will be treated as hydrogen\n",
      "WARNING: atom H9C1 from PL3 will be treated as hydrogen\n",
      "WARNING: atom H9C1 from PL3 will be treated as hydrogen\n",
      "WARNING: atom H9C2 from PL3 will be treated as hydrogen\n",
      "WARNING: atom H9C1 from PL3 will be treated as hydrogen\n",
      "WARNING: atom H8C2 from PL3 will be treated as hydrogen\n",
      "WARNING: atom H8C2 from PL3 will be treated as hydrogen\n",
      "WARNING: atom H8C1 from PL3 will be treated as hydrogen\n",
      "WARNING: atom H8C1 from PL3 will be treated as hydrogen\n",
      "WARNING: atom H8C2 from PL3 will be treated as hydrogen\n",
      "WARNING: atom H8C1 from PL3 will be treated as hydrogen\n",
      "WARNING: atom H7C2 from PL3 will be treated as hydrogen\n",
      "WARNING: atom H7C2 from PL3 will be treated as hydrogen\n",
      "WARNING: atom H7C1 from PL3 will be treated as hydrogen\n",
      "WARNING: atom H7C1 from PL3 will be treated as hydrogen\n",
      "WARNING: atom H7C2 from PL3 will be treated as hydrogen\n",
      "WARNING: atom H7C1 from PL3 will be treated as hydrogen\n",
      "WARNING: atom H6C2 from PL3 will be treated as hydrogen\n",
      "WARNING: atom H6C2 from PL3 will be treated as hydrogen\n",
      "WARNING: atom H6C1 from PL3 will be treated as hydrogen\n",
      "WARNING: atom H6C1 from PL3 will be treated as hydrogen\n",
      "WARNING: atom H6C2 from PL3 will be treated as hydrogen\n",
      "WARNING: atom H6C1 from PL3 will be treated as hydrogen\n",
      "WARNING: atom H4C2 from PL3 will be treated as hydrogen\n",
      "WARNING: atom H4C2 from PL3 will be treated as hydrogen\n",
      "WARNING: atom H4C1 from PL3 will be treated as hydrogen\n",
      "WARNING: atom H4C1 from PL3 will be treated as hydrogen\n",
      "WARNING: atom H4C2 from PL3 will be treated as hydrogen\n",
      "WARNING: atom H4C1 from PL3 will be treated as hydrogen\n",
      "WARNING: atom H3C2 from PL3 will be treated as hydrogen\n",
      "WARNING: atom H3C2 from PL3 will be treated as hydrogen\n",
      "WARNING: atom H3C1 from PL3 will be treated as hydrogen\n",
      "WARNING: atom H3C1 from PL3 will be treated as hydrogen\n",
      "WARNING: atom H3C2 from PL3 will be treated as hydrogen\n",
      "WARNING: atom H3C1 from PL3 will be treated as hydrogen\n",
      "WARNING: atom H2C2 from PL3 will be treated as hydrogen\n",
      "WARNING: atom H2C2 from PL3 will be treated as hydrogen\n",
      "WARNING: atom H2C1 from PL3 will be treated as hydrogen\n",
      "WARNING: atom H2C1 from PL3 will be treated as hydrogen\n",
      "WARNING: atom H2C2 from PL3 will be treated as hydrogen\n",
      "WARNING: atom H2C1 from PL3 will be treated as hydrogen\n",
      "WARNING: atom H1C2 from PL3 will be treated as hydrogen\n",
      "WARNING: atom H1C2 from PL3 will be treated as hydrogen\n",
      "WARNING: atom H1C1 from PL3 will be treated as hydrogen\n",
      "WARNING: atom H1C1 from PL3 will be treated as hydrogen\n",
      "WARNING: atom H1C2 from PL3 will be treated as hydrogen\n",
      "WARNING: atom H1C1 from PL3 will be treated as hydrogen\n",
      "WARNING: A 221 PL3 O1   H atom too close to  A 221 PL3 C1   by 0.011267A\n",
      "        you may need to adjust using -METALBump or -NONMETALBump.\n",
      "SKIPPED H( A 221 PL3 HO  ): A 221 PL3 O1   bonds- A 221 PL3 C1   (short bond)\n",
      "Found 0 hydrogens (0 hets)\n",
      "Standardized 0 hydrogens (0 hets)\n",
      "Added 33 hydrogens (33 hets)\n",
      "Removed 0 hydrogens (0 hets)\n",
      "If you publish work which uses reduce, please cite:\n",
      "Word, et. al. (1999) J. Mol. Biol. 285, 1735-1747.\n",
      "For more information see http://kinemage.biochem.duke.edu\n",
      "\n"
     ]
    },
    {
     "data": {
      "text/plain": [
       "0"
      ]
     },
     "execution_count": 16,
     "metadata": {},
     "output_type": "execute_result"
    }
   ],
   "source": [
    "from biobb_chemistry.ambertools.reduce_add_hydrogens import reduce_add_hydrogens\n",
    "\n",
    "output_reduce_h = ligandCode+'.reduce.H.pdb' \n",
    "\n",
    "prop = {\n",
    "    'build': True,\n",
    "    'flip': True,\n",
    "    'rotexist': True,\n",
    "    'nuclear': True\n",
    "}\n",
    "\n",
    "reduce_add_hydrogens(input_path=f\"input/{ligandFile}\",\n",
    "                   output_path=f\"input/{output_reduce_h}\",\n",
    "                   properties=prop)"
   ]
  },
  {
   "cell_type": "code",
   "execution_count": 17,
   "id": "38384c5f",
   "metadata": {
    "scrolled": true
   },
   "outputs": [
    {
     "name": "stdout",
     "output_type": "stream",
     "text": [
      "2022-06-29 22:28:00,324 [MainThread  ] [INFO ]  Hydrogens  is not correct, assigned default value: False\n",
      "2022-06-29 22:28:00,326 [MainThread  ] [INFO ]  Steps  is not correct, assigned default value: 2500\n",
      "2022-06-29 22:28:00,328 [MainThread  ] [INFO ]  Cut-off  is not correct, assigned default value: False\n",
      "2022-06-29 22:28:00,330 [MainThread  ] [INFO ]  Rvdw  is not correct, assigned default value: 6.0\n",
      "2022-06-29 22:28:00,333 [MainThread  ] [INFO ]  Rele  is not correct, assigned default value: 10.0\n",
      "2022-06-29 22:28:00,336 [MainThread  ] [INFO ]  Frequency  is not correct, assigned default value: 10\n",
      "2022-06-29 22:28:00,337 [MainThread  ] [INFO ]  Not using any container\n",
      "2022-06-29 22:28:02,650 [MainThread  ] [INFO ]  obminimize -c 1e-10 -sd -ff GAFF -ipdb input/pl3.reduce.H.pdb -omol2 > input/pl3.H.min.mol2\n",
      "\n",
      "2022-06-29 22:28:02,656 [MainThread  ] [INFO ]  Exit code 0\n",
      "\n",
      "2022-06-29 22:28:02,659 [MainThread  ] [INFO ]  \n",
      "A T O M   T Y P E S\n",
      "\n",
      "IDX\tTYPE\tRING\n",
      "1\tc3\tNO\n",
      "2\tc3\tNO\n",
      "3\tc3\tNO\n",
      "4\tc3\tNO\n",
      "5\tc3\tNO\n",
      "6\tc3\tNO\n",
      "7\toh\tNO\n",
      "8\tc3\tNO\n",
      "9\tc3\tNO\n",
      "10\tc3\tNO\n",
      "11\tc3\tNO\n",
      "12\tc3\tNO\n",
      "13\tc3\tNO\n",
      "14\tc3\tNO\n",
      "15\tc3\tNO\n",
      "16\tc3\tNO\n",
      "17\tc3\tNO\n",
      "18\thc\tNO\n",
      "19\thc\tNO\n",
      "20\thc\tNO\n",
      "21\thc\tNO\n",
      "22\thc\tNO\n",
      "23\thc\tNO\n",
      "24\thc\tNO\n",
      "25\thc\tNO\n",
      "26\thc\tNO\n",
      "27\thc\tNO\n",
      "28\thc\tNO\n",
      "29\thc\tNO\n",
      "30\thc\tNO\n",
      "31\thc\tNO\n",
      "32\thc\tNO\n",
      "33\thc\tNO\n",
      "34\thc\tNO\n",
      "35\thc\tNO\n",
      "36\thc\tNO\n",
      "37\thc\tNO\n",
      "38\thc\tNO\n",
      "39\thc\tNO\n",
      "40\thc\tNO\n",
      "41\thc\tNO\n",
      "42\thc\tNO\n",
      "43\thc\tNO\n",
      "44\thc\tNO\n",
      "45\thc\tNO\n",
      "46\thc\tNO\n",
      "47\thc\tNO\n",
      "48\thc\tNO\n",
      "49\th1\tNO\n",
      "50\th1\tNO\n",
      "\n",
      "C H A R G E S\n",
      "\n",
      "IDX\tCHARGE\n",
      "1\t-0.053057\n",
      "2\t-0.053057\n",
      "3\t-0.065276\n",
      "4\t-0.053065\n",
      "5\t-0.053306\n",
      "6\t0.082881\n",
      "7\t-0.234751\n",
      "8\t-0.026463\n",
      "9\t-0.050878\n",
      "10\t-0.052985\n",
      "11\t-0.053056\n",
      "12\t-0.053057\n",
      "13\t-0.053057\n",
      "14\t-0.053057\n",
      "15\t-0.053057\n",
      "16\t-0.053057\n",
      "17\t-0.055911\n",
      "18\t0.022978\n",
      "19\t0.022978\n",
      "20\t0.022978\n",
      "21\t0.026265\n",
      "22\t0.026265\n",
      "23\t0.026520\n",
      "24\t0.026520\n",
      "25\t0.026528\n",
      "26\t0.026528\n",
      "27\t0.026528\n",
      "28\t0.026528\n",
      "29\t0.026528\n",
      "30\t0.026528\n",
      "31\t0.026528\n",
      "32\t0.026528\n",
      "33\t0.026528\n",
      "34\t0.026528\n",
      "35\t0.026528\n",
      "36\t0.026528\n",
      "37\t0.026528\n",
      "38\t0.026528\n",
      "39\t0.026528\n",
      "40\t0.026528\n",
      "41\t0.026528\n",
      "42\t0.026528\n",
      "43\t0.026529\n",
      "44\t0.026529\n",
      "45\t0.026600\n",
      "46\t0.026600\n",
      "47\t0.028831\n",
      "48\t0.028831\n",
      "49\t0.059138\n",
      "50\t0.059138\n",
      "\n",
      "S E T T I N G   U P   C A L C U L A T I O N S\n",
      "\n",
      "SETTING UP BOND CALCULATIONS...\n",
      "SETTING UP ANGLE CALCULATIONS...\n",
      "SETTING UP TORSION CALCULATIONS...\n",
      "SETTING UP IMPROPER TORSION CALCULATIONS...\n",
      "SETTING UP VAN DER WAALS CALCULATIONS...\n",
      "SETTING UP ELECTROSTATIC CALCULATIONS...\n",
      "\n",
      "S T E E P E S T   D E S C E N T\n",
      "\n",
      "STEPS = 2500\n",
      "\n",
      "STEP n       E(n)         E(n-1)    \n",
      "------------------------------------\n",
      "    0     247.513      ----\n",
      "   10    122.80569    123.76704\n",
      "   20    116.25312    116.76378\n",
      "   30    112.06993    112.42803\n",
      "   40    109.00282    109.27371\n",
      "   50    106.62528    106.83930\n",
      "   60    104.71361    104.88816\n",
      "   70    103.13216    103.27825\n",
      "   80    101.79265    101.91763\n",
      "   90    100.63439    100.74341\n",
      "  100    99.61464    99.71136\n",
      "  110    98.70255    98.78963\n",
      "  120    97.87538    97.95481\n",
      "  130    97.11605    97.18935\n",
      "  140    96.41157    96.47987\n",
      "  150    95.75185    95.81606\n",
      "  160    95.12902    95.18985\n",
      "  170    94.53683    94.59483\n",
      "  180    93.97027    94.02590\n",
      "  190    93.42528    93.47892\n",
      "  200    92.89856    92.95050\n",
      "  210    92.38736    92.43786\n",
      "  220    91.88941    91.93868\n",
      "  230    91.40281    91.45102\n",
      "  240    90.92593    90.97323\n",
      "  250    90.45741    90.50393\n",
      "  260    89.99608    90.04193\n",
      "  270    89.54093    89.58620\n",
      "  280    89.09109    89.13586\n",
      "  290    88.64580    88.69015\n",
      "  300    88.20440    88.24839\n",
      "  310    87.76632    87.81000\n",
      "  320    87.33105    87.37448\n",
      "  330    86.89816    86.94136\n",
      "  340    86.46724    86.51026\n",
      "  350    86.03796    86.08083\n",
      "  360    85.61000    85.65275\n",
      "  370    85.18309    85.22575\n",
      "  380    84.75699    84.79957\n",
      "  390    84.33147    84.37401\n",
      "  400    83.90634    83.94885\n",
      "  410    83.48143    83.52393\n",
      "  420    83.05658    83.09907\n",
      "  430    82.63163    82.67414\n",
      "  440    82.20645    82.24899\n",
      "  450    81.78093    81.82351\n",
      "  460    81.35495    81.39758\n",
      "  470    80.92840    80.97109\n",
      "  480    80.50119    80.54395\n",
      "  490    80.07323    80.11607\n",
      "  500    79.64443    79.68736\n",
      "  510    79.21471    79.25774\n",
      "  520    78.78400    78.82713\n",
      "  530    78.35223    78.39547\n",
      "  540    77.91934    77.96269\n",
      "  550    77.48525    77.52872\n",
      "  560    77.04992    77.09352\n",
      "  570    76.61331    76.65704\n",
      "  580    76.17535    76.21922\n",
      "  590    75.73603    75.78003\n",
      "  600    75.29530    75.33944\n",
      "  610    74.85315    74.89744\n",
      "  620    74.40956    74.45399\n",
      "  630    73.96453    74.00910\n",
      "  640    73.51806    73.56278\n",
      "  650    73.07017    73.11503\n",
      "  660    72.62090    72.66590\n",
      "  670    72.17028    72.21541\n",
      "  680    71.71836    71.76362\n",
      "  690    71.26522    71.31060\n",
      "  700    70.81095    70.85643\n",
      "  710    70.35563    70.40122\n",
      "  720    69.89939    69.94506\n",
      "  730    69.44235    69.48810\n",
      "  740    68.98466    69.03046\n",
      "  750    68.52649    68.57233\n",
      "  760    68.06800    68.11386\n",
      "  770    67.60939    67.65525\n",
      "  780    67.15086    67.19671\n",
      "  790    66.69264    66.73845\n",
      "  800    66.23496    66.28071\n",
      "  810    65.77806    65.82372\n",
      "  820    65.32220    65.36774\n",
      "  830    64.86764    64.91304\n",
      "  840    64.41466    64.45989\n",
      "  850    63.96353    64.00856\n",
      "  860    63.51453    63.55934\n",
      "  870    63.06796    63.11251\n",
      "  880    62.62410    62.66837\n",
      "  890    62.18324    62.22719\n",
      "  900    61.74567    61.78928\n",
      "  910    61.31166    61.35490\n",
      "  920    60.88150    60.92434\n",
      "  930    60.45546    60.49787\n",
      "  940    60.03379    60.07576\n",
      "  950    59.61676    59.65826\n",
      "  960    59.20461    59.24560\n",
      "  970    58.79756    58.83804\n",
      "  980    58.39584    58.43577\n",
      "  990    57.99965    58.03902\n",
      " 1000    57.60918    57.64797\n",
      " 1010    57.22461    57.26280\n",
      " 1020    56.84609    56.88367\n",
      " 1030    56.47377    56.51073\n",
      " 1040    56.10778    56.14410\n",
      " 1050    55.74823    55.78389\n",
      " 1060    55.39521    55.43022\n",
      " 1070    55.04880    55.08315\n",
      " 1080    54.70907    54.74275\n",
      " 1090    54.37607    54.40907\n",
      " 1100    54.04982    54.08214\n",
      " 1110    53.73035    53.76200\n",
      " 1120    53.41766    53.44863\n",
      " 1130    53.11174    53.14203\n",
      " 1140    52.81257    52.84218\n",
      " 1150    52.52011    52.54906\n",
      " 1160    52.23432    52.26260\n",
      " 1170    51.95514    51.98276\n",
      " 1180    51.68250    51.70947\n",
      " 1190    51.41633    51.44266\n",
      " 1200    51.15654    51.18224\n",
      " 1210    50.90304    50.92811\n",
      " 1220    50.65573    50.68019\n",
      " 1230    50.41450    50.43836\n",
      " 1240    50.17925    50.20251\n",
      " 1250    49.94984    49.97253\n",
      " 1260    49.72617    49.74829\n",
      " 1270    49.50811    49.52967\n",
      " 1280    49.29553    49.31655\n",
      " 1290    49.08830    49.10878\n",
      " 1300    48.88628    48.90625\n",
      " 1310    48.68935    48.70882\n",
      " 1320    48.49737    48.51635\n",
      " 1330    48.31020    48.32871\n",
      " 1340    48.12771    48.14576\n",
      " 1350    47.94977    47.96737\n",
      " 1360    47.77624    47.79340\n",
      " 1370    47.60700    47.62374\n",
      " 1380    47.44190    47.45823\n",
      " 1390    47.28083    47.29676\n",
      " 1400    47.12365    47.13920\n",
      " 1410    46.97024    46.98542\n",
      " 1420    46.82049    46.83530\n",
      " 1430    46.67426    46.68873\n",
      " 1440    46.53145    46.54558\n",
      " 1450    46.39193    46.40574\n",
      " 1460    46.25561    46.26911\n",
      " 1470    46.12237    46.13556\n",
      " 1480    45.99211    46.00501\n",
      " 1490    45.86473    45.87734\n",
      " 1500    45.74013    45.75246\n",
      " 1510    45.61821    45.63028\n",
      " 1520    45.49888    45.51070\n",
      " 1530    45.38206    45.39363\n",
      " 1540    45.26766    45.27899\n",
      " 1550    45.15560    45.16670\n",
      " 1560    45.04579    45.05667\n",
      " 1570    44.93817    44.94884\n",
      " 1580    44.83266    44.84312\n",
      " 1590    44.72918    44.73944\n",
      " 1600    44.62768    44.63775\n",
      " 1610    44.52809    44.53796\n",
      " 1620    44.43033    44.44003\n",
      " 1630    44.33437    44.34389\n",
      " 1640    44.24013    44.24948\n",
      " 1650    44.14756    44.15674\n",
      " 1660    44.05661    44.06564\n",
      " 1670    43.96723    43.97610\n",
      " 1680    43.87937    43.88809\n",
      " 1690    43.79299    43.80156\n",
      " 1700    43.70803    43.71647\n",
      " 1710    43.62447    43.63276\n",
      " 1720    43.54224    43.55041\n",
      " 1730    43.46133    43.46936\n",
      " 1740    43.38168    43.38959\n",
      " 1750    43.30327    43.31105\n",
      " 1760    43.22605    43.23372\n",
      " 1770    43.15000    43.15755\n",
      " 1780    43.07508    43.08252\n",
      " 1790    43.00126    43.00859\n",
      " 1800    42.92852    42.93574\n",
      " 1810    42.85682    42.86394\n",
      " 1820    42.78613    42.79316\n",
      " 1830    42.71644    42.72337\n",
      " 1840    42.64772    42.65455\n",
      " 1850    42.57993    42.58667\n",
      " 1860    42.51306    42.51971\n",
      " 1870    42.44709    42.45365\n",
      " 1880    42.38199    42.38846\n",
      " 1890    42.31775    42.32413\n",
      " 1900    42.25433    42.26064\n",
      " 1910    42.19173    42.19796\n",
      " 1920    42.12993    42.13607\n",
      " 1930    42.06889    42.07496\n",
      " 1940    42.00862    42.01462\n",
      " 1950    41.94909    41.95501\n",
      " 1960    41.89028    41.89613\n",
      " 1970    41.83218    41.83796\n",
      " 1980    41.77477    41.78048\n",
      " 1990    41.71804    41.72369\n",
      " 2000    41.66198    41.66756\n",
      " 2010    41.60656    41.61207\n",
      " 2020    41.55178    41.55723\n",
      " 2030    41.49762    41.50301\n",
      " 2040    41.44407    41.44940\n",
      " 2050    41.39112    41.39639\n",
      " 2060    41.33875    41.34396\n",
      " 2070    41.28695    41.29211\n",
      " 2080    41.23572    41.24082\n",
      " 2090    41.18503    41.19008\n",
      " 2100    41.13489    41.13988\n",
      " 2110    41.08527    41.09021\n",
      " 2120    41.03617    41.04106\n",
      " 2130    40.98758    40.99242\n",
      " 2140    40.93949    40.94428\n",
      " 2150    40.89189    40.89663\n",
      " 2160    40.84477    40.84946\n",
      " 2170    40.79812    40.80276\n",
      " 2180    40.75193    40.75653\n",
      " 2190    40.70619    40.71075\n",
      " 2200    40.66090    40.66541\n",
      " 2210    40.61605    40.62051\n",
      " 2220    40.57162    40.57605\n",
      " 2230    40.52762    40.53200\n",
      " 2240    40.48403    40.48837\n",
      " 2250    40.44085    40.44515\n",
      " 2260    40.39807    40.40233\n",
      " 2270    40.35568    40.35990\n",
      " 2280    40.31367    40.31786\n",
      " 2290    40.27205    40.27619\n",
      " 2300    40.23080    40.23490\n",
      " 2310    40.18991    40.19398\n",
      " 2320    40.14939    40.15342\n",
      " 2330    40.10921    40.11322\n",
      " 2340    40.06939    40.07336\n",
      " 2350    40.02991    40.03385\n",
      " 2360    39.99077    39.99467\n",
      " 2370    39.95196    39.95583\n",
      " 2380    39.91348    39.91731\n",
      " 2390    39.87532    39.87912\n",
      " 2400    39.83747    39.84124\n",
      " 2410    39.79994    39.80368\n",
      " 2420    39.76271    39.76642\n",
      " 2430    39.72579    39.72947\n",
      " 2440    39.68916    39.69281\n",
      " 2450    39.65283    39.65645\n",
      " 2460    39.61678    39.62038\n",
      " 2470    39.58103    39.58459\n",
      " 2480    39.54555    39.54908\n",
      " 2490    39.51035    39.51386\n",
      " 2500    39.47542    39.47890\n",
      "Time: 1.22561seconds. Iterations per second: 2040.61\n",
      "\n"
     ]
    },
    {
     "data": {
      "text/plain": [
       "0"
      ]
     },
     "execution_count": 17,
     "metadata": {},
     "output_type": "execute_result"
    }
   ],
   "source": [
    "from biobb_chemistry.babelm.babel_minimize import babel_minimize\n",
    "\n",
    "output_babel_min = ligandCode+'.H.min.mol2'\n",
    "\n",
    "prop = {\n",
    "    'method' : 'sd',\n",
    "    'criteria' : '1e-10',\n",
    "    'force_field' : 'GAFF'\n",
    "}\n",
    "\n",
    "babel_minimize(input_path=f\"input/{output_reduce_h}\",\n",
    "              output_path=f\"input/{output_babel_min}\",\n",
    "              properties=prop)"
   ]
  },
  {
   "cell_type": "code",
   "execution_count": 18,
   "id": "d95d401f",
   "metadata": {
    "scrolled": true
   },
   "outputs": [
    {
     "data": {
      "application/vnd.jupyter.widget-view+json": {
       "model_id": "9cad64a20a5d4ab09f663db4718e8884",
       "version_major": 2,
       "version_minor": 0
      },
      "text/plain": [
       "HBox(children=(NGLWidget(), NGLWidget(), NGLWidget()))"
      ]
     },
     "metadata": {},
     "output_type": "display_data"
    }
   ],
   "source": [
    "view1 = nglview.show_structure_file(f\"input/{ligandFile}\")\n",
    "view1.add_representation(repr_type='ball+stick')\n",
    "view1._remote_call('setSize', target='Widget', args=['350px','400px'])\n",
    "view1.camera='orthographic'\n",
    "\n",
    "view1\n",
    "view2 = nglview.show_structure_file(f\"input/{output_reduce_h}\")\n",
    "view2.add_representation(repr_type='ball+stick')\n",
    "view2._remote_call('setSize', target='Widget', args=['350px','400px'])\n",
    "view2.camera='orthographic'\n",
    "\n",
    "view2\n",
    "view3 = nglview.show_structure_file(f\"input/{output_babel_min}\")\n",
    "view3.add_representation(repr_type='ball+stick')\n",
    "view3._remote_call('setSize', target='Widget', args=['350px','400px'])\n",
    "view3.camera='orthographic'\n",
    "\n",
    "view3\n",
    "ipywidgets.HBox([view1, view2, view3])"
   ]
  },
  {
   "cell_type": "code",
   "execution_count": 20,
   "id": "65915f6a",
   "metadata": {
    "scrolled": true
   },
   "outputs": [
    {
     "name": "stdout",
     "output_type": "stream",
     "text": [
      "2022-06-29 22:29:19,823 [MainThread  ] [INFO ]  Charge will be guessed by acpype.\n",
      "2022-06-29 22:29:19,824 [MainThread  ] [INFO ]  Running acpype, this execution can take a while\n",
      "2022-06-29 22:29:19,825 [MainThread  ] [INFO ]  Not using any container\n",
      "2022-06-29 22:30:05,405 [MainThread  ] [INFO ]  acpype -i /Users/ethan/EthanLatchProj/input/pl3.H.min.mol2 -b pl3params.9AkUW3\n",
      "\n",
      "2022-06-29 22:30:05,407 [MainThread  ] [INFO ]  Exit code 0\n",
      "\n",
      "2022-06-29 22:30:05,408 [MainThread  ] [INFO ]  ========================================================================================\n",
      "| ACPYPE: AnteChamber PYthon Parser interfacE v. 2019-11-07T23:16:00CET (c) 2022 AWSdS |\n",
      "========================================================================================\n",
      "WARNING: no charge value given, trying to guess one...\n",
      "==> ... charge set to -1\n",
      "==> Executing Antechamber...\n",
      "==> * Antechamber OK *\n",
      "==> * Parmchk OK *\n",
      "==> Executing Tleap...\n",
      "++++++++++start_quote+++++++++++++++++++++++++++++++++++++++++++++++++++++++++++\n",
      "Checking 'PL3'....\n",
      "\n",
      "/Users/ethan/anaconda3/envs/biobb_AMBER_MD/bin/teLeap: Warning!\n",
      "The unperturbed charge of the unit (-0.998999) is not zero.\n",
      "Checking parameters for unit 'PL3'.\n",
      "Checking for bond parameters.\n",
      "Checking for angle parameters.\n",
      "check:  Warnings: 1\n",
      "Unit is OK.\n",
      "++++++++++end_quote+++++++++++++++++++++++++++++++++++++++++++++++++++++++++++++\n",
      "==> * Tleap OK *\n",
      "==> Removing temporary files...\n",
      "==> Writing NEW PDB file\n",
      "\n",
      "==> Writing CNS/XPLOR files\n",
      "\n",
      "==> Writing GROMACS files\n",
      "\n",
      "==> Writing GMX dihedrals for GMX 4.5 and higher.\n",
      "\n",
      "==> Writing CHARMM files\n",
      "\n",
      "==> Writing pickle file pl3params.9AkUW3.pkl\n",
      "Total time of execution: 45s\n",
      "\n",
      "2022-06-29 22:30:05,414 [MainThread  ] [INFO ]  File input/pl3params.inpcrd succesfully created\n",
      "2022-06-29 22:30:05,417 [MainThread  ] [INFO ]  File input/pl3params.lib succesfully created\n",
      "2022-06-29 22:30:05,421 [MainThread  ] [INFO ]  File input/pl3params.prmtop succesfully created\n",
      "2022-06-29 22:30:05,425 [MainThread  ] [INFO ]  File input/pl3params.frcmod succesfully created\n",
      "2022-06-29 22:30:05,431 [MainThread  ] [INFO ]  Removed temporary folder: pl3params.9AkUW3.acpype\n"
     ]
    },
    {
     "data": {
      "text/plain": [
       "0"
      ]
     },
     "execution_count": 20,
     "metadata": {},
     "output_type": "execute_result"
    }
   ],
   "source": [
    "from biobb_chemistry.acpype.acpype_params_ac import acpype_params_ac\n",
    "\n",
    "output_acpype_inpcrd = ligandCode+'params.inpcrd'\n",
    "output_acpype_frcmod = ligandCode+'params.frcmod'\n",
    "output_acpype_lib = ligandCode+'params.lib'\n",
    "output_acpype_prmtop = ligandCode+'params.prmtop'\n",
    "output_acpype = ligandCode+'params'\n",
    "\n",
    "prop = {\n",
    "    'basename' : output_acpype,\n",
    "    'charge' : None\n",
    "}\n",
    "\n",
    "acpype_params_ac(input_path=f\"input/{output_babel_min}\", \n",
    "                output_path_inpcrd=f\"input/{output_acpype_inpcrd}\",\n",
    "                output_path_frcmod=f\"input/{output_acpype_frcmod}\",\n",
    "                output_path_lib=f\"input/{output_acpype_lib}\",\n",
    "                output_path_prmtop=f\"input/{output_acpype_prmtop}\",\n",
    "                properties=prop)"
   ]
  },
  {
   "cell_type": "markdown",
   "id": "126a530d",
   "metadata": {},
   "source": [
    "# Complex Topology"
   ]
  },
  {
   "cell_type": "code",
   "execution_count": 21,
   "id": "bc9c8f73",
   "metadata": {
    "scrolled": true
   },
   "outputs": [
    {
     "name": "stdout",
     "output_type": "stream",
     "text": [
      "2022-06-29 22:30:10,137 [MainThread  ] [INFO ]  Creating 001df548-a14d-4830-93ce-d3c04da5336e temporary folder\n",
      "2022-06-29 22:30:10,139 [MainThread  ] [INFO ]  Creating command line with instructions and required arguments\n",
      "2022-06-29 22:30:10,494 [MainThread  ] [INFO ]  tleap  -f 001df548-a14d-4830-93ce-d3c04da5336e/leap.in\n",
      "\n",
      "2022-06-29 22:30:10,496 [MainThread  ] [INFO ]  Exit code 0\n",
      "\n",
      "2022-06-29 22:30:10,496 [MainThread  ] [INFO ]  -I: Adding /Users/ethan/anaconda3/envs/biobb_AMBER_MD/dat/leap/prep to search path.\n",
      "-I: Adding /Users/ethan/anaconda3/envs/biobb_AMBER_MD/dat/leap/lib to search path.\n",
      "-I: Adding /Users/ethan/anaconda3/envs/biobb_AMBER_MD/dat/leap/parm to search path.\n",
      "-I: Adding /Users/ethan/anaconda3/envs/biobb_AMBER_MD/dat/leap/cmd to search path.\n",
      "-f: Source 001df548-a14d-4830-93ce-d3c04da5336e/leap.in.\n",
      "\n",
      "Welcome to LEaP!\n",
      "(no leaprc in search path)\n",
      "Sourcing: ./001df548-a14d-4830-93ce-d3c04da5336e/leap.in\n",
      "----- Source: /Users/ethan/anaconda3/envs/biobb_AMBER_MD/dat/leap/cmd/leaprc.protein.ff14SB\n",
      "----- Source of /Users/ethan/anaconda3/envs/biobb_AMBER_MD/dat/leap/cmd/leaprc.protein.ff14SB done\n",
      "Log file: ./leap.log\n",
      "Loading parameters: /Users/ethan/anaconda3/envs/biobb_AMBER_MD/dat/leap/parm/parm10.dat\n",
      "Reading title:\n",
      "PARM99 + frcmod.ff99SB + frcmod.parmbsc0 + OL3 for RNA\n",
      "Loading parameters: /Users/ethan/anaconda3/envs/biobb_AMBER_MD/dat/leap/parm/frcmod.ff14SB\n",
      "Reading force field modification type file (frcmod)\n",
      "Reading title:\n",
      "ff14SB protein backbone and sidechain parameters\n",
      "Loading library: /Users/ethan/anaconda3/envs/biobb_AMBER_MD/dat/leap/lib/amino12.lib\n",
      "Loading library: /Users/ethan/anaconda3/envs/biobb_AMBER_MD/dat/leap/lib/aminoct12.lib\n",
      "Loading library: /Users/ethan/anaconda3/envs/biobb_AMBER_MD/dat/leap/lib/aminont12.lib\n",
      "----- Source: /Users/ethan/anaconda3/envs/biobb_AMBER_MD/dat/leap/cmd/leaprc.gaff\n",
      "----- Source of /Users/ethan/anaconda3/envs/biobb_AMBER_MD/dat/leap/cmd/leaprc.gaff done\n",
      "Log file: ./leap.log\n",
      "Loading parameters: /Users/ethan/anaconda3/envs/biobb_AMBER_MD/dat/leap/parm/gaff.dat\n",
      "Reading title:\n",
      "AMBER General Force Field for organic molecules (Version 1.81, May 2017)\n",
      "Loading library: ./input/pl3params.lib\n",
      "Loading parameters: ./input/pl3params.frcmod\n",
      "Reading force field modification type file (frcmod)\n",
      "Reading title:\n",
      "Remark line goes here\n",
      "Loading PDB file: ./input/structure.pdb4amber.pdb\n",
      "  Added missing heavy atom: .R<CALA 220>.A<OXT 11>\n",
      "  total atoms in file: 1784\n",
      "  Leap added 1751 missing atoms according to residue templates:\n",
      "       1 Heavy\n",
      "       1750 H / lone pairs\n",
      "Writing pdb file: input/structure.leap.pdb\n",
      "\n",
      "/Users/ethan/anaconda3/envs/biobb_AMBER_MD/bin/teLeap: Warning!\n",
      " Converting N-terminal residue name to PDB format: NASP -> ASP\n",
      "\n",
      "/Users/ethan/anaconda3/envs/biobb_AMBER_MD/bin/teLeap: Warning!\n",
      " Converting C-terminal residue name to PDB format: CALA -> ALA\n",
      "Checking Unit.\n",
      "\n",
      "/Users/ethan/anaconda3/envs/biobb_AMBER_MD/bin/teLeap: Warning!\n",
      "The unperturbed charge of the unit (-14.998999) is not zero.\n",
      "\n",
      "/Users/ethan/anaconda3/envs/biobb_AMBER_MD/bin/teLeap: Note.\n",
      "Ignoring the warning from Unit Checking.\n",
      "\n",
      "Building topology.\n",
      "Building atom parameters.\n",
      "Building bond parameters.\n",
      "Building angle parameters.\n",
      "Building proper torsion parameters.\n",
      "Building improper torsion parameters.\n",
      " total 727 improper torsions applied\n",
      "Building H-Bond parameters.\n",
      "Incorporating Non-Bonded adjustments.\n",
      "Not Marking per-residue atom chain types.\n",
      "Marking per-residue atom chain types.\n",
      "  (Residues lacking connect0/connect1 - \n",
      "   these don't have chain types marked:\n",
      "\n",
      "\tres\ttotal affected\n",
      "\n",
      "\tCALA\t1\n",
      "\tNASP\t1\n",
      "\tPL3\t1\n",
      "  )\n",
      " (no restraints)\n",
      "\tQuit\n",
      "\n",
      "Exiting LEaP: Errors = 0; Warnings = 3; Notes = 1.\n",
      "\n",
      "2022-06-29 22:30:10,500 [MainThread  ] [INFO ]  Removed: 001df548-a14d-4830-93ce-d3c04da5336e\n",
      "2022-06-29 22:30:10,501 [MainThread  ] [INFO ]  Removed: leap.log\n"
     ]
    },
    {
     "data": {
      "text/plain": [
       "0"
      ]
     },
     "execution_count": 21,
     "metadata": {},
     "output_type": "execute_result"
    }
   ],
   "source": [
    "from biobb_amber.leap.leap_gen_top import leap_gen_top\n",
    "\n",
    "output_pdb_path = 'structure.leap.pdb'\n",
    "output_top_path = 'structure.leap.top'\n",
    "output_crd_path = 'structure.leap.crd'\n",
    "\n",
    "prop = {\n",
    "    \"forcefield\" : [\"protein.ff14SB\",\"gaff\"]\n",
    "}\n",
    "\n",
    "leap_gen_top(input_pdb_path=f\"input/{output_pdb4amber_path}\",\n",
    "           input_lib_path=f\"input/{output_acpype_lib}\",\n",
    "           input_frcmod_path=f\"input/{output_acpype_frcmod}\",\n",
    "           output_pdb_path=f\"input/{output_pdb_path}\",\n",
    "           output_top_path=f\"input/{output_top_path}\",\n",
    "           output_crd_path=f\"input/{output_crd_path}\",\n",
    "           properties=prop)"
   ]
  },
  {
   "cell_type": "code",
   "execution_count": 25,
   "id": "911f4bb2",
   "metadata": {
    "scrolled": true
   },
   "outputs": [
    {
     "data": {
      "application/vnd.jupyter.widget-view+json": {
       "model_id": "e3bf1bcae13543718ec6975e7b391ee6",
       "version_major": 2,
       "version_minor": 0
      },
      "text/plain": [
       "NGLWidget()"
      ]
     },
     "metadata": {},
     "output_type": "display_data"
    }
   ],
   "source": [
    "view = nglview.show_structure_file(f\"input/{output_pdb_path}\")\n",
    "view.clear_representations()\n",
    "view.add_representation(repr_type='cartoon', selection='protein', opacity='1')\n",
    "view.add_representation(repr_type='ball+stick', radius='0.5', selection='PL3')\n",
    "view._remote_call('setSize', target='Widget', args=['','600px'])\n",
    "view"
   ]
  },
  {
   "cell_type": "markdown",
   "id": "b91ead76",
   "metadata": {},
   "source": [
    "# Energy Minimization"
   ]
  },
  {
   "cell_type": "code",
   "execution_count": 26,
   "id": "aa591126",
   "metadata": {
    "scrolled": true
   },
   "outputs": [
    {
     "name": "stdout",
     "output_type": "stream",
     "text": [
      "2022-06-29 22:31:11,446 [MainThread  ] [INFO ]  Creating 8ad6f294-80fd-4659-8a99-3ae9a8b2ddbb temporary folder\n",
      "2022-06-29 22:31:11,447 [MainThread  ] [INFO ]  Creating command line with instructions and required arguments\n",
      "2022-06-29 22:31:33,613 [MainThread  ] [INFO ]  sander -O -i 8ad6f294-80fd-4659-8a99-3ae9a8b2ddbb/sander.mdin -p input/structure.leap.top -c input/structure.leap.crd -r output/sander.h_min.rst -o output/sander.h_min.log -x output/sander.h_min.x -ref input/structure.leap.crd\n",
      "\n",
      "2022-06-29 22:31:33,615 [MainThread  ] [INFO ]  Exit code 0\n",
      "\n",
      "2022-06-29 22:31:33,617 [MainThread  ] [INFO ]  Removed: mdinfo, 8ad6f294-80fd-4659-8a99-3ae9a8b2ddbb\n"
     ]
    },
    {
     "data": {
      "text/plain": [
       "0"
      ]
     },
     "execution_count": 26,
     "metadata": {},
     "output_type": "execute_result"
    }
   ],
   "source": [
    "from biobb_amber.sander.sander_mdrun import sander_mdrun\n",
    "\n",
    "output_h_min_traj_path = 'sander.h_min.x'\n",
    "output_h_min_rst_path = 'sander.h_min.rst'\n",
    "output_h_min_log_path = 'sander.h_min.log'\n",
    "\n",
    "prop = {\n",
    "    'simulation_type' : \"min_vacuo\",\n",
    "    \"mdin\" : { \n",
    "        'maxcyc' : 500,\n",
    "        'ntpr' : 5,\n",
    "        'ntr' : 1,\n",
    "        'restraintmask' : '\\\":*&!@H=\\\"',\n",
    "        'restraint_wt' : 50.0\n",
    "    }\n",
    "}\n",
    "\n",
    "sander_mdrun(input_top_path=f\"input/{output_top_path}\",\n",
    "            input_crd_path=f\"input/{output_crd_path}\",\n",
    "            input_ref_path=f\"input/{output_crd_path}\",\n",
    "            output_traj_path=f\"output/{output_h_min_traj_path}\",\n",
    "            output_rst_path=f\"output/{output_h_min_rst_path}\",\n",
    "            output_log_path=f\"output/{output_h_min_log_path}\",\n",
    "            properties=prop)"
   ]
  },
  {
   "cell_type": "code",
   "execution_count": 27,
   "id": "c7f265e5",
   "metadata": {
    "scrolled": true
   },
   "outputs": [
    {
     "name": "stdout",
     "output_type": "stream",
     "text": [
      "2022-06-29 22:31:47,111 [MainThread  ] [INFO ]  Creating command line with instructions and required arguments\n",
      "2022-06-29 22:31:47,196 [MainThread  ] [INFO ]  process_minout.perl  output/sander.h_min.log\n",
      "\n",
      "2022-06-29 22:31:47,198 [MainThread  ] [INFO ]  Exit code 0\n",
      "\n",
      "2022-06-29 22:31:47,199 [MainThread  ] [INFO ]  Processing sander output file (output/sander.h_min.log)...\n",
      "Processing step 50 of a possible 500...\n",
      "Processing step 100 of a possible 500...\n",
      "Processing step 150 of a possible 500...\n",
      "Processing step 200 of a possible 500...\n",
      "Processing step 250 of a possible 500...\n",
      "Processing step 300 of a possible 500...\n",
      "Processing step 350 of a possible 500...\n",
      "Processing step 400 of a possible 500...\n",
      "Processing step 450 of a possible 500...\n",
      "Processing step 500 of a possible 500...\n",
      "Processing step 500 of a possible 500...\n",
      "Starting output...\n",
      "Outputing summary.NSTEP\n",
      "Outputing summary.ENERGY\n",
      "Outputing summary.RMS\n",
      "Outputing summary.GMAX\n",
      "Outputing summary.NAME\n",
      "Outputing summary.NUMBER\n",
      "Outputing summary.BOND\n",
      "Outputing summary.ANGLE\n",
      "Outputing summary.DIHEDRAL\n",
      "Outputing summary.VDWAALS\n",
      "Outputing summary.EEL\n",
      "Outputing summary.HBOND\n",
      "Outputing summary.VDW14\n",
      "Outputing summary.EEL14\n",
      "Outputing summary.RESTRAINT\n",
      "\n",
      "2022-06-29 22:31:47,206 [MainThread  ] [INFO ]  Removed: [PosixPath('summary.ENERGY'), PosixPath('summary.VDW14'), PosixPath('summary.VDWAALS'), PosixPath('summary.NAME'), PosixPath('summary.EEL14'), PosixPath('summary.RESTRAINT'), PosixPath('summary.HBOND'), PosixPath('summary.RMS'), PosixPath('summary.NSTEP'), PosixPath('summary.ANGLE'), PosixPath('summary.DIHEDRAL'), PosixPath('summary.NUMBER'), PosixPath('summary.EEL'), PosixPath('summary.BOND'), PosixPath('summary.GMAX')]\n"
     ]
    },
    {
     "data": {
      "text/plain": [
       "0"
      ]
     },
     "execution_count": 27,
     "metadata": {},
     "output_type": "execute_result"
    }
   ],
   "source": [
    "from biobb_amber.process.process_minout import process_minout\n",
    "\n",
    "# Create prop dict and inputs/outputs\n",
    "output_h_min_dat_path = 'sander.h_min.energy.dat'\n",
    "\n",
    "prop = {\n",
    "    \"terms\" : ['ENERGY']\n",
    "}\n",
    "\n",
    "# Create and launch bb\n",
    "process_minout(input_log_path=f\"output/{output_h_min_log_path}\",\n",
    "            output_dat_path=f\"output/{output_h_min_dat_path}\",\n",
    "            properties=prop)  "
   ]
  },
  {
   "cell_type": "code",
   "execution_count": 28,
   "id": "b97ef348",
   "metadata": {
    "scrolled": false
   },
   "outputs": [
    {
     "data": {
      "text/html": [
       "        <script type=\"text/javascript\">\n",
       "        window.PlotlyConfig = {MathJaxConfig: 'local'};\n",
       "        if (window.MathJax && window.MathJax.Hub && window.MathJax.Hub.Config) {window.MathJax.Hub.Config({SVG: {font: \"STIX-Web\"}});}\n",
       "        if (typeof require !== 'undefined') {\n",
       "        require.undef(\"plotly\");\n",
       "        requirejs.config({\n",
       "            paths: {\n",
       "                'plotly': ['https://cdn.plot.ly/plotly-2.12.1.min']\n",
       "            }\n",
       "        });\n",
       "        require(['plotly'], function(Plotly) {\n",
       "            window._Plotly = Plotly;\n",
       "        });\n",
       "        }\n",
       "        </script>\n",
       "        "
      ]
     },
     "metadata": {},
     "output_type": "display_data"
    },
    {
     "data": {
      "application/vnd.plotly.v1+json": {
       "config": {
        "linkText": "Export to plot.ly",
        "plotlyServerURL": "https://plot.ly",
        "showLink": false
       },
       "data": [
        {
         "type": "scatter",
         "x": [
          1,
          5,
          10,
          15,
          20,
          25,
          30,
          35,
          40,
          45,
          50,
          55,
          60,
          65,
          70,
          75,
          80,
          85,
          90,
          95,
          100,
          105,
          110,
          115,
          120,
          125,
          130,
          135,
          140,
          145,
          150,
          155,
          160,
          165,
          170,
          175,
          180,
          185,
          190,
          195,
          200,
          205,
          210,
          215,
          220,
          225,
          230,
          235,
          240,
          245,
          250,
          255,
          260,
          265,
          270,
          275,
          280,
          285,
          290,
          295,
          300,
          305,
          310,
          315,
          320,
          325,
          330,
          335,
          340,
          345,
          350,
          355,
          360,
          365,
          370,
          375,
          380,
          385,
          390,
          395,
          400,
          405,
          410,
          415,
          420,
          425,
          430,
          435,
          440,
          445,
          450,
          455,
          460,
          465,
          470,
          475,
          480,
          485,
          490,
          495,
          500
         ],
         "y": [
          -2928.6,
          -3025.1,
          -3218,
          -3480.8,
          -3768.5,
          -3806.3,
          -3890.1,
          -3916.1,
          -3929.9,
          -3942.7,
          -4007.7,
          -4016.5,
          -4023.9,
          -4030.1,
          -4037.4,
          -3966.5,
          -3973.8,
          -3977.6,
          -3981.4,
          -3985,
          -4020.2,
          -4023.3,
          -4025.6,
          -4028,
          -4030.5,
          -4012.8,
          -4014.8,
          -4017.7,
          -4019.6,
          -4020.3,
          -4136.8,
          -4138.9,
          -4141.5,
          -4144.2,
          -4147.1,
          -4040.2,
          -4043.2,
          -4046.3,
          -4047.4,
          -4054.8,
          -4081.4,
          -4090.4,
          -4095.3,
          -4097.4,
          -4108.3,
          -4024.7,
          -4030.8,
          -4036.5,
          -4043.5,
          -4049.5,
          -4110.6,
          -4118.7,
          -4134,
          -4139.2,
          -4141.8,
          -4165.6,
          -4165.8,
          -4166.6,
          -4167.6,
          -4168.2,
          -4151.7,
          -4151.7,
          -4152.7,
          -4153.5,
          -4154.1,
          -4214.2,
          -4214.7,
          -4215.6,
          -4216.7,
          -4217.5,
          -4236.1,
          -4236.7,
          -4237.8,
          -4239.1,
          -4239.9,
          -4229.5,
          -4229.9,
          -4231,
          -4232.4,
          -4233.5,
          -4236.1,
          -4236.8,
          -4238.2,
          -4239.8,
          -4240.6,
          -4231.9,
          -4232.3,
          -4233.2,
          -4234.1,
          -4234.5,
          -4171.6,
          -4171.3,
          -4172.3,
          -4172.8,
          -4173,
          -4173,
          -4172.8,
          -4173.7,
          -4174,
          -4174.2,
          -4169.6
         ]
        }
       ],
       "layout": {
        "template": {
         "data": {
          "bar": [
           {
            "error_x": {
             "color": "#2a3f5f"
            },
            "error_y": {
             "color": "#2a3f5f"
            },
            "marker": {
             "line": {
              "color": "#E5ECF6",
              "width": 0.5
             },
             "pattern": {
              "fillmode": "overlay",
              "size": 10,
              "solidity": 0.2
             }
            },
            "type": "bar"
           }
          ],
          "barpolar": [
           {
            "marker": {
             "line": {
              "color": "#E5ECF6",
              "width": 0.5
             },
             "pattern": {
              "fillmode": "overlay",
              "size": 10,
              "solidity": 0.2
             }
            },
            "type": "barpolar"
           }
          ],
          "carpet": [
           {
            "aaxis": {
             "endlinecolor": "#2a3f5f",
             "gridcolor": "white",
             "linecolor": "white",
             "minorgridcolor": "white",
             "startlinecolor": "#2a3f5f"
            },
            "baxis": {
             "endlinecolor": "#2a3f5f",
             "gridcolor": "white",
             "linecolor": "white",
             "minorgridcolor": "white",
             "startlinecolor": "#2a3f5f"
            },
            "type": "carpet"
           }
          ],
          "choropleth": [
           {
            "colorbar": {
             "outlinewidth": 0,
             "ticks": ""
            },
            "type": "choropleth"
           }
          ],
          "contour": [
           {
            "colorbar": {
             "outlinewidth": 0,
             "ticks": ""
            },
            "colorscale": [
             [
              0,
              "#0d0887"
             ],
             [
              0.1111111111111111,
              "#46039f"
             ],
             [
              0.2222222222222222,
              "#7201a8"
             ],
             [
              0.3333333333333333,
              "#9c179e"
             ],
             [
              0.4444444444444444,
              "#bd3786"
             ],
             [
              0.5555555555555556,
              "#d8576b"
             ],
             [
              0.6666666666666666,
              "#ed7953"
             ],
             [
              0.7777777777777778,
              "#fb9f3a"
             ],
             [
              0.8888888888888888,
              "#fdca26"
             ],
             [
              1,
              "#f0f921"
             ]
            ],
            "type": "contour"
           }
          ],
          "contourcarpet": [
           {
            "colorbar": {
             "outlinewidth": 0,
             "ticks": ""
            },
            "type": "contourcarpet"
           }
          ],
          "heatmap": [
           {
            "colorbar": {
             "outlinewidth": 0,
             "ticks": ""
            },
            "colorscale": [
             [
              0,
              "#0d0887"
             ],
             [
              0.1111111111111111,
              "#46039f"
             ],
             [
              0.2222222222222222,
              "#7201a8"
             ],
             [
              0.3333333333333333,
              "#9c179e"
             ],
             [
              0.4444444444444444,
              "#bd3786"
             ],
             [
              0.5555555555555556,
              "#d8576b"
             ],
             [
              0.6666666666666666,
              "#ed7953"
             ],
             [
              0.7777777777777778,
              "#fb9f3a"
             ],
             [
              0.8888888888888888,
              "#fdca26"
             ],
             [
              1,
              "#f0f921"
             ]
            ],
            "type": "heatmap"
           }
          ],
          "heatmapgl": [
           {
            "colorbar": {
             "outlinewidth": 0,
             "ticks": ""
            },
            "colorscale": [
             [
              0,
              "#0d0887"
             ],
             [
              0.1111111111111111,
              "#46039f"
             ],
             [
              0.2222222222222222,
              "#7201a8"
             ],
             [
              0.3333333333333333,
              "#9c179e"
             ],
             [
              0.4444444444444444,
              "#bd3786"
             ],
             [
              0.5555555555555556,
              "#d8576b"
             ],
             [
              0.6666666666666666,
              "#ed7953"
             ],
             [
              0.7777777777777778,
              "#fb9f3a"
             ],
             [
              0.8888888888888888,
              "#fdca26"
             ],
             [
              1,
              "#f0f921"
             ]
            ],
            "type": "heatmapgl"
           }
          ],
          "histogram": [
           {
            "marker": {
             "pattern": {
              "fillmode": "overlay",
              "size": 10,
              "solidity": 0.2
             }
            },
            "type": "histogram"
           }
          ],
          "histogram2d": [
           {
            "colorbar": {
             "outlinewidth": 0,
             "ticks": ""
            },
            "colorscale": [
             [
              0,
              "#0d0887"
             ],
             [
              0.1111111111111111,
              "#46039f"
             ],
             [
              0.2222222222222222,
              "#7201a8"
             ],
             [
              0.3333333333333333,
              "#9c179e"
             ],
             [
              0.4444444444444444,
              "#bd3786"
             ],
             [
              0.5555555555555556,
              "#d8576b"
             ],
             [
              0.6666666666666666,
              "#ed7953"
             ],
             [
              0.7777777777777778,
              "#fb9f3a"
             ],
             [
              0.8888888888888888,
              "#fdca26"
             ],
             [
              1,
              "#f0f921"
             ]
            ],
            "type": "histogram2d"
           }
          ],
          "histogram2dcontour": [
           {
            "colorbar": {
             "outlinewidth": 0,
             "ticks": ""
            },
            "colorscale": [
             [
              0,
              "#0d0887"
             ],
             [
              0.1111111111111111,
              "#46039f"
             ],
             [
              0.2222222222222222,
              "#7201a8"
             ],
             [
              0.3333333333333333,
              "#9c179e"
             ],
             [
              0.4444444444444444,
              "#bd3786"
             ],
             [
              0.5555555555555556,
              "#d8576b"
             ],
             [
              0.6666666666666666,
              "#ed7953"
             ],
             [
              0.7777777777777778,
              "#fb9f3a"
             ],
             [
              0.8888888888888888,
              "#fdca26"
             ],
             [
              1,
              "#f0f921"
             ]
            ],
            "type": "histogram2dcontour"
           }
          ],
          "mesh3d": [
           {
            "colorbar": {
             "outlinewidth": 0,
             "ticks": ""
            },
            "type": "mesh3d"
           }
          ],
          "parcoords": [
           {
            "line": {
             "colorbar": {
              "outlinewidth": 0,
              "ticks": ""
             }
            },
            "type": "parcoords"
           }
          ],
          "pie": [
           {
            "automargin": true,
            "type": "pie"
           }
          ],
          "scatter": [
           {
            "fillpattern": {
             "fillmode": "overlay",
             "size": 10,
             "solidity": 0.2
            },
            "type": "scatter"
           }
          ],
          "scatter3d": [
           {
            "line": {
             "colorbar": {
              "outlinewidth": 0,
              "ticks": ""
             }
            },
            "marker": {
             "colorbar": {
              "outlinewidth": 0,
              "ticks": ""
             }
            },
            "type": "scatter3d"
           }
          ],
          "scattercarpet": [
           {
            "marker": {
             "colorbar": {
              "outlinewidth": 0,
              "ticks": ""
             }
            },
            "type": "scattercarpet"
           }
          ],
          "scattergeo": [
           {
            "marker": {
             "colorbar": {
              "outlinewidth": 0,
              "ticks": ""
             }
            },
            "type": "scattergeo"
           }
          ],
          "scattergl": [
           {
            "marker": {
             "colorbar": {
              "outlinewidth": 0,
              "ticks": ""
             }
            },
            "type": "scattergl"
           }
          ],
          "scattermapbox": [
           {
            "marker": {
             "colorbar": {
              "outlinewidth": 0,
              "ticks": ""
             }
            },
            "type": "scattermapbox"
           }
          ],
          "scatterpolar": [
           {
            "marker": {
             "colorbar": {
              "outlinewidth": 0,
              "ticks": ""
             }
            },
            "type": "scatterpolar"
           }
          ],
          "scatterpolargl": [
           {
            "marker": {
             "colorbar": {
              "outlinewidth": 0,
              "ticks": ""
             }
            },
            "type": "scatterpolargl"
           }
          ],
          "scatterternary": [
           {
            "marker": {
             "colorbar": {
              "outlinewidth": 0,
              "ticks": ""
             }
            },
            "type": "scatterternary"
           }
          ],
          "surface": [
           {
            "colorbar": {
             "outlinewidth": 0,
             "ticks": ""
            },
            "colorscale": [
             [
              0,
              "#0d0887"
             ],
             [
              0.1111111111111111,
              "#46039f"
             ],
             [
              0.2222222222222222,
              "#7201a8"
             ],
             [
              0.3333333333333333,
              "#9c179e"
             ],
             [
              0.4444444444444444,
              "#bd3786"
             ],
             [
              0.5555555555555556,
              "#d8576b"
             ],
             [
              0.6666666666666666,
              "#ed7953"
             ],
             [
              0.7777777777777778,
              "#fb9f3a"
             ],
             [
              0.8888888888888888,
              "#fdca26"
             ],
             [
              1,
              "#f0f921"
             ]
            ],
            "type": "surface"
           }
          ],
          "table": [
           {
            "cells": {
             "fill": {
              "color": "#EBF0F8"
             },
             "line": {
              "color": "white"
             }
            },
            "header": {
             "fill": {
              "color": "#C8D4E3"
             },
             "line": {
              "color": "white"
             }
            },
            "type": "table"
           }
          ]
         },
         "layout": {
          "annotationdefaults": {
           "arrowcolor": "#2a3f5f",
           "arrowhead": 0,
           "arrowwidth": 1
          },
          "autotypenumbers": "strict",
          "coloraxis": {
           "colorbar": {
            "outlinewidth": 0,
            "ticks": ""
           }
          },
          "colorscale": {
           "diverging": [
            [
             0,
             "#8e0152"
            ],
            [
             0.1,
             "#c51b7d"
            ],
            [
             0.2,
             "#de77ae"
            ],
            [
             0.3,
             "#f1b6da"
            ],
            [
             0.4,
             "#fde0ef"
            ],
            [
             0.5,
             "#f7f7f7"
            ],
            [
             0.6,
             "#e6f5d0"
            ],
            [
             0.7,
             "#b8e186"
            ],
            [
             0.8,
             "#7fbc41"
            ],
            [
             0.9,
             "#4d9221"
            ],
            [
             1,
             "#276419"
            ]
           ],
           "sequential": [
            [
             0,
             "#0d0887"
            ],
            [
             0.1111111111111111,
             "#46039f"
            ],
            [
             0.2222222222222222,
             "#7201a8"
            ],
            [
             0.3333333333333333,
             "#9c179e"
            ],
            [
             0.4444444444444444,
             "#bd3786"
            ],
            [
             0.5555555555555556,
             "#d8576b"
            ],
            [
             0.6666666666666666,
             "#ed7953"
            ],
            [
             0.7777777777777778,
             "#fb9f3a"
            ],
            [
             0.8888888888888888,
             "#fdca26"
            ],
            [
             1,
             "#f0f921"
            ]
           ],
           "sequentialminus": [
            [
             0,
             "#0d0887"
            ],
            [
             0.1111111111111111,
             "#46039f"
            ],
            [
             0.2222222222222222,
             "#7201a8"
            ],
            [
             0.3333333333333333,
             "#9c179e"
            ],
            [
             0.4444444444444444,
             "#bd3786"
            ],
            [
             0.5555555555555556,
             "#d8576b"
            ],
            [
             0.6666666666666666,
             "#ed7953"
            ],
            [
             0.7777777777777778,
             "#fb9f3a"
            ],
            [
             0.8888888888888888,
             "#fdca26"
            ],
            [
             1,
             "#f0f921"
            ]
           ]
          },
          "colorway": [
           "#636efa",
           "#EF553B",
           "#00cc96",
           "#ab63fa",
           "#FFA15A",
           "#19d3f3",
           "#FF6692",
           "#B6E880",
           "#FF97FF",
           "#FECB52"
          ],
          "font": {
           "color": "#2a3f5f"
          },
          "geo": {
           "bgcolor": "white",
           "lakecolor": "white",
           "landcolor": "#E5ECF6",
           "showlakes": true,
           "showland": true,
           "subunitcolor": "white"
          },
          "hoverlabel": {
           "align": "left"
          },
          "hovermode": "closest",
          "mapbox": {
           "style": "light"
          },
          "paper_bgcolor": "white",
          "plot_bgcolor": "#E5ECF6",
          "polar": {
           "angularaxis": {
            "gridcolor": "white",
            "linecolor": "white",
            "ticks": ""
           },
           "bgcolor": "#E5ECF6",
           "radialaxis": {
            "gridcolor": "white",
            "linecolor": "white",
            "ticks": ""
           }
          },
          "scene": {
           "xaxis": {
            "backgroundcolor": "#E5ECF6",
            "gridcolor": "white",
            "gridwidth": 2,
            "linecolor": "white",
            "showbackground": true,
            "ticks": "",
            "zerolinecolor": "white"
           },
           "yaxis": {
            "backgroundcolor": "#E5ECF6",
            "gridcolor": "white",
            "gridwidth": 2,
            "linecolor": "white",
            "showbackground": true,
            "ticks": "",
            "zerolinecolor": "white"
           },
           "zaxis": {
            "backgroundcolor": "#E5ECF6",
            "gridcolor": "white",
            "gridwidth": 2,
            "linecolor": "white",
            "showbackground": true,
            "ticks": "",
            "zerolinecolor": "white"
           }
          },
          "shapedefaults": {
           "line": {
            "color": "#2a3f5f"
           }
          },
          "ternary": {
           "aaxis": {
            "gridcolor": "white",
            "linecolor": "white",
            "ticks": ""
           },
           "baxis": {
            "gridcolor": "white",
            "linecolor": "white",
            "ticks": ""
           },
           "bgcolor": "#E5ECF6",
           "caxis": {
            "gridcolor": "white",
            "linecolor": "white",
            "ticks": ""
           }
          },
          "title": {
           "x": 0.05
          },
          "xaxis": {
           "automargin": true,
           "gridcolor": "white",
           "linecolor": "white",
           "ticks": "",
           "title": {
            "standoff": 15
           },
           "zerolinecolor": "white",
           "zerolinewidth": 2
          },
          "yaxis": {
           "automargin": true,
           "gridcolor": "white",
           "linecolor": "white",
           "ticks": "",
           "title": {
            "standoff": 15
           },
           "zerolinecolor": "white",
           "zerolinewidth": 2
          }
         }
        },
        "title": {
         "text": "Energy Minimization"
        },
        "xaxis": {
         "title": {
          "text": "Energy Minimization Step"
         }
        },
        "yaxis": {
         "title": {
          "text": "Potential Energy kcal/mol"
         }
        }
       }
      },
      "text/html": [
       "<div>                            <div id=\"ed632192-6ff2-4ca9-9138-4653e51d8fee\" class=\"plotly-graph-div\" style=\"height:525px; width:100%;\"></div>            <script type=\"text/javascript\">                require([\"plotly\"], function(Plotly) {                    window.PLOTLYENV=window.PLOTLYENV || {};                                    if (document.getElementById(\"ed632192-6ff2-4ca9-9138-4653e51d8fee\")) {                    Plotly.newPlot(                        \"ed632192-6ff2-4ca9-9138-4653e51d8fee\",                        [{\"x\":[1.0,5.0,10.0,15.0,20.0,25.0,30.0,35.0,40.0,45.0,50.0,55.0,60.0,65.0,70.0,75.0,80.0,85.0,90.0,95.0,100.0,105.0,110.0,115.0,120.0,125.0,130.0,135.0,140.0,145.0,150.0,155.0,160.0,165.0,170.0,175.0,180.0,185.0,190.0,195.0,200.0,205.0,210.0,215.0,220.0,225.0,230.0,235.0,240.0,245.0,250.0,255.0,260.0,265.0,270.0,275.0,280.0,285.0,290.0,295.0,300.0,305.0,310.0,315.0,320.0,325.0,330.0,335.0,340.0,345.0,350.0,355.0,360.0,365.0,370.0,375.0,380.0,385.0,390.0,395.0,400.0,405.0,410.0,415.0,420.0,425.0,430.0,435.0,440.0,445.0,450.0,455.0,460.0,465.0,470.0,475.0,480.0,485.0,490.0,495.0,500.0],\"y\":[-2928.6,-3025.1,-3218.0,-3480.8,-3768.5,-3806.3,-3890.1,-3916.1,-3929.9,-3942.7,-4007.7,-4016.5,-4023.9,-4030.1,-4037.4,-3966.5,-3973.8,-3977.6,-3981.4,-3985.0,-4020.2,-4023.3,-4025.6,-4028.0,-4030.5,-4012.8,-4014.8,-4017.7,-4019.6,-4020.3,-4136.8,-4138.9,-4141.5,-4144.2,-4147.1,-4040.2,-4043.2,-4046.3,-4047.4,-4054.8,-4081.4,-4090.4,-4095.3,-4097.4,-4108.3,-4024.7,-4030.8,-4036.5,-4043.5,-4049.5,-4110.6,-4118.7,-4134.0,-4139.2,-4141.8,-4165.6,-4165.8,-4166.6,-4167.6,-4168.2,-4151.7,-4151.7,-4152.7,-4153.5,-4154.1,-4214.2,-4214.7,-4215.6,-4216.7,-4217.5,-4236.1,-4236.7,-4237.8,-4239.1,-4239.9,-4229.5,-4229.9,-4231.0,-4232.4,-4233.5,-4236.1,-4236.8,-4238.2,-4239.8,-4240.6,-4231.9,-4232.3,-4233.2,-4234.1,-4234.5,-4171.6,-4171.3,-4172.3,-4172.8,-4173.0,-4173.0,-4172.8,-4173.7,-4174.0,-4174.2,-4169.6],\"type\":\"scatter\"}],                        {\"template\":{\"data\":{\"barpolar\":[{\"marker\":{\"line\":{\"color\":\"#E5ECF6\",\"width\":0.5},\"pattern\":{\"fillmode\":\"overlay\",\"size\":10,\"solidity\":0.2}},\"type\":\"barpolar\"}],\"bar\":[{\"error_x\":{\"color\":\"#2a3f5f\"},\"error_y\":{\"color\":\"#2a3f5f\"},\"marker\":{\"line\":{\"color\":\"#E5ECF6\",\"width\":0.5},\"pattern\":{\"fillmode\":\"overlay\",\"size\":10,\"solidity\":0.2}},\"type\":\"bar\"}],\"carpet\":[{\"aaxis\":{\"endlinecolor\":\"#2a3f5f\",\"gridcolor\":\"white\",\"linecolor\":\"white\",\"minorgridcolor\":\"white\",\"startlinecolor\":\"#2a3f5f\"},\"baxis\":{\"endlinecolor\":\"#2a3f5f\",\"gridcolor\":\"white\",\"linecolor\":\"white\",\"minorgridcolor\":\"white\",\"startlinecolor\":\"#2a3f5f\"},\"type\":\"carpet\"}],\"choropleth\":[{\"colorbar\":{\"outlinewidth\":0,\"ticks\":\"\"},\"type\":\"choropleth\"}],\"contourcarpet\":[{\"colorbar\":{\"outlinewidth\":0,\"ticks\":\"\"},\"type\":\"contourcarpet\"}],\"contour\":[{\"colorbar\":{\"outlinewidth\":0,\"ticks\":\"\"},\"colorscale\":[[0.0,\"#0d0887\"],[0.1111111111111111,\"#46039f\"],[0.2222222222222222,\"#7201a8\"],[0.3333333333333333,\"#9c179e\"],[0.4444444444444444,\"#bd3786\"],[0.5555555555555556,\"#d8576b\"],[0.6666666666666666,\"#ed7953\"],[0.7777777777777778,\"#fb9f3a\"],[0.8888888888888888,\"#fdca26\"],[1.0,\"#f0f921\"]],\"type\":\"contour\"}],\"heatmapgl\":[{\"colorbar\":{\"outlinewidth\":0,\"ticks\":\"\"},\"colorscale\":[[0.0,\"#0d0887\"],[0.1111111111111111,\"#46039f\"],[0.2222222222222222,\"#7201a8\"],[0.3333333333333333,\"#9c179e\"],[0.4444444444444444,\"#bd3786\"],[0.5555555555555556,\"#d8576b\"],[0.6666666666666666,\"#ed7953\"],[0.7777777777777778,\"#fb9f3a\"],[0.8888888888888888,\"#fdca26\"],[1.0,\"#f0f921\"]],\"type\":\"heatmapgl\"}],\"heatmap\":[{\"colorbar\":{\"outlinewidth\":0,\"ticks\":\"\"},\"colorscale\":[[0.0,\"#0d0887\"],[0.1111111111111111,\"#46039f\"],[0.2222222222222222,\"#7201a8\"],[0.3333333333333333,\"#9c179e\"],[0.4444444444444444,\"#bd3786\"],[0.5555555555555556,\"#d8576b\"],[0.6666666666666666,\"#ed7953\"],[0.7777777777777778,\"#fb9f3a\"],[0.8888888888888888,\"#fdca26\"],[1.0,\"#f0f921\"]],\"type\":\"heatmap\"}],\"histogram2dcontour\":[{\"colorbar\":{\"outlinewidth\":0,\"ticks\":\"\"},\"colorscale\":[[0.0,\"#0d0887\"],[0.1111111111111111,\"#46039f\"],[0.2222222222222222,\"#7201a8\"],[0.3333333333333333,\"#9c179e\"],[0.4444444444444444,\"#bd3786\"],[0.5555555555555556,\"#d8576b\"],[0.6666666666666666,\"#ed7953\"],[0.7777777777777778,\"#fb9f3a\"],[0.8888888888888888,\"#fdca26\"],[1.0,\"#f0f921\"]],\"type\":\"histogram2dcontour\"}],\"histogram2d\":[{\"colorbar\":{\"outlinewidth\":0,\"ticks\":\"\"},\"colorscale\":[[0.0,\"#0d0887\"],[0.1111111111111111,\"#46039f\"],[0.2222222222222222,\"#7201a8\"],[0.3333333333333333,\"#9c179e\"],[0.4444444444444444,\"#bd3786\"],[0.5555555555555556,\"#d8576b\"],[0.6666666666666666,\"#ed7953\"],[0.7777777777777778,\"#fb9f3a\"],[0.8888888888888888,\"#fdca26\"],[1.0,\"#f0f921\"]],\"type\":\"histogram2d\"}],\"histogram\":[{\"marker\":{\"pattern\":{\"fillmode\":\"overlay\",\"size\":10,\"solidity\":0.2}},\"type\":\"histogram\"}],\"mesh3d\":[{\"colorbar\":{\"outlinewidth\":0,\"ticks\":\"\"},\"type\":\"mesh3d\"}],\"parcoords\":[{\"line\":{\"colorbar\":{\"outlinewidth\":0,\"ticks\":\"\"}},\"type\":\"parcoords\"}],\"pie\":[{\"automargin\":true,\"type\":\"pie\"}],\"scatter3d\":[{\"line\":{\"colorbar\":{\"outlinewidth\":0,\"ticks\":\"\"}},\"marker\":{\"colorbar\":{\"outlinewidth\":0,\"ticks\":\"\"}},\"type\":\"scatter3d\"}],\"scattercarpet\":[{\"marker\":{\"colorbar\":{\"outlinewidth\":0,\"ticks\":\"\"}},\"type\":\"scattercarpet\"}],\"scattergeo\":[{\"marker\":{\"colorbar\":{\"outlinewidth\":0,\"ticks\":\"\"}},\"type\":\"scattergeo\"}],\"scattergl\":[{\"marker\":{\"colorbar\":{\"outlinewidth\":0,\"ticks\":\"\"}},\"type\":\"scattergl\"}],\"scattermapbox\":[{\"marker\":{\"colorbar\":{\"outlinewidth\":0,\"ticks\":\"\"}},\"type\":\"scattermapbox\"}],\"scatterpolargl\":[{\"marker\":{\"colorbar\":{\"outlinewidth\":0,\"ticks\":\"\"}},\"type\":\"scatterpolargl\"}],\"scatterpolar\":[{\"marker\":{\"colorbar\":{\"outlinewidth\":0,\"ticks\":\"\"}},\"type\":\"scatterpolar\"}],\"scatter\":[{\"fillpattern\":{\"fillmode\":\"overlay\",\"size\":10,\"solidity\":0.2},\"type\":\"scatter\"}],\"scatterternary\":[{\"marker\":{\"colorbar\":{\"outlinewidth\":0,\"ticks\":\"\"}},\"type\":\"scatterternary\"}],\"surface\":[{\"colorbar\":{\"outlinewidth\":0,\"ticks\":\"\"},\"colorscale\":[[0.0,\"#0d0887\"],[0.1111111111111111,\"#46039f\"],[0.2222222222222222,\"#7201a8\"],[0.3333333333333333,\"#9c179e\"],[0.4444444444444444,\"#bd3786\"],[0.5555555555555556,\"#d8576b\"],[0.6666666666666666,\"#ed7953\"],[0.7777777777777778,\"#fb9f3a\"],[0.8888888888888888,\"#fdca26\"],[1.0,\"#f0f921\"]],\"type\":\"surface\"}],\"table\":[{\"cells\":{\"fill\":{\"color\":\"#EBF0F8\"},\"line\":{\"color\":\"white\"}},\"header\":{\"fill\":{\"color\":\"#C8D4E3\"},\"line\":{\"color\":\"white\"}},\"type\":\"table\"}]},\"layout\":{\"annotationdefaults\":{\"arrowcolor\":\"#2a3f5f\",\"arrowhead\":0,\"arrowwidth\":1},\"autotypenumbers\":\"strict\",\"coloraxis\":{\"colorbar\":{\"outlinewidth\":0,\"ticks\":\"\"}},\"colorscale\":{\"diverging\":[[0,\"#8e0152\"],[0.1,\"#c51b7d\"],[0.2,\"#de77ae\"],[0.3,\"#f1b6da\"],[0.4,\"#fde0ef\"],[0.5,\"#f7f7f7\"],[0.6,\"#e6f5d0\"],[0.7,\"#b8e186\"],[0.8,\"#7fbc41\"],[0.9,\"#4d9221\"],[1,\"#276419\"]],\"sequential\":[[0.0,\"#0d0887\"],[0.1111111111111111,\"#46039f\"],[0.2222222222222222,\"#7201a8\"],[0.3333333333333333,\"#9c179e\"],[0.4444444444444444,\"#bd3786\"],[0.5555555555555556,\"#d8576b\"],[0.6666666666666666,\"#ed7953\"],[0.7777777777777778,\"#fb9f3a\"],[0.8888888888888888,\"#fdca26\"],[1.0,\"#f0f921\"]],\"sequentialminus\":[[0.0,\"#0d0887\"],[0.1111111111111111,\"#46039f\"],[0.2222222222222222,\"#7201a8\"],[0.3333333333333333,\"#9c179e\"],[0.4444444444444444,\"#bd3786\"],[0.5555555555555556,\"#d8576b\"],[0.6666666666666666,\"#ed7953\"],[0.7777777777777778,\"#fb9f3a\"],[0.8888888888888888,\"#fdca26\"],[1.0,\"#f0f921\"]]},\"colorway\":[\"#636efa\",\"#EF553B\",\"#00cc96\",\"#ab63fa\",\"#FFA15A\",\"#19d3f3\",\"#FF6692\",\"#B6E880\",\"#FF97FF\",\"#FECB52\"],\"font\":{\"color\":\"#2a3f5f\"},\"geo\":{\"bgcolor\":\"white\",\"lakecolor\":\"white\",\"landcolor\":\"#E5ECF6\",\"showlakes\":true,\"showland\":true,\"subunitcolor\":\"white\"},\"hoverlabel\":{\"align\":\"left\"},\"hovermode\":\"closest\",\"mapbox\":{\"style\":\"light\"},\"paper_bgcolor\":\"white\",\"plot_bgcolor\":\"#E5ECF6\",\"polar\":{\"angularaxis\":{\"gridcolor\":\"white\",\"linecolor\":\"white\",\"ticks\":\"\"},\"bgcolor\":\"#E5ECF6\",\"radialaxis\":{\"gridcolor\":\"white\",\"linecolor\":\"white\",\"ticks\":\"\"}},\"scene\":{\"xaxis\":{\"backgroundcolor\":\"#E5ECF6\",\"gridcolor\":\"white\",\"gridwidth\":2,\"linecolor\":\"white\",\"showbackground\":true,\"ticks\":\"\",\"zerolinecolor\":\"white\"},\"yaxis\":{\"backgroundcolor\":\"#E5ECF6\",\"gridcolor\":\"white\",\"gridwidth\":2,\"linecolor\":\"white\",\"showbackground\":true,\"ticks\":\"\",\"zerolinecolor\":\"white\"},\"zaxis\":{\"backgroundcolor\":\"#E5ECF6\",\"gridcolor\":\"white\",\"gridwidth\":2,\"linecolor\":\"white\",\"showbackground\":true,\"ticks\":\"\",\"zerolinecolor\":\"white\"}},\"shapedefaults\":{\"line\":{\"color\":\"#2a3f5f\"}},\"ternary\":{\"aaxis\":{\"gridcolor\":\"white\",\"linecolor\":\"white\",\"ticks\":\"\"},\"baxis\":{\"gridcolor\":\"white\",\"linecolor\":\"white\",\"ticks\":\"\"},\"bgcolor\":\"#E5ECF6\",\"caxis\":{\"gridcolor\":\"white\",\"linecolor\":\"white\",\"ticks\":\"\"}},\"title\":{\"x\":0.05},\"xaxis\":{\"automargin\":true,\"gridcolor\":\"white\",\"linecolor\":\"white\",\"ticks\":\"\",\"title\":{\"standoff\":15},\"zerolinecolor\":\"white\",\"zerolinewidth\":2},\"yaxis\":{\"automargin\":true,\"gridcolor\":\"white\",\"linecolor\":\"white\",\"ticks\":\"\",\"title\":{\"standoff\":15},\"zerolinecolor\":\"white\",\"zerolinewidth\":2}}},\"title\":{\"text\":\"Energy Minimization\"},\"xaxis\":{\"title\":{\"text\":\"Energy Minimization Step\"}},\"yaxis\":{\"title\":{\"text\":\"Potential Energy kcal/mol\"}}},                        {\"responsive\": true}                    ).then(function(){\n",
       "                            \n",
       "var gd = document.getElementById('ed632192-6ff2-4ca9-9138-4653e51d8fee');\n",
       "var x = new MutationObserver(function (mutations, observer) {{\n",
       "        var display = window.getComputedStyle(gd).display;\n",
       "        if (!display || display === 'none') {{\n",
       "            console.log([gd, 'removed!']);\n",
       "            Plotly.purge(gd);\n",
       "            observer.disconnect();\n",
       "        }}\n",
       "}});\n",
       "\n",
       "// Listen for the removal of the full notebook cells\n",
       "var notebookContainer = gd.closest('#notebook-container');\n",
       "if (notebookContainer) {{\n",
       "    x.observe(notebookContainer, {childList: true});\n",
       "}}\n",
       "\n",
       "// Listen for the clearing of the current output cell\n",
       "var outputEl = gd.closest('.output');\n",
       "if (outputEl) {{\n",
       "    x.observe(outputEl, {childList: true});\n",
       "}}\n",
       "\n",
       "                        })                };                });            </script>        </div>"
      ]
     },
     "metadata": {},
     "output_type": "display_data"
    }
   ],
   "source": [
    "#Read data from file and filter energy values higher than 1000 Kj/mol^-1\n",
    "with open(f\"output/{output_h_min_dat_path}\",'r') as energy_file:\n",
    "    x,y = map(\n",
    "        list,\n",
    "        zip(*[\n",
    "            (float(line.split()[0]),float(line.split()[1]))\n",
    "            for line in energy_file \n",
    "            if not line.startswith((\"#\",\"@\")) \n",
    "            if float(line.split()[1]) < 1000 \n",
    "        ])\n",
    "    )\n",
    "\n",
    "plotly.offline.init_notebook_mode(connected=True)\n",
    "\n",
    "fig = {\n",
    "    \"data\": [go.Scatter(x=x, y=y)],\n",
    "    \"layout\": go.Layout(title=\"Energy Minimization\",\n",
    "                        xaxis=dict(title = \"Energy Minimization Step\"),\n",
    "                        yaxis=dict(title = \"Potential Energy kcal/mol\")\n",
    "                       )\n",
    "}\n",
    "\n",
    "plotly.offline.iplot(fig)"
   ]
  },
  {
   "cell_type": "markdown",
   "id": "2c179e12",
   "metadata": {},
   "source": [
    "# Creating Solvent Box"
   ]
  },
  {
   "cell_type": "code",
   "execution_count": 29,
   "id": "74ee219a",
   "metadata": {},
   "outputs": [
    {
     "name": "stdout",
     "output_type": "stream",
     "text": [
      "2022-06-29 22:33:01,155 [MainThread  ] [INFO ]  Creating command line with instructions and required arguments\n",
      "2022-06-29 22:33:01,320 [MainThread  ] [INFO ]  ambpdb  -p input/structure.leap.top -c output/sander.h_min.rst >  input/structure.ambpdb.pdb\n",
      "\n",
      "2022-06-29 22:33:01,323 [MainThread  ] [INFO ]  Exit code 0\n",
      "\n"
     ]
    },
    {
     "data": {
      "text/plain": [
       "0"
      ]
     },
     "execution_count": 29,
     "metadata": {},
     "output_type": "execute_result"
    }
   ],
   "source": [
    "from biobb_amber.ambpdb.amber_to_pdb import amber_to_pdb\n",
    "\n",
    "output_ambpdb_path = 'structure.ambpdb.pdb'\n",
    "\n",
    "amber_to_pdb(input_top_path=f\"input/{output_top_path}\",\n",
    "            input_crd_path=f\"output/{output_h_min_rst_path}\",\n",
    "            output_pdb_path=f\"input/{output_ambpdb_path}\")"
   ]
  },
  {
   "cell_type": "code",
   "execution_count": 30,
   "id": "4500b4ca",
   "metadata": {
    "scrolled": true
   },
   "outputs": [
    {
     "name": "stdout",
     "output_type": "stream",
     "text": [
      "2022-06-29 22:33:02,422 [MainThread  ] [INFO ]  Creating 9ac7028a-8df2-4061-abf2-db1be9378638 temporary folder\n",
      "2022-06-29 22:33:02,425 [MainThread  ] [INFO ]  Creating command line with instructions and required arguments\n",
      "2022-06-29 22:33:03,799 [MainThread  ] [INFO ]  tleap  -f 9ac7028a-8df2-4061-abf2-db1be9378638/leap.in\n",
      "\n",
      "2022-06-29 22:33:03,802 [MainThread  ] [INFO ]  Exit code 0\n",
      "\n",
      "2022-06-29 22:33:03,806 [MainThread  ] [INFO ]  -I: Adding /Users/ethan/anaconda3/envs/biobb_AMBER_MD/dat/leap/prep to search path.\n",
      "-I: Adding /Users/ethan/anaconda3/envs/biobb_AMBER_MD/dat/leap/lib to search path.\n",
      "-I: Adding /Users/ethan/anaconda3/envs/biobb_AMBER_MD/dat/leap/parm to search path.\n",
      "-I: Adding /Users/ethan/anaconda3/envs/biobb_AMBER_MD/dat/leap/cmd to search path.\n",
      "-f: Source 9ac7028a-8df2-4061-abf2-db1be9378638/leap.in.\n",
      "\n",
      "Welcome to LEaP!\n",
      "(no leaprc in search path)\n",
      "Sourcing: ./9ac7028a-8df2-4061-abf2-db1be9378638/leap.in\n",
      "----- Source: /Users/ethan/anaconda3/envs/biobb_AMBER_MD/dat/leap/cmd/leaprc.protein.ff14SB\n",
      "----- Source of /Users/ethan/anaconda3/envs/biobb_AMBER_MD/dat/leap/cmd/leaprc.protein.ff14SB done\n",
      "Log file: ./leap.log\n",
      "Loading parameters: /Users/ethan/anaconda3/envs/biobb_AMBER_MD/dat/leap/parm/parm10.dat\n",
      "Reading title:\n",
      "PARM99 + frcmod.ff99SB + frcmod.parmbsc0 + OL3 for RNA\n",
      "Loading parameters: /Users/ethan/anaconda3/envs/biobb_AMBER_MD/dat/leap/parm/frcmod.ff14SB\n",
      "Reading force field modification type file (frcmod)\n",
      "Reading title:\n",
      "ff14SB protein backbone and sidechain parameters\n",
      "Loading library: /Users/ethan/anaconda3/envs/biobb_AMBER_MD/dat/leap/lib/amino12.lib\n",
      "Loading library: /Users/ethan/anaconda3/envs/biobb_AMBER_MD/dat/leap/lib/aminoct12.lib\n",
      "Loading library: /Users/ethan/anaconda3/envs/biobb_AMBER_MD/dat/leap/lib/aminont12.lib\n",
      "----- Source: /Users/ethan/anaconda3/envs/biobb_AMBER_MD/dat/leap/cmd/leaprc.gaff\n",
      "----- Source of /Users/ethan/anaconda3/envs/biobb_AMBER_MD/dat/leap/cmd/leaprc.gaff done\n",
      "Log file: ./leap.log\n",
      "Loading parameters: /Users/ethan/anaconda3/envs/biobb_AMBER_MD/dat/leap/parm/gaff.dat\n",
      "Reading title:\n",
      "AMBER General Force Field for organic molecules (Version 1.81, May 2017)\n",
      "Loading parameters: /Users/ethan/anaconda3/envs/biobb_AMBER_MD/dat/leap/parm/frcmod.ionsjc_tip3p\n",
      "Reading force field modification type file (frcmod)\n",
      "Reading title:\n",
      "Monovalent ion parameters for Ewald and TIP3P water from Joung & Cheatham JPCB (2008)\n",
      "----- Source: /Users/ethan/anaconda3/envs/biobb_AMBER_MD/dat/leap/cmd/leaprc.water.tip3p\n",
      "----- Source of /Users/ethan/anaconda3/envs/biobb_AMBER_MD/dat/leap/cmd/leaprc.water.tip3p done\n",
      "Loading library: /Users/ethan/anaconda3/envs/biobb_AMBER_MD/dat/leap/lib/atomic_ions.lib\n",
      "Loading library: /Users/ethan/anaconda3/envs/biobb_AMBER_MD/dat/leap/lib/solvents.lib\n",
      "Loading parameters: /Users/ethan/anaconda3/envs/biobb_AMBER_MD/dat/leap/parm/frcmod.tip3p\n",
      "Reading force field modification type file (frcmod)\n",
      "Reading title:\n",
      "This is the additional/replacement parameter set for TIP3P water\n",
      "Loading parameters: /Users/ethan/anaconda3/envs/biobb_AMBER_MD/dat/leap/parm/frcmod.ions1lm_126_tip3p\n",
      "Reading force field modification type file (frcmod)\n",
      "Reading title:\n",
      "Li/Merz ion parameters of monovalent ions for TIP3P water model (12-6 normal usage set)\n",
      "Loading parameters: /Users/ethan/anaconda3/envs/biobb_AMBER_MD/dat/leap/parm/frcmod.ionsjc_tip3p\n",
      "Reading force field modification type file (frcmod)\n",
      "Reading title:\n",
      "Monovalent ion parameters for Ewald and TIP3P water from Joung & Cheatham JPCB (2008)\n",
      "Loading parameters: /Users/ethan/anaconda3/envs/biobb_AMBER_MD/dat/leap/parm/frcmod.ions234lm_126_tip3p\n",
      "Reading force field modification type file (frcmod)\n",
      "Reading title:\n",
      "Li/Merz ion parameters of divalent to tetravalent ions for TIP3P water model (12-6 normal usage set)\n",
      "Loading library: ./input/pl3params.lib\n",
      "Loading parameters: ./input/pl3params.frcmod\n",
      "Reading force field modification type file (frcmod)\n",
      "Reading title:\n",
      "Remark line goes here\n",
      "Loading PDB file: ./input/structure.ambpdb.pdb\n",
      "  total atoms in file: 3535\n",
      "Scaling up box by a factor of 1.268334 to meet diagonal cut criterion\n",
      "  Solute vdw bounding box:              60.089 39.647 46.734\n",
      "  Total bounding box for atom centers:  82.919 82.919 82.919\n",
      "      (box expansion for 'iso' is  58.2%)\n",
      "  Solvent unit box:                     18.774 18.774 18.774\n",
      "  Volume: 295496.402 A^3 (oct)\n",
      "  Total mass 157888.748 amu,  Density 0.887 g/cc\n",
      "  Added 7353 residues.\n",
      "Writing pdb file: input/structure.solv.pdb\n",
      "   printing CRYST1 record to PDB file with box info\n",
      "\n",
      "/Users/ethan/anaconda3/envs/biobb_AMBER_MD/bin/teLeap: Warning!\n",
      " Converting N-terminal residue name to PDB format: NASP -> ASP\n",
      "\n",
      "/Users/ethan/anaconda3/envs/biobb_AMBER_MD/bin/teLeap: Warning!\n",
      " Converting C-terminal residue name to PDB format: CALA -> ALA\n",
      "Checking Unit.\n",
      "\n",
      "/Users/ethan/anaconda3/envs/biobb_AMBER_MD/bin/teLeap: Warning!\n",
      "The unperturbed charge of the unit (-14.998999) is not zero.\n",
      "\n",
      "/Users/ethan/anaconda3/envs/biobb_AMBER_MD/bin/teLeap: Note.\n",
      "Ignoring the warning from Unit Checking.\n",
      "\n",
      "Building topology.\n",
      "Building atom parameters.\n",
      "Building bond parameters.\n",
      "Building angle parameters.\n",
      "Building proper torsion parameters.\n",
      "Building improper torsion parameters.\n",
      " total 727 improper torsions applied\n",
      "Building H-Bond parameters.\n",
      "Incorporating Non-Bonded adjustments.\n",
      "Not Marking per-residue atom chain types.\n",
      "Marking per-residue atom chain types.\n",
      "  (Residues lacking connect0/connect1 - \n",
      "   these don't have chain types marked:\n",
      "\n",
      "\tres\ttotal affected\n",
      "\n",
      "\tCALA\t1\n",
      "\tNASP\t1\n",
      "\tPL3\t1\n",
      "\tWAT\t7353\n",
      "  )\n",
      " (no restraints)\n",
      "\tQuit\n",
      "\n",
      "Exiting LEaP: Errors = 0; Warnings = 3; Notes = 1.\n",
      "\n",
      "2022-06-29 22:33:03,834 [MainThread  ] [INFO ]  Removed: 9ac7028a-8df2-4061-abf2-db1be9378638\n",
      "2022-06-29 22:33:03,840 [MainThread  ] [INFO ]  Removed: leap.log\n"
     ]
    },
    {
     "data": {
      "text/plain": [
       "0"
      ]
     },
     "execution_count": 30,
     "metadata": {},
     "output_type": "execute_result"
    }
   ],
   "source": [
    "from biobb_amber.leap.leap_solvate import leap_solvate\n",
    "\n",
    "output_solv_pdb_path = 'structure.solv.pdb'\n",
    "output_solv_top_path = 'structure.solv.parmtop'\n",
    "output_solv_crd_path = 'structure.solv.crd'\n",
    "\n",
    "prop = {\n",
    "    \"forcefield\" : [\"protein.ff14SB\",\"gaff\"],\n",
    "    \"water_type\": \"TIP3PBOX\",\n",
    "    \"distance_to_molecule\": \"9.0\",   \n",
    "    \"box_type\": \"truncated_octahedron\"\n",
    "}\n",
    "\n",
    "leap_solvate(input_pdb_path=f\"input/{output_ambpdb_path}\",\n",
    "             input_lib_path=f\"input/{output_acpype_lib}\",\n",
    "             input_frcmod_path=f\"input/{output_acpype_frcmod}\",\n",
    "             output_pdb_path=f\"input/{output_solv_pdb_path}\",\n",
    "             output_top_path=f\"input/{output_solv_top_path}\",\n",
    "             output_crd_path=f\"input/{output_solv_crd_path}\",\n",
    "             properties=prop)"
   ]
  },
  {
   "cell_type": "code",
   "execution_count": 31,
   "id": "3c813c37",
   "metadata": {
    "scrolled": true
   },
   "outputs": [
    {
     "name": "stdout",
     "output_type": "stream",
     "text": [
      "2022-06-29 22:33:08,165 [MainThread  ] [INFO ]  Creating 3a089f7d-de82-4696-a33e-ff0ce1333c58 temporary folder\n",
      "2022-06-29 22:33:08,255 [MainThread  ] [INFO ]  Creating command line with instructions and required arguments\n",
      "2022-06-29 22:33:10,109 [MainThread  ] [INFO ]  tleap  -f 3a089f7d-de82-4696-a33e-ff0ce1333c58/leap.in\n",
      "\n",
      "2022-06-29 22:33:10,111 [MainThread  ] [INFO ]  Exit code 0\n",
      "\n",
      "2022-06-29 22:33:10,112 [MainThread  ] [INFO ]  -I: Adding /Users/ethan/anaconda3/envs/biobb_AMBER_MD/dat/leap/prep to search path.\n",
      "-I: Adding /Users/ethan/anaconda3/envs/biobb_AMBER_MD/dat/leap/lib to search path.\n",
      "-I: Adding /Users/ethan/anaconda3/envs/biobb_AMBER_MD/dat/leap/parm to search path.\n",
      "-I: Adding /Users/ethan/anaconda3/envs/biobb_AMBER_MD/dat/leap/cmd to search path.\n",
      "-f: Source 3a089f7d-de82-4696-a33e-ff0ce1333c58/leap.in.\n",
      "\n",
      "Welcome to LEaP!\n",
      "(no leaprc in search path)\n",
      "Sourcing: ./3a089f7d-de82-4696-a33e-ff0ce1333c58/leap.in\n",
      "----- Source: /Users/ethan/anaconda3/envs/biobb_AMBER_MD/dat/leap/cmd/leaprc.protein.ff14SB\n",
      "----- Source of /Users/ethan/anaconda3/envs/biobb_AMBER_MD/dat/leap/cmd/leaprc.protein.ff14SB done\n",
      "Log file: ./leap.log\n",
      "Loading parameters: /Users/ethan/anaconda3/envs/biobb_AMBER_MD/dat/leap/parm/parm10.dat\n",
      "Reading title:\n",
      "PARM99 + frcmod.ff99SB + frcmod.parmbsc0 + OL3 for RNA\n",
      "Loading parameters: /Users/ethan/anaconda3/envs/biobb_AMBER_MD/dat/leap/parm/frcmod.ff14SB\n",
      "Reading force field modification type file (frcmod)\n",
      "Reading title:\n",
      "ff14SB protein backbone and sidechain parameters\n",
      "Loading library: /Users/ethan/anaconda3/envs/biobb_AMBER_MD/dat/leap/lib/amino12.lib\n",
      "Loading library: /Users/ethan/anaconda3/envs/biobb_AMBER_MD/dat/leap/lib/aminoct12.lib\n",
      "Loading library: /Users/ethan/anaconda3/envs/biobb_AMBER_MD/dat/leap/lib/aminont12.lib\n",
      "----- Source: /Users/ethan/anaconda3/envs/biobb_AMBER_MD/dat/leap/cmd/leaprc.gaff\n",
      "----- Source of /Users/ethan/anaconda3/envs/biobb_AMBER_MD/dat/leap/cmd/leaprc.gaff done\n",
      "Log file: ./leap.log\n",
      "Loading parameters: /Users/ethan/anaconda3/envs/biobb_AMBER_MD/dat/leap/parm/gaff.dat\n",
      "Reading title:\n",
      "AMBER General Force Field for organic molecules (Version 1.81, May 2017)\n",
      "----- Source: /Users/ethan/anaconda3/envs/biobb_AMBER_MD/dat/leap/cmd/leaprc.water.tip3p\n",
      "----- Source of /Users/ethan/anaconda3/envs/biobb_AMBER_MD/dat/leap/cmd/leaprc.water.tip3p done\n",
      "Loading library: /Users/ethan/anaconda3/envs/biobb_AMBER_MD/dat/leap/lib/atomic_ions.lib\n",
      "Loading library: /Users/ethan/anaconda3/envs/biobb_AMBER_MD/dat/leap/lib/solvents.lib\n",
      "Loading parameters: /Users/ethan/anaconda3/envs/biobb_AMBER_MD/dat/leap/parm/frcmod.tip3p\n",
      "Reading force field modification type file (frcmod)\n",
      "Reading title:\n",
      "This is the additional/replacement parameter set for TIP3P water\n",
      "Loading parameters: /Users/ethan/anaconda3/envs/biobb_AMBER_MD/dat/leap/parm/frcmod.ions1lm_126_tip3p\n",
      "Reading force field modification type file (frcmod)\n",
      "Reading title:\n",
      "Li/Merz ion parameters of monovalent ions for TIP3P water model (12-6 normal usage set)\n",
      "Loading parameters: /Users/ethan/anaconda3/envs/biobb_AMBER_MD/dat/leap/parm/frcmod.ionsjc_tip3p\n",
      "Reading force field modification type file (frcmod)\n",
      "Reading title:\n",
      "Monovalent ion parameters for Ewald and TIP3P water from Joung & Cheatham JPCB (2008)\n",
      "Loading parameters: /Users/ethan/anaconda3/envs/biobb_AMBER_MD/dat/leap/parm/frcmod.ions234lm_126_tip3p\n",
      "Reading force field modification type file (frcmod)\n",
      "Reading title:\n",
      "Li/Merz ion parameters of divalent to tetravalent ions for TIP3P water model (12-6 normal usage set)\n",
      "Loading parameters: /Users/ethan/anaconda3/envs/biobb_AMBER_MD/dat/leap/parm/frcmod.ionsjc_tip3p\n",
      "Reading force field modification type file (frcmod)\n",
      "Reading title:\n",
      "Monovalent ion parameters for Ewald and TIP3P water from Joung & Cheatham JPCB (2008)\n",
      "Loading library: ./input/pl3params.lib\n",
      "Loading parameters: ./input/pl3params.frcmod\n",
      "Reading force field modification type file (frcmod)\n",
      "Reading title:\n",
      "Remark line goes here\n",
      "Loading PDB file: ./input/structure.solv.pdb\n",
      "  total atoms in file: 25594\n",
      "\n",
      "/Users/ethan/anaconda3/envs/biobb_AMBER_MD/bin/teLeap: Warning!\n",
      "addIonsRand: 1st Ion & target unit have charges of the same sign:\n",
      "     unit charge = -14.999; ion1 charge = -1;\n",
      "     can't neutralize.\n",
      "15 Na+ ions required to neutralize.\n",
      "Adding 15 counter ions to \"mol\". 7338 solvent molecules will remain.\n",
      "0: Placed Na+ in mol at (-32.10, -10.70, 7.48).\n",
      "0: Placed Na+ in mol at (11.96, 0.84, -35.67).\n",
      "0: Placed Na+ in mol at (33.24, -23.83, 14.66).\n",
      "0: Placed Na+ in mol at (-28.78, -6.11, 4.75).\n",
      "0: Placed Na+ in mol at (-14.93, 29.81, 4.93).\n",
      "0: Placed Na+ in mol at (33.49, 16.76, 6.70).\n",
      "0: Placed Na+ in mol at (-24.14, -1.61, -13.30).\n",
      "0: Placed Na+ in mol at (-9.84, -1.81, -28.82).\n",
      "0: Placed Na+ in mol at (-23.64, -7.53, 16.78).\n",
      "0: Placed Na+ in mol at (-17.23, 7.67, -35.99).\n",
      "0: Placed Na+ in mol at (19.27, 18.93, 6.91).\n",
      "0: Placed Na+ in mol at (-31.40, 8.51, 4.16).\n",
      "0: Placed Na+ in mol at (-21.48, 23.86, -20.68).\n",
      "0: Placed Na+ in mol at (3.33, -3.22, -32.65).\n",
      "0: Placed Na+ in mol at (-14.70, 1.25, 38.44).\n",
      "Adding 20 counter ions to \"mol\". 7318 solvent molecules will remain.\n",
      "0: Placed Cl- in mol at (-3.62, -3.02, 34.90).\n",
      "0: Placed Cl- in mol at (2.35, -28.61, 26.05).\n",
      "0: Placed Cl- in mol at (-29.01, 1.41, -3.72).\n",
      "0: Placed Cl- in mol at (9.53, -2.70, -37.70).\n",
      "0: Placed Cl- in mol at (-2.15, 18.61, 24.85).\n",
      "0: Placed Cl- in mol at (-7.93, 18.75, 26.08).\n",
      "0: Placed Cl- in mol at (0.50, -15.37, -21.13).\n",
      "0: Placed Cl- in mol at (-31.08, 12.16, -24.68).\n",
      "0: Placed Cl- in mol at (18.27, 0.90, 19.64).\n",
      "0: Placed Cl- in mol at (-6.04, 13.29, 16.32).\n",
      "0: Placed Cl- in mol at (-17.78, 19.14, -16.99).\n",
      "0: Placed Cl- in mol at (34.23, -7.45, 9.59).\n",
      "0: Placed Cl- in mol at (-14.46, -18.35, -18.20).\n",
      "0: Placed Cl- in mol at (26.52, -17.43, -23.26).\n",
      "0: Placed Cl- in mol at (15.15, -22.36, -15.20).\n",
      "0: Placed Cl- in mol at (26.87, -22.39, -19.07).\n",
      "0: Placed Cl- in mol at (-7.44, 17.61, -17.74).\n",
      "0: Placed Cl- in mol at (22.59, -18.21, 13.76).\n",
      "0: Placed Cl- in mol at (-17.25, 13.57, -33.66).\n",
      "0: Placed Cl- in mol at (-13.67, -22.33, -4.87).\n",
      "Adding 20 counter ions to \"mol\". 7298 solvent molecules will remain.\n",
      "0: Placed Na+ in mol at (20.67, -7.26, -16.44).\n",
      "0: Placed Na+ in mol at (-19.93, -26.61, -14.61).\n",
      "0: Placed Na+ in mol at (-21.09, -13.91, 9.50).\n",
      "0: Placed Na+ in mol at (-4.67, 5.63, -28.48).\n",
      "0: Placed Na+ in mol at (3.00, -4.95, 33.50).\n",
      "0: Placed Na+ in mol at (11.10, -30.14, 30.23).\n",
      "0: Placed Na+ in mol at (-29.41, 12.90, 0.32).\n",
      "0: Placed Na+ in mol at (21.06, 17.84, 7.14).\n",
      "0: Placed Na+ in mol at (-14.22, 5.83, 30.66).\n",
      "0: Placed Na+ in mol at (13.47, -28.80, -13.43).\n",
      "0: Placed Na+ in mol at (-30.96, -16.87, -4.82).\n",
      "0: Placed Na+ in mol at (-30.07, 10.09, -15.85).\n",
      "0: Placed Na+ in mol at (21.09, 3.50, 21.00).\n",
      "0: Placed Na+ in mol at (13.77, -7.10, -11.75).\n",
      "0: Placed Na+ in mol at (9.95, 28.57, 5.30).\n",
      "0: Placed Na+ in mol at (26.77, -11.08, 18.85).\n",
      "0: Placed Na+ in mol at (30.37, 18.61, -1.71).\n",
      "0: Placed Na+ in mol at (-18.68, -35.60, 6.95).\n",
      "0: Placed Na+ in mol at (7.43, 31.55, -6.91).\n",
      "0: Placed Na+ in mol at (35.62, -10.09, 13.60).\n",
      "Box dimensions:  74.726600 85.925600 89.446600\n",
      "Writing pdb file: input/structure.ions.pdb\n",
      "   printing CRYST1 record to PDB file with box info\n",
      "\n",
      "/Users/ethan/anaconda3/envs/biobb_AMBER_MD/bin/teLeap: Warning!\n",
      " Converting N-terminal residue name to PDB format: NASP -> ASP\n",
      "\n",
      "/Users/ethan/anaconda3/envs/biobb_AMBER_MD/bin/teLeap: Warning!\n",
      " Converting C-terminal residue name to PDB format: CALA -> ALA\n",
      "Checking Unit.\n",
      "Building topology.\n",
      "Building atom parameters.\n",
      "Building bond parameters.\n",
      "Building angle parameters.\n",
      "Building proper torsion parameters.\n",
      "Building improper torsion parameters.\n",
      " total 727 improper torsions applied\n",
      "Building H-Bond parameters.\n",
      "Incorporating Non-Bonded adjustments.\n",
      "Not Marking per-residue atom chain types.\n",
      "Marking per-residue atom chain types.\n",
      "  (Residues lacking connect0/connect1 - \n",
      "   these don't have chain types marked:\n",
      "\n",
      "\tres\ttotal affected\n",
      "\n",
      "\tCALA\t1\n",
      "\tNASP\t1\n",
      "\tPL3\t1\n",
      "\tWAT\t7298\n",
      "  )\n",
      " (no restraints)\n",
      "\tQuit\n",
      "\n",
      "Exiting LEaP: Errors = 0; Warnings = 3; Notes = 0.\n",
      "\n",
      "2022-06-29 22:33:10,113 [MainThread  ] [INFO ]  Fixing truncated octahedron Box in the topology and coordinates files\n",
      "2022-06-29 22:33:10,187 [MainThread  ] [INFO ]  Removed: 3a089f7d-de82-4696-a33e-ff0ce1333c58\n",
      "2022-06-29 22:33:10,188 [MainThread  ] [INFO ]  Removed: leap.log\n"
     ]
    },
    {
     "data": {
      "text/plain": [
       "0"
      ]
     },
     "execution_count": 31,
     "metadata": {},
     "output_type": "execute_result"
    }
   ],
   "source": [
    "from biobb_amber.leap.leap_add_ions import leap_add_ions\n",
    "\n",
    "output_ions_pdb_path = 'structure.ions.pdb'\n",
    "output_ions_top_path = 'structure.ions.parmtop'\n",
    "output_ions_crd_path = 'structure.ions.crd'\n",
    "\n",
    "prop = {\n",
    "    \"forcefield\" : [\"protein.ff14SB\",\"gaff\"],\n",
    "    \"neutralise\" : True,\n",
    "    \"positive_ions_type\": \"Na+\",\n",
    "    \"negative_ions_type\": \"Cl-\",\n",
    "    \"ionic_concentration\" : 150, # 150mM\n",
    "    \"box_type\": \"truncated_octahedron\"\n",
    "}\n",
    "\n",
    "leap_add_ions(input_pdb_path=f\"input/{output_solv_pdb_path}\",\n",
    "            input_lib_path=f\"input/{output_acpype_lib}\",\n",
    "            input_frcmod_path=f\"input/{output_acpype_frcmod}\",\n",
    "           output_pdb_path=f\"input/{output_ions_pdb_path}\",\n",
    "           output_top_path=f\"input/{output_ions_top_path}\",\n",
    "           output_crd_path=f\"input/{output_ions_crd_path}\",\n",
    "           properties=prop)"
   ]
  },
  {
   "cell_type": "code",
   "execution_count": 32,
   "id": "bfea08c6",
   "metadata": {
    "scrolled": true
   },
   "outputs": [
    {
     "data": {
      "application/vnd.jupyter.widget-view+json": {
       "model_id": "0fb7785eb97e4e4489e74cae32125376",
       "version_major": 2,
       "version_minor": 0
      },
      "text/plain": [
       "NGLWidget()"
      ]
     },
     "metadata": {},
     "output_type": "display_data"
    }
   ],
   "source": [
    "view = nglview.show_structure_file(f\"input/{output_ions_pdb_path}\")\n",
    "view.clear_representations()\n",
    "view.add_representation(repr_type='cartoon', selection='protein')\n",
    "view.add_representation(repr_type='ball+stick', selection='solvent')\n",
    "view.add_representation(repr_type='spacefill', selection='Cl- Na+')\n",
    "view._remote_call('setSize', target='Widget', args=['','600px'])\n",
    "view"
   ]
  },
  {
   "cell_type": "markdown",
   "id": "7e5b674c",
   "metadata": {},
   "source": [
    "# Minimize Solvated Complex"
   ]
  },
  {
   "cell_type": "code",
   "execution_count": 33,
   "id": "5ade8ffc",
   "metadata": {},
   "outputs": [
    {
     "name": "stdout",
     "output_type": "stream",
     "text": [
      "2022-06-29 22:33:15,633 [MainThread  ] [INFO ]  Creating 9e144d97-d767-4adb-826b-a355da17a80c temporary folder\n",
      "2022-06-29 22:33:15,634 [MainThread  ] [INFO ]  Creating command line with instructions and required arguments\n",
      "2022-06-29 22:34:38,282 [MainThread  ] [INFO ]  sander -O -i 9e144d97-d767-4adb-826b-a355da17a80c/sander.mdin -p input/structure.ions.parmtop -c input/structure.ions.crd -r output/sander.min.rst -o output/sander.min.log -x output/sander.min.x -ref input/structure.ions.crd\n",
      "\n",
      "2022-06-29 22:34:38,286 [MainThread  ] [INFO ]  Exit code 0\n",
      "\n",
      "2022-06-29 22:34:38,289 [MainThread  ] [INFO ]  Removed: mdinfo, 9e144d97-d767-4adb-826b-a355da17a80c\n"
     ]
    },
    {
     "data": {
      "text/plain": [
       "0"
      ]
     },
     "execution_count": 33,
     "metadata": {},
     "output_type": "execute_result"
    }
   ],
   "source": [
    "output_min_traj_path = 'sander.min.x'\n",
    "output_min_rst_path = 'sander.min.rst'\n",
    "output_min_log_path = 'sander.min.log'\n",
    "\n",
    "prop = {\n",
    "    \"simulation_type\" : \"minimization\",\n",
    "    \"mdin\" : { \n",
    "        'maxcyc' : 300, # Reducing the number of minimization steps for the sake of time\n",
    "        'ntr' : 1,      # Overwritting restrain parameter\n",
    "        'restraintmask' : '\\\"!:WAT,Cl-,Na+\\\"',      # Restraining solute\n",
    "        'restraint_wt' : 15.0                       # With a force constant of 50 Kcal/mol*A2\n",
    "    }\n",
    "}\n",
    "\n",
    "sander_mdrun(input_top_path=f\"input/{output_ions_top_path}\",\n",
    "            input_crd_path=f\"input/{output_ions_crd_path}\",\n",
    "            input_ref_path=f\"input/{output_ions_crd_path}\",\n",
    "            output_traj_path=f\"output/{output_min_traj_path}\",\n",
    "            output_rst_path=f\"output/{output_min_rst_path}\",\n",
    "            output_log_path=f\"output/{output_min_log_path}\",\n",
    "            properties=prop)"
   ]
  },
  {
   "cell_type": "code",
   "execution_count": 34,
   "id": "970954ee",
   "metadata": {},
   "outputs": [
    {
     "name": "stdout",
     "output_type": "stream",
     "text": [
      "2022-06-29 22:34:38,354 [MainThread  ] [INFO ]  Creating command line with instructions and required arguments\n",
      "2022-06-29 22:34:38,418 [MainThread  ] [INFO ]  process_minout.perl  output/sander.min.log\n",
      "\n",
      "2022-06-29 22:34:38,422 [MainThread  ] [INFO ]  Exit code 0\n",
      "\n",
      "2022-06-29 22:34:38,424 [MainThread  ] [INFO ]  Processing sander output file (output/sander.min.log)...\n",
      "Processing step 150 of a possible 300...\n",
      "Processing step 300 of a possible 300...\n",
      "Processing step 300 of a possible 300...\n",
      "Starting output...\n",
      "Outputing summary.NSTEP\n",
      "Outputing summary.ENERGY\n",
      "Outputing summary.RMS\n",
      "Outputing summary.GMAX\n",
      "Outputing summary.NAME\n",
      "Outputing summary.NUMBER\n",
      "Outputing summary.BOND\n",
      "Outputing summary.ANGLE\n",
      "Outputing summary.DIHEDRAL\n",
      "Outputing summary.VDWAALS\n",
      "Outputing summary.EEL\n",
      "Outputing summary.HBOND\n",
      "Outputing summary.VDW14\n",
      "Outputing summary.EEL14\n",
      "Outputing summary.RESTRAINT\n",
      "\n",
      "2022-06-29 22:34:38,431 [MainThread  ] [INFO ]  Removed: [PosixPath('summary.ENERGY'), PosixPath('summary.VDW14'), PosixPath('summary.VDWAALS'), PosixPath('summary.NAME'), PosixPath('summary.EEL14'), PosixPath('summary.RESTRAINT'), PosixPath('summary.HBOND'), PosixPath('summary.RMS'), PosixPath('summary.NSTEP'), PosixPath('summary.ANGLE'), PosixPath('summary.DIHEDRAL'), PosixPath('summary.NUMBER'), PosixPath('summary.EEL'), PosixPath('summary.BOND'), PosixPath('summary.GMAX')]\n"
     ]
    },
    {
     "data": {
      "text/plain": [
       "0"
      ]
     },
     "execution_count": 34,
     "metadata": {},
     "output_type": "execute_result"
    }
   ],
   "source": [
    "output_dat_path = 'sander.min.energy.dat'\n",
    "\n",
    "prop = {\n",
    "    \"terms\" : ['ENERGY']\n",
    "}\n",
    "\n",
    "process_minout(input_log_path=f\"output/{output_min_log_path}\",\n",
    "            output_dat_path=f\"output/{output_dat_path}\",\n",
    "            properties=prop)"
   ]
  },
  {
   "cell_type": "code",
   "execution_count": 5,
   "id": "a640a21f",
   "metadata": {},
   "outputs": [
    {
     "data": {
      "text/html": [
       "        <script type=\"text/javascript\">\n",
       "        window.PlotlyConfig = {MathJaxConfig: 'local'};\n",
       "        if (window.MathJax && window.MathJax.Hub && window.MathJax.Hub.Config) {window.MathJax.Hub.Config({SVG: {font: \"STIX-Web\"}});}\n",
       "        if (typeof require !== 'undefined') {\n",
       "        require.undef(\"plotly\");\n",
       "        requirejs.config({\n",
       "            paths: {\n",
       "                'plotly': ['https://cdn.plot.ly/plotly-2.12.1.min']\n",
       "            }\n",
       "        });\n",
       "        require(['plotly'], function(Plotly) {\n",
       "            window._Plotly = Plotly;\n",
       "        });\n",
       "        }\n",
       "        </script>\n",
       "        "
      ]
     },
     "metadata": {},
     "output_type": "display_data"
    },
    {
     "data": {
      "application/vnd.plotly.v1+json": {
       "config": {
        "linkText": "Export to plot.ly",
        "plotlyServerURL": "https://plot.ly",
        "showLink": false
       },
       "data": [
        {
         "type": "scatter",
         "x": [
          1,
          50,
          100,
          150,
          200,
          250,
          300
         ],
         "y": [
          -44450,
          -84315,
          -89370,
          -91535,
          -92996,
          -94071,
          -94929
         ]
        }
       ],
       "layout": {
        "template": {
         "data": {
          "bar": [
           {
            "error_x": {
             "color": "#2a3f5f"
            },
            "error_y": {
             "color": "#2a3f5f"
            },
            "marker": {
             "line": {
              "color": "#E5ECF6",
              "width": 0.5
             },
             "pattern": {
              "fillmode": "overlay",
              "size": 10,
              "solidity": 0.2
             }
            },
            "type": "bar"
           }
          ],
          "barpolar": [
           {
            "marker": {
             "line": {
              "color": "#E5ECF6",
              "width": 0.5
             },
             "pattern": {
              "fillmode": "overlay",
              "size": 10,
              "solidity": 0.2
             }
            },
            "type": "barpolar"
           }
          ],
          "carpet": [
           {
            "aaxis": {
             "endlinecolor": "#2a3f5f",
             "gridcolor": "white",
             "linecolor": "white",
             "minorgridcolor": "white",
             "startlinecolor": "#2a3f5f"
            },
            "baxis": {
             "endlinecolor": "#2a3f5f",
             "gridcolor": "white",
             "linecolor": "white",
             "minorgridcolor": "white",
             "startlinecolor": "#2a3f5f"
            },
            "type": "carpet"
           }
          ],
          "choropleth": [
           {
            "colorbar": {
             "outlinewidth": 0,
             "ticks": ""
            },
            "type": "choropleth"
           }
          ],
          "contour": [
           {
            "colorbar": {
             "outlinewidth": 0,
             "ticks": ""
            },
            "colorscale": [
             [
              0,
              "#0d0887"
             ],
             [
              0.1111111111111111,
              "#46039f"
             ],
             [
              0.2222222222222222,
              "#7201a8"
             ],
             [
              0.3333333333333333,
              "#9c179e"
             ],
             [
              0.4444444444444444,
              "#bd3786"
             ],
             [
              0.5555555555555556,
              "#d8576b"
             ],
             [
              0.6666666666666666,
              "#ed7953"
             ],
             [
              0.7777777777777778,
              "#fb9f3a"
             ],
             [
              0.8888888888888888,
              "#fdca26"
             ],
             [
              1,
              "#f0f921"
             ]
            ],
            "type": "contour"
           }
          ],
          "contourcarpet": [
           {
            "colorbar": {
             "outlinewidth": 0,
             "ticks": ""
            },
            "type": "contourcarpet"
           }
          ],
          "heatmap": [
           {
            "colorbar": {
             "outlinewidth": 0,
             "ticks": ""
            },
            "colorscale": [
             [
              0,
              "#0d0887"
             ],
             [
              0.1111111111111111,
              "#46039f"
             ],
             [
              0.2222222222222222,
              "#7201a8"
             ],
             [
              0.3333333333333333,
              "#9c179e"
             ],
             [
              0.4444444444444444,
              "#bd3786"
             ],
             [
              0.5555555555555556,
              "#d8576b"
             ],
             [
              0.6666666666666666,
              "#ed7953"
             ],
             [
              0.7777777777777778,
              "#fb9f3a"
             ],
             [
              0.8888888888888888,
              "#fdca26"
             ],
             [
              1,
              "#f0f921"
             ]
            ],
            "type": "heatmap"
           }
          ],
          "heatmapgl": [
           {
            "colorbar": {
             "outlinewidth": 0,
             "ticks": ""
            },
            "colorscale": [
             [
              0,
              "#0d0887"
             ],
             [
              0.1111111111111111,
              "#46039f"
             ],
             [
              0.2222222222222222,
              "#7201a8"
             ],
             [
              0.3333333333333333,
              "#9c179e"
             ],
             [
              0.4444444444444444,
              "#bd3786"
             ],
             [
              0.5555555555555556,
              "#d8576b"
             ],
             [
              0.6666666666666666,
              "#ed7953"
             ],
             [
              0.7777777777777778,
              "#fb9f3a"
             ],
             [
              0.8888888888888888,
              "#fdca26"
             ],
             [
              1,
              "#f0f921"
             ]
            ],
            "type": "heatmapgl"
           }
          ],
          "histogram": [
           {
            "marker": {
             "pattern": {
              "fillmode": "overlay",
              "size": 10,
              "solidity": 0.2
             }
            },
            "type": "histogram"
           }
          ],
          "histogram2d": [
           {
            "colorbar": {
             "outlinewidth": 0,
             "ticks": ""
            },
            "colorscale": [
             [
              0,
              "#0d0887"
             ],
             [
              0.1111111111111111,
              "#46039f"
             ],
             [
              0.2222222222222222,
              "#7201a8"
             ],
             [
              0.3333333333333333,
              "#9c179e"
             ],
             [
              0.4444444444444444,
              "#bd3786"
             ],
             [
              0.5555555555555556,
              "#d8576b"
             ],
             [
              0.6666666666666666,
              "#ed7953"
             ],
             [
              0.7777777777777778,
              "#fb9f3a"
             ],
             [
              0.8888888888888888,
              "#fdca26"
             ],
             [
              1,
              "#f0f921"
             ]
            ],
            "type": "histogram2d"
           }
          ],
          "histogram2dcontour": [
           {
            "colorbar": {
             "outlinewidth": 0,
             "ticks": ""
            },
            "colorscale": [
             [
              0,
              "#0d0887"
             ],
             [
              0.1111111111111111,
              "#46039f"
             ],
             [
              0.2222222222222222,
              "#7201a8"
             ],
             [
              0.3333333333333333,
              "#9c179e"
             ],
             [
              0.4444444444444444,
              "#bd3786"
             ],
             [
              0.5555555555555556,
              "#d8576b"
             ],
             [
              0.6666666666666666,
              "#ed7953"
             ],
             [
              0.7777777777777778,
              "#fb9f3a"
             ],
             [
              0.8888888888888888,
              "#fdca26"
             ],
             [
              1,
              "#f0f921"
             ]
            ],
            "type": "histogram2dcontour"
           }
          ],
          "mesh3d": [
           {
            "colorbar": {
             "outlinewidth": 0,
             "ticks": ""
            },
            "type": "mesh3d"
           }
          ],
          "parcoords": [
           {
            "line": {
             "colorbar": {
              "outlinewidth": 0,
              "ticks": ""
             }
            },
            "type": "parcoords"
           }
          ],
          "pie": [
           {
            "automargin": true,
            "type": "pie"
           }
          ],
          "scatter": [
           {
            "fillpattern": {
             "fillmode": "overlay",
             "size": 10,
             "solidity": 0.2
            },
            "type": "scatter"
           }
          ],
          "scatter3d": [
           {
            "line": {
             "colorbar": {
              "outlinewidth": 0,
              "ticks": ""
             }
            },
            "marker": {
             "colorbar": {
              "outlinewidth": 0,
              "ticks": ""
             }
            },
            "type": "scatter3d"
           }
          ],
          "scattercarpet": [
           {
            "marker": {
             "colorbar": {
              "outlinewidth": 0,
              "ticks": ""
             }
            },
            "type": "scattercarpet"
           }
          ],
          "scattergeo": [
           {
            "marker": {
             "colorbar": {
              "outlinewidth": 0,
              "ticks": ""
             }
            },
            "type": "scattergeo"
           }
          ],
          "scattergl": [
           {
            "marker": {
             "colorbar": {
              "outlinewidth": 0,
              "ticks": ""
             }
            },
            "type": "scattergl"
           }
          ],
          "scattermapbox": [
           {
            "marker": {
             "colorbar": {
              "outlinewidth": 0,
              "ticks": ""
             }
            },
            "type": "scattermapbox"
           }
          ],
          "scatterpolar": [
           {
            "marker": {
             "colorbar": {
              "outlinewidth": 0,
              "ticks": ""
             }
            },
            "type": "scatterpolar"
           }
          ],
          "scatterpolargl": [
           {
            "marker": {
             "colorbar": {
              "outlinewidth": 0,
              "ticks": ""
             }
            },
            "type": "scatterpolargl"
           }
          ],
          "scatterternary": [
           {
            "marker": {
             "colorbar": {
              "outlinewidth": 0,
              "ticks": ""
             }
            },
            "type": "scatterternary"
           }
          ],
          "surface": [
           {
            "colorbar": {
             "outlinewidth": 0,
             "ticks": ""
            },
            "colorscale": [
             [
              0,
              "#0d0887"
             ],
             [
              0.1111111111111111,
              "#46039f"
             ],
             [
              0.2222222222222222,
              "#7201a8"
             ],
             [
              0.3333333333333333,
              "#9c179e"
             ],
             [
              0.4444444444444444,
              "#bd3786"
             ],
             [
              0.5555555555555556,
              "#d8576b"
             ],
             [
              0.6666666666666666,
              "#ed7953"
             ],
             [
              0.7777777777777778,
              "#fb9f3a"
             ],
             [
              0.8888888888888888,
              "#fdca26"
             ],
             [
              1,
              "#f0f921"
             ]
            ],
            "type": "surface"
           }
          ],
          "table": [
           {
            "cells": {
             "fill": {
              "color": "#EBF0F8"
             },
             "line": {
              "color": "white"
             }
            },
            "header": {
             "fill": {
              "color": "#C8D4E3"
             },
             "line": {
              "color": "white"
             }
            },
            "type": "table"
           }
          ]
         },
         "layout": {
          "annotationdefaults": {
           "arrowcolor": "#2a3f5f",
           "arrowhead": 0,
           "arrowwidth": 1
          },
          "autotypenumbers": "strict",
          "coloraxis": {
           "colorbar": {
            "outlinewidth": 0,
            "ticks": ""
           }
          },
          "colorscale": {
           "diverging": [
            [
             0,
             "#8e0152"
            ],
            [
             0.1,
             "#c51b7d"
            ],
            [
             0.2,
             "#de77ae"
            ],
            [
             0.3,
             "#f1b6da"
            ],
            [
             0.4,
             "#fde0ef"
            ],
            [
             0.5,
             "#f7f7f7"
            ],
            [
             0.6,
             "#e6f5d0"
            ],
            [
             0.7,
             "#b8e186"
            ],
            [
             0.8,
             "#7fbc41"
            ],
            [
             0.9,
             "#4d9221"
            ],
            [
             1,
             "#276419"
            ]
           ],
           "sequential": [
            [
             0,
             "#0d0887"
            ],
            [
             0.1111111111111111,
             "#46039f"
            ],
            [
             0.2222222222222222,
             "#7201a8"
            ],
            [
             0.3333333333333333,
             "#9c179e"
            ],
            [
             0.4444444444444444,
             "#bd3786"
            ],
            [
             0.5555555555555556,
             "#d8576b"
            ],
            [
             0.6666666666666666,
             "#ed7953"
            ],
            [
             0.7777777777777778,
             "#fb9f3a"
            ],
            [
             0.8888888888888888,
             "#fdca26"
            ],
            [
             1,
             "#f0f921"
            ]
           ],
           "sequentialminus": [
            [
             0,
             "#0d0887"
            ],
            [
             0.1111111111111111,
             "#46039f"
            ],
            [
             0.2222222222222222,
             "#7201a8"
            ],
            [
             0.3333333333333333,
             "#9c179e"
            ],
            [
             0.4444444444444444,
             "#bd3786"
            ],
            [
             0.5555555555555556,
             "#d8576b"
            ],
            [
             0.6666666666666666,
             "#ed7953"
            ],
            [
             0.7777777777777778,
             "#fb9f3a"
            ],
            [
             0.8888888888888888,
             "#fdca26"
            ],
            [
             1,
             "#f0f921"
            ]
           ]
          },
          "colorway": [
           "#636efa",
           "#EF553B",
           "#00cc96",
           "#ab63fa",
           "#FFA15A",
           "#19d3f3",
           "#FF6692",
           "#B6E880",
           "#FF97FF",
           "#FECB52"
          ],
          "font": {
           "color": "#2a3f5f"
          },
          "geo": {
           "bgcolor": "white",
           "lakecolor": "white",
           "landcolor": "#E5ECF6",
           "showlakes": true,
           "showland": true,
           "subunitcolor": "white"
          },
          "hoverlabel": {
           "align": "left"
          },
          "hovermode": "closest",
          "mapbox": {
           "style": "light"
          },
          "paper_bgcolor": "white",
          "plot_bgcolor": "#E5ECF6",
          "polar": {
           "angularaxis": {
            "gridcolor": "white",
            "linecolor": "white",
            "ticks": ""
           },
           "bgcolor": "#E5ECF6",
           "radialaxis": {
            "gridcolor": "white",
            "linecolor": "white",
            "ticks": ""
           }
          },
          "scene": {
           "xaxis": {
            "backgroundcolor": "#E5ECF6",
            "gridcolor": "white",
            "gridwidth": 2,
            "linecolor": "white",
            "showbackground": true,
            "ticks": "",
            "zerolinecolor": "white"
           },
           "yaxis": {
            "backgroundcolor": "#E5ECF6",
            "gridcolor": "white",
            "gridwidth": 2,
            "linecolor": "white",
            "showbackground": true,
            "ticks": "",
            "zerolinecolor": "white"
           },
           "zaxis": {
            "backgroundcolor": "#E5ECF6",
            "gridcolor": "white",
            "gridwidth": 2,
            "linecolor": "white",
            "showbackground": true,
            "ticks": "",
            "zerolinecolor": "white"
           }
          },
          "shapedefaults": {
           "line": {
            "color": "#2a3f5f"
           }
          },
          "ternary": {
           "aaxis": {
            "gridcolor": "white",
            "linecolor": "white",
            "ticks": ""
           },
           "baxis": {
            "gridcolor": "white",
            "linecolor": "white",
            "ticks": ""
           },
           "bgcolor": "#E5ECF6",
           "caxis": {
            "gridcolor": "white",
            "linecolor": "white",
            "ticks": ""
           }
          },
          "title": {
           "x": 0.05
          },
          "xaxis": {
           "automargin": true,
           "gridcolor": "white",
           "linecolor": "white",
           "ticks": "",
           "title": {
            "standoff": 15
           },
           "zerolinecolor": "white",
           "zerolinewidth": 2
          },
          "yaxis": {
           "automargin": true,
           "gridcolor": "white",
           "linecolor": "white",
           "ticks": "",
           "title": {
            "standoff": 15
           },
           "zerolinecolor": "white",
           "zerolinewidth": 2
          }
         }
        },
        "title": {
         "text": "Energy Minimization"
        },
        "xaxis": {
         "title": {
          "text": "Energy Minimization Step"
         }
        },
        "yaxis": {
         "title": {
          "text": "Potential Energy kcal/mol"
         }
        }
       }
      },
      "text/html": [
       "<div>                            <div id=\"61b3e448-3ec4-42ee-909e-fb9ae7b5a899\" class=\"plotly-graph-div\" style=\"height:525px; width:100%;\"></div>            <script type=\"text/javascript\">                require([\"plotly\"], function(Plotly) {                    window.PLOTLYENV=window.PLOTLYENV || {};                                    if (document.getElementById(\"61b3e448-3ec4-42ee-909e-fb9ae7b5a899\")) {                    Plotly.newPlot(                        \"61b3e448-3ec4-42ee-909e-fb9ae7b5a899\",                        [{\"x\":[1.0,50.0,100.0,150.0,200.0,250.0,300.0],\"y\":[-44450.0,-84315.0,-89370.0,-91535.0,-92996.0,-94071.0,-94929.0],\"type\":\"scatter\"}],                        {\"template\":{\"data\":{\"barpolar\":[{\"marker\":{\"line\":{\"color\":\"#E5ECF6\",\"width\":0.5},\"pattern\":{\"fillmode\":\"overlay\",\"size\":10,\"solidity\":0.2}},\"type\":\"barpolar\"}],\"bar\":[{\"error_x\":{\"color\":\"#2a3f5f\"},\"error_y\":{\"color\":\"#2a3f5f\"},\"marker\":{\"line\":{\"color\":\"#E5ECF6\",\"width\":0.5},\"pattern\":{\"fillmode\":\"overlay\",\"size\":10,\"solidity\":0.2}},\"type\":\"bar\"}],\"carpet\":[{\"aaxis\":{\"endlinecolor\":\"#2a3f5f\",\"gridcolor\":\"white\",\"linecolor\":\"white\",\"minorgridcolor\":\"white\",\"startlinecolor\":\"#2a3f5f\"},\"baxis\":{\"endlinecolor\":\"#2a3f5f\",\"gridcolor\":\"white\",\"linecolor\":\"white\",\"minorgridcolor\":\"white\",\"startlinecolor\":\"#2a3f5f\"},\"type\":\"carpet\"}],\"choropleth\":[{\"colorbar\":{\"outlinewidth\":0,\"ticks\":\"\"},\"type\":\"choropleth\"}],\"contourcarpet\":[{\"colorbar\":{\"outlinewidth\":0,\"ticks\":\"\"},\"type\":\"contourcarpet\"}],\"contour\":[{\"colorbar\":{\"outlinewidth\":0,\"ticks\":\"\"},\"colorscale\":[[0.0,\"#0d0887\"],[0.1111111111111111,\"#46039f\"],[0.2222222222222222,\"#7201a8\"],[0.3333333333333333,\"#9c179e\"],[0.4444444444444444,\"#bd3786\"],[0.5555555555555556,\"#d8576b\"],[0.6666666666666666,\"#ed7953\"],[0.7777777777777778,\"#fb9f3a\"],[0.8888888888888888,\"#fdca26\"],[1.0,\"#f0f921\"]],\"type\":\"contour\"}],\"heatmapgl\":[{\"colorbar\":{\"outlinewidth\":0,\"ticks\":\"\"},\"colorscale\":[[0.0,\"#0d0887\"],[0.1111111111111111,\"#46039f\"],[0.2222222222222222,\"#7201a8\"],[0.3333333333333333,\"#9c179e\"],[0.4444444444444444,\"#bd3786\"],[0.5555555555555556,\"#d8576b\"],[0.6666666666666666,\"#ed7953\"],[0.7777777777777778,\"#fb9f3a\"],[0.8888888888888888,\"#fdca26\"],[1.0,\"#f0f921\"]],\"type\":\"heatmapgl\"}],\"heatmap\":[{\"colorbar\":{\"outlinewidth\":0,\"ticks\":\"\"},\"colorscale\":[[0.0,\"#0d0887\"],[0.1111111111111111,\"#46039f\"],[0.2222222222222222,\"#7201a8\"],[0.3333333333333333,\"#9c179e\"],[0.4444444444444444,\"#bd3786\"],[0.5555555555555556,\"#d8576b\"],[0.6666666666666666,\"#ed7953\"],[0.7777777777777778,\"#fb9f3a\"],[0.8888888888888888,\"#fdca26\"],[1.0,\"#f0f921\"]],\"type\":\"heatmap\"}],\"histogram2dcontour\":[{\"colorbar\":{\"outlinewidth\":0,\"ticks\":\"\"},\"colorscale\":[[0.0,\"#0d0887\"],[0.1111111111111111,\"#46039f\"],[0.2222222222222222,\"#7201a8\"],[0.3333333333333333,\"#9c179e\"],[0.4444444444444444,\"#bd3786\"],[0.5555555555555556,\"#d8576b\"],[0.6666666666666666,\"#ed7953\"],[0.7777777777777778,\"#fb9f3a\"],[0.8888888888888888,\"#fdca26\"],[1.0,\"#f0f921\"]],\"type\":\"histogram2dcontour\"}],\"histogram2d\":[{\"colorbar\":{\"outlinewidth\":0,\"ticks\":\"\"},\"colorscale\":[[0.0,\"#0d0887\"],[0.1111111111111111,\"#46039f\"],[0.2222222222222222,\"#7201a8\"],[0.3333333333333333,\"#9c179e\"],[0.4444444444444444,\"#bd3786\"],[0.5555555555555556,\"#d8576b\"],[0.6666666666666666,\"#ed7953\"],[0.7777777777777778,\"#fb9f3a\"],[0.8888888888888888,\"#fdca26\"],[1.0,\"#f0f921\"]],\"type\":\"histogram2d\"}],\"histogram\":[{\"marker\":{\"pattern\":{\"fillmode\":\"overlay\",\"size\":10,\"solidity\":0.2}},\"type\":\"histogram\"}],\"mesh3d\":[{\"colorbar\":{\"outlinewidth\":0,\"ticks\":\"\"},\"type\":\"mesh3d\"}],\"parcoords\":[{\"line\":{\"colorbar\":{\"outlinewidth\":0,\"ticks\":\"\"}},\"type\":\"parcoords\"}],\"pie\":[{\"automargin\":true,\"type\":\"pie\"}],\"scatter3d\":[{\"line\":{\"colorbar\":{\"outlinewidth\":0,\"ticks\":\"\"}},\"marker\":{\"colorbar\":{\"outlinewidth\":0,\"ticks\":\"\"}},\"type\":\"scatter3d\"}],\"scattercarpet\":[{\"marker\":{\"colorbar\":{\"outlinewidth\":0,\"ticks\":\"\"}},\"type\":\"scattercarpet\"}],\"scattergeo\":[{\"marker\":{\"colorbar\":{\"outlinewidth\":0,\"ticks\":\"\"}},\"type\":\"scattergeo\"}],\"scattergl\":[{\"marker\":{\"colorbar\":{\"outlinewidth\":0,\"ticks\":\"\"}},\"type\":\"scattergl\"}],\"scattermapbox\":[{\"marker\":{\"colorbar\":{\"outlinewidth\":0,\"ticks\":\"\"}},\"type\":\"scattermapbox\"}],\"scatterpolargl\":[{\"marker\":{\"colorbar\":{\"outlinewidth\":0,\"ticks\":\"\"}},\"type\":\"scatterpolargl\"}],\"scatterpolar\":[{\"marker\":{\"colorbar\":{\"outlinewidth\":0,\"ticks\":\"\"}},\"type\":\"scatterpolar\"}],\"scatter\":[{\"fillpattern\":{\"fillmode\":\"overlay\",\"size\":10,\"solidity\":0.2},\"type\":\"scatter\"}],\"scatterternary\":[{\"marker\":{\"colorbar\":{\"outlinewidth\":0,\"ticks\":\"\"}},\"type\":\"scatterternary\"}],\"surface\":[{\"colorbar\":{\"outlinewidth\":0,\"ticks\":\"\"},\"colorscale\":[[0.0,\"#0d0887\"],[0.1111111111111111,\"#46039f\"],[0.2222222222222222,\"#7201a8\"],[0.3333333333333333,\"#9c179e\"],[0.4444444444444444,\"#bd3786\"],[0.5555555555555556,\"#d8576b\"],[0.6666666666666666,\"#ed7953\"],[0.7777777777777778,\"#fb9f3a\"],[0.8888888888888888,\"#fdca26\"],[1.0,\"#f0f921\"]],\"type\":\"surface\"}],\"table\":[{\"cells\":{\"fill\":{\"color\":\"#EBF0F8\"},\"line\":{\"color\":\"white\"}},\"header\":{\"fill\":{\"color\":\"#C8D4E3\"},\"line\":{\"color\":\"white\"}},\"type\":\"table\"}]},\"layout\":{\"annotationdefaults\":{\"arrowcolor\":\"#2a3f5f\",\"arrowhead\":0,\"arrowwidth\":1},\"autotypenumbers\":\"strict\",\"coloraxis\":{\"colorbar\":{\"outlinewidth\":0,\"ticks\":\"\"}},\"colorscale\":{\"diverging\":[[0,\"#8e0152\"],[0.1,\"#c51b7d\"],[0.2,\"#de77ae\"],[0.3,\"#f1b6da\"],[0.4,\"#fde0ef\"],[0.5,\"#f7f7f7\"],[0.6,\"#e6f5d0\"],[0.7,\"#b8e186\"],[0.8,\"#7fbc41\"],[0.9,\"#4d9221\"],[1,\"#276419\"]],\"sequential\":[[0.0,\"#0d0887\"],[0.1111111111111111,\"#46039f\"],[0.2222222222222222,\"#7201a8\"],[0.3333333333333333,\"#9c179e\"],[0.4444444444444444,\"#bd3786\"],[0.5555555555555556,\"#d8576b\"],[0.6666666666666666,\"#ed7953\"],[0.7777777777777778,\"#fb9f3a\"],[0.8888888888888888,\"#fdca26\"],[1.0,\"#f0f921\"]],\"sequentialminus\":[[0.0,\"#0d0887\"],[0.1111111111111111,\"#46039f\"],[0.2222222222222222,\"#7201a8\"],[0.3333333333333333,\"#9c179e\"],[0.4444444444444444,\"#bd3786\"],[0.5555555555555556,\"#d8576b\"],[0.6666666666666666,\"#ed7953\"],[0.7777777777777778,\"#fb9f3a\"],[0.8888888888888888,\"#fdca26\"],[1.0,\"#f0f921\"]]},\"colorway\":[\"#636efa\",\"#EF553B\",\"#00cc96\",\"#ab63fa\",\"#FFA15A\",\"#19d3f3\",\"#FF6692\",\"#B6E880\",\"#FF97FF\",\"#FECB52\"],\"font\":{\"color\":\"#2a3f5f\"},\"geo\":{\"bgcolor\":\"white\",\"lakecolor\":\"white\",\"landcolor\":\"#E5ECF6\",\"showlakes\":true,\"showland\":true,\"subunitcolor\":\"white\"},\"hoverlabel\":{\"align\":\"left\"},\"hovermode\":\"closest\",\"mapbox\":{\"style\":\"light\"},\"paper_bgcolor\":\"white\",\"plot_bgcolor\":\"#E5ECF6\",\"polar\":{\"angularaxis\":{\"gridcolor\":\"white\",\"linecolor\":\"white\",\"ticks\":\"\"},\"bgcolor\":\"#E5ECF6\",\"radialaxis\":{\"gridcolor\":\"white\",\"linecolor\":\"white\",\"ticks\":\"\"}},\"scene\":{\"xaxis\":{\"backgroundcolor\":\"#E5ECF6\",\"gridcolor\":\"white\",\"gridwidth\":2,\"linecolor\":\"white\",\"showbackground\":true,\"ticks\":\"\",\"zerolinecolor\":\"white\"},\"yaxis\":{\"backgroundcolor\":\"#E5ECF6\",\"gridcolor\":\"white\",\"gridwidth\":2,\"linecolor\":\"white\",\"showbackground\":true,\"ticks\":\"\",\"zerolinecolor\":\"white\"},\"zaxis\":{\"backgroundcolor\":\"#E5ECF6\",\"gridcolor\":\"white\",\"gridwidth\":2,\"linecolor\":\"white\",\"showbackground\":true,\"ticks\":\"\",\"zerolinecolor\":\"white\"}},\"shapedefaults\":{\"line\":{\"color\":\"#2a3f5f\"}},\"ternary\":{\"aaxis\":{\"gridcolor\":\"white\",\"linecolor\":\"white\",\"ticks\":\"\"},\"baxis\":{\"gridcolor\":\"white\",\"linecolor\":\"white\",\"ticks\":\"\"},\"bgcolor\":\"#E5ECF6\",\"caxis\":{\"gridcolor\":\"white\",\"linecolor\":\"white\",\"ticks\":\"\"}},\"title\":{\"x\":0.05},\"xaxis\":{\"automargin\":true,\"gridcolor\":\"white\",\"linecolor\":\"white\",\"ticks\":\"\",\"title\":{\"standoff\":15},\"zerolinecolor\":\"white\",\"zerolinewidth\":2},\"yaxis\":{\"automargin\":true,\"gridcolor\":\"white\",\"linecolor\":\"white\",\"ticks\":\"\",\"title\":{\"standoff\":15},\"zerolinecolor\":\"white\",\"zerolinewidth\":2}}},\"title\":{\"text\":\"Energy Minimization\"},\"xaxis\":{\"title\":{\"text\":\"Energy Minimization Step\"}},\"yaxis\":{\"title\":{\"text\":\"Potential Energy kcal/mol\"}}},                        {\"responsive\": true}                    ).then(function(){\n",
       "                            \n",
       "var gd = document.getElementById('61b3e448-3ec4-42ee-909e-fb9ae7b5a899');\n",
       "var x = new MutationObserver(function (mutations, observer) {{\n",
       "        var display = window.getComputedStyle(gd).display;\n",
       "        if (!display || display === 'none') {{\n",
       "            console.log([gd, 'removed!']);\n",
       "            Plotly.purge(gd);\n",
       "            observer.disconnect();\n",
       "        }}\n",
       "}});\n",
       "\n",
       "// Listen for the removal of the full notebook cells\n",
       "var notebookContainer = gd.closest('#notebook-container');\n",
       "if (notebookContainer) {{\n",
       "    x.observe(notebookContainer, {childList: true});\n",
       "}}\n",
       "\n",
       "// Listen for the clearing of the current output cell\n",
       "var outputEl = gd.closest('.output');\n",
       "if (outputEl) {{\n",
       "    x.observe(outputEl, {childList: true});\n",
       "}}\n",
       "\n",
       "                        })                };                });            </script>        </div>"
      ]
     },
     "metadata": {},
     "output_type": "display_data"
    }
   ],
   "source": [
    "with open(f\"output/sander.min.energy.dat\",'r') as energy_file:\n",
    "    x,y = map(\n",
    "        list,\n",
    "        zip(*[\n",
    "            (float(line.split()[0]),float(line.split()[1]))\n",
    "            for line in energy_file \n",
    "            if not line.startswith((\"#\",\"@\")) \n",
    "            if float(line.split()[1]) < 1000 \n",
    "        ])\n",
    "    )\n",
    "\n",
    "plotly.offline.init_notebook_mode(connected=True)\n",
    "\n",
    "fig = {\n",
    "    \"data\": [go.Scatter(x=x, y=y)],\n",
    "    \"layout\": go.Layout(title=\"Energy Minimization\",\n",
    "                        xaxis=dict(title = \"Energy Minimization Step\"),\n",
    "                        yaxis=dict(title = \"Potential Energy kcal/mol\")\n",
    "                       )\n",
    "}\n",
    "\n",
    "plotly.offline.iplot(fig)"
   ]
  },
  {
   "cell_type": "markdown",
   "id": "a856b908",
   "metadata": {},
   "source": [
    "# Heating System"
   ]
  },
  {
   "cell_type": "code",
   "execution_count": 39,
   "id": "ad878654",
   "metadata": {},
   "outputs": [
    {
     "name": "stdout",
     "output_type": "stream",
     "text": [
      "2022-06-29 22:41:26,855 [MainThread  ] [INFO ]  Creating ff8f03c0-5bb4-4d61-ab94-6d267ed6ced6 temporary folder\n",
      "2022-06-29 22:41:26,857 [MainThread  ] [INFO ]  Creating command line with instructions and required arguments\n",
      "2022-06-29 22:45:31,837 [MainThread  ] [INFO ]  sander -O -i ff8f03c0-5bb4-4d61-ab94-6d267ed6ced6/sander.mdin -p input/structure.ions.parmtop -c output/sander.min.rst -r output/sander.heat.rst -o output/sander.heat.log -x output/sander.heat.netcdf -ref output/sander.min.rst\n",
      "\n",
      "2022-06-29 22:45:31,840 [MainThread  ] [INFO ]  Exit code 0\n",
      "\n",
      "2022-06-29 22:45:31,843 [MainThread  ] [INFO ]  Removed: mdinfo, ff8f03c0-5bb4-4d61-ab94-6d267ed6ced6\n"
     ]
    },
    {
     "data": {
      "text/plain": [
       "0"
      ]
     },
     "execution_count": 39,
     "metadata": {},
     "output_type": "execute_result"
    }
   ],
   "source": [
    "from biobb_amber.sander.sander_mdrun import sander_mdrun\n",
    "\n",
    "output_heat_traj_path = 'sander.heat.netcdf'\n",
    "output_heat_rst_path = 'sander.heat.rst'\n",
    "output_heat_log_path = 'sander.heat.log'\n",
    "\n",
    "prop = {\n",
    "    \"simulation_type\" : \"heat\",\n",
    "    \"mdin\" : { \n",
    "        'nstlim' : 500, # Reducing the number of steps for the sake of time (5ps)\n",
    "        'ntr' : 1,     # Overwritting restrain parameter\n",
    "        'restraintmask' : '\\\"!:WAT,Cl-,Na+\\\"',      # Restraining solute\n",
    "        'restraint_wt' : 10.0                       # With a force constant of 10 Kcal/mol*A2\n",
    "    }\n",
    "}\n",
    "\n",
    "sander_mdrun(input_top_path=f\"input/{output_ions_top_path}\",\n",
    "            input_crd_path=f\"output/{output_min_rst_path}\",\n",
    "            input_ref_path=f\"output/{output_min_rst_path}\",\n",
    "            output_traj_path=f\"output/{output_heat_traj_path}\",\n",
    "            output_rst_path=f\"output/{output_heat_rst_path}\",\n",
    "            output_log_path=f\"output/{output_heat_log_path}\",\n",
    "            properties=prop)"
   ]
  },
  {
   "cell_type": "code",
   "execution_count": 42,
   "id": "c37f6a17",
   "metadata": {},
   "outputs": [
    {
     "name": "stdout",
     "output_type": "stream",
     "text": [
      "2022-06-29 22:47:58,411 [MainThread  ] [INFO ]  Creating command line with instructions and required arguments\n",
      "2022-06-29 22:47:58,470 [MainThread  ] [INFO ]  process_mdout.perl  output/sander.heat.log\n",
      "\n",
      "2022-06-29 22:47:58,473 [MainThread  ] [INFO ]  Exit code 0\n",
      "\n",
      "2022-06-29 22:47:58,475 [MainThread  ] [INFO ]  Processing sander output file (output/sander.heat.log)...\n",
      "Starting output...\n",
      "Outputing summary.TEMP\n",
      "Outputing summary_avg.TEMP\n",
      "Outputing summary_rms.TEMP\n",
      "Outputing summary.TSOLUTE\n",
      "Outputing summary_avg.TSOLUTE\n",
      "Outputing summary_rms.TSOLUTE\n",
      "Outputing summary.TSOLVENT\n",
      "Outputing summary_avg.TSOLVENT\n",
      "Outputing summary_rms.TSOLVENT\n",
      "Outputing summary.PRES\n",
      "Outputing summary_avg.PRES\n",
      "Outputing summary_rms.PRES\n",
      "Outputing summary.EKCMT\n",
      "Outputing summary_avg.EKCMT\n",
      "Outputing summary_rms.EKCMT\n",
      "Outputing summary.ETOT\n",
      "Outputing summary_avg.ETOT\n",
      "Outputing summary_rms.ETOT\n",
      "Outputing summary.EKTOT\n",
      "Outputing summary_avg.EKTOT\n",
      "Outputing summary_rms.EKTOT\n",
      "Outputing summary.EPTOT\n",
      "Outputing summary_avg.EPTOT\n",
      "Outputing summary_rms.EPTOT\n",
      "Outputing summary.DENSITY\n",
      "Outputing summary_avg.DENSITY\n",
      "Outputing summary_rms.DENSITY\n",
      "Outputing summary.VOLUME\n",
      "Outputing summary_avg.VOLUME\n",
      "Outputing summary_rms.VOLUME\n",
      "Outputing summary.ESCF\n",
      "Outputing summary_avg.ESCF\n",
      "Outputing summary_rms.ESCF\n",
      "\n",
      "2022-06-29 22:47:58,485 [MainThread  ] [INFO ]  Removed: [PosixPath('summary.PRES'), PosixPath('summary.DENSITY'), PosixPath('summary.EKTOT'), PosixPath('summary_rms.TSOLVENT'), PosixPath('summary_avg.ETOT'), PosixPath('summary.EKCMT'), PosixPath('summary.ETOT'), PosixPath('summary_rms.ESCF'), PosixPath('summary_avg.TSOLUTE'), PosixPath('summary_rms.VOLUME'), PosixPath('summary_avg.PRES'), PosixPath('summary_rms.EPTOT'), PosixPath('summary_rms.TEMP'), PosixPath('summary.TSOLVENT'), PosixPath('summary_avg.EKTOT'), PosixPath('summary_rms.DENSITY'), PosixPath('summary_avg.EKCMT'), PosixPath('summary_avg.EPTOT'), PosixPath('summary.TEMP'), PosixPath('summary_avg.DENSITY'), PosixPath('summary.VOLUME'), PosixPath('summary_avg.TEMP'), PosixPath('summary.TSOLUTE'), PosixPath('summary_rms.EKCMT'), PosixPath('summary_rms.PRES'), PosixPath('summary_avg.ESCF'), PosixPath('summary_rms.TSOLUTE'), PosixPath('summary_rms.EKTOT'), PosixPath('summary.EPTOT'), PosixPath('summary_avg.VOLUME'), PosixPath('summary.ESCF'), PosixPath('summary_rms.ETOT'), PosixPath('summary_avg.TSOLVENT')]\n"
     ]
    },
    {
     "data": {
      "text/plain": [
       "0"
      ]
     },
     "execution_count": 42,
     "metadata": {},
     "output_type": "execute_result"
    }
   ],
   "source": [
    "from biobb_amber.process.process_mdout import process_mdout\n",
    "\n",
    "output_dat_heat_path = 'sander.md.temp.dat'\n",
    "\n",
    "prop = {\n",
    "\"terms\" : ['TEMP']\n",
    "}\n",
    "\n",
    "process_mdout(input_log_path=f\"output/{output_heat_log_path}\",\n",
    "            output_dat_path=f\"output/{output_dat_heat_path}\",\n",
    "            properties=prop)"
   ]
  },
  {
   "cell_type": "code",
   "execution_count": 4,
   "id": "cf64ec18",
   "metadata": {},
   "outputs": [
    {
     "data": {
      "text/html": [
       "        <script type=\"text/javascript\">\n",
       "        window.PlotlyConfig = {MathJaxConfig: 'local'};\n",
       "        if (window.MathJax && window.MathJax.Hub && window.MathJax.Hub.Config) {window.MathJax.Hub.Config({SVG: {font: \"STIX-Web\"}});}\n",
       "        if (typeof require !== 'undefined') {\n",
       "        require.undef(\"plotly\");\n",
       "        requirejs.config({\n",
       "            paths: {\n",
       "                'plotly': ['https://cdn.plot.ly/plotly-2.12.1.min']\n",
       "            }\n",
       "        });\n",
       "        require(['plotly'], function(Plotly) {\n",
       "            window._Plotly = Plotly;\n",
       "        });\n",
       "        }\n",
       "        </script>\n",
       "        "
      ]
     },
     "metadata": {},
     "output_type": "display_data"
    },
    {
     "data": {
      "application/vnd.plotly.v1+json": {
       "config": {
        "linkText": "Export to plot.ly",
        "plotlyServerURL": "https://plot.ly",
        "showLink": false
       },
       "data": [
        {
         "type": "scatter",
         "x": [
          0,
          0.1,
          0.2,
          0.3,
          0.4,
          0.5,
          0.6,
          0.7,
          0.8,
          0.9,
          1,
          1.9,
          2,
          2.1,
          2.2,
          2.3,
          2.4,
          2.5,
          2.6,
          2.7,
          2.8,
          2.9
         ],
         "y": [
          0,
          58.44,
          99.51,
          124.17,
          142.39,
          160.51,
          174.12,
          187.25,
          197.61,
          209.01,
          217.68,
          263.93,
          266.44,
          268.53,
          270.7,
          273.34,
          275.78,
          278.09,
          278.04,
          281.18,
          282.6,
          282.35
         ]
        }
       ],
       "layout": {
        "template": {
         "data": {
          "bar": [
           {
            "error_x": {
             "color": "#2a3f5f"
            },
            "error_y": {
             "color": "#2a3f5f"
            },
            "marker": {
             "line": {
              "color": "#E5ECF6",
              "width": 0.5
             },
             "pattern": {
              "fillmode": "overlay",
              "size": 10,
              "solidity": 0.2
             }
            },
            "type": "bar"
           }
          ],
          "barpolar": [
           {
            "marker": {
             "line": {
              "color": "#E5ECF6",
              "width": 0.5
             },
             "pattern": {
              "fillmode": "overlay",
              "size": 10,
              "solidity": 0.2
             }
            },
            "type": "barpolar"
           }
          ],
          "carpet": [
           {
            "aaxis": {
             "endlinecolor": "#2a3f5f",
             "gridcolor": "white",
             "linecolor": "white",
             "minorgridcolor": "white",
             "startlinecolor": "#2a3f5f"
            },
            "baxis": {
             "endlinecolor": "#2a3f5f",
             "gridcolor": "white",
             "linecolor": "white",
             "minorgridcolor": "white",
             "startlinecolor": "#2a3f5f"
            },
            "type": "carpet"
           }
          ],
          "choropleth": [
           {
            "colorbar": {
             "outlinewidth": 0,
             "ticks": ""
            },
            "type": "choropleth"
           }
          ],
          "contour": [
           {
            "colorbar": {
             "outlinewidth": 0,
             "ticks": ""
            },
            "colorscale": [
             [
              0,
              "#0d0887"
             ],
             [
              0.1111111111111111,
              "#46039f"
             ],
             [
              0.2222222222222222,
              "#7201a8"
             ],
             [
              0.3333333333333333,
              "#9c179e"
             ],
             [
              0.4444444444444444,
              "#bd3786"
             ],
             [
              0.5555555555555556,
              "#d8576b"
             ],
             [
              0.6666666666666666,
              "#ed7953"
             ],
             [
              0.7777777777777778,
              "#fb9f3a"
             ],
             [
              0.8888888888888888,
              "#fdca26"
             ],
             [
              1,
              "#f0f921"
             ]
            ],
            "type": "contour"
           }
          ],
          "contourcarpet": [
           {
            "colorbar": {
             "outlinewidth": 0,
             "ticks": ""
            },
            "type": "contourcarpet"
           }
          ],
          "heatmap": [
           {
            "colorbar": {
             "outlinewidth": 0,
             "ticks": ""
            },
            "colorscale": [
             [
              0,
              "#0d0887"
             ],
             [
              0.1111111111111111,
              "#46039f"
             ],
             [
              0.2222222222222222,
              "#7201a8"
             ],
             [
              0.3333333333333333,
              "#9c179e"
             ],
             [
              0.4444444444444444,
              "#bd3786"
             ],
             [
              0.5555555555555556,
              "#d8576b"
             ],
             [
              0.6666666666666666,
              "#ed7953"
             ],
             [
              0.7777777777777778,
              "#fb9f3a"
             ],
             [
              0.8888888888888888,
              "#fdca26"
             ],
             [
              1,
              "#f0f921"
             ]
            ],
            "type": "heatmap"
           }
          ],
          "heatmapgl": [
           {
            "colorbar": {
             "outlinewidth": 0,
             "ticks": ""
            },
            "colorscale": [
             [
              0,
              "#0d0887"
             ],
             [
              0.1111111111111111,
              "#46039f"
             ],
             [
              0.2222222222222222,
              "#7201a8"
             ],
             [
              0.3333333333333333,
              "#9c179e"
             ],
             [
              0.4444444444444444,
              "#bd3786"
             ],
             [
              0.5555555555555556,
              "#d8576b"
             ],
             [
              0.6666666666666666,
              "#ed7953"
             ],
             [
              0.7777777777777778,
              "#fb9f3a"
             ],
             [
              0.8888888888888888,
              "#fdca26"
             ],
             [
              1,
              "#f0f921"
             ]
            ],
            "type": "heatmapgl"
           }
          ],
          "histogram": [
           {
            "marker": {
             "pattern": {
              "fillmode": "overlay",
              "size": 10,
              "solidity": 0.2
             }
            },
            "type": "histogram"
           }
          ],
          "histogram2d": [
           {
            "colorbar": {
             "outlinewidth": 0,
             "ticks": ""
            },
            "colorscale": [
             [
              0,
              "#0d0887"
             ],
             [
              0.1111111111111111,
              "#46039f"
             ],
             [
              0.2222222222222222,
              "#7201a8"
             ],
             [
              0.3333333333333333,
              "#9c179e"
             ],
             [
              0.4444444444444444,
              "#bd3786"
             ],
             [
              0.5555555555555556,
              "#d8576b"
             ],
             [
              0.6666666666666666,
              "#ed7953"
             ],
             [
              0.7777777777777778,
              "#fb9f3a"
             ],
             [
              0.8888888888888888,
              "#fdca26"
             ],
             [
              1,
              "#f0f921"
             ]
            ],
            "type": "histogram2d"
           }
          ],
          "histogram2dcontour": [
           {
            "colorbar": {
             "outlinewidth": 0,
             "ticks": ""
            },
            "colorscale": [
             [
              0,
              "#0d0887"
             ],
             [
              0.1111111111111111,
              "#46039f"
             ],
             [
              0.2222222222222222,
              "#7201a8"
             ],
             [
              0.3333333333333333,
              "#9c179e"
             ],
             [
              0.4444444444444444,
              "#bd3786"
             ],
             [
              0.5555555555555556,
              "#d8576b"
             ],
             [
              0.6666666666666666,
              "#ed7953"
             ],
             [
              0.7777777777777778,
              "#fb9f3a"
             ],
             [
              0.8888888888888888,
              "#fdca26"
             ],
             [
              1,
              "#f0f921"
             ]
            ],
            "type": "histogram2dcontour"
           }
          ],
          "mesh3d": [
           {
            "colorbar": {
             "outlinewidth": 0,
             "ticks": ""
            },
            "type": "mesh3d"
           }
          ],
          "parcoords": [
           {
            "line": {
             "colorbar": {
              "outlinewidth": 0,
              "ticks": ""
             }
            },
            "type": "parcoords"
           }
          ],
          "pie": [
           {
            "automargin": true,
            "type": "pie"
           }
          ],
          "scatter": [
           {
            "fillpattern": {
             "fillmode": "overlay",
             "size": 10,
             "solidity": 0.2
            },
            "type": "scatter"
           }
          ],
          "scatter3d": [
           {
            "line": {
             "colorbar": {
              "outlinewidth": 0,
              "ticks": ""
             }
            },
            "marker": {
             "colorbar": {
              "outlinewidth": 0,
              "ticks": ""
             }
            },
            "type": "scatter3d"
           }
          ],
          "scattercarpet": [
           {
            "marker": {
             "colorbar": {
              "outlinewidth": 0,
              "ticks": ""
             }
            },
            "type": "scattercarpet"
           }
          ],
          "scattergeo": [
           {
            "marker": {
             "colorbar": {
              "outlinewidth": 0,
              "ticks": ""
             }
            },
            "type": "scattergeo"
           }
          ],
          "scattergl": [
           {
            "marker": {
             "colorbar": {
              "outlinewidth": 0,
              "ticks": ""
             }
            },
            "type": "scattergl"
           }
          ],
          "scattermapbox": [
           {
            "marker": {
             "colorbar": {
              "outlinewidth": 0,
              "ticks": ""
             }
            },
            "type": "scattermapbox"
           }
          ],
          "scatterpolar": [
           {
            "marker": {
             "colorbar": {
              "outlinewidth": 0,
              "ticks": ""
             }
            },
            "type": "scatterpolar"
           }
          ],
          "scatterpolargl": [
           {
            "marker": {
             "colorbar": {
              "outlinewidth": 0,
              "ticks": ""
             }
            },
            "type": "scatterpolargl"
           }
          ],
          "scatterternary": [
           {
            "marker": {
             "colorbar": {
              "outlinewidth": 0,
              "ticks": ""
             }
            },
            "type": "scatterternary"
           }
          ],
          "surface": [
           {
            "colorbar": {
             "outlinewidth": 0,
             "ticks": ""
            },
            "colorscale": [
             [
              0,
              "#0d0887"
             ],
             [
              0.1111111111111111,
              "#46039f"
             ],
             [
              0.2222222222222222,
              "#7201a8"
             ],
             [
              0.3333333333333333,
              "#9c179e"
             ],
             [
              0.4444444444444444,
              "#bd3786"
             ],
             [
              0.5555555555555556,
              "#d8576b"
             ],
             [
              0.6666666666666666,
              "#ed7953"
             ],
             [
              0.7777777777777778,
              "#fb9f3a"
             ],
             [
              0.8888888888888888,
              "#fdca26"
             ],
             [
              1,
              "#f0f921"
             ]
            ],
            "type": "surface"
           }
          ],
          "table": [
           {
            "cells": {
             "fill": {
              "color": "#EBF0F8"
             },
             "line": {
              "color": "white"
             }
            },
            "header": {
             "fill": {
              "color": "#C8D4E3"
             },
             "line": {
              "color": "white"
             }
            },
            "type": "table"
           }
          ]
         },
         "layout": {
          "annotationdefaults": {
           "arrowcolor": "#2a3f5f",
           "arrowhead": 0,
           "arrowwidth": 1
          },
          "autotypenumbers": "strict",
          "coloraxis": {
           "colorbar": {
            "outlinewidth": 0,
            "ticks": ""
           }
          },
          "colorscale": {
           "diverging": [
            [
             0,
             "#8e0152"
            ],
            [
             0.1,
             "#c51b7d"
            ],
            [
             0.2,
             "#de77ae"
            ],
            [
             0.3,
             "#f1b6da"
            ],
            [
             0.4,
             "#fde0ef"
            ],
            [
             0.5,
             "#f7f7f7"
            ],
            [
             0.6,
             "#e6f5d0"
            ],
            [
             0.7,
             "#b8e186"
            ],
            [
             0.8,
             "#7fbc41"
            ],
            [
             0.9,
             "#4d9221"
            ],
            [
             1,
             "#276419"
            ]
           ],
           "sequential": [
            [
             0,
             "#0d0887"
            ],
            [
             0.1111111111111111,
             "#46039f"
            ],
            [
             0.2222222222222222,
             "#7201a8"
            ],
            [
             0.3333333333333333,
             "#9c179e"
            ],
            [
             0.4444444444444444,
             "#bd3786"
            ],
            [
             0.5555555555555556,
             "#d8576b"
            ],
            [
             0.6666666666666666,
             "#ed7953"
            ],
            [
             0.7777777777777778,
             "#fb9f3a"
            ],
            [
             0.8888888888888888,
             "#fdca26"
            ],
            [
             1,
             "#f0f921"
            ]
           ],
           "sequentialminus": [
            [
             0,
             "#0d0887"
            ],
            [
             0.1111111111111111,
             "#46039f"
            ],
            [
             0.2222222222222222,
             "#7201a8"
            ],
            [
             0.3333333333333333,
             "#9c179e"
            ],
            [
             0.4444444444444444,
             "#bd3786"
            ],
            [
             0.5555555555555556,
             "#d8576b"
            ],
            [
             0.6666666666666666,
             "#ed7953"
            ],
            [
             0.7777777777777778,
             "#fb9f3a"
            ],
            [
             0.8888888888888888,
             "#fdca26"
            ],
            [
             1,
             "#f0f921"
            ]
           ]
          },
          "colorway": [
           "#636efa",
           "#EF553B",
           "#00cc96",
           "#ab63fa",
           "#FFA15A",
           "#19d3f3",
           "#FF6692",
           "#B6E880",
           "#FF97FF",
           "#FECB52"
          ],
          "font": {
           "color": "#2a3f5f"
          },
          "geo": {
           "bgcolor": "white",
           "lakecolor": "white",
           "landcolor": "#E5ECF6",
           "showlakes": true,
           "showland": true,
           "subunitcolor": "white"
          },
          "hoverlabel": {
           "align": "left"
          },
          "hovermode": "closest",
          "mapbox": {
           "style": "light"
          },
          "paper_bgcolor": "white",
          "plot_bgcolor": "#E5ECF6",
          "polar": {
           "angularaxis": {
            "gridcolor": "white",
            "linecolor": "white",
            "ticks": ""
           },
           "bgcolor": "#E5ECF6",
           "radialaxis": {
            "gridcolor": "white",
            "linecolor": "white",
            "ticks": ""
           }
          },
          "scene": {
           "xaxis": {
            "backgroundcolor": "#E5ECF6",
            "gridcolor": "white",
            "gridwidth": 2,
            "linecolor": "white",
            "showbackground": true,
            "ticks": "",
            "zerolinecolor": "white"
           },
           "yaxis": {
            "backgroundcolor": "#E5ECF6",
            "gridcolor": "white",
            "gridwidth": 2,
            "linecolor": "white",
            "showbackground": true,
            "ticks": "",
            "zerolinecolor": "white"
           },
           "zaxis": {
            "backgroundcolor": "#E5ECF6",
            "gridcolor": "white",
            "gridwidth": 2,
            "linecolor": "white",
            "showbackground": true,
            "ticks": "",
            "zerolinecolor": "white"
           }
          },
          "shapedefaults": {
           "line": {
            "color": "#2a3f5f"
           }
          },
          "ternary": {
           "aaxis": {
            "gridcolor": "white",
            "linecolor": "white",
            "ticks": ""
           },
           "baxis": {
            "gridcolor": "white",
            "linecolor": "white",
            "ticks": ""
           },
           "bgcolor": "#E5ECF6",
           "caxis": {
            "gridcolor": "white",
            "linecolor": "white",
            "ticks": ""
           }
          },
          "title": {
           "x": 0.05
          },
          "xaxis": {
           "automargin": true,
           "gridcolor": "white",
           "linecolor": "white",
           "ticks": "",
           "title": {
            "standoff": 15
           },
           "zerolinecolor": "white",
           "zerolinewidth": 2
          },
          "yaxis": {
           "automargin": true,
           "gridcolor": "white",
           "linecolor": "white",
           "ticks": "",
           "title": {
            "standoff": 15
           },
           "zerolinecolor": "white",
           "zerolinewidth": 2
          }
         }
        },
        "title": {
         "text": "Heating process"
        },
        "xaxis": {
         "title": {
          "text": "Heating Step (ps)"
         }
        },
        "yaxis": {
         "title": {
          "text": "Temperature (K)"
         }
        }
       }
      },
      "text/html": [
       "<div>                            <div id=\"91898faf-072f-462e-bbf3-1aa93f69e824\" class=\"plotly-graph-div\" style=\"height:525px; width:100%;\"></div>            <script type=\"text/javascript\">                require([\"plotly\"], function(Plotly) {                    window.PLOTLYENV=window.PLOTLYENV || {};                                    if (document.getElementById(\"91898faf-072f-462e-bbf3-1aa93f69e824\")) {                    Plotly.newPlot(                        \"91898faf-072f-462e-bbf3-1aa93f69e824\",                        [{\"x\":[0.0,0.1,0.2,0.3,0.4,0.5,0.6,0.7,0.8,0.9,1.0,1.9,2.0,2.1,2.2,2.3,2.4,2.5,2.6,2.7,2.8,2.9],\"y\":[0.0,58.44,99.51,124.17,142.39,160.51,174.12,187.25,197.61,209.01,217.68,263.93,266.44,268.53,270.7,273.34,275.78,278.09,278.04,281.18,282.6,282.35],\"type\":\"scatter\"}],                        {\"template\":{\"data\":{\"barpolar\":[{\"marker\":{\"line\":{\"color\":\"#E5ECF6\",\"width\":0.5},\"pattern\":{\"fillmode\":\"overlay\",\"size\":10,\"solidity\":0.2}},\"type\":\"barpolar\"}],\"bar\":[{\"error_x\":{\"color\":\"#2a3f5f\"},\"error_y\":{\"color\":\"#2a3f5f\"},\"marker\":{\"line\":{\"color\":\"#E5ECF6\",\"width\":0.5},\"pattern\":{\"fillmode\":\"overlay\",\"size\":10,\"solidity\":0.2}},\"type\":\"bar\"}],\"carpet\":[{\"aaxis\":{\"endlinecolor\":\"#2a3f5f\",\"gridcolor\":\"white\",\"linecolor\":\"white\",\"minorgridcolor\":\"white\",\"startlinecolor\":\"#2a3f5f\"},\"baxis\":{\"endlinecolor\":\"#2a3f5f\",\"gridcolor\":\"white\",\"linecolor\":\"white\",\"minorgridcolor\":\"white\",\"startlinecolor\":\"#2a3f5f\"},\"type\":\"carpet\"}],\"choropleth\":[{\"colorbar\":{\"outlinewidth\":0,\"ticks\":\"\"},\"type\":\"choropleth\"}],\"contourcarpet\":[{\"colorbar\":{\"outlinewidth\":0,\"ticks\":\"\"},\"type\":\"contourcarpet\"}],\"contour\":[{\"colorbar\":{\"outlinewidth\":0,\"ticks\":\"\"},\"colorscale\":[[0.0,\"#0d0887\"],[0.1111111111111111,\"#46039f\"],[0.2222222222222222,\"#7201a8\"],[0.3333333333333333,\"#9c179e\"],[0.4444444444444444,\"#bd3786\"],[0.5555555555555556,\"#d8576b\"],[0.6666666666666666,\"#ed7953\"],[0.7777777777777778,\"#fb9f3a\"],[0.8888888888888888,\"#fdca26\"],[1.0,\"#f0f921\"]],\"type\":\"contour\"}],\"heatmapgl\":[{\"colorbar\":{\"outlinewidth\":0,\"ticks\":\"\"},\"colorscale\":[[0.0,\"#0d0887\"],[0.1111111111111111,\"#46039f\"],[0.2222222222222222,\"#7201a8\"],[0.3333333333333333,\"#9c179e\"],[0.4444444444444444,\"#bd3786\"],[0.5555555555555556,\"#d8576b\"],[0.6666666666666666,\"#ed7953\"],[0.7777777777777778,\"#fb9f3a\"],[0.8888888888888888,\"#fdca26\"],[1.0,\"#f0f921\"]],\"type\":\"heatmapgl\"}],\"heatmap\":[{\"colorbar\":{\"outlinewidth\":0,\"ticks\":\"\"},\"colorscale\":[[0.0,\"#0d0887\"],[0.1111111111111111,\"#46039f\"],[0.2222222222222222,\"#7201a8\"],[0.3333333333333333,\"#9c179e\"],[0.4444444444444444,\"#bd3786\"],[0.5555555555555556,\"#d8576b\"],[0.6666666666666666,\"#ed7953\"],[0.7777777777777778,\"#fb9f3a\"],[0.8888888888888888,\"#fdca26\"],[1.0,\"#f0f921\"]],\"type\":\"heatmap\"}],\"histogram2dcontour\":[{\"colorbar\":{\"outlinewidth\":0,\"ticks\":\"\"},\"colorscale\":[[0.0,\"#0d0887\"],[0.1111111111111111,\"#46039f\"],[0.2222222222222222,\"#7201a8\"],[0.3333333333333333,\"#9c179e\"],[0.4444444444444444,\"#bd3786\"],[0.5555555555555556,\"#d8576b\"],[0.6666666666666666,\"#ed7953\"],[0.7777777777777778,\"#fb9f3a\"],[0.8888888888888888,\"#fdca26\"],[1.0,\"#f0f921\"]],\"type\":\"histogram2dcontour\"}],\"histogram2d\":[{\"colorbar\":{\"outlinewidth\":0,\"ticks\":\"\"},\"colorscale\":[[0.0,\"#0d0887\"],[0.1111111111111111,\"#46039f\"],[0.2222222222222222,\"#7201a8\"],[0.3333333333333333,\"#9c179e\"],[0.4444444444444444,\"#bd3786\"],[0.5555555555555556,\"#d8576b\"],[0.6666666666666666,\"#ed7953\"],[0.7777777777777778,\"#fb9f3a\"],[0.8888888888888888,\"#fdca26\"],[1.0,\"#f0f921\"]],\"type\":\"histogram2d\"}],\"histogram\":[{\"marker\":{\"pattern\":{\"fillmode\":\"overlay\",\"size\":10,\"solidity\":0.2}},\"type\":\"histogram\"}],\"mesh3d\":[{\"colorbar\":{\"outlinewidth\":0,\"ticks\":\"\"},\"type\":\"mesh3d\"}],\"parcoords\":[{\"line\":{\"colorbar\":{\"outlinewidth\":0,\"ticks\":\"\"}},\"type\":\"parcoords\"}],\"pie\":[{\"automargin\":true,\"type\":\"pie\"}],\"scatter3d\":[{\"line\":{\"colorbar\":{\"outlinewidth\":0,\"ticks\":\"\"}},\"marker\":{\"colorbar\":{\"outlinewidth\":0,\"ticks\":\"\"}},\"type\":\"scatter3d\"}],\"scattercarpet\":[{\"marker\":{\"colorbar\":{\"outlinewidth\":0,\"ticks\":\"\"}},\"type\":\"scattercarpet\"}],\"scattergeo\":[{\"marker\":{\"colorbar\":{\"outlinewidth\":0,\"ticks\":\"\"}},\"type\":\"scattergeo\"}],\"scattergl\":[{\"marker\":{\"colorbar\":{\"outlinewidth\":0,\"ticks\":\"\"}},\"type\":\"scattergl\"}],\"scattermapbox\":[{\"marker\":{\"colorbar\":{\"outlinewidth\":0,\"ticks\":\"\"}},\"type\":\"scattermapbox\"}],\"scatterpolargl\":[{\"marker\":{\"colorbar\":{\"outlinewidth\":0,\"ticks\":\"\"}},\"type\":\"scatterpolargl\"}],\"scatterpolar\":[{\"marker\":{\"colorbar\":{\"outlinewidth\":0,\"ticks\":\"\"}},\"type\":\"scatterpolar\"}],\"scatter\":[{\"fillpattern\":{\"fillmode\":\"overlay\",\"size\":10,\"solidity\":0.2},\"type\":\"scatter\"}],\"scatterternary\":[{\"marker\":{\"colorbar\":{\"outlinewidth\":0,\"ticks\":\"\"}},\"type\":\"scatterternary\"}],\"surface\":[{\"colorbar\":{\"outlinewidth\":0,\"ticks\":\"\"},\"colorscale\":[[0.0,\"#0d0887\"],[0.1111111111111111,\"#46039f\"],[0.2222222222222222,\"#7201a8\"],[0.3333333333333333,\"#9c179e\"],[0.4444444444444444,\"#bd3786\"],[0.5555555555555556,\"#d8576b\"],[0.6666666666666666,\"#ed7953\"],[0.7777777777777778,\"#fb9f3a\"],[0.8888888888888888,\"#fdca26\"],[1.0,\"#f0f921\"]],\"type\":\"surface\"}],\"table\":[{\"cells\":{\"fill\":{\"color\":\"#EBF0F8\"},\"line\":{\"color\":\"white\"}},\"header\":{\"fill\":{\"color\":\"#C8D4E3\"},\"line\":{\"color\":\"white\"}},\"type\":\"table\"}]},\"layout\":{\"annotationdefaults\":{\"arrowcolor\":\"#2a3f5f\",\"arrowhead\":0,\"arrowwidth\":1},\"autotypenumbers\":\"strict\",\"coloraxis\":{\"colorbar\":{\"outlinewidth\":0,\"ticks\":\"\"}},\"colorscale\":{\"diverging\":[[0,\"#8e0152\"],[0.1,\"#c51b7d\"],[0.2,\"#de77ae\"],[0.3,\"#f1b6da\"],[0.4,\"#fde0ef\"],[0.5,\"#f7f7f7\"],[0.6,\"#e6f5d0\"],[0.7,\"#b8e186\"],[0.8,\"#7fbc41\"],[0.9,\"#4d9221\"],[1,\"#276419\"]],\"sequential\":[[0.0,\"#0d0887\"],[0.1111111111111111,\"#46039f\"],[0.2222222222222222,\"#7201a8\"],[0.3333333333333333,\"#9c179e\"],[0.4444444444444444,\"#bd3786\"],[0.5555555555555556,\"#d8576b\"],[0.6666666666666666,\"#ed7953\"],[0.7777777777777778,\"#fb9f3a\"],[0.8888888888888888,\"#fdca26\"],[1.0,\"#f0f921\"]],\"sequentialminus\":[[0.0,\"#0d0887\"],[0.1111111111111111,\"#46039f\"],[0.2222222222222222,\"#7201a8\"],[0.3333333333333333,\"#9c179e\"],[0.4444444444444444,\"#bd3786\"],[0.5555555555555556,\"#d8576b\"],[0.6666666666666666,\"#ed7953\"],[0.7777777777777778,\"#fb9f3a\"],[0.8888888888888888,\"#fdca26\"],[1.0,\"#f0f921\"]]},\"colorway\":[\"#636efa\",\"#EF553B\",\"#00cc96\",\"#ab63fa\",\"#FFA15A\",\"#19d3f3\",\"#FF6692\",\"#B6E880\",\"#FF97FF\",\"#FECB52\"],\"font\":{\"color\":\"#2a3f5f\"},\"geo\":{\"bgcolor\":\"white\",\"lakecolor\":\"white\",\"landcolor\":\"#E5ECF6\",\"showlakes\":true,\"showland\":true,\"subunitcolor\":\"white\"},\"hoverlabel\":{\"align\":\"left\"},\"hovermode\":\"closest\",\"mapbox\":{\"style\":\"light\"},\"paper_bgcolor\":\"white\",\"plot_bgcolor\":\"#E5ECF6\",\"polar\":{\"angularaxis\":{\"gridcolor\":\"white\",\"linecolor\":\"white\",\"ticks\":\"\"},\"bgcolor\":\"#E5ECF6\",\"radialaxis\":{\"gridcolor\":\"white\",\"linecolor\":\"white\",\"ticks\":\"\"}},\"scene\":{\"xaxis\":{\"backgroundcolor\":\"#E5ECF6\",\"gridcolor\":\"white\",\"gridwidth\":2,\"linecolor\":\"white\",\"showbackground\":true,\"ticks\":\"\",\"zerolinecolor\":\"white\"},\"yaxis\":{\"backgroundcolor\":\"#E5ECF6\",\"gridcolor\":\"white\",\"gridwidth\":2,\"linecolor\":\"white\",\"showbackground\":true,\"ticks\":\"\",\"zerolinecolor\":\"white\"},\"zaxis\":{\"backgroundcolor\":\"#E5ECF6\",\"gridcolor\":\"white\",\"gridwidth\":2,\"linecolor\":\"white\",\"showbackground\":true,\"ticks\":\"\",\"zerolinecolor\":\"white\"}},\"shapedefaults\":{\"line\":{\"color\":\"#2a3f5f\"}},\"ternary\":{\"aaxis\":{\"gridcolor\":\"white\",\"linecolor\":\"white\",\"ticks\":\"\"},\"baxis\":{\"gridcolor\":\"white\",\"linecolor\":\"white\",\"ticks\":\"\"},\"bgcolor\":\"#E5ECF6\",\"caxis\":{\"gridcolor\":\"white\",\"linecolor\":\"white\",\"ticks\":\"\"}},\"title\":{\"x\":0.05},\"xaxis\":{\"automargin\":true,\"gridcolor\":\"white\",\"linecolor\":\"white\",\"ticks\":\"\",\"title\":{\"standoff\":15},\"zerolinecolor\":\"white\",\"zerolinewidth\":2},\"yaxis\":{\"automargin\":true,\"gridcolor\":\"white\",\"linecolor\":\"white\",\"ticks\":\"\",\"title\":{\"standoff\":15},\"zerolinecolor\":\"white\",\"zerolinewidth\":2}}},\"title\":{\"text\":\"Heating process\"},\"xaxis\":{\"title\":{\"text\":\"Heating Step (ps)\"}},\"yaxis\":{\"title\":{\"text\":\"Temperature (K)\"}}},                        {\"responsive\": true}                    ).then(function(){\n",
       "                            \n",
       "var gd = document.getElementById('91898faf-072f-462e-bbf3-1aa93f69e824');\n",
       "var x = new MutationObserver(function (mutations, observer) {{\n",
       "        var display = window.getComputedStyle(gd).display;\n",
       "        if (!display || display === 'none') {{\n",
       "            console.log([gd, 'removed!']);\n",
       "            Plotly.purge(gd);\n",
       "            observer.disconnect();\n",
       "        }}\n",
       "}});\n",
       "\n",
       "// Listen for the removal of the full notebook cells\n",
       "var notebookContainer = gd.closest('#notebook-container');\n",
       "if (notebookContainer) {{\n",
       "    x.observe(notebookContainer, {childList: true});\n",
       "}}\n",
       "\n",
       "// Listen for the clearing of the current output cell\n",
       "var outputEl = gd.closest('.output');\n",
       "if (outputEl) {{\n",
       "    x.observe(outputEl, {childList: true});\n",
       "}}\n",
       "\n",
       "                        })                };                });            </script>        </div>"
      ]
     },
     "metadata": {},
     "output_type": "display_data"
    }
   ],
   "source": [
    "output_dat_heat_path = 'sander.md.temp.dat'\n",
    "\n",
    "with open(f\"output/{output_dat_heat_path}\",'r') as energy_file:\n",
    "    x,y = map(\n",
    "        list,\n",
    "        zip(*[\n",
    "            (float(line.split()[0]),float(line.split()[1]))\n",
    "            for line in energy_file \n",
    "            if not line.startswith((\"#\",\"@\")) \n",
    "            if float(line.split()[1]) < 1000 \n",
    "        ])\n",
    "    )\n",
    "\n",
    "plotly.offline.init_notebook_mode(connected=True)\n",
    "\n",
    "fig = {\n",
    "    \"data\": [go.Scatter(x=x, y=y)],\n",
    "    \"layout\": go.Layout(title=\"Heating process\",\n",
    "                        xaxis=dict(title = \"Heating Step (ps)\"),\n",
    "                        yaxis=dict(title = \"Temperature (K)\")\n",
    "                       )\n",
    "}\n",
    "\n",
    "plotly.offline.iplot(fig)"
   ]
  },
  {
   "cell_type": "markdown",
   "id": "c23cc97a",
   "metadata": {},
   "source": [
    "# Equilibrate Temp"
   ]
  },
  {
   "cell_type": "code",
   "execution_count": 6,
   "id": "17a462f3",
   "metadata": {},
   "outputs": [
    {
     "name": "stdout",
     "output_type": "stream",
     "text": [
      "2022-07-08 12:11:00,261 [MainThread  ] [INFO ]  Creating b991f5a0-f11e-4aca-a902-96aed3110716 temporary folder\n",
      "2022-07-08 12:11:00,265 [MainThread  ] [INFO ]  Creating command line with instructions and required arguments\n",
      "2022-07-08 12:11:49,097 [MainThread  ] [INFO ]  sander -O -i b991f5a0-f11e-4aca-a902-96aed3110716/sander.mdin -p input/structure.ions.parmtop -c output/sander.heat.rst -r output/sander.nvt.rst -o output/sander.nvt.log -x output/sander.nvt.netcdf -ref output/sander.heat.rst\n",
      "\n",
      "2022-07-08 12:11:49,099 [MainThread  ] [INFO ]  Exit code 0\n",
      "\n",
      "2022-07-08 12:11:49,102 [MainThread  ] [INFO ]  Removed: mdinfo, b991f5a0-f11e-4aca-a902-96aed3110716\n"
     ]
    },
    {
     "data": {
      "text/plain": [
       "0"
      ]
     },
     "execution_count": 6,
     "metadata": {},
     "output_type": "execute_result"
    }
   ],
   "source": [
    "from biobb_amber.sander.sander_mdrun import sander_mdrun\n",
    "\n",
    "prop = {\n",
    "    \"simulation_type\" : 'nvt',\n",
    "    \"mdin\" : { \n",
    "        'nstlim' : 100, # Reducing the number of steps for the sake of time (0.2ps)\n",
    "        'ntr' : 1,     # Overwritting restrain parameter\n",
    "        'restraintmask' : '\\\"!:WAT,Cl-,Na+ & !@H=\\\"',      # Restraining solute heavy atoms\n",
    "        'restraint_wt' : 5.0                              # With a force constant of 5 Kcal/mol*A2\n",
    "    }\n",
    "}\n",
    "\n",
    "sander_mdrun(input_top_path=\"input/structure.ions.parmtop\",\n",
    "            input_crd_path=\"output/sander.heat.rst\",\n",
    "            input_ref_path=\"output/sander.heat.rst\",\n",
    "            output_traj_path=\"output/sander.nvt.netcdf\",\n",
    "            output_rst_path=\"output/sander.nvt.rst\",\n",
    "            output_log_path=\"output/sander.nvt.log\",\n",
    "            properties=prop)"
   ]
  },
  {
   "cell_type": "code",
   "execution_count": 7,
   "id": "4da13217",
   "metadata": {},
   "outputs": [
    {
     "name": "stdout",
     "output_type": "stream",
     "text": [
      "2022-07-08 12:24:04,088 [MainThread  ] [INFO ]  Creating command line with instructions and required arguments\n",
      "2022-07-08 12:24:04,275 [MainThread  ] [INFO ]  process_mdout.perl  output/sander.nvt.log\n",
      "\n",
      "2022-07-08 12:24:04,278 [MainThread  ] [INFO ]  Exit code 0\n",
      "\n",
      "2022-07-08 12:24:04,279 [MainThread  ] [INFO ]  Processing sander output file (output/sander.nvt.log)...\n",
      "Starting output...\n",
      "Outputing summary.TEMP\n",
      "Outputing summary_avg.TEMP\n",
      "Outputing summary_rms.TEMP\n",
      "Outputing summary.TSOLUTE\n",
      "Outputing summary_avg.TSOLUTE\n",
      "Outputing summary_rms.TSOLUTE\n",
      "Outputing summary.TSOLVENT\n",
      "Outputing summary_avg.TSOLVENT\n",
      "Outputing summary_rms.TSOLVENT\n",
      "Outputing summary.PRES\n",
      "Outputing summary_avg.PRES\n",
      "Outputing summary_rms.PRES\n",
      "Outputing summary.EKCMT\n",
      "Outputing summary_avg.EKCMT\n",
      "Outputing summary_rms.EKCMT\n",
      "Outputing summary.ETOT\n",
      "Outputing summary_avg.ETOT\n",
      "Outputing summary_rms.ETOT\n",
      "Outputing summary.EKTOT\n",
      "Outputing summary_avg.EKTOT\n",
      "Outputing summary_rms.EKTOT\n",
      "Outputing summary.EPTOT\n",
      "Outputing summary_avg.EPTOT\n",
      "Outputing summary_rms.EPTOT\n",
      "Outputing summary.DENSITY\n",
      "Outputing summary_avg.DENSITY\n",
      "Outputing summary_rms.DENSITY\n",
      "Outputing summary.VOLUME\n",
      "Outputing summary_avg.VOLUME\n",
      "Outputing summary_rms.VOLUME\n",
      "Outputing summary.ESCF\n",
      "Outputing summary_avg.ESCF\n",
      "Outputing summary_rms.ESCF\n",
      "\n",
      "2022-07-08 12:24:04,291 [MainThread  ] [INFO ]  Removed: [PosixPath('summary.PRES'), PosixPath('summary.DENSITY'), PosixPath('summary.EKTOT'), PosixPath('summary_rms.TSOLVENT'), PosixPath('summary_avg.ETOT'), PosixPath('summary.EKCMT'), PosixPath('summary.ETOT'), PosixPath('summary_rms.ESCF'), PosixPath('summary_avg.TSOLUTE'), PosixPath('summary_rms.VOLUME'), PosixPath('summary_avg.PRES'), PosixPath('summary_rms.EPTOT'), PosixPath('summary_rms.TEMP'), PosixPath('summary.TSOLVENT'), PosixPath('summary_avg.EKTOT'), PosixPath('summary_rms.DENSITY'), PosixPath('summary_avg.EKCMT'), PosixPath('summary_avg.EPTOT'), PosixPath('summary.TEMP'), PosixPath('summary_avg.DENSITY'), PosixPath('summary.VOLUME'), PosixPath('summary_avg.TEMP'), PosixPath('summary.TSOLUTE'), PosixPath('summary_rms.EKCMT'), PosixPath('summary_rms.PRES'), PosixPath('summary_avg.ESCF'), PosixPath('summary_rms.TSOLUTE'), PosixPath('summary_rms.EKTOT'), PosixPath('summary.EPTOT'), PosixPath('summary_avg.VOLUME'), PosixPath('summary.ESCF'), PosixPath('summary_rms.ETOT'), PosixPath('summary_avg.TSOLVENT')]\n"
     ]
    },
    {
     "data": {
      "text/plain": [
       "0"
      ]
     },
     "execution_count": 7,
     "metadata": {},
     "output_type": "execute_result"
    }
   ],
   "source": [
    "from biobb_amber.process.process_mdout import process_mdout\n",
    "\n",
    "prop = {\n",
    "    \"terms\" : ['TEMP']\n",
    "}\n",
    "\n",
    "process_mdout(input_log_path=\"output/sander.nvt.log\",\n",
    "            output_dat_path=\"output/sander.nvt.temp.dat\",\n",
    "            properties=prop)"
   ]
  },
  {
   "cell_type": "code",
   "execution_count": 8,
   "id": "283c758c",
   "metadata": {},
   "outputs": [
    {
     "data": {
      "text/html": [
       "        <script type=\"text/javascript\">\n",
       "        window.PlotlyConfig = {MathJaxConfig: 'local'};\n",
       "        if (window.MathJax && window.MathJax.Hub && window.MathJax.Hub.Config) {window.MathJax.Hub.Config({SVG: {font: \"STIX-Web\"}});}\n",
       "        if (typeof require !== 'undefined') {\n",
       "        require.undef(\"plotly\");\n",
       "        requirejs.config({\n",
       "            paths: {\n",
       "                'plotly': ['https://cdn.plot.ly/plotly-2.12.1.min']\n",
       "            }\n",
       "        });\n",
       "        require(['plotly'], function(Plotly) {\n",
       "            window._Plotly = Plotly;\n",
       "        });\n",
       "        }\n",
       "        </script>\n",
       "        "
      ]
     },
     "metadata": {},
     "output_type": "display_data"
    },
    {
     "data": {
      "application/vnd.plotly.v1+json": {
       "config": {
        "linkText": "Export to plot.ly",
        "plotlyServerURL": "https://plot.ly",
        "showLink": false
       },
       "data": [
        {
         "type": "scatter",
         "x": [
          5.1,
          5.2
         ],
         "y": [
          292.14,
          293.96
         ]
        }
       ],
       "layout": {
        "template": {
         "data": {
          "bar": [
           {
            "error_x": {
             "color": "#2a3f5f"
            },
            "error_y": {
             "color": "#2a3f5f"
            },
            "marker": {
             "line": {
              "color": "#E5ECF6",
              "width": 0.5
             },
             "pattern": {
              "fillmode": "overlay",
              "size": 10,
              "solidity": 0.2
             }
            },
            "type": "bar"
           }
          ],
          "barpolar": [
           {
            "marker": {
             "line": {
              "color": "#E5ECF6",
              "width": 0.5
             },
             "pattern": {
              "fillmode": "overlay",
              "size": 10,
              "solidity": 0.2
             }
            },
            "type": "barpolar"
           }
          ],
          "carpet": [
           {
            "aaxis": {
             "endlinecolor": "#2a3f5f",
             "gridcolor": "white",
             "linecolor": "white",
             "minorgridcolor": "white",
             "startlinecolor": "#2a3f5f"
            },
            "baxis": {
             "endlinecolor": "#2a3f5f",
             "gridcolor": "white",
             "linecolor": "white",
             "minorgridcolor": "white",
             "startlinecolor": "#2a3f5f"
            },
            "type": "carpet"
           }
          ],
          "choropleth": [
           {
            "colorbar": {
             "outlinewidth": 0,
             "ticks": ""
            },
            "type": "choropleth"
           }
          ],
          "contour": [
           {
            "colorbar": {
             "outlinewidth": 0,
             "ticks": ""
            },
            "colorscale": [
             [
              0,
              "#0d0887"
             ],
             [
              0.1111111111111111,
              "#46039f"
             ],
             [
              0.2222222222222222,
              "#7201a8"
             ],
             [
              0.3333333333333333,
              "#9c179e"
             ],
             [
              0.4444444444444444,
              "#bd3786"
             ],
             [
              0.5555555555555556,
              "#d8576b"
             ],
             [
              0.6666666666666666,
              "#ed7953"
             ],
             [
              0.7777777777777778,
              "#fb9f3a"
             ],
             [
              0.8888888888888888,
              "#fdca26"
             ],
             [
              1,
              "#f0f921"
             ]
            ],
            "type": "contour"
           }
          ],
          "contourcarpet": [
           {
            "colorbar": {
             "outlinewidth": 0,
             "ticks": ""
            },
            "type": "contourcarpet"
           }
          ],
          "heatmap": [
           {
            "colorbar": {
             "outlinewidth": 0,
             "ticks": ""
            },
            "colorscale": [
             [
              0,
              "#0d0887"
             ],
             [
              0.1111111111111111,
              "#46039f"
             ],
             [
              0.2222222222222222,
              "#7201a8"
             ],
             [
              0.3333333333333333,
              "#9c179e"
             ],
             [
              0.4444444444444444,
              "#bd3786"
             ],
             [
              0.5555555555555556,
              "#d8576b"
             ],
             [
              0.6666666666666666,
              "#ed7953"
             ],
             [
              0.7777777777777778,
              "#fb9f3a"
             ],
             [
              0.8888888888888888,
              "#fdca26"
             ],
             [
              1,
              "#f0f921"
             ]
            ],
            "type": "heatmap"
           }
          ],
          "heatmapgl": [
           {
            "colorbar": {
             "outlinewidth": 0,
             "ticks": ""
            },
            "colorscale": [
             [
              0,
              "#0d0887"
             ],
             [
              0.1111111111111111,
              "#46039f"
             ],
             [
              0.2222222222222222,
              "#7201a8"
             ],
             [
              0.3333333333333333,
              "#9c179e"
             ],
             [
              0.4444444444444444,
              "#bd3786"
             ],
             [
              0.5555555555555556,
              "#d8576b"
             ],
             [
              0.6666666666666666,
              "#ed7953"
             ],
             [
              0.7777777777777778,
              "#fb9f3a"
             ],
             [
              0.8888888888888888,
              "#fdca26"
             ],
             [
              1,
              "#f0f921"
             ]
            ],
            "type": "heatmapgl"
           }
          ],
          "histogram": [
           {
            "marker": {
             "pattern": {
              "fillmode": "overlay",
              "size": 10,
              "solidity": 0.2
             }
            },
            "type": "histogram"
           }
          ],
          "histogram2d": [
           {
            "colorbar": {
             "outlinewidth": 0,
             "ticks": ""
            },
            "colorscale": [
             [
              0,
              "#0d0887"
             ],
             [
              0.1111111111111111,
              "#46039f"
             ],
             [
              0.2222222222222222,
              "#7201a8"
             ],
             [
              0.3333333333333333,
              "#9c179e"
             ],
             [
              0.4444444444444444,
              "#bd3786"
             ],
             [
              0.5555555555555556,
              "#d8576b"
             ],
             [
              0.6666666666666666,
              "#ed7953"
             ],
             [
              0.7777777777777778,
              "#fb9f3a"
             ],
             [
              0.8888888888888888,
              "#fdca26"
             ],
             [
              1,
              "#f0f921"
             ]
            ],
            "type": "histogram2d"
           }
          ],
          "histogram2dcontour": [
           {
            "colorbar": {
             "outlinewidth": 0,
             "ticks": ""
            },
            "colorscale": [
             [
              0,
              "#0d0887"
             ],
             [
              0.1111111111111111,
              "#46039f"
             ],
             [
              0.2222222222222222,
              "#7201a8"
             ],
             [
              0.3333333333333333,
              "#9c179e"
             ],
             [
              0.4444444444444444,
              "#bd3786"
             ],
             [
              0.5555555555555556,
              "#d8576b"
             ],
             [
              0.6666666666666666,
              "#ed7953"
             ],
             [
              0.7777777777777778,
              "#fb9f3a"
             ],
             [
              0.8888888888888888,
              "#fdca26"
             ],
             [
              1,
              "#f0f921"
             ]
            ],
            "type": "histogram2dcontour"
           }
          ],
          "mesh3d": [
           {
            "colorbar": {
             "outlinewidth": 0,
             "ticks": ""
            },
            "type": "mesh3d"
           }
          ],
          "parcoords": [
           {
            "line": {
             "colorbar": {
              "outlinewidth": 0,
              "ticks": ""
             }
            },
            "type": "parcoords"
           }
          ],
          "pie": [
           {
            "automargin": true,
            "type": "pie"
           }
          ],
          "scatter": [
           {
            "fillpattern": {
             "fillmode": "overlay",
             "size": 10,
             "solidity": 0.2
            },
            "type": "scatter"
           }
          ],
          "scatter3d": [
           {
            "line": {
             "colorbar": {
              "outlinewidth": 0,
              "ticks": ""
             }
            },
            "marker": {
             "colorbar": {
              "outlinewidth": 0,
              "ticks": ""
             }
            },
            "type": "scatter3d"
           }
          ],
          "scattercarpet": [
           {
            "marker": {
             "colorbar": {
              "outlinewidth": 0,
              "ticks": ""
             }
            },
            "type": "scattercarpet"
           }
          ],
          "scattergeo": [
           {
            "marker": {
             "colorbar": {
              "outlinewidth": 0,
              "ticks": ""
             }
            },
            "type": "scattergeo"
           }
          ],
          "scattergl": [
           {
            "marker": {
             "colorbar": {
              "outlinewidth": 0,
              "ticks": ""
             }
            },
            "type": "scattergl"
           }
          ],
          "scattermapbox": [
           {
            "marker": {
             "colorbar": {
              "outlinewidth": 0,
              "ticks": ""
             }
            },
            "type": "scattermapbox"
           }
          ],
          "scatterpolar": [
           {
            "marker": {
             "colorbar": {
              "outlinewidth": 0,
              "ticks": ""
             }
            },
            "type": "scatterpolar"
           }
          ],
          "scatterpolargl": [
           {
            "marker": {
             "colorbar": {
              "outlinewidth": 0,
              "ticks": ""
             }
            },
            "type": "scatterpolargl"
           }
          ],
          "scatterternary": [
           {
            "marker": {
             "colorbar": {
              "outlinewidth": 0,
              "ticks": ""
             }
            },
            "type": "scatterternary"
           }
          ],
          "surface": [
           {
            "colorbar": {
             "outlinewidth": 0,
             "ticks": ""
            },
            "colorscale": [
             [
              0,
              "#0d0887"
             ],
             [
              0.1111111111111111,
              "#46039f"
             ],
             [
              0.2222222222222222,
              "#7201a8"
             ],
             [
              0.3333333333333333,
              "#9c179e"
             ],
             [
              0.4444444444444444,
              "#bd3786"
             ],
             [
              0.5555555555555556,
              "#d8576b"
             ],
             [
              0.6666666666666666,
              "#ed7953"
             ],
             [
              0.7777777777777778,
              "#fb9f3a"
             ],
             [
              0.8888888888888888,
              "#fdca26"
             ],
             [
              1,
              "#f0f921"
             ]
            ],
            "type": "surface"
           }
          ],
          "table": [
           {
            "cells": {
             "fill": {
              "color": "#EBF0F8"
             },
             "line": {
              "color": "white"
             }
            },
            "header": {
             "fill": {
              "color": "#C8D4E3"
             },
             "line": {
              "color": "white"
             }
            },
            "type": "table"
           }
          ]
         },
         "layout": {
          "annotationdefaults": {
           "arrowcolor": "#2a3f5f",
           "arrowhead": 0,
           "arrowwidth": 1
          },
          "autotypenumbers": "strict",
          "coloraxis": {
           "colorbar": {
            "outlinewidth": 0,
            "ticks": ""
           }
          },
          "colorscale": {
           "diverging": [
            [
             0,
             "#8e0152"
            ],
            [
             0.1,
             "#c51b7d"
            ],
            [
             0.2,
             "#de77ae"
            ],
            [
             0.3,
             "#f1b6da"
            ],
            [
             0.4,
             "#fde0ef"
            ],
            [
             0.5,
             "#f7f7f7"
            ],
            [
             0.6,
             "#e6f5d0"
            ],
            [
             0.7,
             "#b8e186"
            ],
            [
             0.8,
             "#7fbc41"
            ],
            [
             0.9,
             "#4d9221"
            ],
            [
             1,
             "#276419"
            ]
           ],
           "sequential": [
            [
             0,
             "#0d0887"
            ],
            [
             0.1111111111111111,
             "#46039f"
            ],
            [
             0.2222222222222222,
             "#7201a8"
            ],
            [
             0.3333333333333333,
             "#9c179e"
            ],
            [
             0.4444444444444444,
             "#bd3786"
            ],
            [
             0.5555555555555556,
             "#d8576b"
            ],
            [
             0.6666666666666666,
             "#ed7953"
            ],
            [
             0.7777777777777778,
             "#fb9f3a"
            ],
            [
             0.8888888888888888,
             "#fdca26"
            ],
            [
             1,
             "#f0f921"
            ]
           ],
           "sequentialminus": [
            [
             0,
             "#0d0887"
            ],
            [
             0.1111111111111111,
             "#46039f"
            ],
            [
             0.2222222222222222,
             "#7201a8"
            ],
            [
             0.3333333333333333,
             "#9c179e"
            ],
            [
             0.4444444444444444,
             "#bd3786"
            ],
            [
             0.5555555555555556,
             "#d8576b"
            ],
            [
             0.6666666666666666,
             "#ed7953"
            ],
            [
             0.7777777777777778,
             "#fb9f3a"
            ],
            [
             0.8888888888888888,
             "#fdca26"
            ],
            [
             1,
             "#f0f921"
            ]
           ]
          },
          "colorway": [
           "#636efa",
           "#EF553B",
           "#00cc96",
           "#ab63fa",
           "#FFA15A",
           "#19d3f3",
           "#FF6692",
           "#B6E880",
           "#FF97FF",
           "#FECB52"
          ],
          "font": {
           "color": "#2a3f5f"
          },
          "geo": {
           "bgcolor": "white",
           "lakecolor": "white",
           "landcolor": "#E5ECF6",
           "showlakes": true,
           "showland": true,
           "subunitcolor": "white"
          },
          "hoverlabel": {
           "align": "left"
          },
          "hovermode": "closest",
          "mapbox": {
           "style": "light"
          },
          "paper_bgcolor": "white",
          "plot_bgcolor": "#E5ECF6",
          "polar": {
           "angularaxis": {
            "gridcolor": "white",
            "linecolor": "white",
            "ticks": ""
           },
           "bgcolor": "#E5ECF6",
           "radialaxis": {
            "gridcolor": "white",
            "linecolor": "white",
            "ticks": ""
           }
          },
          "scene": {
           "xaxis": {
            "backgroundcolor": "#E5ECF6",
            "gridcolor": "white",
            "gridwidth": 2,
            "linecolor": "white",
            "showbackground": true,
            "ticks": "",
            "zerolinecolor": "white"
           },
           "yaxis": {
            "backgroundcolor": "#E5ECF6",
            "gridcolor": "white",
            "gridwidth": 2,
            "linecolor": "white",
            "showbackground": true,
            "ticks": "",
            "zerolinecolor": "white"
           },
           "zaxis": {
            "backgroundcolor": "#E5ECF6",
            "gridcolor": "white",
            "gridwidth": 2,
            "linecolor": "white",
            "showbackground": true,
            "ticks": "",
            "zerolinecolor": "white"
           }
          },
          "shapedefaults": {
           "line": {
            "color": "#2a3f5f"
           }
          },
          "ternary": {
           "aaxis": {
            "gridcolor": "white",
            "linecolor": "white",
            "ticks": ""
           },
           "baxis": {
            "gridcolor": "white",
            "linecolor": "white",
            "ticks": ""
           },
           "bgcolor": "#E5ECF6",
           "caxis": {
            "gridcolor": "white",
            "linecolor": "white",
            "ticks": ""
           }
          },
          "title": {
           "x": 0.05
          },
          "xaxis": {
           "automargin": true,
           "gridcolor": "white",
           "linecolor": "white",
           "ticks": "",
           "title": {
            "standoff": 15
           },
           "zerolinecolor": "white",
           "zerolinewidth": 2
          },
          "yaxis": {
           "automargin": true,
           "gridcolor": "white",
           "linecolor": "white",
           "ticks": "",
           "title": {
            "standoff": 15
           },
           "zerolinecolor": "white",
           "zerolinewidth": 2
          }
         }
        },
        "title": {
         "text": "NVT equilibration"
        },
        "xaxis": {
         "title": {
          "text": "Equilibration Step (ps)"
         }
        },
        "yaxis": {
         "title": {
          "text": "Temperature (K)"
         }
        }
       }
      },
      "text/html": [
       "<div>                            <div id=\"9a401f9f-99ab-4504-9ca4-18153f84291d\" class=\"plotly-graph-div\" style=\"height:525px; width:100%;\"></div>            <script type=\"text/javascript\">                require([\"plotly\"], function(Plotly) {                    window.PLOTLYENV=window.PLOTLYENV || {};                                    if (document.getElementById(\"9a401f9f-99ab-4504-9ca4-18153f84291d\")) {                    Plotly.newPlot(                        \"9a401f9f-99ab-4504-9ca4-18153f84291d\",                        [{\"x\":[5.1,5.2],\"y\":[292.14,293.96],\"type\":\"scatter\"}],                        {\"template\":{\"data\":{\"barpolar\":[{\"marker\":{\"line\":{\"color\":\"#E5ECF6\",\"width\":0.5},\"pattern\":{\"fillmode\":\"overlay\",\"size\":10,\"solidity\":0.2}},\"type\":\"barpolar\"}],\"bar\":[{\"error_x\":{\"color\":\"#2a3f5f\"},\"error_y\":{\"color\":\"#2a3f5f\"},\"marker\":{\"line\":{\"color\":\"#E5ECF6\",\"width\":0.5},\"pattern\":{\"fillmode\":\"overlay\",\"size\":10,\"solidity\":0.2}},\"type\":\"bar\"}],\"carpet\":[{\"aaxis\":{\"endlinecolor\":\"#2a3f5f\",\"gridcolor\":\"white\",\"linecolor\":\"white\",\"minorgridcolor\":\"white\",\"startlinecolor\":\"#2a3f5f\"},\"baxis\":{\"endlinecolor\":\"#2a3f5f\",\"gridcolor\":\"white\",\"linecolor\":\"white\",\"minorgridcolor\":\"white\",\"startlinecolor\":\"#2a3f5f\"},\"type\":\"carpet\"}],\"choropleth\":[{\"colorbar\":{\"outlinewidth\":0,\"ticks\":\"\"},\"type\":\"choropleth\"}],\"contourcarpet\":[{\"colorbar\":{\"outlinewidth\":0,\"ticks\":\"\"},\"type\":\"contourcarpet\"}],\"contour\":[{\"colorbar\":{\"outlinewidth\":0,\"ticks\":\"\"},\"colorscale\":[[0.0,\"#0d0887\"],[0.1111111111111111,\"#46039f\"],[0.2222222222222222,\"#7201a8\"],[0.3333333333333333,\"#9c179e\"],[0.4444444444444444,\"#bd3786\"],[0.5555555555555556,\"#d8576b\"],[0.6666666666666666,\"#ed7953\"],[0.7777777777777778,\"#fb9f3a\"],[0.8888888888888888,\"#fdca26\"],[1.0,\"#f0f921\"]],\"type\":\"contour\"}],\"heatmapgl\":[{\"colorbar\":{\"outlinewidth\":0,\"ticks\":\"\"},\"colorscale\":[[0.0,\"#0d0887\"],[0.1111111111111111,\"#46039f\"],[0.2222222222222222,\"#7201a8\"],[0.3333333333333333,\"#9c179e\"],[0.4444444444444444,\"#bd3786\"],[0.5555555555555556,\"#d8576b\"],[0.6666666666666666,\"#ed7953\"],[0.7777777777777778,\"#fb9f3a\"],[0.8888888888888888,\"#fdca26\"],[1.0,\"#f0f921\"]],\"type\":\"heatmapgl\"}],\"heatmap\":[{\"colorbar\":{\"outlinewidth\":0,\"ticks\":\"\"},\"colorscale\":[[0.0,\"#0d0887\"],[0.1111111111111111,\"#46039f\"],[0.2222222222222222,\"#7201a8\"],[0.3333333333333333,\"#9c179e\"],[0.4444444444444444,\"#bd3786\"],[0.5555555555555556,\"#d8576b\"],[0.6666666666666666,\"#ed7953\"],[0.7777777777777778,\"#fb9f3a\"],[0.8888888888888888,\"#fdca26\"],[1.0,\"#f0f921\"]],\"type\":\"heatmap\"}],\"histogram2dcontour\":[{\"colorbar\":{\"outlinewidth\":0,\"ticks\":\"\"},\"colorscale\":[[0.0,\"#0d0887\"],[0.1111111111111111,\"#46039f\"],[0.2222222222222222,\"#7201a8\"],[0.3333333333333333,\"#9c179e\"],[0.4444444444444444,\"#bd3786\"],[0.5555555555555556,\"#d8576b\"],[0.6666666666666666,\"#ed7953\"],[0.7777777777777778,\"#fb9f3a\"],[0.8888888888888888,\"#fdca26\"],[1.0,\"#f0f921\"]],\"type\":\"histogram2dcontour\"}],\"histogram2d\":[{\"colorbar\":{\"outlinewidth\":0,\"ticks\":\"\"},\"colorscale\":[[0.0,\"#0d0887\"],[0.1111111111111111,\"#46039f\"],[0.2222222222222222,\"#7201a8\"],[0.3333333333333333,\"#9c179e\"],[0.4444444444444444,\"#bd3786\"],[0.5555555555555556,\"#d8576b\"],[0.6666666666666666,\"#ed7953\"],[0.7777777777777778,\"#fb9f3a\"],[0.8888888888888888,\"#fdca26\"],[1.0,\"#f0f921\"]],\"type\":\"histogram2d\"}],\"histogram\":[{\"marker\":{\"pattern\":{\"fillmode\":\"overlay\",\"size\":10,\"solidity\":0.2}},\"type\":\"histogram\"}],\"mesh3d\":[{\"colorbar\":{\"outlinewidth\":0,\"ticks\":\"\"},\"type\":\"mesh3d\"}],\"parcoords\":[{\"line\":{\"colorbar\":{\"outlinewidth\":0,\"ticks\":\"\"}},\"type\":\"parcoords\"}],\"pie\":[{\"automargin\":true,\"type\":\"pie\"}],\"scatter3d\":[{\"line\":{\"colorbar\":{\"outlinewidth\":0,\"ticks\":\"\"}},\"marker\":{\"colorbar\":{\"outlinewidth\":0,\"ticks\":\"\"}},\"type\":\"scatter3d\"}],\"scattercarpet\":[{\"marker\":{\"colorbar\":{\"outlinewidth\":0,\"ticks\":\"\"}},\"type\":\"scattercarpet\"}],\"scattergeo\":[{\"marker\":{\"colorbar\":{\"outlinewidth\":0,\"ticks\":\"\"}},\"type\":\"scattergeo\"}],\"scattergl\":[{\"marker\":{\"colorbar\":{\"outlinewidth\":0,\"ticks\":\"\"}},\"type\":\"scattergl\"}],\"scattermapbox\":[{\"marker\":{\"colorbar\":{\"outlinewidth\":0,\"ticks\":\"\"}},\"type\":\"scattermapbox\"}],\"scatterpolargl\":[{\"marker\":{\"colorbar\":{\"outlinewidth\":0,\"ticks\":\"\"}},\"type\":\"scatterpolargl\"}],\"scatterpolar\":[{\"marker\":{\"colorbar\":{\"outlinewidth\":0,\"ticks\":\"\"}},\"type\":\"scatterpolar\"}],\"scatter\":[{\"fillpattern\":{\"fillmode\":\"overlay\",\"size\":10,\"solidity\":0.2},\"type\":\"scatter\"}],\"scatterternary\":[{\"marker\":{\"colorbar\":{\"outlinewidth\":0,\"ticks\":\"\"}},\"type\":\"scatterternary\"}],\"surface\":[{\"colorbar\":{\"outlinewidth\":0,\"ticks\":\"\"},\"colorscale\":[[0.0,\"#0d0887\"],[0.1111111111111111,\"#46039f\"],[0.2222222222222222,\"#7201a8\"],[0.3333333333333333,\"#9c179e\"],[0.4444444444444444,\"#bd3786\"],[0.5555555555555556,\"#d8576b\"],[0.6666666666666666,\"#ed7953\"],[0.7777777777777778,\"#fb9f3a\"],[0.8888888888888888,\"#fdca26\"],[1.0,\"#f0f921\"]],\"type\":\"surface\"}],\"table\":[{\"cells\":{\"fill\":{\"color\":\"#EBF0F8\"},\"line\":{\"color\":\"white\"}},\"header\":{\"fill\":{\"color\":\"#C8D4E3\"},\"line\":{\"color\":\"white\"}},\"type\":\"table\"}]},\"layout\":{\"annotationdefaults\":{\"arrowcolor\":\"#2a3f5f\",\"arrowhead\":0,\"arrowwidth\":1},\"autotypenumbers\":\"strict\",\"coloraxis\":{\"colorbar\":{\"outlinewidth\":0,\"ticks\":\"\"}},\"colorscale\":{\"diverging\":[[0,\"#8e0152\"],[0.1,\"#c51b7d\"],[0.2,\"#de77ae\"],[0.3,\"#f1b6da\"],[0.4,\"#fde0ef\"],[0.5,\"#f7f7f7\"],[0.6,\"#e6f5d0\"],[0.7,\"#b8e186\"],[0.8,\"#7fbc41\"],[0.9,\"#4d9221\"],[1,\"#276419\"]],\"sequential\":[[0.0,\"#0d0887\"],[0.1111111111111111,\"#46039f\"],[0.2222222222222222,\"#7201a8\"],[0.3333333333333333,\"#9c179e\"],[0.4444444444444444,\"#bd3786\"],[0.5555555555555556,\"#d8576b\"],[0.6666666666666666,\"#ed7953\"],[0.7777777777777778,\"#fb9f3a\"],[0.8888888888888888,\"#fdca26\"],[1.0,\"#f0f921\"]],\"sequentialminus\":[[0.0,\"#0d0887\"],[0.1111111111111111,\"#46039f\"],[0.2222222222222222,\"#7201a8\"],[0.3333333333333333,\"#9c179e\"],[0.4444444444444444,\"#bd3786\"],[0.5555555555555556,\"#d8576b\"],[0.6666666666666666,\"#ed7953\"],[0.7777777777777778,\"#fb9f3a\"],[0.8888888888888888,\"#fdca26\"],[1.0,\"#f0f921\"]]},\"colorway\":[\"#636efa\",\"#EF553B\",\"#00cc96\",\"#ab63fa\",\"#FFA15A\",\"#19d3f3\",\"#FF6692\",\"#B6E880\",\"#FF97FF\",\"#FECB52\"],\"font\":{\"color\":\"#2a3f5f\"},\"geo\":{\"bgcolor\":\"white\",\"lakecolor\":\"white\",\"landcolor\":\"#E5ECF6\",\"showlakes\":true,\"showland\":true,\"subunitcolor\":\"white\"},\"hoverlabel\":{\"align\":\"left\"},\"hovermode\":\"closest\",\"mapbox\":{\"style\":\"light\"},\"paper_bgcolor\":\"white\",\"plot_bgcolor\":\"#E5ECF6\",\"polar\":{\"angularaxis\":{\"gridcolor\":\"white\",\"linecolor\":\"white\",\"ticks\":\"\"},\"bgcolor\":\"#E5ECF6\",\"radialaxis\":{\"gridcolor\":\"white\",\"linecolor\":\"white\",\"ticks\":\"\"}},\"scene\":{\"xaxis\":{\"backgroundcolor\":\"#E5ECF6\",\"gridcolor\":\"white\",\"gridwidth\":2,\"linecolor\":\"white\",\"showbackground\":true,\"ticks\":\"\",\"zerolinecolor\":\"white\"},\"yaxis\":{\"backgroundcolor\":\"#E5ECF6\",\"gridcolor\":\"white\",\"gridwidth\":2,\"linecolor\":\"white\",\"showbackground\":true,\"ticks\":\"\",\"zerolinecolor\":\"white\"},\"zaxis\":{\"backgroundcolor\":\"#E5ECF6\",\"gridcolor\":\"white\",\"gridwidth\":2,\"linecolor\":\"white\",\"showbackground\":true,\"ticks\":\"\",\"zerolinecolor\":\"white\"}},\"shapedefaults\":{\"line\":{\"color\":\"#2a3f5f\"}},\"ternary\":{\"aaxis\":{\"gridcolor\":\"white\",\"linecolor\":\"white\",\"ticks\":\"\"},\"baxis\":{\"gridcolor\":\"white\",\"linecolor\":\"white\",\"ticks\":\"\"},\"bgcolor\":\"#E5ECF6\",\"caxis\":{\"gridcolor\":\"white\",\"linecolor\":\"white\",\"ticks\":\"\"}},\"title\":{\"x\":0.05},\"xaxis\":{\"automargin\":true,\"gridcolor\":\"white\",\"linecolor\":\"white\",\"ticks\":\"\",\"title\":{\"standoff\":15},\"zerolinecolor\":\"white\",\"zerolinewidth\":2},\"yaxis\":{\"automargin\":true,\"gridcolor\":\"white\",\"linecolor\":\"white\",\"ticks\":\"\",\"title\":{\"standoff\":15},\"zerolinecolor\":\"white\",\"zerolinewidth\":2}}},\"title\":{\"text\":\"NVT equilibration\"},\"xaxis\":{\"title\":{\"text\":\"Equilibration Step (ps)\"}},\"yaxis\":{\"title\":{\"text\":\"Temperature (K)\"}}},                        {\"responsive\": true}                    ).then(function(){\n",
       "                            \n",
       "var gd = document.getElementById('9a401f9f-99ab-4504-9ca4-18153f84291d');\n",
       "var x = new MutationObserver(function (mutations, observer) {{\n",
       "        var display = window.getComputedStyle(gd).display;\n",
       "        if (!display || display === 'none') {{\n",
       "            console.log([gd, 'removed!']);\n",
       "            Plotly.purge(gd);\n",
       "            observer.disconnect();\n",
       "        }}\n",
       "}});\n",
       "\n",
       "// Listen for the removal of the full notebook cells\n",
       "var notebookContainer = gd.closest('#notebook-container');\n",
       "if (notebookContainer) {{\n",
       "    x.observe(notebookContainer, {childList: true});\n",
       "}}\n",
       "\n",
       "// Listen for the clearing of the current output cell\n",
       "var outputEl = gd.closest('.output');\n",
       "if (outputEl) {{\n",
       "    x.observe(outputEl, {childList: true});\n",
       "}}\n",
       "\n",
       "                        })                };                });            </script>        </div>"
      ]
     },
     "metadata": {},
     "output_type": "display_data"
    }
   ],
   "source": [
    "with open(\"output/sander.nvt.temp.dat\",'r') as energy_file:\n",
    "    x,y = map(\n",
    "        list,\n",
    "        zip(*[\n",
    "            (float(line.split()[0]),float(line.split()[1]))\n",
    "            for line in energy_file \n",
    "            if not line.startswith((\"#\",\"@\")) \n",
    "            if float(line.split()[1]) < 1000 \n",
    "        ])\n",
    "    )\n",
    "\n",
    "plotly.offline.init_notebook_mode(connected=True)\n",
    "\n",
    "fig = {\n",
    "    \"data\": [go.Scatter(x=x, y=y)],\n",
    "    \"layout\": go.Layout(title=\"NVT equilibration\",\n",
    "                        xaxis=dict(title = \"Equilibration Step (ps)\"),\n",
    "                        yaxis=dict(title = \"Temperature (K)\")\n",
    "                       )\n",
    "}\n",
    "\n",
    "plotly.offline.iplot(fig)"
   ]
  },
  {
   "cell_type": "markdown",
   "id": "4b4aa576",
   "metadata": {},
   "source": [
    "# Equilibrate Pressure"
   ]
  },
  {
   "cell_type": "code",
   "execution_count": 9,
   "id": "4a205819",
   "metadata": {},
   "outputs": [
    {
     "name": "stdout",
     "output_type": "stream",
     "text": [
      "2022-07-08 12:26:08,929 [MainThread  ] [INFO ]  Creating 0a13a4ab-d171-453a-8d68-c4d4ba389ff1 temporary folder\n",
      "2022-07-08 12:26:08,930 [MainThread  ] [INFO ]  Creating command line with instructions and required arguments\n",
      "2022-07-08 12:26:58,977 [MainThread  ] [INFO ]  sander -O -i 0a13a4ab-d171-453a-8d68-c4d4ba389ff1/sander.mdin -p input/structure.ions.parmtop -c output/sander.nvt.rst -r output/sander.npt.rst -o output/sander.npt.log -x output/sander.npt.netcdf -ref output/sander.nvt.rst\n",
      "\n",
      "2022-07-08 12:26:58,979 [MainThread  ] [INFO ]  Exit code 0\n",
      "\n",
      "2022-07-08 12:26:58,982 [MainThread  ] [INFO ]  Removed: mdinfo, 0a13a4ab-d171-453a-8d68-c4d4ba389ff1\n"
     ]
    },
    {
     "data": {
      "text/plain": [
       "0"
      ]
     },
     "execution_count": 9,
     "metadata": {},
     "output_type": "execute_result"
    }
   ],
   "source": [
    "from biobb_amber.sander.sander_mdrun import sander_mdrun\n",
    "\n",
    "prop = {\n",
    "    \"simulation_type\" : 'npt',\n",
    "    \"mdin\" : { \n",
    "        'nstlim' : 100, # Reducing the number of steps for the sake of time (0.2ps)\n",
    "        'ntr' : 1,     # Overwritting restrain parameter\n",
    "        'restraintmask' : '\\\"!:WAT,Cl-,Na+ & !@H=\\\"',      # Restraining solute heavy atoms\n",
    "        'restraint_wt' : 5.0                              # With a force constant of 5 Kcal/mol*A2\n",
    "    }\n",
    "}\n",
    "\n",
    "sander_mdrun(input_top_path=\"input/structure.ions.parmtop\",\n",
    "            input_crd_path=\"output/sander.nvt.rst\",\n",
    "            input_ref_path=\"output/sander.nvt.rst\",\n",
    "            output_traj_path=\"output/sander.npt.netcdf\",\n",
    "            output_rst_path=\"output/sander.npt.rst\",\n",
    "            output_log_path=\"output/sander.npt.log\",\n",
    "            properties=prop)"
   ]
  },
  {
   "cell_type": "code",
   "execution_count": 10,
   "id": "b6721117",
   "metadata": {},
   "outputs": [
    {
     "name": "stdout",
     "output_type": "stream",
     "text": [
      "2022-07-08 12:27:56,049 [MainThread  ] [INFO ]  Creating command line with instructions and required arguments\n",
      "2022-07-08 12:27:56,080 [MainThread  ] [INFO ]  process_mdout.perl  output/sander.npt.log\n",
      "\n",
      "2022-07-08 12:27:56,082 [MainThread  ] [INFO ]  Exit code 0\n",
      "\n",
      "2022-07-08 12:27:56,084 [MainThread  ] [INFO ]  Processing sander output file (output/sander.npt.log)...\n",
      "Starting output...\n",
      "Outputing summary.TEMP\n",
      "Outputing summary_avg.TEMP\n",
      "Outputing summary_rms.TEMP\n",
      "Outputing summary.TSOLUTE\n",
      "Outputing summary_avg.TSOLUTE\n",
      "Outputing summary_rms.TSOLUTE\n",
      "Outputing summary.TSOLVENT\n",
      "Outputing summary_avg.TSOLVENT\n",
      "Outputing summary_rms.TSOLVENT\n",
      "Outputing summary.PRES\n",
      "Outputing summary_avg.PRES\n",
      "Outputing summary_rms.PRES\n",
      "Outputing summary.EKCMT\n",
      "Outputing summary_avg.EKCMT\n",
      "Outputing summary_rms.EKCMT\n",
      "Outputing summary.ETOT\n",
      "Outputing summary_avg.ETOT\n",
      "Outputing summary_rms.ETOT\n",
      "Outputing summary.EKTOT\n",
      "Outputing summary_avg.EKTOT\n",
      "Outputing summary_rms.EKTOT\n",
      "Outputing summary.EPTOT\n",
      "Outputing summary_avg.EPTOT\n",
      "Outputing summary_rms.EPTOT\n",
      "Outputing summary.DENSITY\n",
      "Outputing summary_avg.DENSITY\n",
      "Outputing summary_rms.DENSITY\n",
      "Outputing summary.VOLUME\n",
      "Outputing summary_avg.VOLUME\n",
      "Outputing summary_rms.VOLUME\n",
      "Outputing summary.ESCF\n",
      "Outputing summary_avg.ESCF\n",
      "Outputing summary_rms.ESCF\n",
      "\n",
      "2022-07-08 12:27:56,095 [MainThread  ] [INFO ]  Removed: [PosixPath('summary.PRES'), PosixPath('summary.DENSITY'), PosixPath('summary.EKTOT'), PosixPath('summary_rms.TSOLVENT'), PosixPath('summary_avg.ETOT'), PosixPath('summary.EKCMT'), PosixPath('summary.ETOT'), PosixPath('summary_rms.ESCF'), PosixPath('summary_avg.TSOLUTE'), PosixPath('summary_rms.VOLUME'), PosixPath('summary_avg.PRES'), PosixPath('summary_rms.EPTOT'), PosixPath('summary_rms.TEMP'), PosixPath('summary.TSOLVENT'), PosixPath('summary_avg.EKTOT'), PosixPath('summary_rms.DENSITY'), PosixPath('summary_avg.EKCMT'), PosixPath('summary_avg.EPTOT'), PosixPath('summary.TEMP'), PosixPath('summary_avg.DENSITY'), PosixPath('summary.VOLUME'), PosixPath('summary_avg.TEMP'), PosixPath('summary.TSOLUTE'), PosixPath('summary_rms.EKCMT'), PosixPath('summary_rms.PRES'), PosixPath('summary_avg.ESCF'), PosixPath('summary_rms.TSOLUTE'), PosixPath('summary_rms.EKTOT'), PosixPath('summary.EPTOT'), PosixPath('summary_avg.VOLUME'), PosixPath('summary.ESCF'), PosixPath('summary_rms.ETOT'), PosixPath('summary_avg.TSOLVENT')]\n"
     ]
    },
    {
     "data": {
      "text/plain": [
       "0"
      ]
     },
     "execution_count": 10,
     "metadata": {},
     "output_type": "execute_result"
    }
   ],
   "source": [
    "from biobb_amber.process.process_mdout import process_mdout\n",
    "\n",
    "prop = {\n",
    "    \"terms\" : ['PRES','DENSITY']\n",
    "}\n",
    "\n",
    "process_mdout(input_log_path=\"output/sander.npt.log\",\n",
    "            output_dat_path=\"output/sander.npt.dat\",\n",
    "            properties=prop)"
   ]
  },
  {
   "cell_type": "code",
   "execution_count": 11,
   "id": "f6ab3d18",
   "metadata": {},
   "outputs": [
    {
     "data": {
      "text/html": [
       "        <script type=\"text/javascript\">\n",
       "        window.PlotlyConfig = {MathJaxConfig: 'local'};\n",
       "        if (window.MathJax && window.MathJax.Hub && window.MathJax.Hub.Config) {window.MathJax.Hub.Config({SVG: {font: \"STIX-Web\"}});}\n",
       "        if (typeof require !== 'undefined') {\n",
       "        require.undef(\"plotly\");\n",
       "        requirejs.config({\n",
       "            paths: {\n",
       "                'plotly': ['https://cdn.plot.ly/plotly-2.12.1.min']\n",
       "            }\n",
       "        });\n",
       "        require(['plotly'], function(Plotly) {\n",
       "            window._Plotly = Plotly;\n",
       "        });\n",
       "        }\n",
       "        </script>\n",
       "        "
      ]
     },
     "metadata": {},
     "output_type": "display_data"
    },
    {
     "data": {
      "application/vnd.plotly.v1+json": {
       "config": {
        "linkText": "Export to plot.ly",
        "plotlyServerURL": "https://plot.ly",
        "showLink": false
       },
       "data": [
        {
         "type": "scatter",
         "x": [
          5.3,
          5.4
         ],
         "xaxis": "x",
         "y": [
          -1121.9,
          -1092.2
         ],
         "yaxis": "y"
        },
        {
         "type": "scatter",
         "x": [
          5.3,
          5.4
         ],
         "xaxis": "x2",
         "y": [
          0.8928,
          0.895
         ],
         "yaxis": "y2"
        }
       ],
       "layout": {
        "showlegend": false,
        "template": {
         "data": {
          "bar": [
           {
            "error_x": {
             "color": "#2a3f5f"
            },
            "error_y": {
             "color": "#2a3f5f"
            },
            "marker": {
             "line": {
              "color": "#E5ECF6",
              "width": 0.5
             },
             "pattern": {
              "fillmode": "overlay",
              "size": 10,
              "solidity": 0.2
             }
            },
            "type": "bar"
           }
          ],
          "barpolar": [
           {
            "marker": {
             "line": {
              "color": "#E5ECF6",
              "width": 0.5
             },
             "pattern": {
              "fillmode": "overlay",
              "size": 10,
              "solidity": 0.2
             }
            },
            "type": "barpolar"
           }
          ],
          "carpet": [
           {
            "aaxis": {
             "endlinecolor": "#2a3f5f",
             "gridcolor": "white",
             "linecolor": "white",
             "minorgridcolor": "white",
             "startlinecolor": "#2a3f5f"
            },
            "baxis": {
             "endlinecolor": "#2a3f5f",
             "gridcolor": "white",
             "linecolor": "white",
             "minorgridcolor": "white",
             "startlinecolor": "#2a3f5f"
            },
            "type": "carpet"
           }
          ],
          "choropleth": [
           {
            "colorbar": {
             "outlinewidth": 0,
             "ticks": ""
            },
            "type": "choropleth"
           }
          ],
          "contour": [
           {
            "colorbar": {
             "outlinewidth": 0,
             "ticks": ""
            },
            "colorscale": [
             [
              0,
              "#0d0887"
             ],
             [
              0.1111111111111111,
              "#46039f"
             ],
             [
              0.2222222222222222,
              "#7201a8"
             ],
             [
              0.3333333333333333,
              "#9c179e"
             ],
             [
              0.4444444444444444,
              "#bd3786"
             ],
             [
              0.5555555555555556,
              "#d8576b"
             ],
             [
              0.6666666666666666,
              "#ed7953"
             ],
             [
              0.7777777777777778,
              "#fb9f3a"
             ],
             [
              0.8888888888888888,
              "#fdca26"
             ],
             [
              1,
              "#f0f921"
             ]
            ],
            "type": "contour"
           }
          ],
          "contourcarpet": [
           {
            "colorbar": {
             "outlinewidth": 0,
             "ticks": ""
            },
            "type": "contourcarpet"
           }
          ],
          "heatmap": [
           {
            "colorbar": {
             "outlinewidth": 0,
             "ticks": ""
            },
            "colorscale": [
             [
              0,
              "#0d0887"
             ],
             [
              0.1111111111111111,
              "#46039f"
             ],
             [
              0.2222222222222222,
              "#7201a8"
             ],
             [
              0.3333333333333333,
              "#9c179e"
             ],
             [
              0.4444444444444444,
              "#bd3786"
             ],
             [
              0.5555555555555556,
              "#d8576b"
             ],
             [
              0.6666666666666666,
              "#ed7953"
             ],
             [
              0.7777777777777778,
              "#fb9f3a"
             ],
             [
              0.8888888888888888,
              "#fdca26"
             ],
             [
              1,
              "#f0f921"
             ]
            ],
            "type": "heatmap"
           }
          ],
          "heatmapgl": [
           {
            "colorbar": {
             "outlinewidth": 0,
             "ticks": ""
            },
            "colorscale": [
             [
              0,
              "#0d0887"
             ],
             [
              0.1111111111111111,
              "#46039f"
             ],
             [
              0.2222222222222222,
              "#7201a8"
             ],
             [
              0.3333333333333333,
              "#9c179e"
             ],
             [
              0.4444444444444444,
              "#bd3786"
             ],
             [
              0.5555555555555556,
              "#d8576b"
             ],
             [
              0.6666666666666666,
              "#ed7953"
             ],
             [
              0.7777777777777778,
              "#fb9f3a"
             ],
             [
              0.8888888888888888,
              "#fdca26"
             ],
             [
              1,
              "#f0f921"
             ]
            ],
            "type": "heatmapgl"
           }
          ],
          "histogram": [
           {
            "marker": {
             "pattern": {
              "fillmode": "overlay",
              "size": 10,
              "solidity": 0.2
             }
            },
            "type": "histogram"
           }
          ],
          "histogram2d": [
           {
            "colorbar": {
             "outlinewidth": 0,
             "ticks": ""
            },
            "colorscale": [
             [
              0,
              "#0d0887"
             ],
             [
              0.1111111111111111,
              "#46039f"
             ],
             [
              0.2222222222222222,
              "#7201a8"
             ],
             [
              0.3333333333333333,
              "#9c179e"
             ],
             [
              0.4444444444444444,
              "#bd3786"
             ],
             [
              0.5555555555555556,
              "#d8576b"
             ],
             [
              0.6666666666666666,
              "#ed7953"
             ],
             [
              0.7777777777777778,
              "#fb9f3a"
             ],
             [
              0.8888888888888888,
              "#fdca26"
             ],
             [
              1,
              "#f0f921"
             ]
            ],
            "type": "histogram2d"
           }
          ],
          "histogram2dcontour": [
           {
            "colorbar": {
             "outlinewidth": 0,
             "ticks": ""
            },
            "colorscale": [
             [
              0,
              "#0d0887"
             ],
             [
              0.1111111111111111,
              "#46039f"
             ],
             [
              0.2222222222222222,
              "#7201a8"
             ],
             [
              0.3333333333333333,
              "#9c179e"
             ],
             [
              0.4444444444444444,
              "#bd3786"
             ],
             [
              0.5555555555555556,
              "#d8576b"
             ],
             [
              0.6666666666666666,
              "#ed7953"
             ],
             [
              0.7777777777777778,
              "#fb9f3a"
             ],
             [
              0.8888888888888888,
              "#fdca26"
             ],
             [
              1,
              "#f0f921"
             ]
            ],
            "type": "histogram2dcontour"
           }
          ],
          "mesh3d": [
           {
            "colorbar": {
             "outlinewidth": 0,
             "ticks": ""
            },
            "type": "mesh3d"
           }
          ],
          "parcoords": [
           {
            "line": {
             "colorbar": {
              "outlinewidth": 0,
              "ticks": ""
             }
            },
            "type": "parcoords"
           }
          ],
          "pie": [
           {
            "automargin": true,
            "type": "pie"
           }
          ],
          "scatter": [
           {
            "fillpattern": {
             "fillmode": "overlay",
             "size": 10,
             "solidity": 0.2
            },
            "type": "scatter"
           }
          ],
          "scatter3d": [
           {
            "line": {
             "colorbar": {
              "outlinewidth": 0,
              "ticks": ""
             }
            },
            "marker": {
             "colorbar": {
              "outlinewidth": 0,
              "ticks": ""
             }
            },
            "type": "scatter3d"
           }
          ],
          "scattercarpet": [
           {
            "marker": {
             "colorbar": {
              "outlinewidth": 0,
              "ticks": ""
             }
            },
            "type": "scattercarpet"
           }
          ],
          "scattergeo": [
           {
            "marker": {
             "colorbar": {
              "outlinewidth": 0,
              "ticks": ""
             }
            },
            "type": "scattergeo"
           }
          ],
          "scattergl": [
           {
            "marker": {
             "colorbar": {
              "outlinewidth": 0,
              "ticks": ""
             }
            },
            "type": "scattergl"
           }
          ],
          "scattermapbox": [
           {
            "marker": {
             "colorbar": {
              "outlinewidth": 0,
              "ticks": ""
             }
            },
            "type": "scattermapbox"
           }
          ],
          "scatterpolar": [
           {
            "marker": {
             "colorbar": {
              "outlinewidth": 0,
              "ticks": ""
             }
            },
            "type": "scatterpolar"
           }
          ],
          "scatterpolargl": [
           {
            "marker": {
             "colorbar": {
              "outlinewidth": 0,
              "ticks": ""
             }
            },
            "type": "scatterpolargl"
           }
          ],
          "scatterternary": [
           {
            "marker": {
             "colorbar": {
              "outlinewidth": 0,
              "ticks": ""
             }
            },
            "type": "scatterternary"
           }
          ],
          "surface": [
           {
            "colorbar": {
             "outlinewidth": 0,
             "ticks": ""
            },
            "colorscale": [
             [
              0,
              "#0d0887"
             ],
             [
              0.1111111111111111,
              "#46039f"
             ],
             [
              0.2222222222222222,
              "#7201a8"
             ],
             [
              0.3333333333333333,
              "#9c179e"
             ],
             [
              0.4444444444444444,
              "#bd3786"
             ],
             [
              0.5555555555555556,
              "#d8576b"
             ],
             [
              0.6666666666666666,
              "#ed7953"
             ],
             [
              0.7777777777777778,
              "#fb9f3a"
             ],
             [
              0.8888888888888888,
              "#fdca26"
             ],
             [
              1,
              "#f0f921"
             ]
            ],
            "type": "surface"
           }
          ],
          "table": [
           {
            "cells": {
             "fill": {
              "color": "#EBF0F8"
             },
             "line": {
              "color": "white"
             }
            },
            "header": {
             "fill": {
              "color": "#C8D4E3"
             },
             "line": {
              "color": "white"
             }
            },
            "type": "table"
           }
          ]
         },
         "layout": {
          "annotationdefaults": {
           "arrowcolor": "#2a3f5f",
           "arrowhead": 0,
           "arrowwidth": 1
          },
          "autotypenumbers": "strict",
          "coloraxis": {
           "colorbar": {
            "outlinewidth": 0,
            "ticks": ""
           }
          },
          "colorscale": {
           "diverging": [
            [
             0,
             "#8e0152"
            ],
            [
             0.1,
             "#c51b7d"
            ],
            [
             0.2,
             "#de77ae"
            ],
            [
             0.3,
             "#f1b6da"
            ],
            [
             0.4,
             "#fde0ef"
            ],
            [
             0.5,
             "#f7f7f7"
            ],
            [
             0.6,
             "#e6f5d0"
            ],
            [
             0.7,
             "#b8e186"
            ],
            [
             0.8,
             "#7fbc41"
            ],
            [
             0.9,
             "#4d9221"
            ],
            [
             1,
             "#276419"
            ]
           ],
           "sequential": [
            [
             0,
             "#0d0887"
            ],
            [
             0.1111111111111111,
             "#46039f"
            ],
            [
             0.2222222222222222,
             "#7201a8"
            ],
            [
             0.3333333333333333,
             "#9c179e"
            ],
            [
             0.4444444444444444,
             "#bd3786"
            ],
            [
             0.5555555555555556,
             "#d8576b"
            ],
            [
             0.6666666666666666,
             "#ed7953"
            ],
            [
             0.7777777777777778,
             "#fb9f3a"
            ],
            [
             0.8888888888888888,
             "#fdca26"
            ],
            [
             1,
             "#f0f921"
            ]
           ],
           "sequentialminus": [
            [
             0,
             "#0d0887"
            ],
            [
             0.1111111111111111,
             "#46039f"
            ],
            [
             0.2222222222222222,
             "#7201a8"
            ],
            [
             0.3333333333333333,
             "#9c179e"
            ],
            [
             0.4444444444444444,
             "#bd3786"
            ],
            [
             0.5555555555555556,
             "#d8576b"
            ],
            [
             0.6666666666666666,
             "#ed7953"
            ],
            [
             0.7777777777777778,
             "#fb9f3a"
            ],
            [
             0.8888888888888888,
             "#fdca26"
            ],
            [
             1,
             "#f0f921"
            ]
           ]
          },
          "colorway": [
           "#636efa",
           "#EF553B",
           "#00cc96",
           "#ab63fa",
           "#FFA15A",
           "#19d3f3",
           "#FF6692",
           "#B6E880",
           "#FF97FF",
           "#FECB52"
          ],
          "font": {
           "color": "#2a3f5f"
          },
          "geo": {
           "bgcolor": "white",
           "lakecolor": "white",
           "landcolor": "#E5ECF6",
           "showlakes": true,
           "showland": true,
           "subunitcolor": "white"
          },
          "hoverlabel": {
           "align": "left"
          },
          "hovermode": "closest",
          "mapbox": {
           "style": "light"
          },
          "paper_bgcolor": "white",
          "plot_bgcolor": "#E5ECF6",
          "polar": {
           "angularaxis": {
            "gridcolor": "white",
            "linecolor": "white",
            "ticks": ""
           },
           "bgcolor": "#E5ECF6",
           "radialaxis": {
            "gridcolor": "white",
            "linecolor": "white",
            "ticks": ""
           }
          },
          "scene": {
           "xaxis": {
            "backgroundcolor": "#E5ECF6",
            "gridcolor": "white",
            "gridwidth": 2,
            "linecolor": "white",
            "showbackground": true,
            "ticks": "",
            "zerolinecolor": "white"
           },
           "yaxis": {
            "backgroundcolor": "#E5ECF6",
            "gridcolor": "white",
            "gridwidth": 2,
            "linecolor": "white",
            "showbackground": true,
            "ticks": "",
            "zerolinecolor": "white"
           },
           "zaxis": {
            "backgroundcolor": "#E5ECF6",
            "gridcolor": "white",
            "gridwidth": 2,
            "linecolor": "white",
            "showbackground": true,
            "ticks": "",
            "zerolinecolor": "white"
           }
          },
          "shapedefaults": {
           "line": {
            "color": "#2a3f5f"
           }
          },
          "ternary": {
           "aaxis": {
            "gridcolor": "white",
            "linecolor": "white",
            "ticks": ""
           },
           "baxis": {
            "gridcolor": "white",
            "linecolor": "white",
            "ticks": ""
           },
           "bgcolor": "#E5ECF6",
           "caxis": {
            "gridcolor": "white",
            "linecolor": "white",
            "ticks": ""
           }
          },
          "title": {
           "x": 0.05
          },
          "xaxis": {
           "automargin": true,
           "gridcolor": "white",
           "linecolor": "white",
           "ticks": "",
           "title": {
            "standoff": 15
           },
           "zerolinecolor": "white",
           "zerolinewidth": 2
          },
          "yaxis": {
           "automargin": true,
           "gridcolor": "white",
           "linecolor": "white",
           "ticks": "",
           "title": {
            "standoff": 15
           },
           "zerolinecolor": "white",
           "zerolinewidth": 2
          }
         }
        },
        "title": {
         "text": "Pressure and Density during NPT Equilibration"
        },
        "xaxis": {
         "anchor": "y",
         "domain": [
          0,
          0.45
         ],
         "title": {
          "text": "Time (ps)"
         }
        },
        "xaxis2": {
         "anchor": "y2",
         "domain": [
          0.55,
          1
         ],
         "title": {
          "text": "Time (ps)"
         }
        },
        "yaxis": {
         "anchor": "x",
         "domain": [
          0,
          1
         ],
         "title": {
          "text": "Pressure (bar)"
         }
        },
        "yaxis2": {
         "anchor": "x2",
         "domain": [
          0,
          1
         ],
         "title": {
          "text": "Density (Kg*m^-3)"
         }
        }
       }
      },
      "text/html": [
       "<div>                            <div id=\"9ab11a9b-ad49-4ce5-beb7-0507379d12a5\" class=\"plotly-graph-div\" style=\"height:525px; width:100%;\"></div>            <script type=\"text/javascript\">                require([\"plotly\"], function(Plotly) {                    window.PLOTLYENV=window.PLOTLYENV || {};                                    if (document.getElementById(\"9ab11a9b-ad49-4ce5-beb7-0507379d12a5\")) {                    Plotly.newPlot(                        \"9ab11a9b-ad49-4ce5-beb7-0507379d12a5\",                        [{\"x\":[5.3,5.4],\"xaxis\":\"x\",\"y\":[-1121.9,-1092.2],\"yaxis\":\"y\",\"type\":\"scatter\"},{\"x\":[5.3,5.4],\"xaxis\":\"x2\",\"y\":[0.8928,0.895],\"yaxis\":\"y2\",\"type\":\"scatter\"}],                        {\"showlegend\":false,\"template\":{\"data\":{\"barpolar\":[{\"marker\":{\"line\":{\"color\":\"#E5ECF6\",\"width\":0.5},\"pattern\":{\"fillmode\":\"overlay\",\"size\":10,\"solidity\":0.2}},\"type\":\"barpolar\"}],\"bar\":[{\"error_x\":{\"color\":\"#2a3f5f\"},\"error_y\":{\"color\":\"#2a3f5f\"},\"marker\":{\"line\":{\"color\":\"#E5ECF6\",\"width\":0.5},\"pattern\":{\"fillmode\":\"overlay\",\"size\":10,\"solidity\":0.2}},\"type\":\"bar\"}],\"carpet\":[{\"aaxis\":{\"endlinecolor\":\"#2a3f5f\",\"gridcolor\":\"white\",\"linecolor\":\"white\",\"minorgridcolor\":\"white\",\"startlinecolor\":\"#2a3f5f\"},\"baxis\":{\"endlinecolor\":\"#2a3f5f\",\"gridcolor\":\"white\",\"linecolor\":\"white\",\"minorgridcolor\":\"white\",\"startlinecolor\":\"#2a3f5f\"},\"type\":\"carpet\"}],\"choropleth\":[{\"colorbar\":{\"outlinewidth\":0,\"ticks\":\"\"},\"type\":\"choropleth\"}],\"contourcarpet\":[{\"colorbar\":{\"outlinewidth\":0,\"ticks\":\"\"},\"type\":\"contourcarpet\"}],\"contour\":[{\"colorbar\":{\"outlinewidth\":0,\"ticks\":\"\"},\"colorscale\":[[0.0,\"#0d0887\"],[0.1111111111111111,\"#46039f\"],[0.2222222222222222,\"#7201a8\"],[0.3333333333333333,\"#9c179e\"],[0.4444444444444444,\"#bd3786\"],[0.5555555555555556,\"#d8576b\"],[0.6666666666666666,\"#ed7953\"],[0.7777777777777778,\"#fb9f3a\"],[0.8888888888888888,\"#fdca26\"],[1.0,\"#f0f921\"]],\"type\":\"contour\"}],\"heatmapgl\":[{\"colorbar\":{\"outlinewidth\":0,\"ticks\":\"\"},\"colorscale\":[[0.0,\"#0d0887\"],[0.1111111111111111,\"#46039f\"],[0.2222222222222222,\"#7201a8\"],[0.3333333333333333,\"#9c179e\"],[0.4444444444444444,\"#bd3786\"],[0.5555555555555556,\"#d8576b\"],[0.6666666666666666,\"#ed7953\"],[0.7777777777777778,\"#fb9f3a\"],[0.8888888888888888,\"#fdca26\"],[1.0,\"#f0f921\"]],\"type\":\"heatmapgl\"}],\"heatmap\":[{\"colorbar\":{\"outlinewidth\":0,\"ticks\":\"\"},\"colorscale\":[[0.0,\"#0d0887\"],[0.1111111111111111,\"#46039f\"],[0.2222222222222222,\"#7201a8\"],[0.3333333333333333,\"#9c179e\"],[0.4444444444444444,\"#bd3786\"],[0.5555555555555556,\"#d8576b\"],[0.6666666666666666,\"#ed7953\"],[0.7777777777777778,\"#fb9f3a\"],[0.8888888888888888,\"#fdca26\"],[1.0,\"#f0f921\"]],\"type\":\"heatmap\"}],\"histogram2dcontour\":[{\"colorbar\":{\"outlinewidth\":0,\"ticks\":\"\"},\"colorscale\":[[0.0,\"#0d0887\"],[0.1111111111111111,\"#46039f\"],[0.2222222222222222,\"#7201a8\"],[0.3333333333333333,\"#9c179e\"],[0.4444444444444444,\"#bd3786\"],[0.5555555555555556,\"#d8576b\"],[0.6666666666666666,\"#ed7953\"],[0.7777777777777778,\"#fb9f3a\"],[0.8888888888888888,\"#fdca26\"],[1.0,\"#f0f921\"]],\"type\":\"histogram2dcontour\"}],\"histogram2d\":[{\"colorbar\":{\"outlinewidth\":0,\"ticks\":\"\"},\"colorscale\":[[0.0,\"#0d0887\"],[0.1111111111111111,\"#46039f\"],[0.2222222222222222,\"#7201a8\"],[0.3333333333333333,\"#9c179e\"],[0.4444444444444444,\"#bd3786\"],[0.5555555555555556,\"#d8576b\"],[0.6666666666666666,\"#ed7953\"],[0.7777777777777778,\"#fb9f3a\"],[0.8888888888888888,\"#fdca26\"],[1.0,\"#f0f921\"]],\"type\":\"histogram2d\"}],\"histogram\":[{\"marker\":{\"pattern\":{\"fillmode\":\"overlay\",\"size\":10,\"solidity\":0.2}},\"type\":\"histogram\"}],\"mesh3d\":[{\"colorbar\":{\"outlinewidth\":0,\"ticks\":\"\"},\"type\":\"mesh3d\"}],\"parcoords\":[{\"line\":{\"colorbar\":{\"outlinewidth\":0,\"ticks\":\"\"}},\"type\":\"parcoords\"}],\"pie\":[{\"automargin\":true,\"type\":\"pie\"}],\"scatter3d\":[{\"line\":{\"colorbar\":{\"outlinewidth\":0,\"ticks\":\"\"}},\"marker\":{\"colorbar\":{\"outlinewidth\":0,\"ticks\":\"\"}},\"type\":\"scatter3d\"}],\"scattercarpet\":[{\"marker\":{\"colorbar\":{\"outlinewidth\":0,\"ticks\":\"\"}},\"type\":\"scattercarpet\"}],\"scattergeo\":[{\"marker\":{\"colorbar\":{\"outlinewidth\":0,\"ticks\":\"\"}},\"type\":\"scattergeo\"}],\"scattergl\":[{\"marker\":{\"colorbar\":{\"outlinewidth\":0,\"ticks\":\"\"}},\"type\":\"scattergl\"}],\"scattermapbox\":[{\"marker\":{\"colorbar\":{\"outlinewidth\":0,\"ticks\":\"\"}},\"type\":\"scattermapbox\"}],\"scatterpolargl\":[{\"marker\":{\"colorbar\":{\"outlinewidth\":0,\"ticks\":\"\"}},\"type\":\"scatterpolargl\"}],\"scatterpolar\":[{\"marker\":{\"colorbar\":{\"outlinewidth\":0,\"ticks\":\"\"}},\"type\":\"scatterpolar\"}],\"scatter\":[{\"fillpattern\":{\"fillmode\":\"overlay\",\"size\":10,\"solidity\":0.2},\"type\":\"scatter\"}],\"scatterternary\":[{\"marker\":{\"colorbar\":{\"outlinewidth\":0,\"ticks\":\"\"}},\"type\":\"scatterternary\"}],\"surface\":[{\"colorbar\":{\"outlinewidth\":0,\"ticks\":\"\"},\"colorscale\":[[0.0,\"#0d0887\"],[0.1111111111111111,\"#46039f\"],[0.2222222222222222,\"#7201a8\"],[0.3333333333333333,\"#9c179e\"],[0.4444444444444444,\"#bd3786\"],[0.5555555555555556,\"#d8576b\"],[0.6666666666666666,\"#ed7953\"],[0.7777777777777778,\"#fb9f3a\"],[0.8888888888888888,\"#fdca26\"],[1.0,\"#f0f921\"]],\"type\":\"surface\"}],\"table\":[{\"cells\":{\"fill\":{\"color\":\"#EBF0F8\"},\"line\":{\"color\":\"white\"}},\"header\":{\"fill\":{\"color\":\"#C8D4E3\"},\"line\":{\"color\":\"white\"}},\"type\":\"table\"}]},\"layout\":{\"annotationdefaults\":{\"arrowcolor\":\"#2a3f5f\",\"arrowhead\":0,\"arrowwidth\":1},\"autotypenumbers\":\"strict\",\"coloraxis\":{\"colorbar\":{\"outlinewidth\":0,\"ticks\":\"\"}},\"colorscale\":{\"diverging\":[[0,\"#8e0152\"],[0.1,\"#c51b7d\"],[0.2,\"#de77ae\"],[0.3,\"#f1b6da\"],[0.4,\"#fde0ef\"],[0.5,\"#f7f7f7\"],[0.6,\"#e6f5d0\"],[0.7,\"#b8e186\"],[0.8,\"#7fbc41\"],[0.9,\"#4d9221\"],[1,\"#276419\"]],\"sequential\":[[0.0,\"#0d0887\"],[0.1111111111111111,\"#46039f\"],[0.2222222222222222,\"#7201a8\"],[0.3333333333333333,\"#9c179e\"],[0.4444444444444444,\"#bd3786\"],[0.5555555555555556,\"#d8576b\"],[0.6666666666666666,\"#ed7953\"],[0.7777777777777778,\"#fb9f3a\"],[0.8888888888888888,\"#fdca26\"],[1.0,\"#f0f921\"]],\"sequentialminus\":[[0.0,\"#0d0887\"],[0.1111111111111111,\"#46039f\"],[0.2222222222222222,\"#7201a8\"],[0.3333333333333333,\"#9c179e\"],[0.4444444444444444,\"#bd3786\"],[0.5555555555555556,\"#d8576b\"],[0.6666666666666666,\"#ed7953\"],[0.7777777777777778,\"#fb9f3a\"],[0.8888888888888888,\"#fdca26\"],[1.0,\"#f0f921\"]]},\"colorway\":[\"#636efa\",\"#EF553B\",\"#00cc96\",\"#ab63fa\",\"#FFA15A\",\"#19d3f3\",\"#FF6692\",\"#B6E880\",\"#FF97FF\",\"#FECB52\"],\"font\":{\"color\":\"#2a3f5f\"},\"geo\":{\"bgcolor\":\"white\",\"lakecolor\":\"white\",\"landcolor\":\"#E5ECF6\",\"showlakes\":true,\"showland\":true,\"subunitcolor\":\"white\"},\"hoverlabel\":{\"align\":\"left\"},\"hovermode\":\"closest\",\"mapbox\":{\"style\":\"light\"},\"paper_bgcolor\":\"white\",\"plot_bgcolor\":\"#E5ECF6\",\"polar\":{\"angularaxis\":{\"gridcolor\":\"white\",\"linecolor\":\"white\",\"ticks\":\"\"},\"bgcolor\":\"#E5ECF6\",\"radialaxis\":{\"gridcolor\":\"white\",\"linecolor\":\"white\",\"ticks\":\"\"}},\"scene\":{\"xaxis\":{\"backgroundcolor\":\"#E5ECF6\",\"gridcolor\":\"white\",\"gridwidth\":2,\"linecolor\":\"white\",\"showbackground\":true,\"ticks\":\"\",\"zerolinecolor\":\"white\"},\"yaxis\":{\"backgroundcolor\":\"#E5ECF6\",\"gridcolor\":\"white\",\"gridwidth\":2,\"linecolor\":\"white\",\"showbackground\":true,\"ticks\":\"\",\"zerolinecolor\":\"white\"},\"zaxis\":{\"backgroundcolor\":\"#E5ECF6\",\"gridcolor\":\"white\",\"gridwidth\":2,\"linecolor\":\"white\",\"showbackground\":true,\"ticks\":\"\",\"zerolinecolor\":\"white\"}},\"shapedefaults\":{\"line\":{\"color\":\"#2a3f5f\"}},\"ternary\":{\"aaxis\":{\"gridcolor\":\"white\",\"linecolor\":\"white\",\"ticks\":\"\"},\"baxis\":{\"gridcolor\":\"white\",\"linecolor\":\"white\",\"ticks\":\"\"},\"bgcolor\":\"#E5ECF6\",\"caxis\":{\"gridcolor\":\"white\",\"linecolor\":\"white\",\"ticks\":\"\"}},\"title\":{\"x\":0.05},\"xaxis\":{\"automargin\":true,\"gridcolor\":\"white\",\"linecolor\":\"white\",\"ticks\":\"\",\"title\":{\"standoff\":15},\"zerolinecolor\":\"white\",\"zerolinewidth\":2},\"yaxis\":{\"automargin\":true,\"gridcolor\":\"white\",\"linecolor\":\"white\",\"ticks\":\"\",\"title\":{\"standoff\":15},\"zerolinecolor\":\"white\",\"zerolinewidth\":2}}},\"title\":{\"text\":\"Pressure and Density during NPT Equilibration\"},\"xaxis\":{\"anchor\":\"y\",\"domain\":[0.0,0.45],\"title\":{\"text\":\"Time (ps)\"}},\"yaxis\":{\"anchor\":\"x\",\"domain\":[0.0,1.0],\"title\":{\"text\":\"Pressure (bar)\"}},\"xaxis2\":{\"anchor\":\"y2\",\"domain\":[0.55,1.0],\"title\":{\"text\":\"Time (ps)\"}},\"yaxis2\":{\"anchor\":\"x2\",\"domain\":[0.0,1.0],\"title\":{\"text\":\"Density (Kg*m^-3)\"}}},                        {\"responsive\": true}                    ).then(function(){\n",
       "                            \n",
       "var gd = document.getElementById('9ab11a9b-ad49-4ce5-beb7-0507379d12a5');\n",
       "var x = new MutationObserver(function (mutations, observer) {{\n",
       "        var display = window.getComputedStyle(gd).display;\n",
       "        if (!display || display === 'none') {{\n",
       "            console.log([gd, 'removed!']);\n",
       "            Plotly.purge(gd);\n",
       "            observer.disconnect();\n",
       "        }}\n",
       "}});\n",
       "\n",
       "// Listen for the removal of the full notebook cells\n",
       "var notebookContainer = gd.closest('#notebook-container');\n",
       "if (notebookContainer) {{\n",
       "    x.observe(notebookContainer, {childList: true});\n",
       "}}\n",
       "\n",
       "// Listen for the clearing of the current output cell\n",
       "var outputEl = gd.closest('.output');\n",
       "if (outputEl) {{\n",
       "    x.observe(outputEl, {childList: true});\n",
       "}}\n",
       "\n",
       "                        })                };                });            </script>        </div>"
      ]
     },
     "metadata": {},
     "output_type": "display_data"
    }
   ],
   "source": [
    "with open(\"output/sander.npt.dat\",'r') as pd_file:\n",
    "    x,y,z = map(\n",
    "        list,\n",
    "        zip(*[\n",
    "            (float(line.split()[0]),float(line.split()[1]),float(line.split()[2]))\n",
    "            for line in pd_file \n",
    "            if not line.startswith((\"#\",\"@\")) \n",
    "        ])\n",
    "    )\n",
    "\n",
    "plotly.offline.init_notebook_mode(connected=True)\n",
    "\n",
    "trace1 = go.Scatter(\n",
    "    x=x,y=y\n",
    ")\n",
    "trace2 = go.Scatter(\n",
    "    x=x,y=z\n",
    ")\n",
    "\n",
    "fig = subplots.make_subplots(rows=1, cols=2, print_grid=False)\n",
    "\n",
    "fig.append_trace(trace1, 1, 1)\n",
    "fig.append_trace(trace2, 1, 2)\n",
    "\n",
    "fig['layout']['xaxis1'].update(title='Time (ps)')\n",
    "fig['layout']['xaxis2'].update(title='Time (ps)')\n",
    "fig['layout']['yaxis1'].update(title='Pressure (bar)')\n",
    "fig['layout']['yaxis2'].update(title='Density (Kg*m^-3)')\n",
    "\n",
    "fig['layout'].update(title='Pressure and Density during NPT Equilibration')\n",
    "fig['layout'].update(showlegend=False)\n",
    "\n",
    "plotly.offline.iplot(fig)"
   ]
  },
  {
   "cell_type": "markdown",
   "id": "38755fdb",
   "metadata": {},
   "source": [
    "# Running MD"
   ]
  },
  {
   "cell_type": "code",
   "execution_count": 12,
   "id": "f15e6cbe",
   "metadata": {},
   "outputs": [
    {
     "name": "stdout",
     "output_type": "stream",
     "text": [
      "2022-07-08 12:31:20,747 [MainThread  ] [INFO ]  Creating c0540917-0aa1-48e3-9d7b-301611385ad9 temporary folder\n",
      "2022-07-08 12:31:20,748 [MainThread  ] [INFO ]  Creating command line with instructions and required arguments\n",
      "2022-07-08 12:35:38,713 [MainThread  ] [INFO ]  sander -O -i c0540917-0aa1-48e3-9d7b-301611385ad9/sander.mdin -p input/structure.ions.parmtop -c output/sander.npt.rst -r output/sander.free.rst -o output/sander.free.log -x output/sander.free.netcdf\n",
      "\n",
      "2022-07-08 12:35:38,715 [MainThread  ] [INFO ]  Exit code 0\n",
      "\n",
      "2022-07-08 12:35:38,718 [MainThread  ] [INFO ]  Removed: mdinfo, c0540917-0aa1-48e3-9d7b-301611385ad9\n"
     ]
    },
    {
     "data": {
      "text/plain": [
       "0"
      ]
     },
     "execution_count": 12,
     "metadata": {},
     "output_type": "execute_result"
    }
   ],
   "source": [
    "from biobb_amber.sander.sander_mdrun import sander_mdrun\n",
    "\n",
    "prop = {\n",
    "    \"simulation_type\" : 'free',\n",
    "    \"mdin\" : { \n",
    "        'nstlim' : 500, # Reducing the number of steps for the sake of time (1ps)\n",
    "        'ntwx' : 100  # Print coords to trajectory every 500 steps (0.2 ps)\n",
    "    }\n",
    "}\n",
    "\n",
    "sander_mdrun(input_top_path=\"input/structure.ions.parmtop\",\n",
    "            input_crd_path=\"output/sander.npt.rst\",\n",
    "            output_traj_path=\"output/sander.free.netcdf\",\n",
    "            output_rst_path=\"output/sander.free.rst\",\n",
    "            output_log_path=\"output/sander.free.log\",\n",
    "            properties=prop)"
   ]
  },
  {
   "cell_type": "code",
   "execution_count": 13,
   "id": "29f8dc42",
   "metadata": {},
   "outputs": [
    {
     "name": "stdout",
     "output_type": "stream",
     "text": [
      "2022-07-08 12:35:42,804 [MainThread  ] [INFO ]  Not using any container\n",
      "2022-07-08 12:35:43,672 [MainThread  ] [INFO ]  cpptraj -i 31cffe2c-4fc5-445b-8dcb-9de9d867c7b9/instructions.in\n",
      "\n",
      "2022-07-08 12:35:43,674 [MainThread  ] [INFO ]  Exit code 0\n",
      "\n",
      "2022-07-08 12:35:43,674 [MainThread  ] [INFO ]  \n",
      "CPPTRAJ: Trajectory Analysis. V4.25.6\n",
      "    ___  ___  ___  ___\n",
      "     | \\/ | \\/ | \\/ | \n",
      "    _|_/\\_|_/\\_|_/\\_|_\n",
      "\n",
      "| Date/time: 07/08/22 12:35:43\n",
      "| Available memory: 1.643 GB\n",
      "\n",
      "INPUT: Reading input from '31cffe2c-4fc5-445b-8dcb-9de9d867c7b9/instructions.in'\n",
      "  [parm input/structure.ions.parmtop]\n",
      "\tReading 'input/structure.ions.parmtop' as Amber Topology\n",
      "\tRadius Set: modified Bondi radii (mbondi)\n",
      "  [trajin output/sander.free.netcdf 1 -1 1]\n",
      "\tReading 'output/sander.free.netcdf' as Amber NetCDF\n",
      "  [center !@H*,1H*,2H*,3H* origin]\n",
      "    CENTER: Centering coordinates using geometric center of atoms in mask (!@H*,1H*,2H*,3H*) to\n",
      "\tcoordinate origin.\n",
      "  [autoimage]\n",
      "    AUTOIMAGE: To box center based on center of mass, anchor is first molecule.\n",
      "  [rms first !@H*,1H*,2H*,3H*]\n",
      "    RMSD: (!@H*,1H*,2H*,3H*), reference is first frame (!@H*,1H*,2H*,3H*).\n",
      "\tBest-fit RMSD will be calculated, coords will be rotated and translated.\n",
      "  [strip :WAT,HOH,SOL,TIP3,TP3,SOD,CLA,Na+,Cl-,NA,CL,K+,K]\n",
      "    STRIP: Stripping atoms in mask [:WAT,HOH,SOL,TIP3,TP3,SOD,CLA,Na+,Cl-,NA,CL,K+,K]\n",
      "  [strip !@C,CA,N,O,C3',O3',C4',C5',O5',P]\n",
      "    STRIP: Stripping atoms in mask [!@C,CA,N,O,C3',O3',C4',C5',O5',P]\n",
      "  [rms first out output/4rc7_rms_first.dat]\n",
      "    RMSD: (*), reference is first frame (*).\n",
      "\tBest-fit RMSD will be calculated, coords will be rotated and translated.\n",
      "---------- RUN BEGIN -------------------------------------------------\n",
      "\n",
      "PARAMETER FILES (1 total):\n",
      " 0: structure.ions.parmtop, 25484 atoms, 7574 res, box: Trunc. Oct., 7355 mol, 7298 solvent\n",
      "\n",
      "INPUT TRAJECTORIES (1 total):\n",
      " 0: 'sander.free.netcdf' is a NetCDF AMBER trajectory with coordinates, time, box, Parm structure.ions.parmtop (Trunc. Oct. box) (reading 5 of 5)\n",
      "  Coordinate processing will occur on 5 frames.\n",
      "\n",
      "BEGIN TRAJECTORY PROCESSING:\n",
      ".....................................................\n",
      "ACTION SETUP FOR PARM 'structure.ions.parmtop' (6 actions):\n",
      "  0: [center !@H*,1H*,2H*,3H* origin]\n",
      "\tMask [!@H*,1H*,2H*,3H*] corresponds to 9138 atoms.\n",
      "  1: [autoimage]\n",
      "\tOriginal box is truncated octahedron, turning on 'familiar'.\n",
      "\tUsing first molecule as anchor.\n",
      "\t1 molecules are fixed to anchor: 2\n",
      "\t7353 molecules are mobile.\n",
      "  2: [rms first !@H*,1H*,2H*,3H*]\n",
      "\tTarget mask: [!@H*,1H*,2H*,3H*](9138)\n",
      "\tReference mask: [!@H*,1H*,2H*,3H*](9138)\n",
      "Warning: Coordinates are being rotated and box coordinates are present.\n",
      "Warning: Unit cell vectors are NOT rotated; imaging will not be possible\n",
      "Warning:  after the RMS-fit is performed.\n",
      "  3: [strip :WAT,HOH,SOL,TIP3,TP3,SOD,CLA,Na+,Cl-,NA,CL,K+,K]\n",
      "\tStripping 21949 atoms.\n",
      "\tStripped topology: 3535 atoms, 221 res, box: Trunc. Oct., 2 mol\n",
      "  4: [strip !@C,CA,N,O,C3',O3',C4',C5',O5',P]\n",
      "\tStripping 2654 atoms.\n",
      "\tStripped topology: 881 atoms, 221 res, box: Trunc. Oct., 2 mol\n",
      "  5: [rms first out output/4rc7_rms_first.dat]\n",
      "\tTarget mask: [*](881)\n",
      "\tReference mask: [*](881)\n",
      "Warning: Coordinates are being rotated and box coordinates are present.\n",
      "Warning: Unit cell vectors are NOT rotated; imaging will not be possible\n",
      "Warning:  after the RMS-fit is performed.\n",
      "----- sander.free.netcdf (1-5, 1) -----\n",
      " 0% 25% 50% 75% 100% Complete.\n",
      "\n",
      "Read 5 frames and processed 5 frames.\n",
      "TIME: Avg. throughput= 290.8837 frames / second.\n",
      "\n",
      "ACTION OUTPUT:\n",
      "TIME: Analyses took 0.0000 seconds.\n",
      "\n",
      "DATASETS (2 total):\n",
      "\tRMSD_00001 \"RMSD_00001\" (double, rms), size is 5 (0.040 kB)\n",
      "\tRMSD_00002 \"RMSD_00002\" (double, rms), size is 5 (0.040 kB)\n",
      "    Total data set memory usage is at least 0.080 kB\n",
      "\n",
      "DATAFILES (1 total):\n",
      "  4rc7_rms_first.dat (Standard Data File):  RMSD_00002\n",
      "\n",
      "RUN TIMING:\n",
      "TIME:\t\tInit               : 0.0000 s (  0.10%)\n",
      "TIME:\t\tTrajectory Process : 0.0172 s ( 94.92%)\n",
      "TIME:\t\tAction Post        : 0.0000 s (  0.01%)\n",
      "TIME:\t\tAnalysis           : 0.0000 s (  0.00%)\n",
      "TIME:\t\tData File Write    : 0.0003 s (  1.47%)\n",
      "TIME:\t\tOther              : 0.0006 s (  0.04%)\n",
      "TIME:\tRun Total 0.0181 s\n",
      "---------- RUN END ---------------------------------------------------\n",
      "TIME: Total execution time: 0.0844 seconds.\n",
      "--------------------------------------------------------------------------------\n",
      "To cite CPPTRAJ use:\n",
      "Daniel R. Roe and Thomas E. Cheatham, III, \"PTRAJ and CPPTRAJ: Software for\n",
      "  Processing and Analysis of Molecular Dynamics Trajectory Data\". J. Chem.\n",
      "  Theory Comput., 2013, 9 (7), pp 3084-3095.\n",
      "\n",
      "\n",
      "2022-07-08 12:35:43,678 [MainThread  ] [INFO ]  Removed: [PurePosixPath('31cffe2c-4fc5-445b-8dcb-9de9d867c7b9')]\n"
     ]
    },
    {
     "data": {
      "text/plain": [
       "0"
      ]
     },
     "execution_count": 13,
     "metadata": {},
     "output_type": "execute_result"
    }
   ],
   "source": [
    "from biobb_analysis.ambertools.cpptraj_rms import cpptraj_rms\n",
    "\n",
    "prop = {\n",
    "    'mask': 'backbone',\n",
    "    'reference': 'first'\n",
    "}\n",
    "\n",
    "cpptraj_rms(input_top_path=\"input/structure.ions.parmtop\",\n",
    "            input_traj_path=\"output/sander.free.netcdf\",\n",
    "            output_cpptraj_path=f\"output/{pdbCode}_rms_first.dat\",\n",
    "            properties=prop)"
   ]
  },
  {
   "cell_type": "code",
   "execution_count": 15,
   "id": "aa32a64f",
   "metadata": {},
   "outputs": [
    {
     "name": "stdout",
     "output_type": "stream",
     "text": [
      "2022-07-08 12:35:52,965 [MainThread  ] [INFO ]  Not using any container\n",
      "2022-07-08 12:35:53,136 [MainThread  ] [INFO ]  cpptraj -i 3056d978-caa0-4477-98f3-06e1ac307399/instructions.in\n",
      "\n",
      "2022-07-08 12:35:53,137 [MainThread  ] [INFO ]  Exit code 0\n",
      "\n",
      "2022-07-08 12:35:53,139 [MainThread  ] [INFO ]  \n",
      "CPPTRAJ: Trajectory Analysis. V4.25.6\n",
      "    ___  ___  ___  ___\n",
      "     | \\/ | \\/ | \\/ | \n",
      "    _|_/\\_|_/\\_|_/\\_|_\n",
      "\n",
      "| Date/time: 07/08/22 12:35:53\n",
      "| Available memory: 1.669 GB\n",
      "\n",
      "INPUT: Reading input from '3056d978-caa0-4477-98f3-06e1ac307399/instructions.in'\n",
      "  [parm input/structure.ions.parmtop]\n",
      "\tReading 'input/structure.ions.parmtop' as Amber Topology\n",
      "\tRadius Set: modified Bondi radii (mbondi)\n",
      "  [trajin output/sander.free.netcdf 1 -1 1]\n",
      "\tReading 'output/sander.free.netcdf' as Amber NetCDF\n",
      "  [center !@H*,1H*,2H*,3H* origin]\n",
      "    CENTER: Centering coordinates using geometric center of atoms in mask (!@H*,1H*,2H*,3H*) to\n",
      "\tcoordinate origin.\n",
      "  [autoimage]\n",
      "    AUTOIMAGE: To box center based on center of mass, anchor is first molecule.\n",
      "  [rms first !@H*,1H*,2H*,3H*]\n",
      "    RMSD: (!@H*,1H*,2H*,3H*), reference is first frame (!@H*,1H*,2H*,3H*).\n",
      "\tBest-fit RMSD will be calculated, coords will be rotated and translated.\n",
      "  [strip :WAT,HOH,SOL,TIP3,TP3,SOD,CLA,Na+,Cl-,NA,CL,K+,K]\n",
      "    STRIP: Stripping atoms in mask [:WAT,HOH,SOL,TIP3,TP3,SOD,CLA,Na+,Cl-,NA,CL,K+,K]\n",
      "  [strip !@C,CA,N,O,C3',O3',C4',C5',O5',P]\n",
      "    STRIP: Stripping atoms in mask [!@C,CA,N,O,C3',O3',C4',C5',O5',P]\n",
      "  [parm input/structure.leap.pdb noconect [exp]]\n",
      "\tReading 'input/structure.leap.pdb' as PDB File\n",
      "\tNot reading bond info from CONECT records.\n",
      "\tNot reading bond info from LINK records.\n",
      "Warning: PDB line length is short (67 chars, expected 80).\n",
      "\tDetermining bond info from distances.\n",
      "Warning: structure.leap.pdb: Determining default bond distances from element types.\n",
      "  [reference input/structure.leap.pdb !:WAT,HOH,SOL,TIP3,TP3,SOD,CLA,Na+,Cl-,NA,CL,K+,K parm [exp]]\n",
      "\tReading 'input/structure.leap.pdb' as PDB\n",
      "Warning: PDB line length is short (67 chars, expected 80).\n",
      "\tStripped ref parm: 3535 atoms, 221 res, box: None, 2 mol\n",
      "\tSetting active reference for distance-based masks: 'structure.leap.pdb'\n",
      "Warning: Active reference has only 3535 atoms, parm 'structure.ions.parmtop' has 25484.\n",
      "Warning: Parm will only have reference coordinates for the first 3535 atoms (distance-based masks only).\n",
      "  [rms reference @C,CA,N,O,C3',O3',C4',C5',O5',P out output/4rc7_rms_exp.dat]\n",
      "    RMSD: (@C,CA,N,O,C3',O3',C4',C5',O5',P), reference is \"structure.leap.pdb:1\" (@C,CA,N,O,C3',O3',C4',C5',O5',P).\n",
      "\tBest-fit RMSD will be calculated, coords will be rotated and translated.\n",
      "---------- RUN BEGIN -------------------------------------------------\n",
      "\n",
      "PARAMETER FILES (2 total):\n",
      " 0: structure.ions.parmtop, 25484 atoms, 7574 res, box: Trunc. Oct., 7355 mol, 7298 solvent\n",
      " 1: [exp] structure.leap.pdb, 3535 atoms, 221 res, box: None, 2 mol\n",
      "\n",
      "INPUT TRAJECTORIES (1 total):\n",
      " 0: 'sander.free.netcdf' is a NetCDF AMBER trajectory with coordinates, time, box, Parm structure.ions.parmtop (Trunc. Oct. box) (reading 5 of 5)\n",
      "  Coordinate processing will occur on 5 frames.\n",
      "\n",
      "REFERENCE FRAMES (1 total):\n",
      "    0: structure.leap.pdb:1\n",
      "\tActive reference frame for distance-based masks is 'structure.leap.pdb:1'\n",
      "\n",
      "BEGIN TRAJECTORY PROCESSING:\n",
      ".....................................................\n",
      "ACTION SETUP FOR PARM 'structure.ions.parmtop' (6 actions):\n",
      "  0: [center !@H*,1H*,2H*,3H* origin]\n",
      "\tMask [!@H*,1H*,2H*,3H*] corresponds to 9138 atoms.\n",
      "  1: [autoimage]\n",
      "\tOriginal box is truncated octahedron, turning on 'familiar'.\n",
      "\tUsing first molecule as anchor.\n",
      "\t1 molecules are fixed to anchor: 2\n",
      "\t7353 molecules are mobile.\n",
      "  2: [rms first !@H*,1H*,2H*,3H*]\n",
      "\tTarget mask: [!@H*,1H*,2H*,3H*](9138)\n",
      "\tReference mask: [!@H*,1H*,2H*,3H*](9138)\n",
      "Warning: Coordinates are being rotated and box coordinates are present.\n",
      "Warning: Unit cell vectors are NOT rotated; imaging will not be possible\n",
      "Warning:  after the RMS-fit is performed.\n",
      "  3: [strip :WAT,HOH,SOL,TIP3,TP3,SOD,CLA,Na+,Cl-,NA,CL,K+,K]\n",
      "\tStripping 21949 atoms.\n",
      "\tStripped topology: 3535 atoms, 221 res, box: Trunc. Oct., 2 mol\n",
      "  4: [strip !@C,CA,N,O,C3',O3',C4',C5',O5',P]\n",
      "\tStripping 2654 atoms.\n",
      "\tStripped topology: 881 atoms, 221 res, box: Trunc. Oct., 2 mol\n",
      "  5: [rms reference @C,CA,N,O,C3',O3',C4',C5',O5',P out output/4rc7_rms_exp.dat]\n",
      "\tTarget mask: [@C,CA,N,O,C3',O3',C4',C5',O5',P](881)\n",
      "\tReference mask: [@C,CA,N,O,C3',O3',C4',C5',O5',P](881)\n",
      "Warning: Coordinates are being rotated and box coordinates are present.\n",
      "Warning: Unit cell vectors are NOT rotated; imaging will not be possible\n",
      "Warning:  after the RMS-fit is performed.\n",
      "----- sander.free.netcdf (1-5, 1) -----\n",
      " 0% 25% 50% 75% 100% Complete.\n",
      "\n",
      "Read 5 frames and processed 5 frames.\n",
      "TIME: Avg. throughput= 307.2574 frames / second.\n",
      "\n",
      "ACTION OUTPUT:\n",
      "TIME: Analyses took 0.0000 seconds.\n",
      "\n",
      "DATASETS (2 total):\n",
      "\tRMSD_00001 \"RMSD_00001\" (double, rms), size is 5 (0.040 kB)\n",
      "\tRMSD_00004 \"RMSD_00004\" (double, rms), size is 5 (0.040 kB)\n",
      "    Total data set memory usage is at least 0.080 kB\n",
      "\n",
      "DATAFILES (1 total):\n",
      "  4rc7_rms_exp.dat (Standard Data File):  RMSD_00004\n",
      "\n",
      "RUN TIMING:\n",
      "TIME:\t\tInit               : 0.0000 s (  0.09%)\n",
      "TIME:\t\tTrajectory Process : 0.0163 s ( 95.17%)\n",
      "TIME:\t\tAction Post        : 0.0000 s (  0.00%)\n",
      "TIME:\t\tAnalysis           : 0.0000 s (  0.01%)\n",
      "TIME:\t\tData File Write    : 0.0003 s (  1.80%)\n",
      "TIME:\t\tOther              : 0.0005 s (  0.03%)\n",
      "TIME:\tRun Total 0.0171 s\n",
      "---------- RUN END ---------------------------------------------------\n",
      "TIME: Total execution time: 0.1227 seconds.\n",
      "--------------------------------------------------------------------------------\n",
      "To cite CPPTRAJ use:\n",
      "Daniel R. Roe and Thomas E. Cheatham, III, \"PTRAJ and CPPTRAJ: Software for\n",
      "  Processing and Analysis of Molecular Dynamics Trajectory Data\". J. Chem.\n",
      "  Theory Comput., 2013, 9 (7), pp 3084-3095.\n",
      "\n",
      "\n",
      "2022-07-08 12:35:53,142 [MainThread  ] [INFO ]  Removed: [PurePosixPath('3056d978-caa0-4477-98f3-06e1ac307399')]\n"
     ]
    },
    {
     "data": {
      "text/plain": [
       "0"
      ]
     },
     "execution_count": 15,
     "metadata": {},
     "output_type": "execute_result"
    }
   ],
   "source": [
    "from biobb_analysis.ambertools.cpptraj_rms import cpptraj_rms\n",
    "\n",
    "prop = {\n",
    "    'mask': 'backbone',\n",
    "    'reference': 'experimental'\n",
    "}\n",
    "\n",
    "cpptraj_rms(input_top_path=\"input/structure.ions.parmtop\",\n",
    "            input_traj_path=\"output/sander.free.netcdf\",\n",
    "            output_cpptraj_path=f\"output/{pdbCode}_rms_exp.dat\",\n",
    "            input_exp_path=\"input/structure.leap.pdb\",\n",
    "            properties=prop)"
   ]
  },
  {
   "cell_type": "code",
   "execution_count": 24,
   "id": "79c2af28",
   "metadata": {},
   "outputs": [
    {
     "data": {
      "text/html": [
       "        <script type=\"text/javascript\">\n",
       "        window.PlotlyConfig = {MathJaxConfig: 'local'};\n",
       "        if (window.MathJax && window.MathJax.Hub && window.MathJax.Hub.Config) {window.MathJax.Hub.Config({SVG: {font: \"STIX-Web\"}});}\n",
       "        if (typeof require !== 'undefined') {\n",
       "        require.undef(\"plotly\");\n",
       "        requirejs.config({\n",
       "            paths: {\n",
       "                'plotly': ['https://cdn.plot.ly/plotly-2.12.1.min']\n",
       "            }\n",
       "        });\n",
       "        require(['plotly'], function(Plotly) {\n",
       "            window._Plotly = Plotly;\n",
       "        });\n",
       "        }\n",
       "        </script>\n",
       "        "
      ]
     },
     "metadata": {},
     "output_type": "display_data"
    },
    {
     "data": {
      "application/vnd.plotly.v1+json": {
       "config": {
        "linkText": "Export to plot.ly",
        "plotlyServerURL": "https://plot.ly",
        "showLink": false
       },
       "data": [
        {
         "name": "RMSd vs first",
         "type": "scatter",
         "x": [
          0.2,
          0.4,
          0.6000000000000001,
          0.8,
          1
         ],
         "y": [
          0,
          0.2981,
          0.4631,
          0.6075,
          0.684
         ]
        },
        {
         "name": "RMSd vs exp",
         "type": "scatter",
         "x": [
          0.2,
          0.4,
          0.6000000000000001,
          0.8,
          1
         ],
         "y": [
          0.3474,
          0.5095,
          0.6318,
          0.7504,
          0.8147
         ]
        }
       ],
       "layout": {
        "template": {
         "data": {
          "bar": [
           {
            "error_x": {
             "color": "#2a3f5f"
            },
            "error_y": {
             "color": "#2a3f5f"
            },
            "marker": {
             "line": {
              "color": "#E5ECF6",
              "width": 0.5
             },
             "pattern": {
              "fillmode": "overlay",
              "size": 10,
              "solidity": 0.2
             }
            },
            "type": "bar"
           }
          ],
          "barpolar": [
           {
            "marker": {
             "line": {
              "color": "#E5ECF6",
              "width": 0.5
             },
             "pattern": {
              "fillmode": "overlay",
              "size": 10,
              "solidity": 0.2
             }
            },
            "type": "barpolar"
           }
          ],
          "carpet": [
           {
            "aaxis": {
             "endlinecolor": "#2a3f5f",
             "gridcolor": "white",
             "linecolor": "white",
             "minorgridcolor": "white",
             "startlinecolor": "#2a3f5f"
            },
            "baxis": {
             "endlinecolor": "#2a3f5f",
             "gridcolor": "white",
             "linecolor": "white",
             "minorgridcolor": "white",
             "startlinecolor": "#2a3f5f"
            },
            "type": "carpet"
           }
          ],
          "choropleth": [
           {
            "colorbar": {
             "outlinewidth": 0,
             "ticks": ""
            },
            "type": "choropleth"
           }
          ],
          "contour": [
           {
            "colorbar": {
             "outlinewidth": 0,
             "ticks": ""
            },
            "colorscale": [
             [
              0,
              "#0d0887"
             ],
             [
              0.1111111111111111,
              "#46039f"
             ],
             [
              0.2222222222222222,
              "#7201a8"
             ],
             [
              0.3333333333333333,
              "#9c179e"
             ],
             [
              0.4444444444444444,
              "#bd3786"
             ],
             [
              0.5555555555555556,
              "#d8576b"
             ],
             [
              0.6666666666666666,
              "#ed7953"
             ],
             [
              0.7777777777777778,
              "#fb9f3a"
             ],
             [
              0.8888888888888888,
              "#fdca26"
             ],
             [
              1,
              "#f0f921"
             ]
            ],
            "type": "contour"
           }
          ],
          "contourcarpet": [
           {
            "colorbar": {
             "outlinewidth": 0,
             "ticks": ""
            },
            "type": "contourcarpet"
           }
          ],
          "heatmap": [
           {
            "colorbar": {
             "outlinewidth": 0,
             "ticks": ""
            },
            "colorscale": [
             [
              0,
              "#0d0887"
             ],
             [
              0.1111111111111111,
              "#46039f"
             ],
             [
              0.2222222222222222,
              "#7201a8"
             ],
             [
              0.3333333333333333,
              "#9c179e"
             ],
             [
              0.4444444444444444,
              "#bd3786"
             ],
             [
              0.5555555555555556,
              "#d8576b"
             ],
             [
              0.6666666666666666,
              "#ed7953"
             ],
             [
              0.7777777777777778,
              "#fb9f3a"
             ],
             [
              0.8888888888888888,
              "#fdca26"
             ],
             [
              1,
              "#f0f921"
             ]
            ],
            "type": "heatmap"
           }
          ],
          "heatmapgl": [
           {
            "colorbar": {
             "outlinewidth": 0,
             "ticks": ""
            },
            "colorscale": [
             [
              0,
              "#0d0887"
             ],
             [
              0.1111111111111111,
              "#46039f"
             ],
             [
              0.2222222222222222,
              "#7201a8"
             ],
             [
              0.3333333333333333,
              "#9c179e"
             ],
             [
              0.4444444444444444,
              "#bd3786"
             ],
             [
              0.5555555555555556,
              "#d8576b"
             ],
             [
              0.6666666666666666,
              "#ed7953"
             ],
             [
              0.7777777777777778,
              "#fb9f3a"
             ],
             [
              0.8888888888888888,
              "#fdca26"
             ],
             [
              1,
              "#f0f921"
             ]
            ],
            "type": "heatmapgl"
           }
          ],
          "histogram": [
           {
            "marker": {
             "pattern": {
              "fillmode": "overlay",
              "size": 10,
              "solidity": 0.2
             }
            },
            "type": "histogram"
           }
          ],
          "histogram2d": [
           {
            "colorbar": {
             "outlinewidth": 0,
             "ticks": ""
            },
            "colorscale": [
             [
              0,
              "#0d0887"
             ],
             [
              0.1111111111111111,
              "#46039f"
             ],
             [
              0.2222222222222222,
              "#7201a8"
             ],
             [
              0.3333333333333333,
              "#9c179e"
             ],
             [
              0.4444444444444444,
              "#bd3786"
             ],
             [
              0.5555555555555556,
              "#d8576b"
             ],
             [
              0.6666666666666666,
              "#ed7953"
             ],
             [
              0.7777777777777778,
              "#fb9f3a"
             ],
             [
              0.8888888888888888,
              "#fdca26"
             ],
             [
              1,
              "#f0f921"
             ]
            ],
            "type": "histogram2d"
           }
          ],
          "histogram2dcontour": [
           {
            "colorbar": {
             "outlinewidth": 0,
             "ticks": ""
            },
            "colorscale": [
             [
              0,
              "#0d0887"
             ],
             [
              0.1111111111111111,
              "#46039f"
             ],
             [
              0.2222222222222222,
              "#7201a8"
             ],
             [
              0.3333333333333333,
              "#9c179e"
             ],
             [
              0.4444444444444444,
              "#bd3786"
             ],
             [
              0.5555555555555556,
              "#d8576b"
             ],
             [
              0.6666666666666666,
              "#ed7953"
             ],
             [
              0.7777777777777778,
              "#fb9f3a"
             ],
             [
              0.8888888888888888,
              "#fdca26"
             ],
             [
              1,
              "#f0f921"
             ]
            ],
            "type": "histogram2dcontour"
           }
          ],
          "mesh3d": [
           {
            "colorbar": {
             "outlinewidth": 0,
             "ticks": ""
            },
            "type": "mesh3d"
           }
          ],
          "parcoords": [
           {
            "line": {
             "colorbar": {
              "outlinewidth": 0,
              "ticks": ""
             }
            },
            "type": "parcoords"
           }
          ],
          "pie": [
           {
            "automargin": true,
            "type": "pie"
           }
          ],
          "scatter": [
           {
            "fillpattern": {
             "fillmode": "overlay",
             "size": 10,
             "solidity": 0.2
            },
            "type": "scatter"
           }
          ],
          "scatter3d": [
           {
            "line": {
             "colorbar": {
              "outlinewidth": 0,
              "ticks": ""
             }
            },
            "marker": {
             "colorbar": {
              "outlinewidth": 0,
              "ticks": ""
             }
            },
            "type": "scatter3d"
           }
          ],
          "scattercarpet": [
           {
            "marker": {
             "colorbar": {
              "outlinewidth": 0,
              "ticks": ""
             }
            },
            "type": "scattercarpet"
           }
          ],
          "scattergeo": [
           {
            "marker": {
             "colorbar": {
              "outlinewidth": 0,
              "ticks": ""
             }
            },
            "type": "scattergeo"
           }
          ],
          "scattergl": [
           {
            "marker": {
             "colorbar": {
              "outlinewidth": 0,
              "ticks": ""
             }
            },
            "type": "scattergl"
           }
          ],
          "scattermapbox": [
           {
            "marker": {
             "colorbar": {
              "outlinewidth": 0,
              "ticks": ""
             }
            },
            "type": "scattermapbox"
           }
          ],
          "scatterpolar": [
           {
            "marker": {
             "colorbar": {
              "outlinewidth": 0,
              "ticks": ""
             }
            },
            "type": "scatterpolar"
           }
          ],
          "scatterpolargl": [
           {
            "marker": {
             "colorbar": {
              "outlinewidth": 0,
              "ticks": ""
             }
            },
            "type": "scatterpolargl"
           }
          ],
          "scatterternary": [
           {
            "marker": {
             "colorbar": {
              "outlinewidth": 0,
              "ticks": ""
             }
            },
            "type": "scatterternary"
           }
          ],
          "surface": [
           {
            "colorbar": {
             "outlinewidth": 0,
             "ticks": ""
            },
            "colorscale": [
             [
              0,
              "#0d0887"
             ],
             [
              0.1111111111111111,
              "#46039f"
             ],
             [
              0.2222222222222222,
              "#7201a8"
             ],
             [
              0.3333333333333333,
              "#9c179e"
             ],
             [
              0.4444444444444444,
              "#bd3786"
             ],
             [
              0.5555555555555556,
              "#d8576b"
             ],
             [
              0.6666666666666666,
              "#ed7953"
             ],
             [
              0.7777777777777778,
              "#fb9f3a"
             ],
             [
              0.8888888888888888,
              "#fdca26"
             ],
             [
              1,
              "#f0f921"
             ]
            ],
            "type": "surface"
           }
          ],
          "table": [
           {
            "cells": {
             "fill": {
              "color": "#EBF0F8"
             },
             "line": {
              "color": "white"
             }
            },
            "header": {
             "fill": {
              "color": "#C8D4E3"
             },
             "line": {
              "color": "white"
             }
            },
            "type": "table"
           }
          ]
         },
         "layout": {
          "annotationdefaults": {
           "arrowcolor": "#2a3f5f",
           "arrowhead": 0,
           "arrowwidth": 1
          },
          "autotypenumbers": "strict",
          "coloraxis": {
           "colorbar": {
            "outlinewidth": 0,
            "ticks": ""
           }
          },
          "colorscale": {
           "diverging": [
            [
             0,
             "#8e0152"
            ],
            [
             0.1,
             "#c51b7d"
            ],
            [
             0.2,
             "#de77ae"
            ],
            [
             0.3,
             "#f1b6da"
            ],
            [
             0.4,
             "#fde0ef"
            ],
            [
             0.5,
             "#f7f7f7"
            ],
            [
             0.6,
             "#e6f5d0"
            ],
            [
             0.7,
             "#b8e186"
            ],
            [
             0.8,
             "#7fbc41"
            ],
            [
             0.9,
             "#4d9221"
            ],
            [
             1,
             "#276419"
            ]
           ],
           "sequential": [
            [
             0,
             "#0d0887"
            ],
            [
             0.1111111111111111,
             "#46039f"
            ],
            [
             0.2222222222222222,
             "#7201a8"
            ],
            [
             0.3333333333333333,
             "#9c179e"
            ],
            [
             0.4444444444444444,
             "#bd3786"
            ],
            [
             0.5555555555555556,
             "#d8576b"
            ],
            [
             0.6666666666666666,
             "#ed7953"
            ],
            [
             0.7777777777777778,
             "#fb9f3a"
            ],
            [
             0.8888888888888888,
             "#fdca26"
            ],
            [
             1,
             "#f0f921"
            ]
           ],
           "sequentialminus": [
            [
             0,
             "#0d0887"
            ],
            [
             0.1111111111111111,
             "#46039f"
            ],
            [
             0.2222222222222222,
             "#7201a8"
            ],
            [
             0.3333333333333333,
             "#9c179e"
            ],
            [
             0.4444444444444444,
             "#bd3786"
            ],
            [
             0.5555555555555556,
             "#d8576b"
            ],
            [
             0.6666666666666666,
             "#ed7953"
            ],
            [
             0.7777777777777778,
             "#fb9f3a"
            ],
            [
             0.8888888888888888,
             "#fdca26"
            ],
            [
             1,
             "#f0f921"
            ]
           ]
          },
          "colorway": [
           "#636efa",
           "#EF553B",
           "#00cc96",
           "#ab63fa",
           "#FFA15A",
           "#19d3f3",
           "#FF6692",
           "#B6E880",
           "#FF97FF",
           "#FECB52"
          ],
          "font": {
           "color": "#2a3f5f"
          },
          "geo": {
           "bgcolor": "white",
           "lakecolor": "white",
           "landcolor": "#E5ECF6",
           "showlakes": true,
           "showland": true,
           "subunitcolor": "white"
          },
          "hoverlabel": {
           "align": "left"
          },
          "hovermode": "closest",
          "mapbox": {
           "style": "light"
          },
          "paper_bgcolor": "white",
          "plot_bgcolor": "#E5ECF6",
          "polar": {
           "angularaxis": {
            "gridcolor": "white",
            "linecolor": "white",
            "ticks": ""
           },
           "bgcolor": "#E5ECF6",
           "radialaxis": {
            "gridcolor": "white",
            "linecolor": "white",
            "ticks": ""
           }
          },
          "scene": {
           "xaxis": {
            "backgroundcolor": "#E5ECF6",
            "gridcolor": "white",
            "gridwidth": 2,
            "linecolor": "white",
            "showbackground": true,
            "ticks": "",
            "zerolinecolor": "white"
           },
           "yaxis": {
            "backgroundcolor": "#E5ECF6",
            "gridcolor": "white",
            "gridwidth": 2,
            "linecolor": "white",
            "showbackground": true,
            "ticks": "",
            "zerolinecolor": "white"
           },
           "zaxis": {
            "backgroundcolor": "#E5ECF6",
            "gridcolor": "white",
            "gridwidth": 2,
            "linecolor": "white",
            "showbackground": true,
            "ticks": "",
            "zerolinecolor": "white"
           }
          },
          "shapedefaults": {
           "line": {
            "color": "#2a3f5f"
           }
          },
          "ternary": {
           "aaxis": {
            "gridcolor": "white",
            "linecolor": "white",
            "ticks": ""
           },
           "baxis": {
            "gridcolor": "white",
            "linecolor": "white",
            "ticks": ""
           },
           "bgcolor": "#E5ECF6",
           "caxis": {
            "gridcolor": "white",
            "linecolor": "white",
            "ticks": ""
           }
          },
          "title": {
           "x": 0.05
          },
          "xaxis": {
           "automargin": true,
           "gridcolor": "white",
           "linecolor": "white",
           "ticks": "",
           "title": {
            "standoff": 15
           },
           "zerolinecolor": "white",
           "zerolinewidth": 2
          },
          "yaxis": {
           "automargin": true,
           "gridcolor": "white",
           "linecolor": "white",
           "ticks": "",
           "title": {
            "standoff": 15
           },
           "zerolinecolor": "white",
           "zerolinewidth": 2
          }
         }
        },
        "title": {
         "text": "RMSd during free MD Simulation"
        },
        "xaxis": {
         "title": {
          "text": "Time (ps)"
         }
        },
        "yaxis": {
         "title": {
          "text": "RMSd (Angstrom)"
         }
        }
       }
      },
      "text/html": [
       "<div>                            <div id=\"9cdf83c3-732c-43de-b051-e1591349a7c9\" class=\"plotly-graph-div\" style=\"height:525px; width:100%;\"></div>            <script type=\"text/javascript\">                require([\"plotly\"], function(Plotly) {                    window.PLOTLYENV=window.PLOTLYENV || {};                                    if (document.getElementById(\"9cdf83c3-732c-43de-b051-e1591349a7c9\")) {                    Plotly.newPlot(                        \"9cdf83c3-732c-43de-b051-e1591349a7c9\",                        [{\"name\":\"RMSd vs first\",\"x\":[0.2,0.4,0.6000000000000001,0.8,1.0],\"y\":[0.0,0.2981,0.4631,0.6075,0.684],\"type\":\"scatter\"},{\"name\":\"RMSd vs exp\",\"x\":[0.2,0.4,0.6000000000000001,0.8,1.0],\"y\":[0.3474,0.5095,0.6318,0.7504,0.8147],\"type\":\"scatter\"}],                        {\"template\":{\"data\":{\"barpolar\":[{\"marker\":{\"line\":{\"color\":\"#E5ECF6\",\"width\":0.5},\"pattern\":{\"fillmode\":\"overlay\",\"size\":10,\"solidity\":0.2}},\"type\":\"barpolar\"}],\"bar\":[{\"error_x\":{\"color\":\"#2a3f5f\"},\"error_y\":{\"color\":\"#2a3f5f\"},\"marker\":{\"line\":{\"color\":\"#E5ECF6\",\"width\":0.5},\"pattern\":{\"fillmode\":\"overlay\",\"size\":10,\"solidity\":0.2}},\"type\":\"bar\"}],\"carpet\":[{\"aaxis\":{\"endlinecolor\":\"#2a3f5f\",\"gridcolor\":\"white\",\"linecolor\":\"white\",\"minorgridcolor\":\"white\",\"startlinecolor\":\"#2a3f5f\"},\"baxis\":{\"endlinecolor\":\"#2a3f5f\",\"gridcolor\":\"white\",\"linecolor\":\"white\",\"minorgridcolor\":\"white\",\"startlinecolor\":\"#2a3f5f\"},\"type\":\"carpet\"}],\"choropleth\":[{\"colorbar\":{\"outlinewidth\":0,\"ticks\":\"\"},\"type\":\"choropleth\"}],\"contourcarpet\":[{\"colorbar\":{\"outlinewidth\":0,\"ticks\":\"\"},\"type\":\"contourcarpet\"}],\"contour\":[{\"colorbar\":{\"outlinewidth\":0,\"ticks\":\"\"},\"colorscale\":[[0.0,\"#0d0887\"],[0.1111111111111111,\"#46039f\"],[0.2222222222222222,\"#7201a8\"],[0.3333333333333333,\"#9c179e\"],[0.4444444444444444,\"#bd3786\"],[0.5555555555555556,\"#d8576b\"],[0.6666666666666666,\"#ed7953\"],[0.7777777777777778,\"#fb9f3a\"],[0.8888888888888888,\"#fdca26\"],[1.0,\"#f0f921\"]],\"type\":\"contour\"}],\"heatmapgl\":[{\"colorbar\":{\"outlinewidth\":0,\"ticks\":\"\"},\"colorscale\":[[0.0,\"#0d0887\"],[0.1111111111111111,\"#46039f\"],[0.2222222222222222,\"#7201a8\"],[0.3333333333333333,\"#9c179e\"],[0.4444444444444444,\"#bd3786\"],[0.5555555555555556,\"#d8576b\"],[0.6666666666666666,\"#ed7953\"],[0.7777777777777778,\"#fb9f3a\"],[0.8888888888888888,\"#fdca26\"],[1.0,\"#f0f921\"]],\"type\":\"heatmapgl\"}],\"heatmap\":[{\"colorbar\":{\"outlinewidth\":0,\"ticks\":\"\"},\"colorscale\":[[0.0,\"#0d0887\"],[0.1111111111111111,\"#46039f\"],[0.2222222222222222,\"#7201a8\"],[0.3333333333333333,\"#9c179e\"],[0.4444444444444444,\"#bd3786\"],[0.5555555555555556,\"#d8576b\"],[0.6666666666666666,\"#ed7953\"],[0.7777777777777778,\"#fb9f3a\"],[0.8888888888888888,\"#fdca26\"],[1.0,\"#f0f921\"]],\"type\":\"heatmap\"}],\"histogram2dcontour\":[{\"colorbar\":{\"outlinewidth\":0,\"ticks\":\"\"},\"colorscale\":[[0.0,\"#0d0887\"],[0.1111111111111111,\"#46039f\"],[0.2222222222222222,\"#7201a8\"],[0.3333333333333333,\"#9c179e\"],[0.4444444444444444,\"#bd3786\"],[0.5555555555555556,\"#d8576b\"],[0.6666666666666666,\"#ed7953\"],[0.7777777777777778,\"#fb9f3a\"],[0.8888888888888888,\"#fdca26\"],[1.0,\"#f0f921\"]],\"type\":\"histogram2dcontour\"}],\"histogram2d\":[{\"colorbar\":{\"outlinewidth\":0,\"ticks\":\"\"},\"colorscale\":[[0.0,\"#0d0887\"],[0.1111111111111111,\"#46039f\"],[0.2222222222222222,\"#7201a8\"],[0.3333333333333333,\"#9c179e\"],[0.4444444444444444,\"#bd3786\"],[0.5555555555555556,\"#d8576b\"],[0.6666666666666666,\"#ed7953\"],[0.7777777777777778,\"#fb9f3a\"],[0.8888888888888888,\"#fdca26\"],[1.0,\"#f0f921\"]],\"type\":\"histogram2d\"}],\"histogram\":[{\"marker\":{\"pattern\":{\"fillmode\":\"overlay\",\"size\":10,\"solidity\":0.2}},\"type\":\"histogram\"}],\"mesh3d\":[{\"colorbar\":{\"outlinewidth\":0,\"ticks\":\"\"},\"type\":\"mesh3d\"}],\"parcoords\":[{\"line\":{\"colorbar\":{\"outlinewidth\":0,\"ticks\":\"\"}},\"type\":\"parcoords\"}],\"pie\":[{\"automargin\":true,\"type\":\"pie\"}],\"scatter3d\":[{\"line\":{\"colorbar\":{\"outlinewidth\":0,\"ticks\":\"\"}},\"marker\":{\"colorbar\":{\"outlinewidth\":0,\"ticks\":\"\"}},\"type\":\"scatter3d\"}],\"scattercarpet\":[{\"marker\":{\"colorbar\":{\"outlinewidth\":0,\"ticks\":\"\"}},\"type\":\"scattercarpet\"}],\"scattergeo\":[{\"marker\":{\"colorbar\":{\"outlinewidth\":0,\"ticks\":\"\"}},\"type\":\"scattergeo\"}],\"scattergl\":[{\"marker\":{\"colorbar\":{\"outlinewidth\":0,\"ticks\":\"\"}},\"type\":\"scattergl\"}],\"scattermapbox\":[{\"marker\":{\"colorbar\":{\"outlinewidth\":0,\"ticks\":\"\"}},\"type\":\"scattermapbox\"}],\"scatterpolargl\":[{\"marker\":{\"colorbar\":{\"outlinewidth\":0,\"ticks\":\"\"}},\"type\":\"scatterpolargl\"}],\"scatterpolar\":[{\"marker\":{\"colorbar\":{\"outlinewidth\":0,\"ticks\":\"\"}},\"type\":\"scatterpolar\"}],\"scatter\":[{\"fillpattern\":{\"fillmode\":\"overlay\",\"size\":10,\"solidity\":0.2},\"type\":\"scatter\"}],\"scatterternary\":[{\"marker\":{\"colorbar\":{\"outlinewidth\":0,\"ticks\":\"\"}},\"type\":\"scatterternary\"}],\"surface\":[{\"colorbar\":{\"outlinewidth\":0,\"ticks\":\"\"},\"colorscale\":[[0.0,\"#0d0887\"],[0.1111111111111111,\"#46039f\"],[0.2222222222222222,\"#7201a8\"],[0.3333333333333333,\"#9c179e\"],[0.4444444444444444,\"#bd3786\"],[0.5555555555555556,\"#d8576b\"],[0.6666666666666666,\"#ed7953\"],[0.7777777777777778,\"#fb9f3a\"],[0.8888888888888888,\"#fdca26\"],[1.0,\"#f0f921\"]],\"type\":\"surface\"}],\"table\":[{\"cells\":{\"fill\":{\"color\":\"#EBF0F8\"},\"line\":{\"color\":\"white\"}},\"header\":{\"fill\":{\"color\":\"#C8D4E3\"},\"line\":{\"color\":\"white\"}},\"type\":\"table\"}]},\"layout\":{\"annotationdefaults\":{\"arrowcolor\":\"#2a3f5f\",\"arrowhead\":0,\"arrowwidth\":1},\"autotypenumbers\":\"strict\",\"coloraxis\":{\"colorbar\":{\"outlinewidth\":0,\"ticks\":\"\"}},\"colorscale\":{\"diverging\":[[0,\"#8e0152\"],[0.1,\"#c51b7d\"],[0.2,\"#de77ae\"],[0.3,\"#f1b6da\"],[0.4,\"#fde0ef\"],[0.5,\"#f7f7f7\"],[0.6,\"#e6f5d0\"],[0.7,\"#b8e186\"],[0.8,\"#7fbc41\"],[0.9,\"#4d9221\"],[1,\"#276419\"]],\"sequential\":[[0.0,\"#0d0887\"],[0.1111111111111111,\"#46039f\"],[0.2222222222222222,\"#7201a8\"],[0.3333333333333333,\"#9c179e\"],[0.4444444444444444,\"#bd3786\"],[0.5555555555555556,\"#d8576b\"],[0.6666666666666666,\"#ed7953\"],[0.7777777777777778,\"#fb9f3a\"],[0.8888888888888888,\"#fdca26\"],[1.0,\"#f0f921\"]],\"sequentialminus\":[[0.0,\"#0d0887\"],[0.1111111111111111,\"#46039f\"],[0.2222222222222222,\"#7201a8\"],[0.3333333333333333,\"#9c179e\"],[0.4444444444444444,\"#bd3786\"],[0.5555555555555556,\"#d8576b\"],[0.6666666666666666,\"#ed7953\"],[0.7777777777777778,\"#fb9f3a\"],[0.8888888888888888,\"#fdca26\"],[1.0,\"#f0f921\"]]},\"colorway\":[\"#636efa\",\"#EF553B\",\"#00cc96\",\"#ab63fa\",\"#FFA15A\",\"#19d3f3\",\"#FF6692\",\"#B6E880\",\"#FF97FF\",\"#FECB52\"],\"font\":{\"color\":\"#2a3f5f\"},\"geo\":{\"bgcolor\":\"white\",\"lakecolor\":\"white\",\"landcolor\":\"#E5ECF6\",\"showlakes\":true,\"showland\":true,\"subunitcolor\":\"white\"},\"hoverlabel\":{\"align\":\"left\"},\"hovermode\":\"closest\",\"mapbox\":{\"style\":\"light\"},\"paper_bgcolor\":\"white\",\"plot_bgcolor\":\"#E5ECF6\",\"polar\":{\"angularaxis\":{\"gridcolor\":\"white\",\"linecolor\":\"white\",\"ticks\":\"\"},\"bgcolor\":\"#E5ECF6\",\"radialaxis\":{\"gridcolor\":\"white\",\"linecolor\":\"white\",\"ticks\":\"\"}},\"scene\":{\"xaxis\":{\"backgroundcolor\":\"#E5ECF6\",\"gridcolor\":\"white\",\"gridwidth\":2,\"linecolor\":\"white\",\"showbackground\":true,\"ticks\":\"\",\"zerolinecolor\":\"white\"},\"yaxis\":{\"backgroundcolor\":\"#E5ECF6\",\"gridcolor\":\"white\",\"gridwidth\":2,\"linecolor\":\"white\",\"showbackground\":true,\"ticks\":\"\",\"zerolinecolor\":\"white\"},\"zaxis\":{\"backgroundcolor\":\"#E5ECF6\",\"gridcolor\":\"white\",\"gridwidth\":2,\"linecolor\":\"white\",\"showbackground\":true,\"ticks\":\"\",\"zerolinecolor\":\"white\"}},\"shapedefaults\":{\"line\":{\"color\":\"#2a3f5f\"}},\"ternary\":{\"aaxis\":{\"gridcolor\":\"white\",\"linecolor\":\"white\",\"ticks\":\"\"},\"baxis\":{\"gridcolor\":\"white\",\"linecolor\":\"white\",\"ticks\":\"\"},\"bgcolor\":\"#E5ECF6\",\"caxis\":{\"gridcolor\":\"white\",\"linecolor\":\"white\",\"ticks\":\"\"}},\"title\":{\"x\":0.05},\"xaxis\":{\"automargin\":true,\"gridcolor\":\"white\",\"linecolor\":\"white\",\"ticks\":\"\",\"title\":{\"standoff\":15},\"zerolinecolor\":\"white\",\"zerolinewidth\":2},\"yaxis\":{\"automargin\":true,\"gridcolor\":\"white\",\"linecolor\":\"white\",\"ticks\":\"\",\"title\":{\"standoff\":15},\"zerolinecolor\":\"white\",\"zerolinewidth\":2}}},\"title\":{\"text\":\"RMSd during free MD Simulation\"},\"xaxis\":{\"title\":{\"text\":\"Time (ps)\"}},\"yaxis\":{\"title\":{\"text\":\"RMSd (Angstrom)\"}}},                        {\"responsive\": true}                    ).then(function(){\n",
       "                            \n",
       "var gd = document.getElementById('9cdf83c3-732c-43de-b051-e1591349a7c9');\n",
       "var x = new MutationObserver(function (mutations, observer) {{\n",
       "        var display = window.getComputedStyle(gd).display;\n",
       "        if (!display || display === 'none') {{\n",
       "            console.log([gd, 'removed!']);\n",
       "            Plotly.purge(gd);\n",
       "            observer.disconnect();\n",
       "        }}\n",
       "}});\n",
       "\n",
       "// Listen for the removal of the full notebook cells\n",
       "var notebookContainer = gd.closest('#notebook-container');\n",
       "if (notebookContainer) {{\n",
       "    x.observe(notebookContainer, {childList: true});\n",
       "}}\n",
       "\n",
       "// Listen for the clearing of the current output cell\n",
       "var outputEl = gd.closest('.output');\n",
       "if (outputEl) {{\n",
       "    x.observe(outputEl, {childList: true});\n",
       "}}\n",
       "\n",
       "                        })                };                });            </script>        </div>"
      ]
     },
     "metadata": {},
     "output_type": "display_data"
    }
   ],
   "source": [
    "# Read RMS vs first snapshot data from file \n",
    "import numpy as np\n",
    "\n",
    "with open(f\"output/{pdbCode}_rms_first.dat\",'r') as rms_first_file:\n",
    "    x,y = map(\n",
    "        list,\n",
    "        zip(*[\n",
    "            (float(line.split()[0]),float(line.split()[1]))\n",
    "            for line in rms_first_file \n",
    "            if not line.startswith((\"#\",\"@\")) \n",
    "        ])\n",
    "    )\n",
    "\n",
    "# Read RMS vs experimental structure data from file \n",
    "with open(f\"output/{pdbCode}_rms_exp.dat\",'r') as rms_exp_file:\n",
    "    x2,y2 = map(\n",
    "        list,\n",
    "        zip(*[\n",
    "            (float(line.split()[0]),float(line.split()[1]))\n",
    "            for line in rms_exp_file\n",
    "            if not line.startswith((\"#\",\"@\")) \n",
    "        ])\n",
    "    )\n",
    "    \n",
    "trace1 = go.Scatter(\n",
    "    x = np.arange(0.2,1.2,0.2),\n",
    "    y = y,\n",
    "    name = 'RMSd vs first'\n",
    ")\n",
    "\n",
    "trace2 = go.Scatter(\n",
    "    x = np.arange(0.2,1.2,0.2),\n",
    "    y = y2,\n",
    "    name = 'RMSd vs exp'\n",
    ")\n",
    "\n",
    "data = [trace1, trace2]\n",
    "\n",
    "plotly.offline.init_notebook_mode(connected=True)\n",
    "\n",
    "fig = {\n",
    "    \"data\": data,\n",
    "    \"layout\": go.Layout(title=\"RMSd during free MD Simulation\",\n",
    "                        xaxis=dict(title = \"Time (ps)\"),\n",
    "                        yaxis=dict(title = \"RMSd (Angstrom)\")\n",
    "                       )\n",
    "}\n",
    "\n",
    "plotly.offline.iplot(fig)"
   ]
  },
  {
   "cell_type": "code",
   "execution_count": 33,
   "id": "39df6058",
   "metadata": {},
   "outputs": [
    {
     "name": "stdout",
     "output_type": "stream",
     "text": [
      "2022-07-08 13:37:45,383 [MainThread  ] [INFO ]  Not using any container\n",
      "2022-07-08 13:37:45,513 [MainThread  ] [INFO ]  cpptraj -i 955f917a-f916-472b-8bd5-3fe8dbb7da54/instructions.in\n",
      "\n",
      "2022-07-08 13:37:45,516 [MainThread  ] [INFO ]  Exit code 0\n",
      "\n",
      "2022-07-08 13:37:45,517 [MainThread  ] [INFO ]  \n",
      "CPPTRAJ: Trajectory Analysis. V4.25.6\n",
      "    ___  ___  ___  ___\n",
      "     | \\/ | \\/ | \\/ | \n",
      "    _|_/\\_|_/\\_|_/\\_|_\n",
      "\n",
      "| Date/time: 07/08/22 13:37:45\n",
      "| Available memory: 150.067 MB\n",
      "\n",
      "INPUT: Reading input from '955f917a-f916-472b-8bd5-3fe8dbb7da54/instructions.in'\n",
      "  [parm input/structure.ions.parmtop]\n",
      "\tReading 'input/structure.ions.parmtop' as Amber Topology\n",
      "\tRadius Set: modified Bondi radii (mbondi)\n",
      "  [trajin output/sander.free.netcdf 1 -1 1]\n",
      "\tReading 'output/sander.free.netcdf' as Amber NetCDF\n",
      "  [center !@H*,1H*,2H*,3H* origin]\n",
      "    CENTER: Centering coordinates using geometric center of atoms in mask (!@H*,1H*,2H*,3H*) to\n",
      "\tcoordinate origin.\n",
      "  [autoimage]\n",
      "    AUTOIMAGE: To box center based on center of mass, anchor is first molecule.\n",
      "  [rms first !@H*,1H*,2H*,3H*]\n",
      "    RMSD: (!@H*,1H*,2H*,3H*), reference is first frame (!@H*,1H*,2H*,3H*).\n",
      "\tBest-fit RMSD will be calculated, coords will be rotated and translated.\n",
      "  [strip :WAT,HOH,SOL,TIP3,TP3,SOD,CLA,Na+,Cl-,NA,CL,K+,K]\n",
      "    STRIP: Stripping atoms in mask [:WAT,HOH,SOL,TIP3,TP3,SOD,CLA,Na+,Cl-,NA,CL,K+,K]\n",
      "  [trajout output/4rc7_imaged_traj.trr trr]\n",
      "\tWriting 'output/4rc7_imaged_traj.trr' as Gromacs TRX\n",
      "---------- RUN BEGIN -------------------------------------------------\n",
      "\n",
      "PARAMETER FILES (1 total):\n",
      " 0: structure.ions.parmtop, 25484 atoms, 7574 res, box: Trunc. Oct., 7355 mol, 7298 solvent\n",
      "\n",
      "INPUT TRAJECTORIES (1 total):\n",
      " 0: 'sander.free.netcdf' is a NetCDF AMBER trajectory with coordinates, time, box, Parm structure.ions.parmtop (Trunc. Oct. box) (reading 5 of 5)\n",
      "  Coordinate processing will occur on 5 frames.\n",
      "\n",
      "OUTPUT TRAJECTORIES (1 total):\n",
      "  '4rc7_imaged_traj.trr' (5 frames) is a GROMACS TRR file, big-endian, single precision\n",
      "\n",
      "BEGIN TRAJECTORY PROCESSING:\n",
      ".....................................................\n",
      "ACTION SETUP FOR PARM 'structure.ions.parmtop' (4 actions):\n",
      "  0: [center !@H*,1H*,2H*,3H* origin]\n",
      "\tMask [!@H*,1H*,2H*,3H*] corresponds to 9138 atoms.\n",
      "  1: [autoimage]\n",
      "\tOriginal box is truncated octahedron, turning on 'familiar'.\n",
      "\tUsing first molecule as anchor.\n",
      "\t1 molecules are fixed to anchor: 2\n",
      "\t7353 molecules are mobile.\n",
      "  2: [rms first !@H*,1H*,2H*,3H*]\n",
      "\tTarget mask: [!@H*,1H*,2H*,3H*](9138)\n",
      "\tReference mask: [!@H*,1H*,2H*,3H*](9138)\n",
      "Warning: Coordinates are being rotated and box coordinates are present.\n",
      "Warning: Unit cell vectors are NOT rotated; imaging will not be possible\n",
      "Warning:  after the RMS-fit is performed.\n",
      "  3: [strip :WAT,HOH,SOL,TIP3,TP3,SOD,CLA,Na+,Cl-,NA,CL,K+,K]\n",
      "\tStripping 21949 atoms.\n",
      "\tStripped topology: 3535 atoms, 221 res, box: Trunc. Oct., 2 mol\n",
      ".....................................................\n",
      "ACTIVE OUTPUT TRAJECTORIES (1):\n",
      "  output/4rc7_imaged_traj.trr (coordinates, time, box)\n",
      "----- sander.free.netcdf (1-5, 1) -----\n",
      " 0% 25% 50% 75% 100% Complete.\n",
      "\n",
      "Read 5 frames and processed 5 frames.\n",
      "TIME: Avg. throughput= 342.3954 frames / second.\n",
      "\n",
      "ACTION OUTPUT:\n",
      "TIME: Analyses took 0.0000 seconds.\n",
      "\n",
      "DATASETS (1 total):\n",
      "\tRMSD_00001 \"RMSD_00001\" (double, rms), size is 5 (0.040 kB)\n",
      "    Total data set memory usage is at least 0.040 kB\n",
      "\n",
      "RUN TIMING:\n",
      "TIME:\t\tInit               : 0.0000 s (  0.16%)\n",
      "TIME:\t\tTrajectory Process : 0.0146 s ( 96.14%)\n",
      "TIME:\t\tAction Post        : 0.0000 s (  0.01%)\n",
      "TIME:\t\tAnalysis           : 0.0000 s (  0.00%)\n",
      "TIME:\t\tData File Write    : 0.0000 s (  0.13%)\n",
      "TIME:\t\tOther              : 0.0005 s (  0.04%)\n",
      "TIME:\tRun Total 0.0152 s\n",
      "---------- RUN END ---------------------------------------------------\n",
      "TIME: Total execution time: 0.0800 seconds.\n",
      "--------------------------------------------------------------------------------\n",
      "To cite CPPTRAJ use:\n",
      "Daniel R. Roe and Thomas E. Cheatham, III, \"PTRAJ and CPPTRAJ: Software for\n",
      "  Processing and Analysis of Molecular Dynamics Trajectory Data\". J. Chem.\n",
      "  Theory Comput., 2013, 9 (7), pp 3084-3095.\n",
      "\n",
      "\n",
      "2022-07-08 13:37:45,519 [MainThread  ] [INFO ]  Removed: [PurePosixPath('955f917a-f916-472b-8bd5-3fe8dbb7da54')]\n"
     ]
    },
    {
     "data": {
      "text/plain": [
       "0"
      ]
     },
     "execution_count": 33,
     "metadata": {},
     "output_type": "execute_result"
    }
   ],
   "source": [
    "# Import module\n",
    "from biobb_analysis.ambertools.cpptraj_image import cpptraj_image\n",
    "\n",
    "prop = {\n",
    "    'mask': 'solute',\n",
    "    'format': 'trr'\n",
    "}\n",
    "\n",
    "# Create and launch bb\n",
    "cpptraj_image(input_top_path='input/structure.ions.parmtop',\n",
    "            input_traj_path=\"output/sander.free.netcdf\",\n",
    "            output_cpptraj_path=f\"output/{pdbCode}_imaged_traj.trr\",\n",
    "            properties=prop)"
   ]
  },
  {
   "cell_type": "markdown",
   "id": "28fb9a67",
   "metadata": {},
   "source": [
    "# Output for Docking"
   ]
  },
  {
   "cell_type": "code",
   "execution_count": null,
   "id": "dbc518c4",
   "metadata": {},
   "outputs": [],
   "source": []
  }
 ],
 "metadata": {
  "kernelspec": {
   "display_name": "Python 3 (ipykernel)",
   "language": "python",
   "name": "python3"
  },
  "language_info": {
   "codemirror_mode": {
    "name": "ipython",
    "version": 3
   },
   "file_extension": ".py",
   "mimetype": "text/x-python",
   "name": "python",
   "nbconvert_exporter": "python",
   "pygments_lexer": "ipython3",
   "version": "3.7.12"
  },
  "vscode": {
   "interpreter": {
    "hash": "cb8096903cfc4427ebee6423148f6b6dae08be96311328941d9763bb25a7e460"
   }
  }
 },
 "nbformat": 4,
 "nbformat_minor": 5
}
