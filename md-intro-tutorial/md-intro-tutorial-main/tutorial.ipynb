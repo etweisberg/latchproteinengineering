{
 "cells": [
  {
   "cell_type": "code",
   "execution_count": 1,
   "metadata": {
    "nbpresent": {
     "id": "57ae234e-1d9a-4341-ae4b-7e2ae3da2144"
    }
   },
   "outputs": [
    {
     "name": "stderr",
     "output_type": "stream",
     "text": [
      "/Users/ethan/md-intro-tutorial/md-intro-tutorial-main/src/init_notebooks.py:1: DeprecationWarning: Importing display from IPython.core.display is deprecated since IPython 7.14, please import from IPython display\n",
      "  from IPython.core.display import display, HTML\n"
     ]
    },
    {
     "data": {
      "text/html": [
       "<style>\n",
       ".solarized.base03 { color: #002b36; }\n",
       ".solarized.base02 { color: #073642; }\n",
       ".solarized.base01 { color: #586e75; }\n",
       ".solarized.base00 { color: #657b83; }\n",
       ".solarized.base0 { color: #839496; }\n",
       ".solarized.base1 { color: #93a1a1; }\n",
       ".solarized.base2 { color: #eee8d5; }\n",
       ".solarized.base3  { color: #fdf6e3; }\n",
       ".solarized.solar-yellow  { color: #b58900; }\n",
       ".solarized.solar-orange  { color: #cb4b16; }\n",
       ".solarized.solar-red { color: #dc322f; }\n",
       ".solarized.solar-magenta { color: #d33682; }\n",
       ".solarized.solar-violet  { color: #6c71c4; }\n",
       ".solarized.solar-blue { color: #268bd2; }\n",
       ".solarized.solar-cyan { color: #2aa198; }\n",
       ".solarized.solar-green { color: #859900; }\n",
       "\n",
       ".ansiyellow { color: #b58900; }\n",
       ".ansiorange { color: #cb4b16; }\n",
       ".ansired { color: #dc322f; }\n",
       ".ansimagenta { color: #d33682; }\n",
       ".ansiviolet { color: #6c71c4; }\n",
       ".ansiblue { color: #268bd2; }\n",
       ".ansicyan { color: #2aa198; }\n",
       ".ansigreen { color: #859900; }\n",
       "\n",
       ".gromacs.blue {color: #3e3e7f}\n",
       "/* Notebook styling */\n",
       "\n",
       "body, p, div.rendered_html { \n",
       "    color: #3e3e7f;\n",
       "/*    font-family: 'PT Serif', Georgia, Times, 'Times New Roman', serif; */\n",
       "    font-size: 12pt;\n",
       "}\n",
       "\n",
       "body { background-color: #eee8d5 !important; }\n",
       "\n",
       "#notebook { \n",
       "    background-color: #d0d0ff !important;\n",
       "    box-shadow: inset 20px 36px 20px -35px black !important;\n",
       "}\n",
       "\n",
       "/*\n",
       "#maintoolbar { padding-top: 1em; padding-bottom: 1em; }\n",
       "#header { border-color: #93a1a1 !important; }\n",
       "*/\n",
       "/* Pager */\n",
       "\n",
       "#pager_splitter { background: none !important; }\n",
       "#pager {\n",
       "    background-color: #eee8d5;\n",
       "}\n",
       "div#pager pre {\n",
       "    background-color: #fdf6e3;\n",
       "    color: #586e75;\n",
       "}    \n",
       "\n",
       "/* Forms and menus */\n",
       "/*\n",
       ".navbar-default, .navbar-static-top {\n",
       "    background-color: #fdf6e3 !important;\n",
       "    color: #586e75 !important;\n",
       "}\n",
       ".navbar-default { border: none !important; }\n",
       ".navbar-nav > li > a { color: #586e75 !important; }\n",
       ".navbar-nav > li.open > a { background-color: #eee8d5 !important; color: #93a1a1 !important; }\n",
       ".nav > li.active > a { background-color: #eee8d5 !important; color: #586e75 !important; }\n",
       "\n",
       ".dropdown-menu { background-color: #fdf6e3 !important; border: none !important; }\n",
       ".dropdown-menu > li > a { color: #586e75 !important; }\n",
       ".dropdown-menu > li > a:hover { background-color: #eee8d5 !important; }\n",
       ".dropdown-menu > li.disabled > a { color: #93a1a1 !important; }\n",
       "\n",
       "button, .btn-default, .form-control, select {\n",
       "    background-color: #fdf6e3 !important;\n",
       "    color: #586e75 !important;\n",
       "}\n",
       "*/\n",
       "/* Tooltips */\n",
       "\n",
       ".completions {\n",
       "    border: none;\n",
       "    -moz-box-shadow: none;\n",
       "    -webkit-box-shadow: none;\n",
       "    box-shadow: none;\n",
       "    border-radius: 0;\n",
       "    margin-top: 0.5em;\n",
       "}\n",
       ".completions select { font-size: 11pt; }\n",
       "\n",
       ".ipython_tooltip .tooltiptext pre { \n",
       "    font-size: 10pt;\n",
       "    background-color: #eee8d5;\n",
       "    color: #586e75;\n",
       "}\n",
       ".ipython_tooltip {\n",
       "    -moz-box-shadow: none;\n",
       "    -webkit-box-shadow: none;\n",
       "    box-shadow: none;\n",
       "    background-color: #eee8d5;\n",
       "    color: #586e75;\n",
       "}\n",
       ".pretooltiparrow:before {\n",
       "    background-color: #eee8d5;\n",
       "}\n",
       "\n",
       "/* Cell output */\n",
       "\n",
       ".rendered_html pre, .rendered_html code {\n",
       "    color: inherit !important;\n",
       "    background-color: inherit !important;\n",
       "}\n",
       "div.output_area pre {\n",
       "    color: #93a1a1 !important;\n",
       "}\n",
       ".rendered_html table, .rendered_html td, .rendered_html th {\n",
       "    border: 1px solid #586e75 !important;\n",
       "}\n",
       "\n",
       "/* Modal dialogs */\n",
       "\n",
       ".modal-content, .modal-content p {\n",
       "    background-color: #eee8d5 !important;\n",
       "    color: #586e75 !important;\n",
       "}\n",
       "\n",
       "/* Cell styling */\n",
       "\n",
       "div.cell.selected { border-color: #839496 !important; }\n",
       "div.cell.edit_mode { border-color: #268bd2 !important; }\n",
       "div.input_prompt { color: #268bd2 !important; }\n",
       "div.output_prompt { color: #dc322f !important; }\n",
       "div.input_area { border: none !important; background: none !important; }\n",
       "\n",
       ".celltoolbar {\n",
       "    background: #eee8d5 !important;\n",
       "    color: #586e75 !important;\n",
       "}\n",
       "\n",
       "/*    border: 1px solid #002b36 !important;*/\n",
       "/* CodeMirror Styling */\n",
       "/*\n",
       ".cm-s-ipython {\n",
       "    line-height: 1.45em;\n",
       "    color-profile: sRGB;\n",
       "    rendering-intent: auto;\n",
       "    background-color: #002b36;\n",
       "    color: #93a1a1;\n",
       "    text-shadow: none;\n",
       "    border-radius: 4px;\n",
       "}\n",
       "*/\n",
       "/* Cursor */\n",
       "\n",
       ".cm-s-ipython div.CodeMirror-cursor {\n",
       "    border: none;\n",
       "    width: 0.6em;\n",
       "    background-color: rgba(100, 100, 100, 0.5);\n",
       "}\n",
       "\n",
       "/* Gutters */\n",
       "\n",
       "/*\n",
       ".cm-s-ipython .CodeMirror-gutters {\n",
       "  border-right: 1px solid;\n",
       "}\n",
       "\n",
       ".cm-s-ipython .CodeMirror-gutters {\n",
       "  background-color:  #002b36;\n",
       "  border-color: #00232c;\n",
       "}\n",
       "\n",
       ".cm-s-ipython .CodeMirror-linenumber {\n",
       "  text-shadow: #021014 0 -1px;\n",
       "  padding: 0 8px 0 0;\n",
       "  color: #586e75;\n",
       "}\n",
       "*/\n",
       "/*\n",
       ".cm-s-ipython .CodeMirror-guttermarker-subtle { color: #586e75; }\n",
       ".cm-s-ipython .CodeMirror-guttermarker { color: #ddd; }\n",
       "*/\n",
       "/* Syntax highlighting */\n",
       "/*\n",
       ".cm-s-ipython span.cm-keyword { color: #cb4b16 }\n",
       ".cm-s-ipython span.cm-atom { color: #d33682; }\n",
       ".cm-s-ipython span.cm-number { color: #d33682; }\n",
       ".cm-s-ipython span.cm-def { color: #268bd2; font-weight: bold; }\n",
       "\n",
       ".cm-s-ipython span.cm-variable { color: #93a1a1; }\n",
       ".cm-s-ipython span.cm-variable-2 { color: #b58900; }\n",
       ".cm-s-ipython span.cm-variable-3 { color: #6c71c4; }\n",
       "\n",
       ".cm-s-ipython span.cm-property { color: #2aa198; }\n",
       ".cm-s-ipython span.cm-operator {color: #6c71c4;}\n",
       "\n",
       ".cm-s-ipython span.cm-comment { color: #6c71c4; font-style: italic; }\n",
       "\n",
       ".cm-s-ipython span.cm-string { color: #2aa198; }\n",
       ".cm-s-ipython span.cm-string-2 { color: #b58900; }\n",
       "\n",
       ".cm-s-ipython span.cm-meta { color: #859900; }\n",
       ".cm-s-ipython span.cm-qualifier { color: #b58900; }\n",
       ".cm-s-ipython span.cm-builtin { color: #859900; }\n",
       ".cm-s-ipython span.cm-bracket { color: #cb4b16; }\n",
       ".cm-s-ipython .CodeMirror-matchingbracket { color: #b58900 !important; font-weight: bold; }\n",
       ".cm-s-ipython .CodeMirror-nonmatchingbracket { color: #dc322f; }\n",
       ".cm-s-ipython span.cm-tag { color: #93a1a1 }\n",
       ".cm-s-ipython span.cm-attribute {  color: #2aa198; }\n",
       ".cm-s-ipython span.cm-header { color: #586e75; }\n",
       ".cm-s-ipython span.cm-quote { color: #93a1a1; }\n",
       ".cm-s-ipython span.cm-hr {\n",
       "  color: transparent;\n",
       "  border-top: 1px solid #080e05;\n",
       "  display: block;\n",
       "}\n",
       ".cm-s-ipython span.cm-link { color: #93a1a1; cursor: pointer; }\n",
       ".cm-s-ipython span.cm-special { color: #6c71c4; }\n",
       ".cm-s-ipython span.cm-em {\n",
       "  color: #999;\n",
       "  text-decoration: underline;\n",
       "  text-decoration-style: dotted;\n",
       "}\n",
       ".cm-s-ipython span.cm-strong { color: #eee; }\n",
       ".cm-s-ipython span.cm-error,\n",
       ".cm-s-ipython span.cm-invalidchar {\n",
       "  color: #586e75;\n",
       "  border-bottom: 1px dotted #dc322f;\n",
       "}\n",
       "*/\n",
       "</style>\n"
      ],
      "text/plain": [
       "<IPython.core.display.HTML object>"
      ]
     },
     "metadata": {},
     "output_type": "display_data"
    },
    {
     "data": {
      "application/vnd.jupyter.widget-view+json": {
       "model_id": "2b11448e9c78475d8f64872e5d6e31d8",
       "version_major": 2,
       "version_minor": 0
      },
      "text/plain": []
     },
     "metadata": {},
     "output_type": "display_data"
    },
    {
     "name": "stdout",
     "output_type": "stream",
     "text": [
      "Notebook has been modified\n"
     ]
    }
   ],
   "source": [
    "# Execute this first \n",
    "#\n",
    "#  * trigger notebook styling\n",
    "#  * check if notebook had been modified since its distribution\n",
    "# \n",
    "# Note: executing any cells before this modifies the notebook.\n",
    "# \n",
    "%run src/init_notebooks.py\n",
    "hide_toggle()\n",
    "check_notebook()"
   ]
  },
  {
   "cell_type": "markdown",
   "metadata": {
    "nbpresent": {
     "id": "dde7b85f-ae2f-42f9-9ebf-58ab93239983"
    }
   },
   "source": [
    "# Molecular dynamics simulation of a small protein using GROMACS "
   ]
  },
  {
   "cell_type": "markdown",
   "metadata": {
    "nbpresent": {
     "id": "59d19417-8116-4511-8fc5-c5abbbfe82b3"
    }
   },
   "source": [
    "    authors  : Alessandra Villa (based on a Justin Lemkuhl tutorial see http://www.mdtutorials.com or Living J. Comp. Mol. Sci. 2018, 1, 5068).    \n",
    "    goal     : learn step-by-step how to run a molecular dynamics simulation of a small protein using GROMACS \n",
    "    time     : 90 minutes\n",
    "    software : GROMACS 2022, python modules: numpy, matplotlib, re, nglviewer, md_traj, panda. \n",
    "    optional software: visualization software [VMD](https://www.ks.uiuc.edu/Research/vmd), Xmgrace plotting tool\n",
    "    tutorial source: tutorials.gromacs.org\n",
    "    version  : release"
   ]
  },
  {
   "cell_type": "markdown",
   "metadata": {},
   "source": [
    "# Preparations to run this notebook"
   ]
  },
  {
   "cell_type": "code",
   "execution_count": 2,
   "metadata": {
    "nbpresent": {
     "id": "cf4e0e9a-6503-430f-8c60-815a9ae22616"
    }
   },
   "outputs": [
    {
     "name": "stdout",
     "output_type": "stream",
     "text": [
      "/Users/ethan/md-intro-tutorial/md-intro-tutorial-main/data\n"
     ]
    }
   ],
   "source": [
    "# Change to the data directory\n",
    "# Note that executing this command twice will result in an error you can ignore\n",
    "%cd data"
   ]
  },
  {
   "cell_type": "markdown",
   "metadata": {
    "nbpresent": {
     "id": "3d13b2f5-7423-4201-b832-303524849db8"
    }
   },
   "source": [
    "# Obtaining the input for a simulation"
   ]
  },
  {
   "cell_type": "markdown",
   "metadata": {
    "nbpresent": {
     "id": "40fa54aa-811b-4991-8dcf-3fdc464b1249"
    }
   },
   "source": [
    "The starting point for each simulation is a molecular structure file. For this tutorial, we will utilize Factor Xa, a protein playing critical role in the formation of blood clots. The 3D structure is available from the RCSB website, https://www.rcsb.org/ with PDB code 1FJS. You can find the PDB file for the crystal structure in \"input\" directory as \"1fjs.pdb\"."
   ]
  },
  {
   "cell_type": "markdown",
   "metadata": {},
   "source": [
    "Now we visualize the structure"
   ]
  },
  {
   "cell_type": "code",
   "execution_count": 3,
   "metadata": {},
   "outputs": [
    {
     "data": {
      "application/vnd.jupyter.widget-view+json": {
       "model_id": "7839d3e3062144ffb935b7c2ed96ed66",
       "version_major": 2,
       "version_minor": 0
      },
      "text/plain": [
       "NGLWidget()"
      ]
     },
     "metadata": {},
     "output_type": "display_data"
    }
   ],
   "source": [
    "import nglview as ng\n",
    "view = ng.show_structure_file(\"input/1fjs.pdb\")\n",
    "view\n",
    "# click and drag to rotate, zoom with your mouseweel \n",
    "# for more infor on this viewer have a look at https://github.com/nglviewer/nglview"
   ]
  },
  {
   "cell_type": "markdown",
   "metadata": {},
   "source": [
    "In alternative, you can use VMD to visualize the structure on your local machine. To run VMD from within this notebook, remove the comment character (#) in the following cell and VMD should pop up:\n",
    " **`close the VMD window after you are done looking at the protein to continue with this notebook`**"
   ]
  },
  {
   "cell_type": "code",
   "execution_count": 4,
   "metadata": {
    "nbpresent": {
     "id": "c45f02d0-d499-40b4-bb12-5b54a57e2866"
    },
    "scrolled": false
   },
   "outputs": [],
   "source": [
    "#!vmd input/1fjs.pdb"
   ]
  },
  {
   "cell_type": "markdown",
   "metadata": {
    "nbpresent": {
     "id": "d5d197b7-16ea-4cb7-bc4c-dc18ea76e1d1"
    }
   },
   "source": [
    "## Cleaning the input structure"
   ]
  },
  {
   "cell_type": "markdown",
   "metadata": {
    "nbpresent": {
     "id": "992503cc-771a-439b-bae3-3a660a755b7c"
    }
   },
   "source": [
    "Once you've had a look at the molecule, you are going to want to strip out all the atoms that do not belong to the protein (e.i crystal waters, ligands, etc). To delete those atoms (labelled \"HETATM\" in the PDB file) and eventually their connectivity, either use a plain text editor like vi, emacs (Linux/Mac), or Notepad (Windows). Do not use word processing software! Alternatively, you can use grep to delete these lines very easily:"
   ]
  },
  {
   "cell_type": "code",
   "execution_count": 5,
   "metadata": {
    "nbpresent": {
     "id": "2655e386-be87-4ac5-91ef-9ac4ee9360f9"
    },
    "scrolled": true
   },
   "outputs": [],
   "source": [
    "!grep -v HETATM input/1fjs.pdb > 1fjs_protein_tmp.pdb\n",
    "!grep -v CONECT 1fjs_protein_tmp.pdb > 1fjs_protein.pdb"
   ]
  },
  {
   "cell_type": "markdown",
   "metadata": {},
   "source": [
    "View the cleaned structure"
   ]
  },
  {
   "cell_type": "code",
   "execution_count": 6,
   "metadata": {},
   "outputs": [
    {
     "data": {
      "application/vnd.jupyter.widget-view+json": {
       "model_id": "455af32c190a4784b04336f12e1b53c6",
       "version_major": 2,
       "version_minor": 0
      },
      "text/plain": [
       "NGLWidget()"
      ]
     },
     "metadata": {},
     "output_type": "display_data"
    }
   ],
   "source": [
    "import nglview as ng\n",
    "view = ng.show_structure_file(\"1fjs_protein.pdb\")\n",
    "view\n",
    "# click and drag to rotate, zoom with your mouseweel \n",
    "# for more infor on this viewer have a look at https://github.com/nglviewer/nglview"
   ]
  },
  {
   "cell_type": "markdown",
   "metadata": {},
   "source": [
    "In alternative, you can use VMD to visualize the structure on your local machine. To run VMD from within this notebook, remove the comment character (#) in the following cell and VMD should pop up:"
   ]
  },
  {
   "cell_type": "code",
   "execution_count": 7,
   "metadata": {
    "nbpresent": {
     "id": "f45c2308-0e74-4025-ac1e-200ba2869162"
    },
    "scrolled": true
   },
   "outputs": [],
   "source": [
    "#!vmd 1fjs_protein.pdb"
   ]
  },
  {
   "cell_type": "markdown",
   "metadata": {
    "nbpresent": {
     "id": "345d6e37-b392-4f54-b2ed-4d19f5c13b3d"
    }
   },
   "source": [
    "Note *Such a procedure is not universally appropriate (e.g., the case of a tightly bound ligand or otherwise functional active-site water molecule).*"
   ]
  },
  {
   "cell_type": "markdown",
   "metadata": {
    "nbpresent": {
     "id": "345d6e37-b392-4f54-b2ed-4d19f5c13b3d"
    }
   },
   "source": [
    "Always check your .pdb file for entries listed under the comment MISSING, as these entries indicate either atoms or whole residues that are not present in the crystal structure. Terminal regions may be absent, and may not present a problem for dynamics."
   ]
  },
  {
   "cell_type": "code",
   "execution_count": 8,
   "metadata": {},
   "outputs": [],
   "source": [
    "!grep MISSING input/1fjs.pdb"
   ]
  },
  {
   "cell_type": "markdown",
   "metadata": {
    "nbpresent": {
     "id": "21e7a22b-6304-496d-8a9d-dfec05a513f6"
    }
   },
   "source": [
    "## Generating a topology"
   ]
  },
  {
   "cell_type": "markdown",
   "metadata": {
    "nbpresent": {
     "id": "1d259e27-9071-43e4-93ab-4c45dbf7c7a1"
    }
   },
   "source": [
    "Now we have verified that all the necessary atoms are present and the PDB file contains only protein atoms, and is ready to be input into GROMACS (see <a href=http://manual.gromacs.org/current/index.html> GROMACS documentation </a>). \n",
    "The first GROMACS tool, we use, is pdb2gmx. The purpose of pdb2gmx is to generate three files:\n",
    "\n",
    "* The topology for the molecule.\n",
    "* A position restraint file.\n",
    "* A post-processed structure file. \n",
    "\n",
    "The topology (topol.top by default) contains all the information necessary to define the molecule within a simulation. This information includes nonbonded parameters (atom types and charges) as well as bonded parameters (bonds, angles, dihedrals and atom connectivity). We will take a more detailed look at the topology once it has been generated."
   ]
  },
  {
   "cell_type": "markdown",
   "metadata": {},
   "source": [
    "Note *Incomplete internal sequences or any amino acid residues that have missing atoms will cause pdb2gmx to fail. These missing atoms/residues must be modeled in using other software packages. Also note that pdb2gmx is not magic. It cannot generate topologies for arbitrary molecules, just the residues defined by the force field (in the *.rtp files - generally proteins, nucleic acids, and a very finite amount of cofactors, like NAD(H) and ATP).*"
   ]
  },
  {
   "cell_type": "markdown",
   "metadata": {},
   "source": [
    "Execute pdb2gmx by issuing the following command:"
   ]
  },
  {
   "cell_type": "code",
   "execution_count": 9,
   "metadata": {
    "nbpresent": {
     "id": "2f9730de-896f-4e92-84c7-3de46d837d53"
    },
    "scrolled": true
   },
   "outputs": [
    {
     "name": "stdout",
     "output_type": "stream",
     "text": [
      "                :-) GROMACS - gmx pdb2gmx, 2022-conda_forge (-:\n",
      "\n",
      "Executable:   /Users/ethan/anaconda3/envs/md-intro-tutorial/bin.AVX2_256/gmx\n",
      "Data prefix:  /Users/ethan/anaconda3/envs/md-intro-tutorial\n",
      "Working dir:  /Users/ethan/md-intro-tutorial/md-intro-tutorial-main/data\n",
      "Command line:\n",
      "  gmx pdb2gmx -f 1fjs_protein.pdb -o 1fjs_processed.gro -water tip3p -ff charmm27\n",
      "\n",
      "Using the Charmm27 force field in directory charmm27.ff\n",
      "\n",
      "going to rename charmm27.ff/aminoacids.r2b\n",
      "Opening force field file /Users/ethan/anaconda3/envs/md-intro-tutorial/share/gromacs/top/charmm27.ff/aminoacids.r2b\n",
      "\n",
      "going to rename charmm27.ff/rna.r2b\n",
      "Opening force field file /Users/ethan/anaconda3/envs/md-intro-tutorial/share/gromacs/top/charmm27.ff/rna.r2b\n",
      "Reading 1fjs_protein.pdb...\n",
      "Read 'COAGULATION FACTOR XA; COAGULATION FACTOR XA', 2236 atoms\n",
      "\n",
      "Analyzing pdb file\n",
      "Splitting chemical chains based on TER records or chain id changing.\n",
      "\n",
      "There are 2 chains and 0 blocks of water and 286 residues with 2236 atoms\n",
      "\n",
      "  chain  #res #atoms\n",
      "\n",
      "  1 'A'   234   1852  \n",
      "\n",
      "  2 'L'    52    384  \n",
      "\n",
      "there were 14 atoms with zero occupancy and 20 atoms with          occupancy unequal to one (out of 2236 atoms). Check your pdb file.\n",
      "there were 14 atoms with zero occupancy and 20 atoms with          occupancy unequal to one (out of 2236 atoms). Check your pdb file.\n",
      "Opening force field file /Users/ethan/anaconda3/envs/md-intro-tutorial/share/gromacs/top/charmm27.ff/atomtypes.atp\n",
      "\n",
      "Reading residue database... (Charmm27)\n",
      "Opening force field file /Users/ethan/anaconda3/envs/md-intro-tutorial/share/gromacs/top/charmm27.ff/aminoacids.rtp\n",
      "Opening force field file /Users/ethan/anaconda3/envs/md-intro-tutorial/share/gromacs/top/charmm27.ff/dna.rtp\n",
      "Opening force field file /Users/ethan/anaconda3/envs/md-intro-tutorial/share/gromacs/top/charmm27.ff/lipids.rtp\n",
      "Opening force field file /Users/ethan/anaconda3/envs/md-intro-tutorial/share/gromacs/top/charmm27.ff/rna.rtp\n",
      "Opening force field file /Users/ethan/anaconda3/envs/md-intro-tutorial/share/gromacs/top/charmm27.ff/aminoacids.hdb\n",
      "Opening force field file /Users/ethan/anaconda3/envs/md-intro-tutorial/share/gromacs/top/charmm27.ff/dna.hdb\n",
      "Opening force field file /Users/ethan/anaconda3/envs/md-intro-tutorial/share/gromacs/top/charmm27.ff/lipids.hdb\n",
      "Opening force field file /Users/ethan/anaconda3/envs/md-intro-tutorial/share/gromacs/top/charmm27.ff/rna.hdb\n",
      "Opening force field file /Users/ethan/anaconda3/envs/md-intro-tutorial/share/gromacs/top/charmm27.ff/aminoacids.n.tdb\n",
      "Opening force field file /Users/ethan/anaconda3/envs/md-intro-tutorial/share/gromacs/top/charmm27.ff/dna.n.tdb\n",
      "Opening force field file /Users/ethan/anaconda3/envs/md-intro-tutorial/share/gromacs/top/charmm27.ff/rna.n.tdb\n",
      "Opening force field file /Users/ethan/anaconda3/envs/md-intro-tutorial/share/gromacs/top/charmm27.ff/aminoacids.c.tdb\n",
      "Opening force field file /Users/ethan/anaconda3/envs/md-intro-tutorial/share/gromacs/top/charmm27.ff/dna.c.tdb\n",
      "Opening force field file /Users/ethan/anaconda3/envs/md-intro-tutorial/share/gromacs/top/charmm27.ff/rna.c.tdb\n",
      "\n",
      "Back Off! I just backed up topol.top to ./#topol.top.1#\n",
      "\n",
      "Processing chain 1 'A' (1852 atoms, 234 residues)\n",
      "Analysing hydrogen-bonding network for automated assignment of histidine\n",
      " protonation. 362 donors and 349 acceptors were found.\n",
      "There are 555 hydrogen bonds\n",
      "Will use HISD for residue 57\n",
      "Will use HISE for residue 83\n",
      "Will use HISE for residue 91\n",
      "Will use HISE for residue 145\n",
      "Will use HISE for residue 199\n",
      "\n",
      "Identified residue ILE16 as a starting terminus.\n",
      "\n",
      "Identified residue THR244 as a ending terminus.\n",
      "8 out of 8 lines of specbond.dat converted successfully\n",
      "Special Atom Distance matrix:\n",
      "                   CYS22   CYS27   CYS42   HIS57   CYS58   HIS83   HIS91\n",
      "                    SG47    SG83   SG206  NE2318   SG324  NE2536  NE2602\n",
      "   CYS27    SG83   0.230\n",
      "   CYS42   SG206   1.706   1.726\n",
      "   HIS57  NE2318   1.948   1.957   0.488\n",
      "   CYS58   SG324   1.773   1.764   0.239   0.410\n",
      "   HIS83  NE2536   1.872   1.798   1.852   2.279   1.873\n",
      "   HIS91  NE2602   2.853   2.730   1.835   1.629   1.597   2.634\n",
      "  MET116   SD817   1.252   1.187   2.584   2.933   2.636   1.627   3.494\n",
      "  CYS122   SG856   1.708   1.478   2.379   2.509   2.269   1.937   2.281\n",
      "  MET131   SD955   2.113   1.962   2.158   1.966   1.988   2.884   1.650\n",
      "  HIS145 NE21060   1.681   1.881   2.029   2.090   2.189   3.133   3.567\n",
      "  MET157  SD1150   0.444   0.441   1.993   2.151   2.030   2.237   2.952\n",
      "  CYS168  SG1240   2.410   2.363   2.047   1.668   1.921   3.430   1.943\n",
      "  MET180  SD1333   2.454   2.400   1.600   1.169   1.431   3.072   1.338\n",
      "  CYS182  SG1351   2.251   2.220   1.931   1.568   1.827   3.346   2.037\n",
      "  CYS191  SG1433   1.587   1.712   1.218   1.163   1.340   2.724   2.665\n",
      "  HIS199 NE21485   1.407   1.306   1.711   1.594   1.615   2.569   1.992\n",
      "  CYS220  SG1644   1.746   1.851   1.264   1.115   1.355   2.864   2.577\n",
      "  MET242  SD1835   2.207   2.023   1.934   2.057   1.767   1.591   1.426\n",
      "                  MET116  CYS122  MET131  HIS145  MET157  CYS168  MET180\n",
      "                   SD817   SG856   SD955 NE21060  SD1150  SG1240  SD1333\n",
      "  CYS122   SG856   1.719\n",
      "  MET131   SD955   2.879   1.549\n",
      "  HIS145 NE21060   2.784   3.257   2.955\n",
      "  MET157  SD1150   1.417   1.664   1.956   1.752\n",
      "  CYS168  SG1240   3.501   2.566   1.163   2.504   2.283\n",
      "  MET180  SD1333   3.482   2.530   1.310   2.641   2.453   0.737\n",
      "  CYS182  SG1351   3.378   2.552   1.241   2.275   2.129   0.230   0.797\n",
      "  CYS191  SG1433   2.789   2.821   2.308   0.954   1.714   1.796   1.759\n",
      "  HIS199 NE21485   2.392   1.569   0.811   2.167   1.251   1.137   1.341\n",
      "  CYS220  SG1644   2.961   2.872   2.227   1.111   1.838   1.617   1.589\n",
      "  MET242  SD1835   2.366   1.191   1.760   3.512   2.346   2.587   2.218\n",
      "                  CYS182  CYS191  HIS199  CYS220\n",
      "                  SG1351  SG1433 NE21485  SG1644\n",
      "  CYS191  SG1433   1.584\n",
      "  HIS199 NE21485   1.054   1.611\n",
      "  CYS220  SG1644   1.407   0.237   1.574\n",
      "  MET242  SD1835   2.606   2.828   1.915   2.851\n",
      "Start terminus ILE-16: NH3+\n",
      "End terminus THR-244: COO-\n",
      "Opening force field file /Users/ethan/anaconda3/envs/md-intro-tutorial/share/gromacs/top/charmm27.ff/aminoacids.arn\n",
      "Opening force field file /Users/ethan/anaconda3/envs/md-intro-tutorial/share/gromacs/top/charmm27.ff/dna.arn\n",
      "Opening force field file /Users/ethan/anaconda3/envs/md-intro-tutorial/share/gromacs/top/charmm27.ff/rna.arn\n",
      "\n",
      "Checking for duplicate atoms....\n",
      "\n",
      "Generating any missing hydrogen atoms and/or adding termini.\n",
      "\n",
      "Now there are 234 residues with 3673 atoms\n",
      "Chain time...\n",
      "\n",
      "Back Off! I just backed up topol_Protein_chain_A.itp to ./#topol_Protein_chain_A.itp.1#\n",
      "\n",
      "Making bonds...\n",
      "\n",
      "Number of bonds was 3711, now 3711\n",
      "\n",
      "Generating angles, dihedrals and pairs...\n",
      "Before cleaning: 9703 pairs\n",
      "Before cleaning: 9778 dihedrals\n",
      "\n",
      "Making cmap torsions...\n",
      "\n",
      "There are  232 cmap torsion pairs\n",
      "\n",
      "There are 9778 dihedrals,  605 impropers, 6679 angles\n",
      "          9631 pairs,     3711 bonds and     0 virtual sites\n",
      "\n",
      "Total mass 26412.137 a.m.u.\n",
      "\n",
      "Total charge 1.000 e\n",
      "\n",
      "Writing topology\n",
      "\n",
      "Back Off! I just backed up posre_Protein_chain_A.itp to ./#posre_Protein_chain_A.itp.1#\n",
      "\n",
      "Processing chain 2 'L' (384 atoms, 52 residues)\n",
      "Analysing hydrogen-bonding network for automated assignment of histidine\n",
      " protonation. 74 donors and 80 acceptors were found.\n",
      "There are 118 hydrogen bonds\n",
      "Will use HISE for residue 101\n",
      "\n",
      "Identified residue LYS87 as a starting terminus.\n",
      "\n",
      "Identified residue GLU138 as a ending terminus.\n",
      "8 out of 8 lines of specbond.dat converted successfully\n",
      "Special Atom Distance matrix:\n",
      "                   CYS89   CYS96  CYS100  HIS101  CYS109  CYS111  CYS124\n",
      "                    SG23    SG71   SG105  NE2115   SG176   SG188   SG280\n",
      "   CYS96    SG71   0.578\n",
      "  CYS100   SG105   0.236   0.347\n",
      "  HIS101  NE2115   0.735   0.673   0.662\n",
      "  CYS109   SG176   0.752   0.229   0.539   0.710\n",
      "  CYS111   SG188   1.344   0.870   1.141   0.855   0.787\n",
      "  CYS124   SG280   1.299   0.804   1.083   0.926   0.760   0.239\n",
      "  CYS132   SG338   1.943   1.630   1.787   1.458   1.656   0.993   0.967\n",
      "                \n",
      "                \n",
      "Start terminus LYS-87: NH3+\n",
      "End terminus GLU-138: COO-\n",
      "Opening force field file /Users/ethan/anaconda3/envs/md-intro-tutorial/share/gromacs/top/charmm27.ff/aminoacids.arn\n",
      "Opening force field file /Users/ethan/anaconda3/envs/md-intro-tutorial/share/gromacs/top/charmm27.ff/dna.arn\n",
      "Opening force field file /Users/ethan/anaconda3/envs/md-intro-tutorial/share/gromacs/top/charmm27.ff/rna.arn\n",
      "\n",
      "Checking for duplicate atoms....\n",
      "\n",
      "Generating any missing hydrogen atoms and/or adding termini.\n",
      "\n",
      "Now there are 52 residues with 744 atoms\n",
      "Chain time...\n",
      "\n",
      "Back Off! I just backed up topol_Protein_chain_L.itp to ./#topol_Protein_chain_L.itp.1#\n",
      "\n",
      "Making bonds...\n",
      "\n",
      "Number of bonds was 750, now 750\n",
      "\n",
      "Generating angles, dihedrals and pairs...\n",
      "Before cleaning: 1959 pairs\n",
      "Before cleaning: 1979 dihedrals\n",
      "\n",
      "Making cmap torsions...\n",
      "\n",
      "There are   50 cmap torsion pairs\n",
      "\n",
      "There are 1979 dihedrals,  141 impropers, 1348 angles\n",
      "          1950 pairs,      750 bonds and     0 virtual sites\n",
      "\n",
      "Total mass 5581.215 a.m.u.\n",
      "\n",
      "Total charge -3.000 e\n",
      "\n",
      "Writing topology\n",
      "\n",
      "Back Off! I just backed up posre_Protein_chain_L.itp to ./#posre_Protein_chain_L.itp.1#\n"
     ]
    },
    {
     "name": "stdout",
     "output_type": "stream",
     "text": [
      "\r\n",
      "Including chain 1 in system: 3673 atoms 234 residues\r\n",
      "\r\n",
      "Including chain 2 in system: 744 atoms 52 residues\r\n",
      "\r\n",
      "Now there are 4417 atoms and 286 residues\r\n",
      "\r\n",
      "Total mass in system 31993.352 a.m.u.\r\n",
      "\r\n",
      "Total charge in system -2.000 e\r\n",
      "\r\n",
      "Writing coordinate file...\r\n",
      "\r\n",
      "Back Off! I just backed up 1fjs_processed.gro to ./#1fjs_processed.gro.1#\r\n",
      "\r\n",
      "\t\t--------- PLEASE NOTE ------------\r\n",
      "\r\n",
      "You have successfully generated a topology from: 1fjs_protein.pdb.\r\n",
      "\r\n",
      "The Charmm27 force field and the tip3p water model are used.\r\n",
      "\r\n",
      "\t\t--------- ETON ESAELP ------------\r\n",
      "\r\n",
      "GROMACS reminds you: \"All I Ever Wanted Was Your Life\" (Red Hot Chili Peppers)\r\n",
      "\r\n"
     ]
    }
   ],
   "source": [
    "!gmx pdb2gmx -f 1fjs_protein.pdb -o 1fjs_processed.gro -water tip3p -ff \"charmm27\""
   ]
  },
  {
   "cell_type": "markdown",
   "metadata": {
    "nbpresent": {
     "id": "d5ba1bb9-c859-4e03-a21b-780533486c27"
    }
   },
   "source": [
    "Here, we made an important decision for the course of the simualtion in choosing the CHARMM27 all-atom force field. The force field will contain the information that will be written to the topology. This is a very important choice! You should always read thoroughly about each force field and decide which is most applicable to your situation. Other choices are given, when running pdb2gmx without the -ff flag"
   ]
  },
  {
   "cell_type": "markdown",
   "metadata": {
    "nbpresent": {
     "id": "b5b8ad6b-94b6-4ffc-b771-87dadfb78841"
    }
   },
   "source": [
    "    Select the Force Field:\n",
    "    From '/usr/local/gromacs/share/gromacs/top':\n",
    "     1: AMBER03 protein, nucleic AMBER94 (Duan et al., J. Comp. Chem. 24, 1999-2012, 2003)\n",
    "     2: AMBER94 force field (Cornell et al., JACS 117, 5179-5197, 1995)\n",
    "     3: AMBER96 protein, nucleic AMBER94 (Kollman et al., Acc. Chem. Res. 29, 461-469, 1996)\n",
    "     4: AMBER99 protein, nucleic AMBER94 (Wang et al., J. Comp. Chem. 21, 1049-1074, 2000)\n",
    "     5: AMBER99SB protein, nucleic AMBER94 (Hornak et al., Proteins 65, 712-725, 2006)\n",
    "     6: AMBER99SB-ILDN protein, nucleic AMBER94 (Lindorff-Larsen et al., Proteins 78, 1950-58, 2010)\n",
    "     7: AMBERGS force field (Garcia & Sanbonmatsu, PNAS 99, 2782-2787, 2002)\n",
    "     8: CHARMM27 all-atom force field (CHARM22 plus CMAP for proteins)\n",
    "     9: GROMOS96 43a1 force field\n",
    "    10: GROMOS96 43a2 force field (improved alkane dihedrals)\n",
    "    11: GROMOS96 45a3 force field (Schuler JCC 2001 22 1205)\n",
    "    12: GROMOS96 53a5 force field (JCC 2004 vol 25 pag 1656)\n",
    "    13: GROMOS96 53a6 force field (JCC 2004 vol 25 pag 1656)\n",
    "    14: GROMOS96 54a7 force field (Eur. Biophys. J. (2011), 40,, 843-856, DOI: 10.1007/s00249-011-0700-9)\n",
    "    15: OPLS-AA/L all-atom force field (2001 aminoacid dihedrals)\n"
   ]
  },
  {
   "cell_type": "markdown",
   "metadata": {
    "nbpresent": {
     "id": "313f7d4f-aef7-4034-a8f0-d01ccbc0f61a"
    }
   },
   "source": [
    "There are many other options that can be passed to pdb2gmx (see http://manual.gromacs.org/documentation/current/onlinehelp/gmx-pdb2gmx.html). Some commonly used ones are listed here:\n",
    "\n",
    "| Option | Effect |\n",
    "|--------|--------\n",
    "|-water  | Water model to use: none, spc, spce, tip3p, tip4p, tip5p, tips3p.|\n",
    "|-ignh   | Ignore H atoms in the PDB file; especially useful for NMR structures. Otherwise, if H atoms are present, they must be in the named exactly how the force fields in GROMACS expect them to be. Different conventions exist, so dealing with H atoms can occasionally be a headache! If you need to preserve the initial H coordinates, but renaming is required, then the Linux sed command is your friend.|\n",
    "|-ter    | Interactively assign charge states for N- and C-termini.|\n",
    "|-inter  | Interactively assign charge states for Glu, Asp, Lys, Arg, and His; choose which Cys are involved in disulfide bonds.|"
   ]
  },
  {
   "cell_type": "markdown",
   "metadata": {
    "nbpresent": {
     "id": "d0e9e6a0-2330-4d50-90ee-9c2ebcfeccb9"
    }
   },
   "source": [
    "## A peek at the generated files"
   ]
  },
  {
   "cell_type": "code",
   "execution_count": 10,
   "metadata": {
    "nbpresent": {
     "id": "db39c2bf-2b27-4143-a5bf-2d8a9ad69a86"
    },
    "scrolled": true
   },
   "outputs": [
    {
     "name": "stdout",
     "output_type": "stream",
     "text": [
      "#1fjs_processed.gro.1#        1fjs_protein_tmp.pdb\r\n",
      "#posre_Protein_chain_A.itp.1# \u001b[1m\u001b[36minput\u001b[m\u001b[m\r\n",
      "#posre_Protein_chain_L.itp.1# posre_Protein_chain_A.itp\r\n",
      "#topol.top.1#                 posre_Protein_chain_L.itp\r\n",
      "#topol_Protein_chain_A.itp.1# \u001b[1m\u001b[36mreference\u001b[m\u001b[m\r\n",
      "#topol_Protein_chain_L.itp.1# topol.top\r\n",
      "1fjs_newbox.gro               topol_Protein_chain_A.itp\r\n",
      "1fjs_processed.gro            topol_Protein_chain_L.itp\r\n",
      "1fjs_protein.pdb\r\n"
     ]
    }
   ],
   "source": [
    "!ls"
   ]
  },
  {
   "cell_type": "markdown",
   "metadata": {
    "nbpresent": {
     "id": "e726db3d-da64-4dc6-979a-37de5aca3555"
    }
   },
   "source": [
    "You have now generated three new files: 1fjs_processed.gro, topol.top, topol_Protein_chain_X.itp and posre_Protein_chain_X.itp. 1fjs_processed.gro is a GROMACS-formatted structure file that contains all the atoms defined within the force field (i.e., H atoms have been added to the amino acids in the protein). The topol.top file is the system topology (more on this in a minute). The posre files contain information used to restrain the positions of heavy atoms (more on this later).\n",
    "\n",
    "One final note: many users assume that a .gro file is mandatory. This is not true. GROMACS can handle many different file formats, with .gro simply being the default for commands that write coordinate files. It is a very compact format, but it has limited precision. If you prefer to use, for instance, PDB format, all you need to do is to specify an appropriate file name with .pdb extension as your output. The purpose of pdb2gmx is to produce a force field-compliant topology; the output structure is largely a side effect of this purpose and is intended for user convenience. The format can be just about anything you like (see http://manual.gromacs.org/documentation/current/reference-manual/file-formats.html for different formats)."
   ]
  },
  {
   "cell_type": "markdown",
   "metadata": {
    "nbpresent": {
     "id": "aeae1bf0-ee7a-466f-8a74-ffa719813bc6"
    }
   },
   "source": [
    "# Understanding molecule \"topologies\""
   ]
  },
  {
   "cell_type": "markdown",
   "metadata": {
    "nbpresent": {
     "id": "93e9c7bd-075d-429f-be86-6b3118cb5b1c"
    }
   },
   "source": [
    "Let's look at what is in the output topology (topol.top). Again, using a plain text editor, inspect its contents. After several comment lines (preceded by `;`), you will find the following:"
   ]
  },
  {
   "cell_type": "code",
   "execution_count": 11,
   "metadata": {
    "scrolled": true
   },
   "outputs": [
    {
     "name": "stdout",
     "output_type": "stream",
     "text": [
      ";\r\n",
      ";\tFile 'topol.top' was generated\r\n",
      ";\tBy user: ethan (501)\r\n",
      ";\tOn host: Ethans-MBP-4\r\n",
      ";\tAt date: Wed Jun 22 09:43:23 2022\r\n",
      ";\r\n",
      ";\tThis is a standalone topology file\r\n",
      ";\r\n",
      ";\tCreated by:\r\n",
      ";\t               :-) GROMACS - gmx pdb2gmx, 2022-conda_forge (-:\r\n",
      ";\t\r\n",
      ";\tExecutable:   /Users/ethan/anaconda3/envs/md-intro-tutorial/bin.AVX2_256/gmx\r\n",
      ";\tData prefix:  /Users/ethan/anaconda3/envs/md-intro-tutorial\r\n",
      ";\tWorking dir:  /Users/ethan/md-intro-tutorial/md-intro-tutorial-main/data\r\n",
      ";\tCommand line:\r\n",
      ";\t  gmx pdb2gmx -f 1fjs_protein.pdb -o 1fjs_processed.gro -water tip3p -ff charmm27\r\n",
      ";\tForce field was read from the standard GROMACS share directory.\r\n",
      ";\r\n",
      "\r\n",
      "; Include forcefield parameters\r\n",
      "#include \"charmm27.ff/forcefield.itp\"\r\n",
      "\r\n",
      "; Include chain topologies\r\n",
      "#include \"topol_Protein_chain_A.itp\"\r\n",
      "#include \"topol_Protein_chain_L.itp\"\r\n",
      "\r\n",
      "; Include water topology\r\n",
      "#include \"charmm27.ff/tip3p.itp\"\r\n",
      "\r\n",
      "#ifdef POSRES_WATER\r\n",
      "; Position restraint for each water oxygen\r\n",
      "[ position_restraints ]\r\n",
      ";  i funct       fcx        fcy        fcz\r\n",
      "   1    1       1000       1000       1000\r\n",
      "#endif\r\n",
      "\r\n",
      "; Include topology for ions\r\n",
      "#include \"charmm27.ff/ions.itp\"\r\n",
      "\r\n",
      "[ system ]\r\n",
      "; Name\r\n",
      "COAGULATION FACTOR XA; COAGULATION FACTOR XA\r\n",
      "\r\n",
      "[ molecules ]\r\n",
      "; Compound        #mols\r\n",
      "Protein_chain_A     1\r\n",
      "Protein_chain_L     1\r\n"
     ]
    }
   ],
   "source": [
    "!cat topol.top"
   ]
  },
  {
   "cell_type": "markdown",
   "metadata": {
    "nbpresent": {
     "id": "c2e72686-c836-46ff-947a-faaf1e87d18a"
    }
   },
   "source": [
    "The first line calls the parameters within the choosen force field. It is at the beginning of the file, indicating that all subsequent parameters are derived from this force field.  Then next important line is [ moleculetype ], that you find in  "
   ]
  },
  {
   "cell_type": "code",
   "execution_count": 12,
   "metadata": {},
   "outputs": [
    {
     "name": "stdout",
     "output_type": "stream",
     "text": [
      "[ moleculetype ]\r\n",
      "; Name            nrexcl\r\n",
      "Protein_chain_A     3\r\n",
      "\r\n"
     ]
    }
   ],
   "source": [
    "!grep \"moleculetype\" -A 3 topol_Protein_chain_A.itp"
   ]
  },
  {
   "cell_type": "markdown",
   "metadata": {},
   "source": [
    "and"
   ]
  },
  {
   "cell_type": "code",
   "execution_count": 13,
   "metadata": {},
   "outputs": [
    {
     "name": "stdout",
     "output_type": "stream",
     "text": [
      "[ moleculetype ]\r\n",
      "; Name            nrexcl\r\n",
      "Protein_chain_L     3\r\n",
      "\r\n"
     ]
    }
   ],
   "source": [
    "!grep \"moleculetype\" -A 3 topol_Protein_chain_L.itp"
   ]
  },
  {
   "cell_type": "markdown",
   "metadata": {
    "nbpresent": {
     "id": "49a884b4-6326-4c0b-99a0-d66f60bd9e4d"
    }
   },
   "source": [
    "The name \"Protein_chain_A\" defines the molecule name, based on the fact that the protein was labeled as chain A in the PDB file. There are 3 exclusions for bonded neighbors. More information on exclusions can be found in the <a href=http://manual.gromacs.org/current/reference-manual/topologies.html>GROMACS manual</a>."
   ]
  },
  {
   "cell_type": "markdown",
   "metadata": {
    "nbpresent": {
     "id": "db680c9f-9999-4423-b607-47b2746a64c4"
    }
   },
   "source": [
    "## Atoms in a topology"
   ]
  },
  {
   "cell_type": "markdown",
   "metadata": {
    "nbpresent": {
     "id": "98122e18-61f8-44b2-b5cf-6b4fa20ae864"
    }
   },
   "source": [
    "The next section defines the [ atoms ] in the protein. The information is presented as columns:"
   ]
  },
  {
   "cell_type": "code",
   "execution_count": 14,
   "metadata": {},
   "outputs": [
    {
     "name": "stdout",
     "output_type": "stream",
     "text": [
      "[ atoms ]\r\n",
      ";   nr       type  resnr residue  atom   cgnr     charge       mass  typeB    chargeB      massB\r\n",
      "; residue  16 ILE rtp ILE  q +1.0\r\n",
      "     1        NH3     16    ILE      N      1       -0.3     14.007\r\n",
      "     2         HC     16    ILE     H1      2       0.33      1.008\r\n"
     ]
    }
   ],
   "source": [
    "! grep \"atoms\" -A 4 topol_Protein_chain_A.itp"
   ]
  },
  {
   "cell_type": "markdown",
   "metadata": {
    "nbpresent": {
     "id": "09648857-440c-4e54-86c6-932fa288cfa9"
    }
   },
   "source": [
    "The interpretation of this information is as follows:\n",
    "\n",
    "|Field  |  description |\n",
    "|--|--\n",
    "|nr|Atom number\n",
    "|type| Atom type\n",
    "|resnr|Amino acid residue number\n",
    "|residue| The amino acid residue name- Note that this may be different from .rtp entry. \n",
    "|atom| Atom name\n",
    "|cgnr| Charge group number - Not used anymore \n",
    "|charge| Self-explanatory - The \"qtot\" descriptor is a running total of the charge on the molecule\n",
    "|mass| Also self-explanatory\n",
    "|typeB, chargeB, massB| Used for free energy perturbation (not discussed here) "
   ]
  },
  {
   "cell_type": "markdown",
   "metadata": {
    "nbpresent": {
     "id": "18a65484-38e3-49fc-9dc2-57f04d698628"
    }
   },
   "source": [
    "## Bonds and other interactions"
   ]
  },
  {
   "cell_type": "markdown",
   "metadata": {
    "nbpresent": {
     "id": "0a8bda1d-2727-4a76-983d-dab8112e1dcf"
    }
   },
   "source": [
    "Subsequent sections include [ bonds ], [ pairs ], [ angles ], and [ dihedrals ]. Some of these sections are self-explanatory (bonds, angles, and dihedrals). These interactions are found [here](http://manual.gromacs.org/current/reference-manual/functions.html) and special 1-4 interactions are included under [pairs](http://manual.gromacs.org/current/reference-manual/functions/interaction-methods.html#exclusions-and-1-4-interactions). For format associated to function types [see topology file table](http://manual.gromacs.org/documentation/2020-beta1/reference-manual/topologies/topology-file-formats.html) in GROMACS manual."
   ]
  },
  {
   "cell_type": "markdown",
   "metadata": {},
   "source": [
    "Below we look for these interactions in topolology file. As example we start with chain A. Bonded interactions"
   ]
  },
  {
   "cell_type": "code",
   "execution_count": 15,
   "metadata": {},
   "outputs": [
    {
     "name": "stdout",
     "output_type": "stream",
     "text": [
      "[ bonds ]\r\n",
      ";  ai    aj funct            c0            c1            c2            c3\r\n",
      "    1     2     1 \r\n"
     ]
    }
   ],
   "source": [
    "!grep \"bonds\" -A 2 topol_Protein_chain_A.itp"
   ]
  },
  {
   "cell_type": "markdown",
   "metadata": {},
   "source": [
    "Pair interactions"
   ]
  },
  {
   "cell_type": "code",
   "execution_count": 16,
   "metadata": {},
   "outputs": [
    {
     "name": "stdout",
     "output_type": "stream",
     "text": [
      "[ pairs ]\r\n",
      ";  ai    aj funct            c0            c1            c2            c3\r\n",
      "    1     8     1 \r\n"
     ]
    }
   ],
   "source": [
    "!grep \"pairs\" -A 2  topol_Protein_chain_A.itp"
   ]
  },
  {
   "cell_type": "markdown",
   "metadata": {},
   "source": [
    "Angle interactions"
   ]
  },
  {
   "cell_type": "code",
   "execution_count": 17,
   "metadata": {},
   "outputs": [
    {
     "name": "stdout",
     "output_type": "stream",
     "text": [
      "[ angles ]\r\n",
      ";  ai    aj    ak funct            c0            c1            c2            c3\r\n",
      "    2     1     3     5 \r\n"
     ]
    }
   ],
   "source": [
    "!grep \"angles\" -A 2 topol_Protein_chain_A.itp"
   ]
  },
  {
   "cell_type": "markdown",
   "metadata": {},
   "source": [
    "Dihedral interactions"
   ]
  },
  {
   "cell_type": "code",
   "execution_count": 18,
   "metadata": {},
   "outputs": [
    {
     "name": "stdout",
     "output_type": "stream",
     "text": [
      "[ dihedrals ]\r\n",
      ";  ai    aj    ak    al funct            c0            c1            c2            c3            c4            c5\r\n",
      "    2     1     5     6     9 \r\n",
      "--\r\n",
      "[ dihedrals ]\r\n",
      ";  ai    aj    ak    al funct            c0            c1            c2            c3\r\n",
      "   20     5    22    21     2 \r\n"
     ]
    }
   ],
   "source": [
    "!grep \"dihedrals\" -A 2 topol_Protein_chain_A.itp"
   ]
  },
  {
   "cell_type": "markdown",
   "metadata": {
    "nbpresent": {
     "id": "ef42771f-cf92-4505-a904-9e5b8f9ab0d1"
    }
   },
   "source": [
    "## Water and position restraints"
   ]
  },
  {
   "cell_type": "markdown",
   "metadata": {
    "nbpresent": {
     "id": "b43f5e17-887e-415c-a7da-1b61d8e53b93"
    }
   },
   "source": [
    "The remainder of the file involves including a few other useful/necessary topologies, starting with position restraints. The \"posre.itp\" file was generated by pdb2gmx; it defines a force constant used to keep atoms in place during equilibration (more on this later)."
   ]
  },
  {
   "cell_type": "code",
   "execution_count": 19,
   "metadata": {},
   "outputs": [
    {
     "name": "stdout",
     "output_type": "stream",
     "text": [
      "topol_Protein_chain_A.itp:#include \"posre_Protein_chain_A.itp\"\r\n",
      "topol_Protein_chain_L.itp:#include \"posre_Protein_chain_L.itp\"\r\n"
     ]
    }
   ],
   "source": [
    "!grep \"posre\" topol*.itp"
   ]
  },
  {
   "cell_type": "code",
   "execution_count": 20,
   "metadata": {
    "nbpresent": {
     "id": "04e0801a-6444-4279-b4ed-36245a918cba"
    },
    "scrolled": true
   },
   "outputs": [
    {
     "name": "stdout",
     "output_type": "stream",
     "text": [
      "; In this topology include file, you will find position restraint\r\n",
      "; entries for all the heavy atoms in your original pdb file.\r\n",
      "; This means that all the protons which were added by pdb2gmx are\r\n",
      "; not restrained.\r\n",
      "\r\n",
      "[ position_restraints ]\r\n",
      "; atom  type      fx      fy      fz\r\n",
      "     1     1  1000  1000  1000\r\n",
      "     5     1  1000  1000  1000\r\n",
      "     7     1  1000  1000  1000\r\n",
      "     9     1  1000  1000  1000\r\n",
      "    13     1  1000  1000  1000\r\n",
      "    16     1  1000  1000  1000\r\n",
      "    20     1  1000  1000  1000\r\n",
      "    21     1  1000  1000  1000\r\n",
      "    22     1  1000  1000  1000\r\n",
      "    24     1  1000  1000  1000\r\n",
      "    26     1  1000  1000  1000\r\n",
      "    28     1  1000  1000  1000\r\n",
      "    32     1  1000  1000  1000\r\n",
      "    36     1  1000  1000  1000\r\n",
      "    37     1  1000  1000  1000\r\n",
      "    38     1  1000  1000  1000\r\n",
      "    40     1  1000  1000  1000\r\n",
      "    43     1  1000  1000  1000\r\n",
      "    44     1  1000  1000  1000\r\n",
      "    45     1  1000  1000  1000\r\n",
      "    47     1  1000  1000  1000\r\n",
      "    50     1  1000  1000  1000\r\n",
      "    51     1  1000  1000  1000\r\n",
      "    52     1  1000  1000  1000\r\n",
      "    54     1  1000  1000  1000\r\n",
      "    56     1  1000  1000  1000\r\n",
      "    59     1  1000  1000  1000\r\n",
      "    62     1  1000  1000  1000\r\n",
      "    63     1  1000  1000  1000\r\n",
      "    64     1  1000  1000  1000\r\n",
      "    67     1  1000  1000  1000\r\n",
      "    68     1  1000  1000  1000\r\n",
      "    69     1  1000  1000  1000\r\n",
      "    71     1  1000  1000  1000\r\n",
      "    73     1  1000  1000  1000\r\n",
      "    76     1  1000  1000  1000\r\n",
      "    79     1  1000  1000  1000\r\n",
      "    80     1  1000  1000  1000\r\n",
      "    81     1  1000  1000  1000\r\n",
      "    82     1  1000  1000  1000\r\n",
      "    83     1  1000  1000  1000\r\n",
      "    84     1  1000  1000  1000\r\n",
      "    86     1  1000  1000  1000\r\n",
      "    88     1  1000  1000  1000\r\n",
      "    91     1  1000  1000  1000\r\n",
      "    93     1  1000  1000  1000\r\n",
      "    94     1  1000  1000  1000\r\n",
      "    95     1  1000  1000  1000\r\n",
      "    97     1  1000  1000  1000\r\n",
      "    99     1  1000  1000  1000\r\n",
      "   102     1  1000  1000  1000\r\n",
      "   105     1  1000  1000  1000\r\n",
      "   108     1  1000  1000  1000\r\n",
      "   111     1  1000  1000  1000\r\n",
      "   115     1  1000  1000  1000\r\n",
      "   116     1  1000  1000  1000\r\n",
      "   117     1  1000  1000  1000\r\n",
      "   119     1  1000  1000  1000\r\n",
      "   121     1  1000  1000  1000\r\n",
      "   124     1  1000  1000  1000\r\n",
      "   125     1  1000  1000  1000\r\n",
      "   126     1  1000  1000  1000\r\n",
      "   127     1  1000  1000  1000\r\n",
      "   128     1  1000  1000  1000\r\n",
      "   129     1  1000  1000  1000\r\n",
      "   131     1  1000  1000  1000\r\n",
      "   134     1  1000  1000  1000\r\n",
      "   135     1  1000  1000  1000\r\n",
      "   136     1  1000  1000  1000\r\n",
      "   138     1  1000  1000  1000\r\n",
      "   140     1  1000  1000  1000\r\n",
      "   143     1  1000  1000  1000\r\n",
      "   146     1  1000  1000  1000\r\n",
      "   147     1  1000  1000  1000\r\n",
      "   148     1  1000  1000  1000\r\n",
      "   149     1  1000  1000  1000\r\n",
      "   150     1  1000  1000  1000\r\n",
      "   151     1  1000  1000  1000\r\n",
      "   153     1  1000  1000  1000\r\n",
      "   155     1  1000  1000  1000\r\n",
      "   158     1  1000  1000  1000\r\n",
      "   160     1  1000  1000  1000\r\n",
      "   161     1  1000  1000  1000\r\n",
      "   162     1  1000  1000  1000\r\n",
      "   163     1  1000  1000  1000\r\n",
      "   166     1  1000  1000  1000\r\n",
      "   168     1  1000  1000  1000\r\n",
      "   171     1  1000  1000  1000\r\n",
      "   174     1  1000  1000  1000\r\n",
      "   175     1  1000  1000  1000\r\n",
      "   176     1  1000  1000  1000\r\n",
      "   178     1  1000  1000  1000\r\n",
      "   180     1  1000  1000  1000\r\n",
      "   183     1  1000  1000  1000\r\n",
      "   184     1  1000  1000  1000\r\n",
      "   186     1  1000  1000  1000\r\n",
      "   188     1  1000  1000  1000\r\n",
      "   189     1  1000  1000  1000\r\n",
      "   190     1  1000  1000  1000\r\n",
      "   192     1  1000  1000  1000\r\n",
      "   194     1  1000  1000  1000\r\n",
      "   196     1  1000  1000  1000\r\n",
      "   198     1  1000  1000  1000\r\n",
      "   199     1  1000  1000  1000\r\n",
      "   200     1  1000  1000  1000\r\n",
      "   202     1  1000  1000  1000\r\n",
      "   204     1  1000  1000  1000\r\n",
      "   207     1  1000  1000  1000\r\n",
      "   210     1  1000  1000  1000\r\n",
      "   211     1  1000  1000  1000\r\n",
      "   212     1  1000  1000  1000\r\n",
      "   215     1  1000  1000  1000\r\n",
      "   216     1  1000  1000  1000\r\n",
      "   217     1  1000  1000  1000\r\n",
      "   219     1  1000  1000  1000\r\n",
      "   221     1  1000  1000  1000\r\n",
      "   225     1  1000  1000  1000\r\n",
      "   226     1  1000  1000  1000\r\n",
      "   227     1  1000  1000  1000\r\n",
      "   229     1  1000  1000  1000\r\n",
      "   231     1  1000  1000  1000\r\n",
      "   234     1  1000  1000  1000\r\n",
      "   236     1  1000  1000  1000\r\n",
      "   240     1  1000  1000  1000\r\n",
      "   244     1  1000  1000  1000\r\n",
      "   245     1  1000  1000  1000\r\n",
      "   246     1  1000  1000  1000\r\n",
      "   248     1  1000  1000  1000\r\n",
      "   250     1  1000  1000  1000\r\n",
      "   253     1  1000  1000  1000\r\n",
      "   255     1  1000  1000  1000\r\n",
      "   259     1  1000  1000  1000\r\n",
      "   263     1  1000  1000  1000\r\n",
      "   264     1  1000  1000  1000\r\n",
      "   265     1  1000  1000  1000\r\n",
      "   267     1  1000  1000  1000\r\n",
      "   269     1  1000  1000  1000\r\n",
      "   271     1  1000  1000  1000\r\n",
      "   275     1  1000  1000  1000\r\n",
      "   278     1  1000  1000  1000\r\n",
      "   282     1  1000  1000  1000\r\n",
      "   283     1  1000  1000  1000\r\n",
      "   284     1  1000  1000  1000\r\n",
      "   286     1  1000  1000  1000\r\n",
      "   288     1  1000  1000  1000\r\n",
      "   291     1  1000  1000  1000\r\n",
      "   292     1  1000  1000  1000\r\n",
      "   293     1  1000  1000  1000\r\n",
      "   296     1  1000  1000  1000\r\n",
      "   297     1  1000  1000  1000\r\n",
      "   298     1  1000  1000  1000\r\n",
      "   300     1  1000  1000  1000\r\n",
      "   302     1  1000  1000  1000\r\n",
      "   305     1  1000  1000  1000\r\n",
      "   308     1  1000  1000  1000\r\n",
      "   309     1  1000  1000  1000\r\n",
      "   310     1  1000  1000  1000\r\n",
      "   311     1  1000  1000  1000\r\n",
      "   312     1  1000  1000  1000\r\n",
      "   313     1  1000  1000  1000\r\n",
      "   315     1  1000  1000  1000\r\n",
      "   317     1  1000  1000  1000\r\n",
      "   320     1  1000  1000  1000\r\n",
      "   323     1  1000  1000  1000\r\n",
      "   324     1  1000  1000  1000\r\n",
      "   325     1  1000  1000  1000\r\n",
      "   326     1  1000  1000  1000\r\n",
      "   327     1  1000  1000  1000\r\n",
      "   328     1  1000  1000  1000\r\n",
      "   330     1  1000  1000  1000\r\n",
      "   332     1  1000  1000  1000\r\n",
      "   335     1  1000  1000  1000\r\n",
      "   336     1  1000  1000  1000\r\n",
      "   337     1  1000  1000  1000\r\n",
      "   340     1  1000  1000  1000\r\n",
      "   341     1  1000  1000  1000\r\n",
      "   342     1  1000  1000  1000\r\n",
      "   344     1  1000  1000  1000\r\n",
      "   346     1  1000  1000  1000\r\n",
      "   349     1  1000  1000  1000\r\n",
      "   352     1  1000  1000  1000\r\n",
      "   353     1  1000  1000  1000\r\n",
      "   354     1  1000  1000  1000\r\n",
      "   355     1  1000  1000  1000\r\n",
      "   356     1  1000  1000  1000\r\n",
      "   357     1  1000  1000  1000\r\n",
      "   359     1  1000  1000  1000\r\n",
      "   362     1  1000  1000  1000\r\n",
      "   363     1  1000  1000  1000\r\n",
      "   364     1  1000  1000  1000\r\n",
      "   366     1  1000  1000  1000\r\n",
      "   368     1  1000  1000  1000\r\n",
      "   371     1  1000  1000  1000\r\n",
      "   372     1  1000  1000  1000\r\n",
      "   374     1  1000  1000  1000\r\n",
      "   376     1  1000  1000  1000\r\n",
      "   378     1  1000  1000  1000\r\n",
      "   380     1  1000  1000  1000\r\n",
      "   382     1  1000  1000  1000\r\n",
      "   383     1  1000  1000  1000\r\n",
      "   384     1  1000  1000  1000\r\n",
      "   386     1  1000  1000  1000\r\n",
      "   388     1  1000  1000  1000\r\n",
      "   391     1  1000  1000  1000\r\n",
      "   393     1  1000  1000  1000\r\n",
      "   394     1  1000  1000  1000\r\n",
      "   395     1  1000  1000  1000\r\n",
      "   397     1  1000  1000  1000\r\n",
      "   400     1  1000  1000  1000\r\n",
      "   401     1  1000  1000  1000\r\n",
      "   402     1  1000  1000  1000\r\n",
      "   404     1  1000  1000  1000\r\n",
      "   407     1  1000  1000  1000\r\n",
      "   408     1  1000  1000  1000\r\n",
      "   409     1  1000  1000  1000\r\n",
      "   411     1  1000  1000  1000\r\n",
      "   413     1  1000  1000  1000\r\n",
      "   415     1  1000  1000  1000\r\n",
      "   417     1  1000  1000  1000\r\n",
      "   421     1  1000  1000  1000\r\n",
      "   422     1  1000  1000  1000\r\n",
      "   423     1  1000  1000  1000\r\n",
      "   425     1  1000  1000  1000\r\n",
      "   427     1  1000  1000  1000\r\n",
      "   429     1  1000  1000  1000\r\n",
      "   433     1  1000  1000  1000\r\n",
      "   436     1  1000  1000  1000\r\n",
      "   440     1  1000  1000  1000\r\n",
      "   441     1  1000  1000  1000\r\n",
      "   442     1  1000  1000  1000\r\n",
      "   444     1  1000  1000  1000\r\n",
      "   446     1  1000  1000  1000\r\n",
      "   449     1  1000  1000  1000\r\n",
      "   451     1  1000  1000  1000\r\n",
      "   455     1  1000  1000  1000\r\n",
      "   459     1  1000  1000  1000\r\n",
      "   460     1  1000  1000  1000\r\n",
      "   461     1  1000  1000  1000\r\n",
      "   463     1  1000  1000  1000\r\n",
      "   465     1  1000  1000  1000\r\n",
      "   468     1  1000  1000  1000\r\n",
      "   470     1  1000  1000  1000\r\n",
      "   471     1  1000  1000  1000\r\n",
      "   472     1  1000  1000  1000\r\n",
      "   474     1  1000  1000  1000\r\n",
      "   476     1  1000  1000  1000\r\n",
      "   479     1  1000  1000  1000\r\n",
      "   482     1  1000  1000  1000\r\n",
      "   483     1  1000  1000  1000\r\n",
      "   484     1  1000  1000  1000\r\n",
      "   485     1  1000  1000  1000\r\n",
      "   486     1  1000  1000  1000\r\n",
      "   487     1  1000  1000  1000\r\n",
      "   489     1  1000  1000  1000\r\n",
      "   491     1  1000  1000  1000\r\n",
      "   494     1  1000  1000  1000\r\n",
      "   495     1  1000  1000  1000\r\n",
      "   497     1  1000  1000  1000\r\n",
      "   499     1  1000  1000  1000\r\n",
      "   501     1  1000  1000  1000\r\n",
      "   503     1  1000  1000  1000\r\n",
      "   505     1  1000  1000  1000\r\n",
      "   506     1  1000  1000  1000\r\n",
      "   507     1  1000  1000  1000\r\n",
      "   509     1  1000  1000  1000\r\n",
      "   511     1  1000  1000  1000\r\n",
      "   514     1  1000  1000  1000\r\n",
      "   515     1  1000  1000  1000\r\n",
      "   517     1  1000  1000  1000\r\n",
      "   519     1  1000  1000  1000\r\n",
      "   520     1  1000  1000  1000\r\n",
      "   522     1  1000  1000  1000\r\n",
      "   524     1  1000  1000  1000\r\n",
      "   526     1  1000  1000  1000\r\n",
      "   527     1  1000  1000  1000\r\n",
      "   528     1  1000  1000  1000\r\n",
      "   530     1  1000  1000  1000\r\n",
      "   532     1  1000  1000  1000\r\n",
      "   534     1  1000  1000  1000\r\n",
      "   538     1  1000  1000  1000\r\n",
      "   541     1  1000  1000  1000\r\n",
      "   545     1  1000  1000  1000\r\n",
      "   546     1  1000  1000  1000\r\n",
      "   547     1  1000  1000  1000\r\n",
      "   549     1  1000  1000  1000\r\n",
      "   551     1  1000  1000  1000\r\n",
      "   554     1  1000  1000  1000\r\n",
      "   556     1  1000  1000  1000\r\n",
      "   560     1  1000  1000  1000\r\n",
      "   564     1  1000  1000  1000\r\n",
      "   565     1  1000  1000  1000\r\n",
      "   566     1  1000  1000  1000\r\n",
      "   568     1  1000  1000  1000\r\n",
      "   570     1  1000  1000  1000\r\n",
      "   572     1  1000  1000  1000\r\n",
      "   574     1  1000  1000  1000\r\n",
      "   578     1  1000  1000  1000\r\n",
      "   579     1  1000  1000  1000\r\n",
      "   580     1  1000  1000  1000\r\n",
      "   582     1  1000  1000  1000\r\n",
      "   584     1  1000  1000  1000\r\n",
      "   588     1  1000  1000  1000\r\n",
      "   589     1  1000  1000  1000\r\n",
      "   590     1  1000  1000  1000\r\n",
      "   592     1  1000  1000  1000\r\n",
      "   594     1  1000  1000  1000\r\n",
      "   598     1  1000  1000  1000\r\n",
      "   599     1  1000  1000  1000\r\n",
      "   600     1  1000  1000  1000\r\n",
      "   602     1  1000  1000  1000\r\n",
      "   604     1  1000  1000  1000\r\n",
      "   607     1  1000  1000  1000\r\n",
      "   609     1  1000  1000  1000\r\n",
      "   610     1  1000  1000  1000\r\n",
      "   612     1  1000  1000  1000\r\n",
      "   613     1  1000  1000  1000\r\n",
      "   615     1  1000  1000  1000\r\n",
      "   616     1  1000  1000  1000\r\n",
      "   617     1  1000  1000  1000\r\n",
      "   619     1  1000  1000  1000\r\n",
      "   621     1  1000  1000  1000\r\n",
      "   624     1  1000  1000  1000\r\n",
      "   626     1  1000  1000  1000\r\n",
      "   627     1  1000  1000  1000\r\n",
      "   628     1  1000  1000  1000\r\n",
      "   630     1  1000  1000  1000\r\n",
      "   632     1  1000  1000  1000\r\n",
      "   635     1  1000  1000  1000\r\n",
      "   637     1  1000  1000  1000\r\n",
      "   641     1  1000  1000  1000\r\n",
      "   645     1  1000  1000  1000\r\n",
      "   646     1  1000  1000  1000\r\n",
      "   647     1  1000  1000  1000\r\n",
      "   649     1  1000  1000  1000\r\n",
      "   651     1  1000  1000  1000\r\n",
      "   654     1  1000  1000  1000\r\n",
      "   655     1  1000  1000  1000\r\n",
      "   657     1  1000  1000  1000\r\n",
      "   659     1  1000  1000  1000\r\n",
      "   660     1  1000  1000  1000\r\n",
      "   662     1  1000  1000  1000\r\n",
      "   664     1  1000  1000  1000\r\n",
      "   666     1  1000  1000  1000\r\n",
      "   667     1  1000  1000  1000\r\n",
      "   668     1  1000  1000  1000\r\n",
      "   670     1  1000  1000  1000\r\n",
      "   672     1  1000  1000  1000\r\n",
      "   675     1  1000  1000  1000\r\n",
      "   678     1  1000  1000  1000\r\n",
      "   679     1  1000  1000  1000\r\n",
      "   680     1  1000  1000  1000\r\n",
      "   683     1  1000  1000  1000\r\n",
      "   684     1  1000  1000  1000\r\n",
      "   685     1  1000  1000  1000\r\n",
      "   687     1  1000  1000  1000\r\n",
      "   689     1  1000  1000  1000\r\n",
      "   693     1  1000  1000  1000\r\n",
      "   694     1  1000  1000  1000\r\n",
      "   695     1  1000  1000  1000\r\n",
      "   697     1  1000  1000  1000\r\n",
      "   699     1  1000  1000  1000\r\n",
      "   702     1  1000  1000  1000\r\n",
      "   705     1  1000  1000  1000\r\n",
      "   708     1  1000  1000  1000\r\n",
      "   711     1  1000  1000  1000\r\n",
      "   715     1  1000  1000  1000\r\n",
      "   716     1  1000  1000  1000\r\n",
      "   717     1  1000  1000  1000\r\n",
      "   719     1  1000  1000  1000\r\n",
      "   721     1  1000  1000  1000\r\n",
      "   724     1  1000  1000  1000\r\n",
      "   727     1  1000  1000  1000\r\n",
      "   730     1  1000  1000  1000\r\n",
      "   732     1  1000  1000  1000\r\n",
      "   733     1  1000  1000  1000\r\n",
      "   736     1  1000  1000  1000\r\n",
      "   739     1  1000  1000  1000\r\n",
      "   740     1  1000  1000  1000\r\n",
      "   741     1  1000  1000  1000\r\n",
      "   743     1  1000  1000  1000\r\n",
      "   745     1  1000  1000  1000\r\n",
      "   748     1  1000  1000  1000\r\n",
      "   749     1  1000  1000  1000\r\n",
      "   751     1  1000  1000  1000\r\n",
      "   753     1  1000  1000  1000\r\n",
      "   755     1  1000  1000  1000\r\n",
      "   757     1  1000  1000  1000\r\n",
      "   759     1  1000  1000  1000\r\n",
      "   760     1  1000  1000  1000\r\n",
      "   761     1  1000  1000  1000\r\n",
      "   763     1  1000  1000  1000\r\n",
      "   765     1  1000  1000  1000\r\n",
      "   768     1  1000  1000  1000\r\n",
      "   771     1  1000  1000  1000\r\n",
      "   774     1  1000  1000  1000\r\n",
      "   777     1  1000  1000  1000\r\n",
      "   781     1  1000  1000  1000\r\n",
      "   782     1  1000  1000  1000\r\n",
      "   783     1  1000  1000  1000\r\n",
      "   785     1  1000  1000  1000\r\n",
      "   787     1  1000  1000  1000\r\n",
      "   789     1  1000  1000  1000\r\n",
      "   793     1  1000  1000  1000\r\n",
      "   797     1  1000  1000  1000\r\n",
      "   798     1  1000  1000  1000\r\n",
      "   799     1  1000  1000  1000\r\n",
      "   801     1  1000  1000  1000\r\n",
      "   803     1  1000  1000  1000\r\n",
      "   806     1  1000  1000  1000\r\n",
      "   809     1  1000  1000  1000\r\n",
      "   812     1  1000  1000  1000\r\n",
      "   814     1  1000  1000  1000\r\n",
      "   815     1  1000  1000  1000\r\n",
      "   818     1  1000  1000  1000\r\n",
      "   821     1  1000  1000  1000\r\n",
      "   822     1  1000  1000  1000\r\n",
      "   823     1  1000  1000  1000\r\n",
      "   825     1  1000  1000  1000\r\n",
      "   827     1  1000  1000  1000\r\n",
      "   829     1  1000  1000  1000\r\n",
      "   833     1  1000  1000  1000\r\n",
      "   837     1  1000  1000  1000\r\n",
      "   838     1  1000  1000  1000\r\n",
      "   839     1  1000  1000  1000\r\n",
      "   841     1  1000  1000  1000\r\n",
      "   844     1  1000  1000  1000\r\n",
      "   845     1  1000  1000  1000\r\n",
      "   846     1  1000  1000  1000\r\n",
      "   848     1  1000  1000  1000\r\n",
      "   850     1  1000  1000  1000\r\n",
      "   853     1  1000  1000  1000\r\n",
      "   854     1  1000  1000  1000\r\n",
      "   855     1  1000  1000  1000\r\n",
      "   856     1  1000  1000  1000\r\n",
      "   857     1  1000  1000  1000\r\n",
      "   858     1  1000  1000  1000\r\n",
      "   860     1  1000  1000  1000\r\n",
      "   862     1  1000  1000  1000\r\n",
      "   865     1  1000  1000  1000\r\n",
      "   868     1  1000  1000  1000\r\n",
      "   871     1  1000  1000  1000\r\n",
      "   873     1  1000  1000  1000\r\n",
      "   874     1  1000  1000  1000\r\n",
      "   877     1  1000  1000  1000\r\n",
      "   880     1  1000  1000  1000\r\n",
      "   881     1  1000  1000  1000\r\n",
      "   882     1  1000  1000  1000\r\n",
      "   884     1  1000  1000  1000\r\n",
      "   886     1  1000  1000  1000\r\n",
      "   889     1  1000  1000  1000\r\n",
      "   890     1  1000  1000  1000\r\n",
      "   891     1  1000  1000  1000\r\n",
      "   894     1  1000  1000  1000\r\n",
      "   895     1  1000  1000  1000\r\n",
      "   896     1  1000  1000  1000\r\n",
      "   898     1  1000  1000  1000\r\n",
      "   900     1  1000  1000  1000\r\n",
      "   902     1  1000  1000  1000\r\n",
      "   904     1  1000  1000  1000\r\n",
      "   908     1  1000  1000  1000\r\n",
      "   909     1  1000  1000  1000\r\n",
      "   910     1  1000  1000  1000\r\n",
      "   912     1  1000  1000  1000\r\n",
      "   914     1  1000  1000  1000\r\n",
      "   917     1  1000  1000  1000\r\n",
      "   920     1  1000  1000  1000\r\n",
      "   921     1  1000  1000  1000\r\n",
      "   922     1  1000  1000  1000\r\n",
      "   923     1  1000  1000  1000\r\n",
      "   924     1  1000  1000  1000\r\n",
      "   925     1  1000  1000  1000\r\n",
      "   927     1  1000  1000  1000\r\n",
      "   929     1  1000  1000  1000\r\n",
      "   932     1  1000  1000  1000\r\n",
      "   935     1  1000  1000  1000\r\n",
      "   936     1  1000  1000  1000\r\n",
      "   937     1  1000  1000  1000\r\n",
      "   940     1  1000  1000  1000\r\n",
      "   941     1  1000  1000  1000\r\n",
      "   942     1  1000  1000  1000\r\n",
      "   944     1  1000  1000  1000\r\n",
      "   946     1  1000  1000  1000\r\n",
      "   949     1  1000  1000  1000\r\n",
      "   952     1  1000  1000  1000\r\n",
      "   953     1  1000  1000  1000\r\n",
      "   954     1  1000  1000  1000\r\n",
      "   955     1  1000  1000  1000\r\n",
      "   956     1  1000  1000  1000\r\n",
      "   957     1  1000  1000  1000\r\n",
      "   959     1  1000  1000  1000\r\n",
      "   961     1  1000  1000  1000\r\n",
      "   964     1  1000  1000  1000\r\n",
      "   967     1  1000  1000  1000\r\n",
      "   968     1  1000  1000  1000\r\n",
      "   969     1  1000  1000  1000\r\n",
      "   970     1  1000  1000  1000\r\n",
      "   971     1  1000  1000  1000\r\n",
      "   972     1  1000  1000  1000\r\n",
      "   974     1  1000  1000  1000\r\n",
      "   977     1  1000  1000  1000\r\n",
      "   978     1  1000  1000  1000\r\n",
      "   979     1  1000  1000  1000\r\n",
      "   981     1  1000  1000  1000\r\n",
      "   984     1  1000  1000  1000\r\n",
      "   985     1  1000  1000  1000\r\n",
      "   986     1  1000  1000  1000\r\n",
      "   988     1  1000  1000  1000\r\n",
      "   990     1  1000  1000  1000\r\n",
      "   993     1  1000  1000  1000\r\n",
      "   996     1  1000  1000  1000\r\n",
      "   997     1  1000  1000  1000\r\n",
      "   998     1  1000  1000  1000\r\n",
      "   999     1  1000  1000  1000\r\n",
      "  1000     1  1000  1000  1000\r\n",
      "  1001     1  1000  1000  1000\r\n",
      "  1003     1  1000  1000  1000\r\n",
      "  1005     1  1000  1000  1000\r\n",
      "  1009     1  1000  1000  1000\r\n",
      "  1010     1  1000  1000  1000\r\n",
      "  1011     1  1000  1000  1000\r\n",
      "  1013     1  1000  1000  1000\r\n",
      "  1015     1  1000  1000  1000\r\n",
      "  1017     1  1000  1000  1000\r\n",
      "  1021     1  1000  1000  1000\r\n",
      "  1025     1  1000  1000  1000\r\n",
      "  1026     1  1000  1000  1000\r\n",
      "  1027     1  1000  1000  1000\r\n",
      "  1029     1  1000  1000  1000\r\n",
      "  1031     1  1000  1000  1000\r\n",
      "  1034     1  1000  1000  1000\r\n",
      "  1035     1  1000  1000  1000\r\n",
      "  1036     1  1000  1000  1000\r\n",
      "  1038     1  1000  1000  1000\r\n",
      "  1040     1  1000  1000  1000\r\n",
      "  1042     1  1000  1000  1000\r\n",
      "  1043     1  1000  1000  1000\r\n",
      "  1044     1  1000  1000  1000\r\n",
      "  1046     1  1000  1000  1000\r\n",
      "  1048     1  1000  1000  1000\r\n",
      "  1051     1  1000  1000  1000\r\n",
      "  1054     1  1000  1000  1000\r\n",
      "  1055     1  1000  1000  1000\r\n",
      "  1056     1  1000  1000  1000\r\n",
      "  1057     1  1000  1000  1000\r\n",
      "  1058     1  1000  1000  1000\r\n",
      "  1059     1  1000  1000  1000\r\n",
      "  1061     1  1000  1000  1000\r\n",
      "  1063     1  1000  1000  1000\r\n",
      "  1065     1  1000  1000  1000\r\n",
      "  1069     1  1000  1000  1000\r\n",
      "  1073     1  1000  1000  1000\r\n",
      "  1074     1  1000  1000  1000\r\n",
      "  1075     1  1000  1000  1000\r\n",
      "  1077     1  1000  1000  1000\r\n",
      "  1079     1  1000  1000  1000\r\n",
      "  1082     1  1000  1000  1000\r\n",
      "  1085     1  1000  1000  1000\r\n",
      "  1086     1  1000  1000  1000\r\n",
      "  1087     1  1000  1000  1000\r\n",
      "  1088     1  1000  1000  1000\r\n",
      "  1089     1  1000  1000  1000\r\n",
      "  1090     1  1000  1000  1000\r\n",
      "  1092     1  1000  1000  1000\r\n",
      "  1094     1  1000  1000  1000\r\n",
      "  1096     1  1000  1000  1000\r\n",
      "  1100     1  1000  1000  1000\r\n",
      "  1104     1  1000  1000  1000\r\n",
      "  1105     1  1000  1000  1000\r\n",
      "  1106     1  1000  1000  1000\r\n",
      "  1108     1  1000  1000  1000\r\n",
      "  1110     1  1000  1000  1000\r\n",
      "  1112     1  1000  1000  1000\r\n",
      "  1116     1  1000  1000  1000\r\n",
      "  1120     1  1000  1000  1000\r\n",
      "  1121     1  1000  1000  1000\r\n",
      "  1122     1  1000  1000  1000\r\n",
      "  1124     1  1000  1000  1000\r\n",
      "  1126     1  1000  1000  1000\r\n",
      "  1128     1  1000  1000  1000\r\n",
      "  1132     1  1000  1000  1000\r\n",
      "  1135     1  1000  1000  1000\r\n",
      "  1139     1  1000  1000  1000\r\n",
      "  1140     1  1000  1000  1000\r\n",
      "  1141     1  1000  1000  1000\r\n",
      "  1143     1  1000  1000  1000\r\n",
      "  1145     1  1000  1000  1000\r\n",
      "  1148     1  1000  1000  1000\r\n",
      "  1151     1  1000  1000  1000\r\n",
      "  1154     1  1000  1000  1000\r\n",
      "  1157     1  1000  1000  1000\r\n",
      "  1161     1  1000  1000  1000\r\n",
      "  1162     1  1000  1000  1000\r\n",
      "  1163     1  1000  1000  1000\r\n",
      "  1165     1  1000  1000  1000\r\n",
      "  1167     1  1000  1000  1000\r\n",
      "  1170     1  1000  1000  1000\r\n",
      "  1171     1  1000  1000  1000\r\n",
      "  1172     1  1000  1000  1000\r\n",
      "  1174     1  1000  1000  1000\r\n",
      "  1176     1  1000  1000  1000\r\n",
      "  1178     1  1000  1000  1000\r\n",
      "  1179     1  1000  1000  1000\r\n",
      "  1180     1  1000  1000  1000\r\n",
      "  1182     1  1000  1000  1000\r\n",
      "  1184     1  1000  1000  1000\r\n",
      "  1187     1  1000  1000  1000\r\n",
      "  1188     1  1000  1000  1000\r\n",
      "  1189     1  1000  1000  1000\r\n",
      "  1192     1  1000  1000  1000\r\n",
      "  1193     1  1000  1000  1000\r\n",
      "  1194     1  1000  1000  1000\r\n",
      "  1196     1  1000  1000  1000\r\n",
      "  1198     1  1000  1000  1000\r\n",
      "  1201     1  1000  1000  1000\r\n",
      "  1204     1  1000  1000  1000\r\n",
      "  1207     1  1000  1000  1000\r\n",
      "  1209     1  1000  1000  1000\r\n",
      "  1210     1  1000  1000  1000\r\n",
      "  1213     1  1000  1000  1000\r\n",
      "  1216     1  1000  1000  1000\r\n",
      "  1217     1  1000  1000  1000\r\n",
      "  1218     1  1000  1000  1000\r\n",
      "  1220     1  1000  1000  1000\r\n",
      "  1222     1  1000  1000  1000\r\n",
      "  1225     1  1000  1000  1000\r\n",
      "  1226     1  1000  1000  1000\r\n",
      "  1228     1  1000  1000  1000\r\n",
      "  1230     1  1000  1000  1000\r\n",
      "  1232     1  1000  1000  1000\r\n",
      "  1234     1  1000  1000  1000\r\n",
      "  1236     1  1000  1000  1000\r\n",
      "  1237     1  1000  1000  1000\r\n",
      "  1238     1  1000  1000  1000\r\n",
      "  1240     1  1000  1000  1000\r\n",
      "  1242     1  1000  1000  1000\r\n",
      "  1244     1  1000  1000  1000\r\n",
      "  1246     1  1000  1000  1000\r\n",
      "  1250     1  1000  1000  1000\r\n",
      "  1251     1  1000  1000  1000\r\n",
      "  1252     1  1000  1000  1000\r\n",
      "  1254     1  1000  1000  1000\r\n",
      "  1256     1  1000  1000  1000\r\n",
      "  1259     1  1000  1000  1000\r\n",
      "  1262     1  1000  1000  1000\r\n",
      "  1265     1  1000  1000  1000\r\n",
      "  1268     1  1000  1000  1000\r\n",
      "  1272     1  1000  1000  1000\r\n",
      "  1273     1  1000  1000  1000\r\n",
      "  1274     1  1000  1000  1000\r\n",
      "  1276     1  1000  1000  1000\r\n",
      "  1278     1  1000  1000  1000\r\n",
      "  1281     1  1000  1000  1000\r\n",
      "  1284     1  1000  1000  1000\r\n",
      "  1285     1  1000  1000  1000\r\n",
      "  1286     1  1000  1000  1000\r\n",
      "  1287     1  1000  1000  1000\r\n",
      "  1288     1  1000  1000  1000\r\n",
      "  1289     1  1000  1000  1000\r\n",
      "  1291     1  1000  1000  1000\r\n",
      "  1293     1  1000  1000  1000\r\n",
      "  1295     1  1000  1000  1000\r\n",
      "  1297     1  1000  1000  1000\r\n",
      "  1301     1  1000  1000  1000\r\n",
      "  1302     1  1000  1000  1000\r\n",
      "  1303     1  1000  1000  1000\r\n",
      "  1305     1  1000  1000  1000\r\n",
      "  1307     1  1000  1000  1000\r\n",
      "  1310     1  1000  1000  1000\r\n",
      "  1311     1  1000  1000  1000\r\n",
      "  1313     1  1000  1000  1000\r\n",
      "  1315     1  1000  1000  1000\r\n",
      "  1316     1  1000  1000  1000\r\n",
      "  1318     1  1000  1000  1000\r\n",
      "  1320     1  1000  1000  1000\r\n",
      "  1322     1  1000  1000  1000\r\n",
      "  1323     1  1000  1000  1000\r\n",
      "  1324     1  1000  1000  1000\r\n",
      "  1326     1  1000  1000  1000\r\n",
      "  1328     1  1000  1000  1000\r\n",
      "  1331     1  1000  1000  1000\r\n",
      "  1332     1  1000  1000  1000\r\n",
      "  1333     1  1000  1000  1000\r\n",
      "  1334     1  1000  1000  1000\r\n",
      "  1335     1  1000  1000  1000\r\n",
      "  1336     1  1000  1000  1000\r\n",
      "  1338     1  1000  1000  1000\r\n",
      "  1340     1  1000  1000  1000\r\n",
      "  1343     1  1000  1000  1000\r\n",
      "  1344     1  1000  1000  1000\r\n",
      "  1346     1  1000  1000  1000\r\n",
      "  1348     1  1000  1000  1000\r\n",
      "  1350     1  1000  1000  1000\r\n",
      "  1352     1  1000  1000  1000\r\n",
      "  1354     1  1000  1000  1000\r\n",
      "  1355     1  1000  1000  1000\r\n",
      "  1356     1  1000  1000  1000\r\n",
      "  1358     1  1000  1000  1000\r\n",
      "  1360     1  1000  1000  1000\r\n",
      "  1363     1  1000  1000  1000\r\n",
      "  1364     1  1000  1000  1000\r\n",
      "  1365     1  1000  1000  1000\r\n",
      "  1366     1  1000  1000  1000\r\n",
      "  1367     1  1000  1000  1000\r\n",
      "  1368     1  1000  1000  1000\r\n",
      "  1370     1  1000  1000  1000\r\n",
      "  1372     1  1000  1000  1000\r\n",
      "  1374     1  1000  1000  1000\r\n",
      "  1378     1  1000  1000  1000\r\n",
      "  1381     1  1000  1000  1000\r\n",
      "  1385     1  1000  1000  1000\r\n",
      "  1386     1  1000  1000  1000\r\n",
      "  1387     1  1000  1000  1000\r\n",
      "  1389     1  1000  1000  1000\r\n",
      "  1391     1  1000  1000  1000\r\n",
      "  1395     1  1000  1000  1000\r\n",
      "  1396     1  1000  1000  1000\r\n",
      "  1397     1  1000  1000  1000\r\n",
      "  1399     1  1000  1000  1000\r\n",
      "  1401     1  1000  1000  1000\r\n",
      "  1403     1  1000  1000  1000\r\n",
      "  1407     1  1000  1000  1000\r\n",
      "  1411     1  1000  1000  1000\r\n",
      "  1412     1  1000  1000  1000\r\n",
      "  1413     1  1000  1000  1000\r\n",
      "  1415     1  1000  1000  1000\r\n",
      "  1417     1  1000  1000  1000\r\n",
      "  1420     1  1000  1000  1000\r\n",
      "  1422     1  1000  1000  1000\r\n",
      "  1426     1  1000  1000  1000\r\n",
      "  1430     1  1000  1000  1000\r\n",
      "  1431     1  1000  1000  1000\r\n",
      "  1432     1  1000  1000  1000\r\n",
      "  1434     1  1000  1000  1000\r\n",
      "  1436     1  1000  1000  1000\r\n",
      "  1439     1  1000  1000  1000\r\n",
      "  1442     1  1000  1000  1000\r\n",
      "  1445     1  1000  1000  1000\r\n",
      "  1447     1  1000  1000  1000\r\n",
      "  1448     1  1000  1000  1000\r\n",
      "  1451     1  1000  1000  1000\r\n",
      "  1454     1  1000  1000  1000\r\n",
      "  1455     1  1000  1000  1000\r\n",
      "  1456     1  1000  1000  1000\r\n",
      "  1458     1  1000  1000  1000\r\n",
      "  1460     1  1000  1000  1000\r\n",
      "  1463     1  1000  1000  1000\r\n",
      "  1465     1  1000  1000  1000\r\n",
      "  1469     1  1000  1000  1000\r\n",
      "  1473     1  1000  1000  1000\r\n",
      "  1474     1  1000  1000  1000\r\n",
      "  1475     1  1000  1000  1000\r\n",
      "  1477     1  1000  1000  1000\r\n",
      "  1479     1  1000  1000  1000\r\n",
      "  1482     1  1000  1000  1000\r\n",
      "  1485     1  1000  1000  1000\r\n",
      "  1488     1  1000  1000  1000\r\n",
      "  1491     1  1000  1000  1000\r\n",
      "  1495     1  1000  1000  1000\r\n",
      "  1496     1  1000  1000  1000\r\n",
      "  1497     1  1000  1000  1000\r\n",
      "  1499     1  1000  1000  1000\r\n",
      "  1501     1  1000  1000  1000\r\n",
      "  1503     1  1000  1000  1000\r\n",
      "  1505     1  1000  1000  1000\r\n",
      "  1509     1  1000  1000  1000\r\n",
      "  1510     1  1000  1000  1000\r\n",
      "  1511     1  1000  1000  1000\r\n",
      "  1512     1  1000  1000  1000\r\n",
      "  1515     1  1000  1000  1000\r\n",
      "  1517     1  1000  1000  1000\r\n",
      "  1520     1  1000  1000  1000\r\n",
      "  1523     1  1000  1000  1000\r\n",
      "  1524     1  1000  1000  1000\r\n",
      "  1525     1  1000  1000  1000\r\n",
      "  1527     1  1000  1000  1000\r\n",
      "  1529     1  1000  1000  1000\r\n",
      "  1531     1  1000  1000  1000\r\n",
      "  1535     1  1000  1000  1000\r\n",
      "  1538     1  1000  1000  1000\r\n",
      "  1542     1  1000  1000  1000\r\n",
      "  1543     1  1000  1000  1000\r\n",
      "  1544     1  1000  1000  1000\r\n",
      "  1546     1  1000  1000  1000\r\n",
      "  1548     1  1000  1000  1000\r\n",
      "  1550     1  1000  1000  1000\r\n",
      "  1552     1  1000  1000  1000\r\n",
      "  1556     1  1000  1000  1000\r\n",
      "  1557     1  1000  1000  1000\r\n",
      "  1558     1  1000  1000  1000\r\n",
      "  1560     1  1000  1000  1000\r\n",
      "  1562     1  1000  1000  1000\r\n",
      "  1565     1  1000  1000  1000\r\n",
      "  1566     1  1000  1000  1000\r\n",
      "  1568     1  1000  1000  1000\r\n",
      "  1570     1  1000  1000  1000\r\n",
      "  1572     1  1000  1000  1000\r\n",
      "  1574     1  1000  1000  1000\r\n",
      "  1576     1  1000  1000  1000\r\n",
      "  1577     1  1000  1000  1000\r\n",
      "  1578     1  1000  1000  1000\r\n",
      "  1580     1  1000  1000  1000\r\n",
      "  1582     1  1000  1000  1000\r\n",
      "  1585     1  1000  1000  1000\r\n",
      "  1588     1  1000  1000  1000\r\n",
      "  1591     1  1000  1000  1000\r\n",
      "  1593     1  1000  1000  1000\r\n",
      "  1594     1  1000  1000  1000\r\n",
      "  1597     1  1000  1000  1000\r\n",
      "  1600     1  1000  1000  1000\r\n",
      "  1601     1  1000  1000  1000\r\n",
      "  1602     1  1000  1000  1000\r\n",
      "  1604     1  1000  1000  1000\r\n",
      "  1606     1  1000  1000  1000\r\n",
      "  1609     1  1000  1000  1000\r\n",
      "  1612     1  1000  1000  1000\r\n",
      "  1613     1  1000  1000  1000\r\n",
      "  1617     1  1000  1000  1000\r\n",
      "  1618     1  1000  1000  1000\r\n",
      "  1619     1  1000  1000  1000\r\n",
      "  1621     1  1000  1000  1000\r\n",
      "  1623     1  1000  1000  1000\r\n",
      "  1626     1  1000  1000  1000\r\n",
      "  1627     1  1000  1000  1000\r\n",
      "  1628     1  1000  1000  1000\r\n",
      "  1631     1  1000  1000  1000\r\n",
      "  1632     1  1000  1000  1000\r\n",
      "  1633     1  1000  1000  1000\r\n",
      "  1635     1  1000  1000  1000\r\n",
      "  1637     1  1000  1000  1000\r\n",
      "  1639     1  1000  1000  1000\r\n",
      "  1643     1  1000  1000  1000\r\n",
      "  1647     1  1000  1000  1000\r\n",
      "  1648     1  1000  1000  1000\r\n",
      "  1649     1  1000  1000  1000\r\n",
      "  1651     1  1000  1000  1000\r\n",
      "  1653     1  1000  1000  1000\r\n",
      "  1657     1  1000  1000  1000\r\n",
      "  1658     1  1000  1000  1000\r\n",
      "  1659     1  1000  1000  1000\r\n",
      "  1660     1  1000  1000  1000\r\n",
      "  1663     1  1000  1000  1000\r\n",
      "  1665     1  1000  1000  1000\r\n",
      "  1668     1  1000  1000  1000\r\n",
      "  1671     1  1000  1000  1000\r\n",
      "  1672     1  1000  1000  1000\r\n",
      "  1673     1  1000  1000  1000\r\n",
      "  1675     1  1000  1000  1000\r\n",
      "  1677     1  1000  1000  1000\r\n",
      "  1681     1  1000  1000  1000\r\n",
      "  1682     1  1000  1000  1000\r\n",
      "  1683     1  1000  1000  1000\r\n",
      "  1685     1  1000  1000  1000\r\n",
      "  1687     1  1000  1000  1000\r\n",
      "  1690     1  1000  1000  1000\r\n",
      "  1692     1  1000  1000  1000\r\n",
      "  1693     1  1000  1000  1000\r\n",
      "  1694     1  1000  1000  1000\r\n",
      "  1696     1  1000  1000  1000\r\n",
      "  1698     1  1000  1000  1000\r\n",
      "  1701     1  1000  1000  1000\r\n",
      "  1703     1  1000  1000  1000\r\n",
      "  1707     1  1000  1000  1000\r\n",
      "  1711     1  1000  1000  1000\r\n",
      "  1712     1  1000  1000  1000\r\n",
      "  1713     1  1000  1000  1000\r\n",
      "  1714     1  1000  1000  1000\r\n",
      "  1717     1  1000  1000  1000\r\n",
      "  1719     1  1000  1000  1000\r\n",
      "  1722     1  1000  1000  1000\r\n",
      "  1725     1  1000  1000  1000\r\n",
      "  1726     1  1000  1000  1000\r\n",
      "  1727     1  1000  1000  1000\r\n",
      "  1729     1  1000  1000  1000\r\n",
      "  1731     1  1000  1000  1000\r\n",
      "  1734     1  1000  1000  1000\r\n",
      "  1737     1  1000  1000  1000\r\n",
      "  1738     1  1000  1000  1000\r\n",
      "  1739     1  1000  1000  1000\r\n",
      "  1740     1  1000  1000  1000\r\n",
      "  1741     1  1000  1000  1000\r\n",
      "  1742     1  1000  1000  1000\r\n",
      "  1744     1  1000  1000  1000\r\n",
      "  1746     1  1000  1000  1000\r\n",
      "  1749     1  1000  1000  1000\r\n",
      "  1752     1  1000  1000  1000\r\n",
      "  1755     1  1000  1000  1000\r\n",
      "  1757     1  1000  1000  1000\r\n",
      "  1758     1  1000  1000  1000\r\n",
      "  1761     1  1000  1000  1000\r\n",
      "  1764     1  1000  1000  1000\r\n",
      "  1765     1  1000  1000  1000\r\n",
      "  1766     1  1000  1000  1000\r\n",
      "  1768     1  1000  1000  1000\r\n",
      "  1770     1  1000  1000  1000\r\n",
      "  1773     1  1000  1000  1000\r\n",
      "  1774     1  1000  1000  1000\r\n",
      "  1775     1  1000  1000  1000\r\n",
      "  1776     1  1000  1000  1000\r\n",
      "  1777     1  1000  1000  1000\r\n",
      "  1778     1  1000  1000  1000\r\n",
      "  1780     1  1000  1000  1000\r\n",
      "  1782     1  1000  1000  1000\r\n",
      "  1785     1  1000  1000  1000\r\n",
      "  1786     1  1000  1000  1000\r\n",
      "  1788     1  1000  1000  1000\r\n",
      "  1790     1  1000  1000  1000\r\n",
      "  1791     1  1000  1000  1000\r\n",
      "  1792     1  1000  1000  1000\r\n",
      "  1794     1  1000  1000  1000\r\n",
      "  1796     1  1000  1000  1000\r\n",
      "  1798     1  1000  1000  1000\r\n",
      "  1800     1  1000  1000  1000\r\n",
      "  1801     1  1000  1000  1000\r\n",
      "  1802     1  1000  1000  1000\r\n",
      "  1804     1  1000  1000  1000\r\n",
      "  1806     1  1000  1000  1000\r\n",
      "  1810     1  1000  1000  1000\r\n",
      "  1811     1  1000  1000  1000\r\n",
      "  1812     1  1000  1000  1000\r\n",
      "  1814     1  1000  1000  1000\r\n",
      "  1816     1  1000  1000  1000\r\n",
      "  1819     1  1000  1000  1000\r\n",
      "  1822     1  1000  1000  1000\r\n",
      "  1823     1  1000  1000  1000\r\n",
      "  1824     1  1000  1000  1000\r\n",
      "  1825     1  1000  1000  1000\r\n",
      "  1826     1  1000  1000  1000\r\n",
      "  1827     1  1000  1000  1000\r\n",
      "  1829     1  1000  1000  1000\r\n",
      "  1831     1  1000  1000  1000\r\n",
      "  1834     1  1000  1000  1000\r\n",
      "  1836     1  1000  1000  1000\r\n",
      "  1837     1  1000  1000  1000\r\n",
      "  1838     1  1000  1000  1000\r\n",
      "  1840     1  1000  1000  1000\r\n",
      "  1842     1  1000  1000  1000\r\n",
      "  1844     1  1000  1000  1000\r\n",
      "  1846     1  1000  1000  1000\r\n",
      "  1850     1  1000  1000  1000\r\n",
      "  1851     1  1000  1000  1000\r\n",
      "  1852     1  1000  1000  1000\r\n",
      "  1854     1  1000  1000  1000\r\n",
      "  1856     1  1000  1000  1000\r\n",
      "  1859     1  1000  1000  1000\r\n",
      "  1861     1  1000  1000  1000\r\n",
      "  1865     1  1000  1000  1000\r\n",
      "  1869     1  1000  1000  1000\r\n",
      "  1870     1  1000  1000  1000\r\n",
      "  1871     1  1000  1000  1000\r\n",
      "  1873     1  1000  1000  1000\r\n",
      "  1875     1  1000  1000  1000\r\n",
      "  1878     1  1000  1000  1000\r\n",
      "  1881     1  1000  1000  1000\r\n",
      "  1882     1  1000  1000  1000\r\n",
      "  1886     1  1000  1000  1000\r\n",
      "  1887     1  1000  1000  1000\r\n",
      "  1888     1  1000  1000  1000\r\n",
      "  1890     1  1000  1000  1000\r\n",
      "  1892     1  1000  1000  1000\r\n",
      "  1894     1  1000  1000  1000\r\n",
      "  1896     1  1000  1000  1000\r\n",
      "  1900     1  1000  1000  1000\r\n",
      "  1901     1  1000  1000  1000\r\n",
      "  1902     1  1000  1000  1000\r\n",
      "  1904     1  1000  1000  1000\r\n",
      "  1906     1  1000  1000  1000\r\n",
      "  1909     1  1000  1000  1000\r\n",
      "  1912     1  1000  1000  1000\r\n",
      "  1913     1  1000  1000  1000\r\n",
      "  1914     1  1000  1000  1000\r\n",
      "  1917     1  1000  1000  1000\r\n",
      "  1918     1  1000  1000  1000\r\n",
      "  1919     1  1000  1000  1000\r\n",
      "  1921     1  1000  1000  1000\r\n",
      "  1923     1  1000  1000  1000\r\n",
      "  1926     1  1000  1000  1000\r\n",
      "  1929     1  1000  1000  1000\r\n",
      "  1932     1  1000  1000  1000\r\n",
      "  1935     1  1000  1000  1000\r\n",
      "  1939     1  1000  1000  1000\r\n",
      "  1940     1  1000  1000  1000\r\n",
      "  1941     1  1000  1000  1000\r\n",
      "  1943     1  1000  1000  1000\r\n",
      "  1945     1  1000  1000  1000\r\n",
      "  1947     1  1000  1000  1000\r\n",
      "  1949     1  1000  1000  1000\r\n",
      "  1953     1  1000  1000  1000\r\n",
      "  1954     1  1000  1000  1000\r\n",
      "  1955     1  1000  1000  1000\r\n",
      "  1957     1  1000  1000  1000\r\n",
      "  1960     1  1000  1000  1000\r\n",
      "  1961     1  1000  1000  1000\r\n",
      "  1962     1  1000  1000  1000\r\n",
      "  1964     1  1000  1000  1000\r\n",
      "  1966     1  1000  1000  1000\r\n",
      "  1968     1  1000  1000  1000\r\n",
      "  1972     1  1000  1000  1000\r\n",
      "  1975     1  1000  1000  1000\r\n",
      "  1979     1  1000  1000  1000\r\n",
      "  1980     1  1000  1000  1000\r\n",
      "  1981     1  1000  1000  1000\r\n",
      "  1983     1  1000  1000  1000\r\n",
      "  1985     1  1000  1000  1000\r\n",
      "  1987     1  1000  1000  1000\r\n",
      "  1991     1  1000  1000  1000\r\n",
      "  1995     1  1000  1000  1000\r\n",
      "  1996     1  1000  1000  1000\r\n",
      "  1997     1  1000  1000  1000\r\n",
      "  1999     1  1000  1000  1000\r\n",
      "  2001     1  1000  1000  1000\r\n",
      "  2004     1  1000  1000  1000\r\n",
      "  2006     1  1000  1000  1000\r\n",
      "  2007     1  1000  1000  1000\r\n",
      "  2008     1  1000  1000  1000\r\n",
      "  2010     1  1000  1000  1000\r\n",
      "  2013     1  1000  1000  1000\r\n",
      "  2014     1  1000  1000  1000\r\n",
      "  2015     1  1000  1000  1000\r\n",
      "  2017     1  1000  1000  1000\r\n",
      "  2019     1  1000  1000  1000\r\n",
      "  2022     1  1000  1000  1000\r\n",
      "  2023     1  1000  1000  1000\r\n",
      "  2025     1  1000  1000  1000\r\n",
      "  2027     1  1000  1000  1000\r\n",
      "  2029     1  1000  1000  1000\r\n",
      "  2031     1  1000  1000  1000\r\n",
      "  2033     1  1000  1000  1000\r\n",
      "  2034     1  1000  1000  1000\r\n",
      "  2035     1  1000  1000  1000\r\n",
      "  2037     1  1000  1000  1000\r\n",
      "  2040     1  1000  1000  1000\r\n",
      "  2041     1  1000  1000  1000\r\n",
      "  2042     1  1000  1000  1000\r\n",
      "  2044     1  1000  1000  1000\r\n",
      "  2046     1  1000  1000  1000\r\n",
      "  2049     1  1000  1000  1000\r\n",
      "  2052     1  1000  1000  1000\r\n",
      "  2055     1  1000  1000  1000\r\n",
      "  2057     1  1000  1000  1000\r\n",
      "  2058     1  1000  1000  1000\r\n",
      "  2061     1  1000  1000  1000\r\n",
      "  2064     1  1000  1000  1000\r\n",
      "  2065     1  1000  1000  1000\r\n",
      "  2066     1  1000  1000  1000\r\n",
      "  2068     1  1000  1000  1000\r\n",
      "  2070     1  1000  1000  1000\r\n",
      "  2072     1  1000  1000  1000\r\n",
      "  2074     1  1000  1000  1000\r\n",
      "  2078     1  1000  1000  1000\r\n",
      "  2079     1  1000  1000  1000\r\n",
      "  2080     1  1000  1000  1000\r\n",
      "  2082     1  1000  1000  1000\r\n",
      "  2084     1  1000  1000  1000\r\n",
      "  2087     1  1000  1000  1000\r\n",
      "  2088     1  1000  1000  1000\r\n",
      "  2089     1  1000  1000  1000\r\n",
      "  2091     1  1000  1000  1000\r\n",
      "  2093     1  1000  1000  1000\r\n",
      "  2095     1  1000  1000  1000\r\n",
      "  2096     1  1000  1000  1000\r\n",
      "  2097     1  1000  1000  1000\r\n",
      "  2099     1  1000  1000  1000\r\n",
      "  2101     1  1000  1000  1000\r\n",
      "  2104     1  1000  1000  1000\r\n",
      "  2107     1  1000  1000  1000\r\n",
      "  2108     1  1000  1000  1000\r\n",
      "  2109     1  1000  1000  1000\r\n",
      "  2110     1  1000  1000  1000\r\n",
      "  2111     1  1000  1000  1000\r\n",
      "  2112     1  1000  1000  1000\r\n",
      "  2114     1  1000  1000  1000\r\n",
      "  2116     1  1000  1000  1000\r\n",
      "  2119     1  1000  1000  1000\r\n",
      "  2122     1  1000  1000  1000\r\n",
      "  2125     1  1000  1000  1000\r\n",
      "  2128     1  1000  1000  1000\r\n",
      "  2132     1  1000  1000  1000\r\n",
      "  2133     1  1000  1000  1000\r\n",
      "  2134     1  1000  1000  1000\r\n",
      "  2136     1  1000  1000  1000\r\n",
      "  2139     1  1000  1000  1000\r\n",
      "  2140     1  1000  1000  1000\r\n",
      "  2141     1  1000  1000  1000\r\n",
      "  2143     1  1000  1000  1000\r\n",
      "  2145     1  1000  1000  1000\r\n",
      "  2148     1  1000  1000  1000\r\n",
      "  2151     1  1000  1000  1000\r\n",
      "  2154     1  1000  1000  1000\r\n",
      "  2156     1  1000  1000  1000\r\n",
      "  2157     1  1000  1000  1000\r\n",
      "  2160     1  1000  1000  1000\r\n",
      "  2163     1  1000  1000  1000\r\n",
      "  2164     1  1000  1000  1000\r\n",
      "  2165     1  1000  1000  1000\r\n",
      "  2167     1  1000  1000  1000\r\n",
      "  2169     1  1000  1000  1000\r\n",
      "  2172     1  1000  1000  1000\r\n",
      "  2175     1  1000  1000  1000\r\n",
      "  2176     1  1000  1000  1000\r\n",
      "  2177     1  1000  1000  1000\r\n",
      "  2180     1  1000  1000  1000\r\n",
      "  2181     1  1000  1000  1000\r\n",
      "  2182     1  1000  1000  1000\r\n",
      "  2184     1  1000  1000  1000\r\n",
      "  2186     1  1000  1000  1000\r\n",
      "  2189     1  1000  1000  1000\r\n",
      "  2191     1  1000  1000  1000\r\n",
      "  2192     1  1000  1000  1000\r\n",
      "  2193     1  1000  1000  1000\r\n",
      "  2195     1  1000  1000  1000\r\n",
      "  2197     1  1000  1000  1000\r\n",
      "  2199     1  1000  1000  1000\r\n",
      "  2201     1  1000  1000  1000\r\n",
      "  2205     1  1000  1000  1000\r\n",
      "  2206     1  1000  1000  1000\r\n",
      "  2207     1  1000  1000  1000\r\n",
      "  2209     1  1000  1000  1000\r\n",
      "  2211     1  1000  1000  1000\r\n",
      "  2214     1  1000  1000  1000\r\n",
      "  2217     1  1000  1000  1000\r\n",
      "  2220     1  1000  1000  1000\r\n",
      "  2222     1  1000  1000  1000\r\n",
      "  2223     1  1000  1000  1000\r\n",
      "  2226     1  1000  1000  1000\r\n",
      "  2229     1  1000  1000  1000\r\n",
      "  2230     1  1000  1000  1000\r\n",
      "  2231     1  1000  1000  1000\r\n",
      "  2233     1  1000  1000  1000\r\n",
      "  2235     1  1000  1000  1000\r\n",
      "  2238     1  1000  1000  1000\r\n",
      "  2240     1  1000  1000  1000\r\n",
      "  2244     1  1000  1000  1000\r\n",
      "  2248     1  1000  1000  1000\r\n",
      "  2249     1  1000  1000  1000\r\n",
      "  2250     1  1000  1000  1000\r\n",
      "  2252     1  1000  1000  1000\r\n",
      "  2254     1  1000  1000  1000\r\n",
      "  2257     1  1000  1000  1000\r\n",
      "  2260     1  1000  1000  1000\r\n",
      "  2263     1  1000  1000  1000\r\n",
      "  2266     1  1000  1000  1000\r\n",
      "  2270     1  1000  1000  1000\r\n",
      "  2271     1  1000  1000  1000\r\n",
      "  2272     1  1000  1000  1000\r\n",
      "  2274     1  1000  1000  1000\r\n",
      "  2276     1  1000  1000  1000\r\n",
      "  2279     1  1000  1000  1000\r\n",
      "  2282     1  1000  1000  1000\r\n",
      "  2283     1  1000  1000  1000\r\n",
      "  2287     1  1000  1000  1000\r\n",
      "  2288     1  1000  1000  1000\r\n",
      "  2289     1  1000  1000  1000\r\n",
      "  2291     1  1000  1000  1000\r\n",
      "  2293     1  1000  1000  1000\r\n",
      "  2296     1  1000  1000  1000\r\n",
      "  2298     1  1000  1000  1000\r\n",
      "  2302     1  1000  1000  1000\r\n",
      "  2306     1  1000  1000  1000\r\n",
      "  2307     1  1000  1000  1000\r\n",
      "  2308     1  1000  1000  1000\r\n",
      "  2310     1  1000  1000  1000\r\n",
      "  2312     1  1000  1000  1000\r\n",
      "  2315     1  1000  1000  1000\r\n",
      "  2318     1  1000  1000  1000\r\n",
      "  2319     1  1000  1000  1000\r\n",
      "  2320     1  1000  1000  1000\r\n",
      "  2321     1  1000  1000  1000\r\n",
      "  2322     1  1000  1000  1000\r\n",
      "  2323     1  1000  1000  1000\r\n",
      "  2325     1  1000  1000  1000\r\n",
      "  2327     1  1000  1000  1000\r\n",
      "  2329     1  1000  1000  1000\r\n",
      "  2333     1  1000  1000  1000\r\n",
      "  2337     1  1000  1000  1000\r\n",
      "  2338     1  1000  1000  1000\r\n",
      "  2339     1  1000  1000  1000\r\n",
      "  2340     1  1000  1000  1000\r\n",
      "  2343     1  1000  1000  1000\r\n",
      "  2345     1  1000  1000  1000\r\n",
      "  2348     1  1000  1000  1000\r\n",
      "  2351     1  1000  1000  1000\r\n",
      "  2352     1  1000  1000  1000\r\n",
      "  2353     1  1000  1000  1000\r\n",
      "  2355     1  1000  1000  1000\r\n",
      "  2357     1  1000  1000  1000\r\n",
      "  2360     1  1000  1000  1000\r\n",
      "  2361     1  1000  1000  1000\r\n",
      "  2363     1  1000  1000  1000\r\n",
      "  2365     1  1000  1000  1000\r\n",
      "  2366     1  1000  1000  1000\r\n",
      "  2368     1  1000  1000  1000\r\n",
      "  2370     1  1000  1000  1000\r\n",
      "  2372     1  1000  1000  1000\r\n",
      "  2373     1  1000  1000  1000\r\n",
      "  2374     1  1000  1000  1000\r\n",
      "  2376     1  1000  1000  1000\r\n",
      "  2378     1  1000  1000  1000\r\n",
      "  2380     1  1000  1000  1000\r\n",
      "  2384     1  1000  1000  1000\r\n",
      "  2388     1  1000  1000  1000\r\n",
      "  2389     1  1000  1000  1000\r\n",
      "  2390     1  1000  1000  1000\r\n",
      "  2392     1  1000  1000  1000\r\n",
      "  2394     1  1000  1000  1000\r\n",
      "  2397     1  1000  1000  1000\r\n",
      "  2398     1  1000  1000  1000\r\n",
      "  2399     1  1000  1000  1000\r\n",
      "  2400     1  1000  1000  1000\r\n",
      "  2401     1  1000  1000  1000\r\n",
      "  2402     1  1000  1000  1000\r\n",
      "  2404     1  1000  1000  1000\r\n",
      "  2406     1  1000  1000  1000\r\n",
      "  2409     1  1000  1000  1000\r\n",
      "  2412     1  1000  1000  1000\r\n",
      "  2415     1  1000  1000  1000\r\n",
      "  2417     1  1000  1000  1000\r\n",
      "  2418     1  1000  1000  1000\r\n",
      "  2421     1  1000  1000  1000\r\n",
      "  2424     1  1000  1000  1000\r\n",
      "  2425     1  1000  1000  1000\r\n",
      "  2426     1  1000  1000  1000\r\n",
      "  2428     1  1000  1000  1000\r\n",
      "  2430     1  1000  1000  1000\r\n",
      "  2433     1  1000  1000  1000\r\n",
      "  2434     1  1000  1000  1000\r\n",
      "  2435     1  1000  1000  1000\r\n",
      "  2438     1  1000  1000  1000\r\n",
      "  2439     1  1000  1000  1000\r\n",
      "  2440     1  1000  1000  1000\r\n",
      "  2442     1  1000  1000  1000\r\n",
      "  2444     1  1000  1000  1000\r\n",
      "  2447     1  1000  1000  1000\r\n",
      "  2449     1  1000  1000  1000\r\n",
      "  2450     1  1000  1000  1000\r\n",
      "  2451     1  1000  1000  1000\r\n",
      "  2453     1  1000  1000  1000\r\n",
      "  2455     1  1000  1000  1000\r\n",
      "  2458     1  1000  1000  1000\r\n",
      "  2460     1  1000  1000  1000\r\n",
      "  2461     1  1000  1000  1000\r\n",
      "  2462     1  1000  1000  1000\r\n",
      "  2464     1  1000  1000  1000\r\n",
      "  2466     1  1000  1000  1000\r\n",
      "  2469     1  1000  1000  1000\r\n",
      "  2472     1  1000  1000  1000\r\n",
      "  2475     1  1000  1000  1000\r\n",
      "  2478     1  1000  1000  1000\r\n",
      "  2482     1  1000  1000  1000\r\n",
      "  2483     1  1000  1000  1000\r\n",
      "  2484     1  1000  1000  1000\r\n",
      "  2486     1  1000  1000  1000\r\n",
      "  2488     1  1000  1000  1000\r\n",
      "  2491     1  1000  1000  1000\r\n",
      "  2493     1  1000  1000  1000\r\n",
      "  2497     1  1000  1000  1000\r\n",
      "  2501     1  1000  1000  1000\r\n",
      "  2502     1  1000  1000  1000\r\n",
      "  2503     1  1000  1000  1000\r\n",
      "  2505     1  1000  1000  1000\r\n",
      "  2507     1  1000  1000  1000\r\n",
      "  2510     1  1000  1000  1000\r\n",
      "  2512     1  1000  1000  1000\r\n",
      "  2513     1  1000  1000  1000\r\n",
      "  2514     1  1000  1000  1000\r\n",
      "  2516     1  1000  1000  1000\r\n",
      "  2518     1  1000  1000  1000\r\n",
      "  2521     1  1000  1000  1000\r\n",
      "  2523     1  1000  1000  1000\r\n",
      "  2524     1  1000  1000  1000\r\n",
      "  2525     1  1000  1000  1000\r\n",
      "  2527     1  1000  1000  1000\r\n",
      "  2529     1  1000  1000  1000\r\n",
      "  2532     1  1000  1000  1000\r\n",
      "  2534     1  1000  1000  1000\r\n",
      "  2535     1  1000  1000  1000\r\n",
      "  2536     1  1000  1000  1000\r\n",
      "  2538     1  1000  1000  1000\r\n",
      "  2540     1  1000  1000  1000\r\n",
      "  2543     1  1000  1000  1000\r\n",
      "  2544     1  1000  1000  1000\r\n",
      "  2546     1  1000  1000  1000\r\n",
      "  2548     1  1000  1000  1000\r\n",
      "  2550     1  1000  1000  1000\r\n",
      "  2552     1  1000  1000  1000\r\n",
      "  2554     1  1000  1000  1000\r\n",
      "  2555     1  1000  1000  1000\r\n",
      "  2556     1  1000  1000  1000\r\n",
      "  2558     1  1000  1000  1000\r\n",
      "  2560     1  1000  1000  1000\r\n",
      "  2562     1  1000  1000  1000\r\n",
      "  2566     1  1000  1000  1000\r\n",
      "  2569     1  1000  1000  1000\r\n",
      "  2573     1  1000  1000  1000\r\n",
      "  2574     1  1000  1000  1000\r\n",
      "  2575     1  1000  1000  1000\r\n",
      "  2577     1  1000  1000  1000\r\n",
      "  2579     1  1000  1000  1000\r\n",
      "  2581     1  1000  1000  1000\r\n",
      "  2585     1  1000  1000  1000\r\n",
      "  2588     1  1000  1000  1000\r\n",
      "  2592     1  1000  1000  1000\r\n",
      "  2593     1  1000  1000  1000\r\n",
      "  2594     1  1000  1000  1000\r\n",
      "  2596     1  1000  1000  1000\r\n",
      "  2598     1  1000  1000  1000\r\n",
      "  2600     1  1000  1000  1000\r\n",
      "  2602     1  1000  1000  1000\r\n",
      "  2606     1  1000  1000  1000\r\n",
      "  2607     1  1000  1000  1000\r\n",
      "  2608     1  1000  1000  1000\r\n",
      "  2610     1  1000  1000  1000\r\n",
      "  2612     1  1000  1000  1000\r\n",
      "  2615     1  1000  1000  1000\r\n",
      "  2618     1  1000  1000  1000\r\n",
      "  2619     1  1000  1000  1000\r\n",
      "  2620     1  1000  1000  1000\r\n",
      "  2623     1  1000  1000  1000\r\n",
      "  2624     1  1000  1000  1000\r\n",
      "  2625     1  1000  1000  1000\r\n",
      "  2627     1  1000  1000  1000\r\n",
      "  2629     1  1000  1000  1000\r\n",
      "  2632     1  1000  1000  1000\r\n",
      "  2633     1  1000  1000  1000\r\n",
      "  2634     1  1000  1000  1000\r\n",
      "  2637     1  1000  1000  1000\r\n",
      "  2638     1  1000  1000  1000\r\n",
      "  2639     1  1000  1000  1000\r\n",
      "  2641     1  1000  1000  1000\r\n",
      "  2643     1  1000  1000  1000\r\n",
      "  2646     1  1000  1000  1000\r\n",
      "  2649     1  1000  1000  1000\r\n",
      "  2650     1  1000  1000  1000\r\n",
      "  2654     1  1000  1000  1000\r\n",
      "  2655     1  1000  1000  1000\r\n",
      "  2656     1  1000  1000  1000\r\n",
      "  2658     1  1000  1000  1000\r\n",
      "  2660     1  1000  1000  1000\r\n",
      "  2663     1  1000  1000  1000\r\n",
      "  2664     1  1000  1000  1000\r\n",
      "  2666     1  1000  1000  1000\r\n",
      "  2668     1  1000  1000  1000\r\n",
      "  2670     1  1000  1000  1000\r\n",
      "  2672     1  1000  1000  1000\r\n",
      "  2674     1  1000  1000  1000\r\n",
      "  2675     1  1000  1000  1000\r\n",
      "  2676     1  1000  1000  1000\r\n",
      "  2678     1  1000  1000  1000\r\n",
      "  2680     1  1000  1000  1000\r\n",
      "  2683     1  1000  1000  1000\r\n",
      "  2685     1  1000  1000  1000\r\n",
      "  2686     1  1000  1000  1000\r\n",
      "  2687     1  1000  1000  1000\r\n",
      "  2689     1  1000  1000  1000\r\n",
      "  2691     1  1000  1000  1000\r\n",
      "  2695     1  1000  1000  1000\r\n",
      "  2696     1  1000  1000  1000\r\n",
      "  2697     1  1000  1000  1000\r\n",
      "  2699     1  1000  1000  1000\r\n",
      "  2702     1  1000  1000  1000\r\n",
      "  2703     1  1000  1000  1000\r\n",
      "  2704     1  1000  1000  1000\r\n",
      "  2706     1  1000  1000  1000\r\n",
      "  2708     1  1000  1000  1000\r\n",
      "  2711     1  1000  1000  1000\r\n",
      "  2712     1  1000  1000  1000\r\n",
      "  2714     1  1000  1000  1000\r\n",
      "  2716     1  1000  1000  1000\r\n",
      "  2717     1  1000  1000  1000\r\n",
      "  2719     1  1000  1000  1000\r\n",
      "  2721     1  1000  1000  1000\r\n",
      "  2723     1  1000  1000  1000\r\n",
      "  2724     1  1000  1000  1000\r\n",
      "  2725     1  1000  1000  1000\r\n",
      "  2727     1  1000  1000  1000\r\n",
      "  2729     1  1000  1000  1000\r\n",
      "  2732     1  1000  1000  1000\r\n",
      "  2733     1  1000  1000  1000\r\n",
      "  2734     1  1000  1000  1000\r\n",
      "  2735     1  1000  1000  1000\r\n",
      "  2736     1  1000  1000  1000\r\n",
      "  2737     1  1000  1000  1000\r\n",
      "  2739     1  1000  1000  1000\r\n",
      "  2741     1  1000  1000  1000\r\n",
      "  2743     1  1000  1000  1000\r\n",
      "  2745     1  1000  1000  1000\r\n",
      "  2749     1  1000  1000  1000\r\n",
      "  2750     1  1000  1000  1000\r\n",
      "  2751     1  1000  1000  1000\r\n",
      "  2753     1  1000  1000  1000\r\n",
      "  2755     1  1000  1000  1000\r\n",
      "  2758     1  1000  1000  1000\r\n",
      "  2761     1  1000  1000  1000\r\n",
      "  2764     1  1000  1000  1000\r\n",
      "  2767     1  1000  1000  1000\r\n",
      "  2771     1  1000  1000  1000\r\n",
      "  2772     1  1000  1000  1000\r\n",
      "  2773     1  1000  1000  1000\r\n",
      "  2775     1  1000  1000  1000\r\n",
      "  2777     1  1000  1000  1000\r\n",
      "  2780     1  1000  1000  1000\r\n",
      "  2783     1  1000  1000  1000\r\n",
      "  2784     1  1000  1000  1000\r\n",
      "  2785     1  1000  1000  1000\r\n",
      "  2788     1  1000  1000  1000\r\n",
      "  2789     1  1000  1000  1000\r\n",
      "  2790     1  1000  1000  1000\r\n",
      "  2792     1  1000  1000  1000\r\n",
      "  2794     1  1000  1000  1000\r\n",
      "  2797     1  1000  1000  1000\r\n",
      "  2800     1  1000  1000  1000\r\n",
      "  2801     1  1000  1000  1000\r\n",
      "  2802     1  1000  1000  1000\r\n",
      "  2803     1  1000  1000  1000\r\n",
      "  2804     1  1000  1000  1000\r\n",
      "  2805     1  1000  1000  1000\r\n",
      "  2807     1  1000  1000  1000\r\n",
      "  2809     1  1000  1000  1000\r\n",
      "  2812     1  1000  1000  1000\r\n",
      "  2813     1  1000  1000  1000\r\n",
      "  2814     1  1000  1000  1000\r\n",
      "  2815     1  1000  1000  1000\r\n",
      "  2816     1  1000  1000  1000\r\n",
      "  2817     1  1000  1000  1000\r\n",
      "  2819     1  1000  1000  1000\r\n",
      "  2821     1  1000  1000  1000\r\n",
      "  2825     1  1000  1000  1000\r\n",
      "  2826     1  1000  1000  1000\r\n",
      "  2827     1  1000  1000  1000\r\n",
      "  2829     1  1000  1000  1000\r\n",
      "  2831     1  1000  1000  1000\r\n",
      "  2834     1  1000  1000  1000\r\n",
      "  2836     1  1000  1000  1000\r\n",
      "  2837     1  1000  1000  1000\r\n",
      "  2838     1  1000  1000  1000\r\n",
      "  2840     1  1000  1000  1000\r\n",
      "  2842     1  1000  1000  1000\r\n",
      "  2845     1  1000  1000  1000\r\n",
      "  2848     1  1000  1000  1000\r\n",
      "  2849     1  1000  1000  1000\r\n",
      "  2850     1  1000  1000  1000\r\n",
      "  2853     1  1000  1000  1000\r\n",
      "  2854     1  1000  1000  1000\r\n",
      "  2855     1  1000  1000  1000\r\n",
      "  2857     1  1000  1000  1000\r\n",
      "  2860     1  1000  1000  1000\r\n",
      "  2861     1  1000  1000  1000\r\n",
      "  2862     1  1000  1000  1000\r\n",
      "  2864     1  1000  1000  1000\r\n",
      "  2866     1  1000  1000  1000\r\n",
      "  2869     1  1000  1000  1000\r\n",
      "  2870     1  1000  1000  1000\r\n",
      "  2871     1  1000  1000  1000\r\n",
      "  2872     1  1000  1000  1000\r\n",
      "  2873     1  1000  1000  1000\r\n",
      "  2874     1  1000  1000  1000\r\n",
      "  2876     1  1000  1000  1000\r\n",
      "  2878     1  1000  1000  1000\r\n",
      "  2881     1  1000  1000  1000\r\n",
      "  2883     1  1000  1000  1000\r\n",
      "  2884     1  1000  1000  1000\r\n",
      "  2885     1  1000  1000  1000\r\n",
      "  2887     1  1000  1000  1000\r\n",
      "  2890     1  1000  1000  1000\r\n",
      "  2891     1  1000  1000  1000\r\n",
      "  2892     1  1000  1000  1000\r\n",
      "  2894     1  1000  1000  1000\r\n",
      "  2897     1  1000  1000  1000\r\n",
      "  2898     1  1000  1000  1000\r\n",
      "  2899     1  1000  1000  1000\r\n",
      "  2900     1  1000  1000  1000\r\n",
      "  2903     1  1000  1000  1000\r\n",
      "  2905     1  1000  1000  1000\r\n",
      "  2908     1  1000  1000  1000\r\n",
      "  2911     1  1000  1000  1000\r\n",
      "  2912     1  1000  1000  1000\r\n",
      "  2913     1  1000  1000  1000\r\n",
      "  2915     1  1000  1000  1000\r\n",
      "  2917     1  1000  1000  1000\r\n",
      "  2920     1  1000  1000  1000\r\n",
      "  2921     1  1000  1000  1000\r\n",
      "  2922     1  1000  1000  1000\r\n",
      "  2924     1  1000  1000  1000\r\n",
      "  2926     1  1000  1000  1000\r\n",
      "  2928     1  1000  1000  1000\r\n",
      "  2929     1  1000  1000  1000\r\n",
      "  2930     1  1000  1000  1000\r\n",
      "  2932     1  1000  1000  1000\r\n",
      "  2934     1  1000  1000  1000\r\n",
      "  2936     1  1000  1000  1000\r\n",
      "  2940     1  1000  1000  1000\r\n",
      "  2944     1  1000  1000  1000\r\n",
      "  2945     1  1000  1000  1000\r\n",
      "  2946     1  1000  1000  1000\r\n",
      "  2948     1  1000  1000  1000\r\n",
      "  2950     1  1000  1000  1000\r\n",
      "  2952     1  1000  1000  1000\r\n",
      "  2954     1  1000  1000  1000\r\n",
      "  2958     1  1000  1000  1000\r\n",
      "  2959     1  1000  1000  1000\r\n",
      "  2960     1  1000  1000  1000\r\n",
      "  2962     1  1000  1000  1000\r\n",
      "  2964     1  1000  1000  1000\r\n",
      "  2967     1  1000  1000  1000\r\n",
      "  2970     1  1000  1000  1000\r\n",
      "  2973     1  1000  1000  1000\r\n",
      "  2975     1  1000  1000  1000\r\n",
      "  2976     1  1000  1000  1000\r\n",
      "  2979     1  1000  1000  1000\r\n",
      "  2982     1  1000  1000  1000\r\n",
      "  2983     1  1000  1000  1000\r\n",
      "  2984     1  1000  1000  1000\r\n",
      "  2986     1  1000  1000  1000\r\n",
      "  2988     1  1000  1000  1000\r\n",
      "  2991     1  1000  1000  1000\r\n",
      "  2992     1  1000  1000  1000\r\n",
      "  2994     1  1000  1000  1000\r\n",
      "  2996     1  1000  1000  1000\r\n",
      "  2998     1  1000  1000  1000\r\n",
      "  3000     1  1000  1000  1000\r\n",
      "  3002     1  1000  1000  1000\r\n",
      "  3003     1  1000  1000  1000\r\n",
      "  3004     1  1000  1000  1000\r\n",
      "  3006     1  1000  1000  1000\r\n",
      "  3008     1  1000  1000  1000\r\n",
      "  3011     1  1000  1000  1000\r\n",
      "  3014     1  1000  1000  1000\r\n",
      "  3017     1  1000  1000  1000\r\n",
      "  3020     1  1000  1000  1000\r\n",
      "  3024     1  1000  1000  1000\r\n",
      "  3025     1  1000  1000  1000\r\n",
      "  3026     1  1000  1000  1000\r\n",
      "  3028     1  1000  1000  1000\r\n",
      "  3030     1  1000  1000  1000\r\n",
      "  3033     1  1000  1000  1000\r\n",
      "  3034     1  1000  1000  1000\r\n",
      "  3035     1  1000  1000  1000\r\n",
      "  3036     1  1000  1000  1000\r\n",
      "  3037     1  1000  1000  1000\r\n",
      "  3038     1  1000  1000  1000\r\n",
      "  3040     1  1000  1000  1000\r\n",
      "  3042     1  1000  1000  1000\r\n",
      "  3044     1  1000  1000  1000\r\n",
      "  3046     1  1000  1000  1000\r\n",
      "  3050     1  1000  1000  1000\r\n",
      "  3051     1  1000  1000  1000\r\n",
      "  3052     1  1000  1000  1000\r\n",
      "  3054     1  1000  1000  1000\r\n",
      "  3056     1  1000  1000  1000\r\n",
      "  3059     1  1000  1000  1000\r\n",
      "  3060     1  1000  1000  1000\r\n",
      "  3062     1  1000  1000  1000\r\n",
      "  3064     1  1000  1000  1000\r\n",
      "  3065     1  1000  1000  1000\r\n",
      "  3067     1  1000  1000  1000\r\n",
      "  3069     1  1000  1000  1000\r\n",
      "  3071     1  1000  1000  1000\r\n",
      "  3072     1  1000  1000  1000\r\n",
      "  3073     1  1000  1000  1000\r\n",
      "  3075     1  1000  1000  1000\r\n",
      "  3077     1  1000  1000  1000\r\n",
      "  3080     1  1000  1000  1000\r\n",
      "  3081     1  1000  1000  1000\r\n",
      "  3083     1  1000  1000  1000\r\n",
      "  3085     1  1000  1000  1000\r\n",
      "  3087     1  1000  1000  1000\r\n",
      "  3089     1  1000  1000  1000\r\n",
      "  3091     1  1000  1000  1000\r\n",
      "  3092     1  1000  1000  1000\r\n",
      "  3093     1  1000  1000  1000\r\n",
      "  3095     1  1000  1000  1000\r\n",
      "  3097     1  1000  1000  1000\r\n",
      "  3099     1  1000  1000  1000\r\n",
      "  3103     1  1000  1000  1000\r\n",
      "  3107     1  1000  1000  1000\r\n",
      "  3108     1  1000  1000  1000\r\n",
      "  3109     1  1000  1000  1000\r\n",
      "  3111     1  1000  1000  1000\r\n",
      "  3113     1  1000  1000  1000\r\n",
      "  3115     1  1000  1000  1000\r\n",
      "  3117     1  1000  1000  1000\r\n",
      "  3121     1  1000  1000  1000\r\n",
      "  3122     1  1000  1000  1000\r\n",
      "  3123     1  1000  1000  1000\r\n",
      "  3125     1  1000  1000  1000\r\n",
      "  3128     1  1000  1000  1000\r\n",
      "  3129     1  1000  1000  1000\r\n",
      "  3130     1  1000  1000  1000\r\n",
      "  3132     1  1000  1000  1000\r\n",
      "  3134     1  1000  1000  1000\r\n",
      "  3136     1  1000  1000  1000\r\n",
      "  3140     1  1000  1000  1000\r\n",
      "  3143     1  1000  1000  1000\r\n",
      "  3147     1  1000  1000  1000\r\n",
      "  3148     1  1000  1000  1000\r\n",
      "  3149     1  1000  1000  1000\r\n",
      "  3151     1  1000  1000  1000\r\n",
      "  3153     1  1000  1000  1000\r\n",
      "  3155     1  1000  1000  1000\r\n",
      "  3159     1  1000  1000  1000\r\n",
      "  3163     1  1000  1000  1000\r\n",
      "  3164     1  1000  1000  1000\r\n",
      "  3165     1  1000  1000  1000\r\n",
      "  3167     1  1000  1000  1000\r\n",
      "  3169     1  1000  1000  1000\r\n",
      "  3172     1  1000  1000  1000\r\n",
      "  3174     1  1000  1000  1000\r\n",
      "  3175     1  1000  1000  1000\r\n",
      "  3176     1  1000  1000  1000\r\n",
      "  3178     1  1000  1000  1000\r\n",
      "  3180     1  1000  1000  1000\r\n",
      "  3183     1  1000  1000  1000\r\n",
      "  3184     1  1000  1000  1000\r\n",
      "  3186     1  1000  1000  1000\r\n",
      "  3188     1  1000  1000  1000\r\n",
      "  3189     1  1000  1000  1000\r\n",
      "  3190     1  1000  1000  1000\r\n",
      "  3192     1  1000  1000  1000\r\n",
      "  3194     1  1000  1000  1000\r\n",
      "  3196     1  1000  1000  1000\r\n",
      "  3198     1  1000  1000  1000\r\n",
      "  3199     1  1000  1000  1000\r\n",
      "  3200     1  1000  1000  1000\r\n",
      "  3202     1  1000  1000  1000\r\n",
      "  3205     1  1000  1000  1000\r\n",
      "  3206     1  1000  1000  1000\r\n",
      "  3207     1  1000  1000  1000\r\n",
      "  3209     1  1000  1000  1000\r\n",
      "  3211     1  1000  1000  1000\r\n",
      "  3214     1  1000  1000  1000\r\n",
      "  3217     1  1000  1000  1000\r\n",
      "  3218     1  1000  1000  1000\r\n",
      "  3219     1  1000  1000  1000\r\n",
      "  3220     1  1000  1000  1000\r\n",
      "  3221     1  1000  1000  1000\r\n",
      "  3222     1  1000  1000  1000\r\n",
      "  3224     1  1000  1000  1000\r\n",
      "  3227     1  1000  1000  1000\r\n",
      "  3228     1  1000  1000  1000\r\n",
      "  3229     1  1000  1000  1000\r\n",
      "  3231     1  1000  1000  1000\r\n",
      "  3233     1  1000  1000  1000\r\n",
      "  3236     1  1000  1000  1000\r\n",
      "  3238     1  1000  1000  1000\r\n",
      "  3239     1  1000  1000  1000\r\n",
      "  3240     1  1000  1000  1000\r\n",
      "  3242     1  1000  1000  1000\r\n",
      "  3244     1  1000  1000  1000\r\n",
      "  3248     1  1000  1000  1000\r\n",
      "  3249     1  1000  1000  1000\r\n",
      "  3250     1  1000  1000  1000\r\n",
      "  3252     1  1000  1000  1000\r\n",
      "  3254     1  1000  1000  1000\r\n",
      "  3257     1  1000  1000  1000\r\n",
      "  3260     1  1000  1000  1000\r\n",
      "  3263     1  1000  1000  1000\r\n",
      "  3265     1  1000  1000  1000\r\n",
      "  3266     1  1000  1000  1000\r\n",
      "  3269     1  1000  1000  1000\r\n",
      "  3272     1  1000  1000  1000\r\n",
      "  3273     1  1000  1000  1000\r\n",
      "  3274     1  1000  1000  1000\r\n",
      "  3276     1  1000  1000  1000\r\n",
      "  3278     1  1000  1000  1000\r\n",
      "  3281     1  1000  1000  1000\r\n",
      "  3284     1  1000  1000  1000\r\n",
      "  3287     1  1000  1000  1000\r\n",
      "  3290     1  1000  1000  1000\r\n",
      "  3294     1  1000  1000  1000\r\n",
      "  3295     1  1000  1000  1000\r\n",
      "  3296     1  1000  1000  1000\r\n",
      "  3298     1  1000  1000  1000\r\n",
      "  3301     1  1000  1000  1000\r\n",
      "  3302     1  1000  1000  1000\r\n",
      "  3303     1  1000  1000  1000\r\n",
      "  3305     1  1000  1000  1000\r\n",
      "  3307     1  1000  1000  1000\r\n",
      "  3310     1  1000  1000  1000\r\n",
      "  3313     1  1000  1000  1000\r\n",
      "  3316     1  1000  1000  1000\r\n",
      "  3319     1  1000  1000  1000\r\n",
      "  3323     1  1000  1000  1000\r\n",
      "  3324     1  1000  1000  1000\r\n",
      "  3325     1  1000  1000  1000\r\n",
      "  3327     1  1000  1000  1000\r\n",
      "  3329     1  1000  1000  1000\r\n",
      "  3332     1  1000  1000  1000\r\n",
      "  3333     1  1000  1000  1000\r\n",
      "  3335     1  1000  1000  1000\r\n",
      "  3337     1  1000  1000  1000\r\n",
      "  3338     1  1000  1000  1000\r\n",
      "  3340     1  1000  1000  1000\r\n",
      "  3342     1  1000  1000  1000\r\n",
      "  3344     1  1000  1000  1000\r\n",
      "  3345     1  1000  1000  1000\r\n",
      "  3346     1  1000  1000  1000\r\n",
      "  3348     1  1000  1000  1000\r\n",
      "  3351     1  1000  1000  1000\r\n",
      "  3352     1  1000  1000  1000\r\n",
      "  3353     1  1000  1000  1000\r\n",
      "  3355     1  1000  1000  1000\r\n",
      "  3357     1  1000  1000  1000\r\n",
      "  3359     1  1000  1000  1000\r\n",
      "  3363     1  1000  1000  1000\r\n",
      "  3366     1  1000  1000  1000\r\n",
      "  3370     1  1000  1000  1000\r\n",
      "  3371     1  1000  1000  1000\r\n",
      "  3372     1  1000  1000  1000\r\n",
      "  3374     1  1000  1000  1000\r\n",
      "  3376     1  1000  1000  1000\r\n",
      "  3379     1  1000  1000  1000\r\n",
      "  3380     1  1000  1000  1000\r\n",
      "  3382     1  1000  1000  1000\r\n",
      "  3384     1  1000  1000  1000\r\n",
      "  3385     1  1000  1000  1000\r\n",
      "  3387     1  1000  1000  1000\r\n",
      "  3389     1  1000  1000  1000\r\n",
      "  3391     1  1000  1000  1000\r\n",
      "  3392     1  1000  1000  1000\r\n",
      "  3393     1  1000  1000  1000\r\n",
      "  3395     1  1000  1000  1000\r\n",
      "  3397     1  1000  1000  1000\r\n",
      "  3399     1  1000  1000  1000\r\n",
      "  3401     1  1000  1000  1000\r\n",
      "  3405     1  1000  1000  1000\r\n",
      "  3406     1  1000  1000  1000\r\n",
      "  3407     1  1000  1000  1000\r\n",
      "  3409     1  1000  1000  1000\r\n",
      "  3411     1  1000  1000  1000\r\n",
      "  3414     1  1000  1000  1000\r\n",
      "  3417     1  1000  1000  1000\r\n",
      "  3420     1  1000  1000  1000\r\n",
      "  3423     1  1000  1000  1000\r\n",
      "  3427     1  1000  1000  1000\r\n",
      "  3428     1  1000  1000  1000\r\n",
      "  3429     1  1000  1000  1000\r\n",
      "  3431     1  1000  1000  1000\r\n",
      "  3433     1  1000  1000  1000\r\n",
      "  3435     1  1000  1000  1000\r\n",
      "  3439     1  1000  1000  1000\r\n",
      "  3443     1  1000  1000  1000\r\n",
      "  3444     1  1000  1000  1000\r\n",
      "  3445     1  1000  1000  1000\r\n",
      "  3447     1  1000  1000  1000\r\n",
      "  3449     1  1000  1000  1000\r\n",
      "  3451     1  1000  1000  1000\r\n",
      "  3453     1  1000  1000  1000\r\n",
      "  3457     1  1000  1000  1000\r\n",
      "  3458     1  1000  1000  1000\r\n",
      "  3459     1  1000  1000  1000\r\n",
      "  3461     1  1000  1000  1000\r\n",
      "  3463     1  1000  1000  1000\r\n",
      "  3467     1  1000  1000  1000\r\n",
      "  3468     1  1000  1000  1000\r\n",
      "  3469     1  1000  1000  1000\r\n",
      "  3471     1  1000  1000  1000\r\n",
      "  3473     1  1000  1000  1000\r\n",
      "  3476     1  1000  1000  1000\r\n",
      "  3477     1  1000  1000  1000\r\n",
      "  3479     1  1000  1000  1000\r\n",
      "  3481     1  1000  1000  1000\r\n",
      "  3483     1  1000  1000  1000\r\n",
      "  3485     1  1000  1000  1000\r\n",
      "  3487     1  1000  1000  1000\r\n",
      "  3488     1  1000  1000  1000\r\n",
      "  3489     1  1000  1000  1000\r\n",
      "  3491     1  1000  1000  1000\r\n",
      "  3493     1  1000  1000  1000\r\n",
      "  3496     1  1000  1000  1000\r\n",
      "  3498     1  1000  1000  1000\r\n",
      "  3502     1  1000  1000  1000\r\n",
      "  3506     1  1000  1000  1000\r\n",
      "  3507     1  1000  1000  1000\r\n",
      "  3508     1  1000  1000  1000\r\n",
      "  3510     1  1000  1000  1000\r\n",
      "  3512     1  1000  1000  1000\r\n",
      "  3515     1  1000  1000  1000\r\n",
      "  3518     1  1000  1000  1000\r\n",
      "  3521     1  1000  1000  1000\r\n",
      "  3524     1  1000  1000  1000\r\n",
      "  3528     1  1000  1000  1000\r\n",
      "  3529     1  1000  1000  1000\r\n",
      "  3530     1  1000  1000  1000\r\n",
      "  3532     1  1000  1000  1000\r\n",
      "  3534     1  1000  1000  1000\r\n",
      "  3537     1  1000  1000  1000\r\n",
      "  3538     1  1000  1000  1000\r\n",
      "  3540     1  1000  1000  1000\r\n",
      "  3542     1  1000  1000  1000\r\n",
      "  3543     1  1000  1000  1000\r\n",
      "  3544     1  1000  1000  1000\r\n",
      "  3546     1  1000  1000  1000\r\n",
      "  3548     1  1000  1000  1000\r\n",
      "  3550     1  1000  1000  1000\r\n",
      "  3552     1  1000  1000  1000\r\n",
      "  3553     1  1000  1000  1000\r\n",
      "  3554     1  1000  1000  1000\r\n",
      "  3556     1  1000  1000  1000\r\n",
      "  3558     1  1000  1000  1000\r\n",
      "  3560     1  1000  1000  1000\r\n",
      "  3564     1  1000  1000  1000\r\n",
      "  3567     1  1000  1000  1000\r\n",
      "  3571     1  1000  1000  1000\r\n",
      "  3572     1  1000  1000  1000\r\n",
      "  3573     1  1000  1000  1000\r\n",
      "  3575     1  1000  1000  1000\r\n",
      "  3577     1  1000  1000  1000\r\n",
      "  3580     1  1000  1000  1000\r\n",
      "  3581     1  1000  1000  1000\r\n",
      "  3582     1  1000  1000  1000\r\n",
      "  3583     1  1000  1000  1000\r\n",
      "  3584     1  1000  1000  1000\r\n",
      "  3585     1  1000  1000  1000\r\n",
      "  3587     1  1000  1000  1000\r\n",
      "  3589     1  1000  1000  1000\r\n",
      "  3592     1  1000  1000  1000\r\n",
      "  3595     1  1000  1000  1000\r\n",
      "  3598     1  1000  1000  1000\r\n",
      "  3600     1  1000  1000  1000\r\n",
      "  3601     1  1000  1000  1000\r\n",
      "  3604     1  1000  1000  1000\r\n",
      "  3607     1  1000  1000  1000\r\n",
      "  3608     1  1000  1000  1000\r\n",
      "  3609     1  1000  1000  1000\r\n",
      "  3611     1  1000  1000  1000\r\n",
      "  3613     1  1000  1000  1000\r\n",
      "  3616     1  1000  1000  1000\r\n",
      "  3618     1  1000  1000  1000\r\n",
      "  3619     1  1000  1000  1000\r\n",
      "  3620     1  1000  1000  1000\r\n",
      "  3622     1  1000  1000  1000\r\n",
      "  3624     1  1000  1000  1000\r\n",
      "  3627     1  1000  1000  1000\r\n",
      "  3630     1  1000  1000  1000\r\n",
      "  3631     1  1000  1000  1000\r\n",
      "  3635     1  1000  1000  1000\r\n",
      "  3636     1  1000  1000  1000\r\n",
      "  3637     1  1000  1000  1000\r\n",
      "  3639     1  1000  1000  1000\r\n",
      "  3641     1  1000  1000  1000\r\n",
      "  3644     1  1000  1000  1000\r\n",
      "  3647     1  1000  1000  1000\r\n",
      "  3650     1  1000  1000  1000\r\n",
      "  3653     1  1000  1000  1000\r\n",
      "  3657     1  1000  1000  1000\r\n",
      "  3658     1  1000  1000  1000\r\n",
      "  3659     1  1000  1000  1000\r\n",
      "  3661     1  1000  1000  1000\r\n",
      "  3663     1  1000  1000  1000\r\n",
      "  3665     1  1000  1000  1000\r\n",
      "  3667     1  1000  1000  1000\r\n",
      "  3671     1  1000  1000  1000\r\n",
      "  3672     1  1000  1000  1000\r\n",
      "  3673     1  1000  1000  1000\r\n"
     ]
    }
   ],
   "source": [
    "!cat posre_Protein_chain_A.itp"
   ]
  },
  {
   "cell_type": "markdown",
   "metadata": {
    "nbpresent": {
     "id": "3efdb33e-1797-47b0-8866-deb26bef0b7b"
    }
   },
   "source": [
    "Here ends the \"Protein_chain_A\" moleculetype definition. Then the \"Protein_chain_L\" moleculetype definition starts. The remainder of the topology file is dedicated to defining other molecules and providing system-level descriptions. The next moleculetype (by default) is the solvent, in this case TIP3P water. Other typical choices for water include SPC, SPC/E, and TIP4P. We chose this by passing \"-water tip3p\" to pdb2gmx. For an excellent summary of the many different water models, click [here](http://www1.lsbu.ac.uk/water/water_models.html) , but be aware that not all of these models are present within GROMACS."
   ]
  },
  {
   "cell_type": "markdown",
   "metadata": {
    "nbpresent": {
     "id": "39ea31e7-3219-49d9-b756-2bd0fb8dca0b"
    }
   },
   "source": [
    "## Ions and other parameters"
   ]
  },
  {
   "cell_type": "markdown",
   "metadata": {
    "nbpresent": {
     "id": "ecd3d9b7-4388-4f41-a597-677407b6a8fd"
    }
   },
   "source": [
    "Ion parameters are included next:"
   ]
  },
  {
   "cell_type": "code",
   "execution_count": 21,
   "metadata": {},
   "outputs": [
    {
     "name": "stdout",
     "output_type": "stream",
     "text": [
      "; Include topology for ions\r\n",
      "#include \"charmm27.ff/ions.itp\"\r\n"
     ]
    }
   ],
   "source": [
    "!grep \"ions\" topol.top"
   ]
  },
  {
   "cell_type": "markdown",
   "metadata": {},
   "source": [
    "## System level definitions"
   ]
  },
  {
   "cell_type": "markdown",
   "metadata": {
    "nbpresent": {
     "id": "5ccbb2b2-116b-48d2-9212-33ff648831ca"
    }
   },
   "source": [
    "Finally come system-level definitions. The [ system ] directive gives the name of the system that will be written to output files during the simulation. The [ molecules ] directive lists all of the molecules in the system."
   ]
  },
  {
   "cell_type": "code",
   "execution_count": 22,
   "metadata": {},
   "outputs": [
    {
     "name": "stdout",
     "output_type": "stream",
     "text": [
      "[ system ]\r\n",
      "; Name\r\n",
      "COAGULATION FACTOR XA; COAGULATION FACTOR XA\r\n",
      "\r\n",
      "[ molecules ]\r\n",
      "; Compound        #mols\r\n",
      "Protein_chain_A     1\r\n",
      "Protein_chain_L     1\r\n"
     ]
    }
   ],
   "source": [
    "!tail -8 topol.top"
   ]
  },
  {
   "cell_type": "markdown",
   "metadata": {
    "nbpresent": {
     "id": "8c2b434c-5817-4179-9529-ec89fdb0800d"
    }
   },
   "source": [
    "A few key notes about the `[ molecules ]` directive:\n",
    "\n",
    "- The order of the listed molecules must exactly match the order of the molecules in the coordinate (in this case, .gro) file.\n",
    "- The names listed must match the `[ moleculetype ]` name for each species, not residue names or anything else.\n",
    "\n",
    "If you fail to satisfy these concrete requirements at any time, you will get fatal errors from grompp (discussed later) about mismatched names, molecules not being found, or a number of others."
   ]
  },
  {
   "cell_type": "markdown",
   "metadata": {
    "nbpresent": {
     "id": "3b32f9b6-e20b-460f-ae55-7cdd99ea1892"
    }
   },
   "source": [
    "Now that we have examined the contents of a topology file, we can continue building our system."
   ]
  },
  {
   "cell_type": "markdown",
   "metadata": {
    "nbpresent": {
     "id": "598b0d30-9d4c-4b31-a670-959bb96ab87f"
    }
   },
   "source": [
    "# Solvating the simulation system"
   ]
  },
  {
   "cell_type": "markdown",
   "metadata": {
    "nbpresent": {
     "id": "4c7344d8-d42d-4e4c-918c-0e1a160a1319"
    }
   },
   "source": [
    "Now that you are familiar with the contents of the GROMACS topology, it is time to continue building our system. In this example, we are going to be simulating a simple aqueous system. It is possible to simulate proteins and other molecules in different solvents, provided that good parameters are available for all species involved.\n",
    "\n",
    "There are two steps to defining the box and filling it with solvent:\n",
    "\n",
    "- Define the box dimensions using the editconf module.\n",
    "- Fill the box with water using the solvate module. \n",
    "\n",
    "You are now presented with a choice as to how to treat the unit cell. For the purpose of this tutorial, we will use the rhombic dodecahedron, as its volume is ~71% of the cubic box of the same periodic distance, thus saving on the number of water molecules that need to be added to solvate the protein."
   ]
  },
  {
   "cell_type": "markdown",
   "metadata": {
    "nbpresent": {
     "id": "95ad5707-817d-46aa-b35f-09cfb6796c02"
    }
   },
   "source": [
    "## Defining the simulation box"
   ]
  },
  {
   "cell_type": "markdown",
   "metadata": {
    "nbpresent": {
     "id": "b6a06a69-5b82-4302-a61f-ba3c568c497e"
    }
   },
   "source": [
    "Let's define the box using editconf:"
   ]
  },
  {
   "cell_type": "code",
   "execution_count": 23,
   "metadata": {
    "nbpresent": {
     "id": "23d642d0-a609-4be8-aed1-00aee72b22bf"
    },
    "scrolled": true
   },
   "outputs": [
    {
     "name": "stdout",
     "output_type": "stream",
     "text": [
      "                :-) GROMACS - gmx editconf, 2022-conda_forge (-:\r\n",
      "\r\n",
      "Executable:   /Users/ethan/anaconda3/envs/md-intro-tutorial/bin.AVX2_256/gmx\r\n",
      "Data prefix:  /Users/ethan/anaconda3/envs/md-intro-tutorial\r\n",
      "Working dir:  /Users/ethan/md-intro-tutorial/md-intro-tutorial-main/data\r\n",
      "Command line:\r\n",
      "  gmx editconf -f 1fjs_processed.gro -o 1fjs_newbox.gro -c -d 1.0 -bt dodecahedron\r\n",
      "\r\n",
      "Note that major changes are planned in future for editconf, to improve usability and utility.\r\n",
      "Read 4417 atoms\r\n",
      "Volume: 321.98 nm^3, corresponds to roughly 144800 electrons\r\n",
      "No velocities found\r\n",
      "    system size :  6.066  5.213  4.092 (nm)\r\n",
      "    diameter    :  6.268               (nm)\r\n",
      "    center      :  2.234  1.342  2.544 (nm)\r\n",
      "    box vectors :  5.577  7.196  8.023 (nm)\r\n",
      "    box angles  :  90.00  90.00  90.00 (degrees)\r\n",
      "    box volume  : 321.98               (nm^3)\r\n",
      "    shift       :  3.967  4.858  0.379 (nm)\r\n",
      "new center      :  6.201  6.201  2.923 (nm)\r\n",
      "new box vectors :  8.268  8.268  8.268 (nm)\r\n",
      "new box angles  :  60.00  60.00  90.00 (degrees)\r\n",
      "new box volume  : 399.60               (nm^3)\r\n",
      "\r\n",
      "Back Off! I just backed up 1fjs_newbox.gro to ./#1fjs_newbox.gro.1#\r\n",
      "\r\n",
      "GROMACS reminds you: \"Suzy is a headbanger, her mother is a geek\" (The Ramones)\r\n",
      "\r\n"
     ]
    }
   ],
   "source": [
    "!gmx editconf -f 1fjs_processed.gro -o 1fjs_newbox.gro -c -d 1.0 -bt dodecahedron"
   ]
  },
  {
   "cell_type": "markdown",
   "metadata": {
    "nbpresent": {
     "id": "e68f5978-ef1b-4700-84bb-a40173c8ccf8"
    }
   },
   "source": [
    "The above command centers the protein in the box (-c), and places it at least 1.0 nm from the box edge (-d 1.0). The box type is defined as a rhombic dodecahedron (-bt dodecahedron). Have a look at this [section](http://manual.gromacs.org/current/reference-manual/algorithms/periodic-boundary-conditions.html#pbc) in the manual for more on periodic boundary conditions and dodecahedrons."
   ]
  },
  {
   "cell_type": "markdown",
   "metadata": {
    "nbpresent": {
     "id": "e68f5978-ef1b-4700-84bb-a40173c8ccf8"
    }
   },
   "source": [
    "The distance to the edge of the box is an important parameter. A protein should never interact with its periodic image (minimum image convention), otherwise the forces calculated will be spurious. The minimum image convention implies that the distance between two periodic images of the protein should be larger than the cut-off radius used to truncate non-bonded interactions. Here we will use a cut-off radius of 1.2 nm (see below). Specifying a solute-box distance of 1.0 nm will mean that there are at least 2.0 nm between any two periodic images of a protein. We expect that at that distance all protein-protein interactions are negligble."
   ]
  },
  {
   "cell_type": "markdown",
   "metadata": {
    "nbpresent": {
     "id": "75d89a8d-1463-4767-a002-581b3c015753"
    }
   },
   "source": [
    "## Filling the box with water"
   ]
  },
  {
   "cell_type": "code",
   "execution_count": 24,
   "metadata": {
    "nbpresent": {
     "id": "82f1ad5a-cef0-46fe-9494-92477b273cd9"
    },
    "scrolled": true
   },
   "outputs": [
    {
     "name": "stdout",
     "output_type": "stream",
     "text": [
      "                :-) GROMACS - gmx solvate, 2022-conda_forge (-:\n",
      "\n",
      "Executable:   /Users/ethan/anaconda3/envs/md-intro-tutorial/bin.AVX2_256/gmx\n",
      "Data prefix:  /Users/ethan/anaconda3/envs/md-intro-tutorial\n",
      "Working dir:  /Users/ethan/md-intro-tutorial/md-intro-tutorial-main/data\n",
      "Command line:\n",
      "  gmx solvate -cp 1fjs_newbox.gro -cs spc216.gro -o 1fjs_solv.gro -p topol.top\n",
      "\n",
      "Reading solute configuration\n",
      "Reading solvent configuration\n",
      "\n",
      "Initialising inter-atomic distances...\n",
      "\n",
      "WARNING: Masses and atomic (Van der Waals) radii will be guessed\n",
      "         based on residue and atom names, since they could not be\n",
      "         definitively assigned from the information in your input\n",
      "         files. These guessed numbers might deviate from the mass\n",
      "         and radius of the atom type. Please check the output\n",
      "         files if necessary. Note, that this functionality may\n",
      "         be removed in a future GROMACS version. Please, consider\n",
      "         using another file format for your input.\n",
      "\n",
      "NOTE: From version 5.0 gmx solvate uses the Van der Waals radii\n",
      "from the source below. This means the results may be different\n",
      "compared to previous GROMACS versions.\n",
      "\n",
      "++++ PLEASE READ AND CITE THE FOLLOWING REFERENCE ++++\n",
      "A. Bondi\n",
      "van der Waals Volumes and Radii\n",
      "J. Phys. Chem. 68 (1964) pp. 441-451\n",
      "-------- -------- --- Thank You --- -------- --------\n",
      "\n",
      "Generating solvent configuration\n",
      "Will generate new solvent configuration of 5x5x4 boxes\n",
      "Solvent box contains 45345 atoms in 15115 residues\n",
      "Removed 5904 solvent atoms due to solvent-solvent overlap\n",
      "Removed 4110 solvent atoms due to solute-solvent overlap\n",
      "Sorting configuration\n",
      "Found 1 molecule type:\n",
      "    SOL (   3 atoms): 11777 residues\n",
      "Generated solvent containing 35331 atoms in 11777 residues\n",
      "Writing generated configuration to 1fjs_solv.gro\n",
      "\n",
      "Output configuration contains 39748 atoms in 12063 residues\n",
      "Volume                 :     399.595 (nm^3)\n",
      "Density                :     1023.56 (g/l)\n",
      "Number of solvent molecules:  11777   \n",
      "\n",
      "Processing topology\n",
      "Adding line for 11777 solvent molecules with resname (SOL) to topology file (topol.top)\n",
      "\n",
      "Back Off! I just backed up topol.top to ./#topol.top.2#\n",
      "\n",
      "GROMACS reminds you: \"Suzy is a headbanger, her mother is a geek\" (The Ramones)\n",
      "\n"
     ]
    }
   ],
   "source": [
    "!gmx solvate -cp 1fjs_newbox.gro -cs spc216.gro -o 1fjs_solv.gro -p topol.top"
   ]
  },
  {
   "cell_type": "markdown",
   "metadata": {
    "nbpresent": {
     "id": "3fb8e6fc-1343-47e9-925c-c754b822b91b"
    }
   },
   "source": [
    "The configuration of the protein (-cp) is contained in the output of the previous editconf step, and the configuration of the solvent (-cs) is part of the standard GROMACS installation. We are using spc216.gro, which is a generic equilibrated 3-point solvent model box. You can use spc216.gro as the solvent configuration for SPC, SPC/E, or TIP3P water, since they are all three-point water models. The output is called 1fjs_solv.gro, and we tell solvate the name of the topology file (topol.top) so it can be modified. Note the changes to the [ molecules ] directive of topol.top:"
   ]
  },
  {
   "cell_type": "code",
   "execution_count": 25,
   "metadata": {
    "nbpresent": {
     "id": "27850d11-a3ed-4feb-939a-3d687b5ab001"
    },
    "scrolled": true
   },
   "outputs": [
    {
     "name": "stdout",
     "output_type": "stream",
     "text": [
      "\r\n",
      "[ system ]\r\n",
      "; Name\r\n",
      "COAGULATION FACTOR XA; COAGULATION FACTOR XA in water\r\n",
      "\r\n",
      "[ molecules ]\r\n",
      "; Compound        #mols\r\n",
      "Protein_chain_A     1\r\n",
      "Protein_chain_L     1\r\n",
      "SOL             11777\r\n"
     ]
    }
   ],
   "source": [
    "!tail topol.top"
   ]
  },
  {
   "cell_type": "markdown",
   "metadata": {
    "nbpresent": {
     "id": "cf8c6e22-eb31-486d-88d9-67d800524670"
    }
   },
   "source": [
    "\n",
    "`gmx solvate` kept track of how many water molecules it has added, which it then writes to your topology to reflect the changes that have been made. Note that if you use any other (non-water) solvent, solvate will not make these changes to your topology! Its compatibility with updating water molecules is hard-coded."
   ]
  },
  {
   "cell_type": "markdown",
   "metadata": {
    "nbpresent": {
     "id": "33086651-f3c8-43b7-b47f-36645fa72aaa"
    }
   },
   "source": [
    "# Adding Ions"
   ]
  },
  {
   "cell_type": "markdown",
   "metadata": {
    "nbpresent": {
     "id": "1c524b7e-8fcc-420a-b0fb-8ccb7d0f54c1"
    }
   },
   "source": [
    "We now have a solvated system that contains a charged protein. The output of `pdb2gmx` told us that the protein has a net charge of -2e (based on its amino acid composition). If you missed this information in the `pdb2gmx` output, look at the last line of each [ atoms ] directive in topology file; it should read  \"qtot 1.\" for chain A and  \"qtot -3.\" for chain L. Since life does not exist at a net charge, we must add ions to our system. Further, we aim to approximate physiological conditions and use therefore a NaCl concentration of 0.15 M."
   ]
  },
  {
   "cell_type": "markdown",
   "metadata": {
    "nbpresent": {
     "id": "3c3ff084-1058-4bf3-afa0-a0cea3c1df09"
    }
   },
   "source": [
    "## Preparing the input for \"gmx genion\""
   ]
  },
  {
   "cell_type": "markdown",
   "metadata": {
    "nbpresent": {
     "id": "68bf2221-bfce-429a-95d9-156af62a3359"
    }
   },
   "source": [
    "The tool for adding ions within GROMACS is called `genion`. What genion does is read through the topology and replace water molecules with the ions that the user specifies. The input is called a run input file, which has an extension of .tpr; this file is produced by the GROMACS grompp module (GROMACS pre-processor), which will also be used later when we run our first simulation. `grompp` processes the coordinate file and topology (which describes the molecules) to generate an atomic-level input (`.tpr`). The .tpr file contains all the parameters for all of the atoms in the system."
   ]
  },
  {
   "cell_type": "markdown",
   "metadata": {
    "nbpresent": {
     "id": "15158eb8-2025-44e7-88dd-9966aea64b60"
    }
   },
   "source": [
    "To produce a .tpr file with grompp, we will need an additional input file, with the extension .mdp (molecular dynamics parameter file); grompp will assemble the parameters specified in the .mdp file with the coordinates and topology information to generate a .tpr file."
   ]
  },
  {
   "cell_type": "markdown",
   "metadata": {
    "nbpresent": {
     "id": "cc071b1a-1700-4426-9285-a039f320ee60"
    }
   },
   "source": [
    "An .mdp file is normally used to run energy minimization or an MD simulation, but in this case is simply used to generate an atomic description of the system. We can proceed with an completely empty .mdp file in this case, its only role is to create the .tpr file."
   ]
  },
  {
   "cell_type": "code",
   "execution_count": 26,
   "metadata": {},
   "outputs": [],
   "source": [
    "!touch ions.mdp"
   ]
  },
  {
   "cell_type": "markdown",
   "metadata": {
    "nbpresent": {
     "id": "3f058b29-44cc-4e0c-8462-588b1279457b"
    }
   },
   "source": [
    "Assemble your .tpr file with the following:"
   ]
  },
  {
   "cell_type": "code",
   "execution_count": 27,
   "metadata": {
    "nbpresent": {
     "id": "1bc074e1-d521-46ec-b9a2-359cdea24637"
    },
    "scrolled": true
   },
   "outputs": [
    {
     "name": "stdout",
     "output_type": "stream",
     "text": [
      "                 :-) GROMACS - gmx grompp, 2022-conda_forge (-:\n",
      "\n",
      "Executable:   /Users/ethan/anaconda3/envs/md-intro-tutorial/bin.AVX2_256/gmx\n",
      "Data prefix:  /Users/ethan/anaconda3/envs/md-intro-tutorial\n",
      "Working dir:  /Users/ethan/md-intro-tutorial/md-intro-tutorial-main/data\n",
      "Command line:\n",
      "  gmx grompp -f ions.mdp -c 1fjs_solv.gro -p topol.top -o ions.tpr\n",
      "\n",
      "\n",
      "NOTE 1 [file ions.mdp]:\n",
      "  For a correct single-point energy evaluation with nsteps = 0, use\n",
      "  continuation = yes to avoid constraining the input coordinates.\n",
      "\n",
      "Setting the LD random seed to -2098757\n",
      "\n",
      "Generated 20503 of the 20503 non-bonded parameter combinations\n",
      "Generating 1-4 interactions: fudge = 1\n",
      "\n",
      "Generated 17396 of the 20503 1-4 parameter combinations\n",
      "\n",
      "Excluding 3 bonded neighbours molecule type 'Protein_chain_A'\n",
      "\n",
      "Excluding 3 bonded neighbours molecule type 'Protein_chain_L'\n",
      "\n",
      "Excluding 2 bonded neighbours molecule type 'SOL'\n",
      "\n",
      "NOTE 2 [file topol.top, line 48]:\n",
      "  System has non-zero total charge: -2.000000\n",
      "  Total charge should normally be an integer. See\n",
      "  http://www.gromacs.org/Documentation/Floating_Point_Arithmetic\n",
      "  for discussion on how close it should be to an integer.\n",
      "  \n",
      "\n",
      "\n",
      "\n",
      "NOTE 3 [file topol.top, line 48]:\n",
      "  The bond in molecule-type Protein_chain_A between atoms 415 OG1 and 416\n",
      "  HG1 has an estimated oscillational period of 9.1e-03 ps, which is less\n",
      "  than 10 times the time step of 1.0e-03 ps.\n",
      "  Maybe you forgot to change the constraints mdp option.\n",
      "\n",
      "Analysing residue names:\n",
      "There are:   286    Protein residues\n",
      "There are: 11777      Water residues\n",
      "Analysing Protein...\n",
      "Number of degrees of freedom in T-Coupling group rest is 83910.00\n",
      "\n",
      "NOTE 4 [file ions.mdp]:\n",
      "  NVE simulation with an initial temperature of zero: will use a Verlet\n",
      "  buffer of 10%. Check your energy drift!\n",
      "\n",
      "\n",
      "NOTE 5 [file ions.mdp]:\n",
      "  You are using a plain Coulomb cut-off, which might produce artifacts.\n",
      "  You might want to consider using PME electrostatics.\n",
      "\n",
      "\n",
      "\n",
      "This run will generate roughly 3 Mb of data\n",
      "\n",
      "There were 5 notes\n",
      "\n",
      "GROMACS reminds you: \"I'm Not Gonna Die Here !\" (Sphere)\n",
      "\n"
     ]
    }
   ],
   "source": [
    "!gmx grompp -f ions.mdp -c 1fjs_solv.gro -p topol.top -o ions.tpr"
   ]
  },
  {
   "cell_type": "markdown",
   "metadata": {
    "nbpresent": {
     "id": "9c28bff3-bef7-4d81-aac3-7581c40629c2"
    }
   },
   "source": [
    "Be aware that there are some `NOTE` in the output. In all other cases than generating an output `tpr` for `genion` these are very important and may not be ignored, here however we only need the atomic-level description of our system in the binary file ions.tpr. We will pass this file to genion:"
   ]
  },
  {
   "cell_type": "markdown",
   "metadata": {},
   "source": [
    "*Note: A lot of GROMACS tools promt for input at the command line. As this does not play well with the jupyter notebook setup, we feed the input to the command line with a print command and a newline \\n substituting enter*"
   ]
  },
  {
   "cell_type": "code",
   "execution_count": 28,
   "metadata": {
    "nbpresent": {
     "id": "88837846-7a76-4ce4-9419-6588a42e8b1f"
    },
    "scrolled": true
   },
   "outputs": [
    {
     "name": "stdout",
     "output_type": "stream",
     "text": [
      "                 :-) GROMACS - gmx genion, 2022-conda_forge (-:\n",
      "\n",
      "Executable:   /Users/ethan/anaconda3/envs/md-intro-tutorial/bin.AVX2_256/gmx\n",
      "Data prefix:  /Users/ethan/anaconda3/envs/md-intro-tutorial\n",
      "Working dir:  /Users/ethan/md-intro-tutorial/md-intro-tutorial-main/data\n",
      "Command line:\n",
      "  gmx genion -s ions.tpr -o 1fjs_solv_ions.gro -conc 0.15 -p topol.top -pname NA -nname CL -neutral\n",
      "\n",
      "Reading file ions.tpr, VERSION 2022-conda_forge (single precision)\n",
      "Reading file ions.tpr, VERSION 2022-conda_forge (single precision)\n",
      "Will try to add 38 NA ions and 36 CL ions.\n",
      "Select a continuous group of solvent molecules\n",
      "Group     0 (         System) has 39748 elements\n",
      "Group     1 (        Protein) has  4417 elements\n",
      "Group     2 (      Protein-H) has  2238 elements\n",
      "Group     3 (        C-alpha) has   286 elements\n",
      "Group     4 (       Backbone) has   858 elements\n",
      "Group     5 (      MainChain) has  1142 elements\n",
      "Group     6 (   MainChain+Cb) has  1401 elements\n",
      "Group     7 (    MainChain+H) has  1423 elements\n",
      "Group     8 (      SideChain) has  2994 elements\n",
      "Group     9 (    SideChain-H) has  1096 elements\n",
      "Group    10 (    Prot-Masses) has  4417 elements\n",
      "Group    11 (    non-Protein) has 35331 elements\n",
      "Group    12 (          Water) has 35331 elements\n",
      "Group    13 (            SOL) has 35331 elements\n",
      "Group    14 (      non-Water) has  4417 elements\n",
      "Select a group: Selected 13: 'SOL'\n",
      "Number of (3-atomic) solvent molecules: 11777\n",
      "\n",
      "Processing topology\n",
      "Replacing 74 solute molecules in topology file (topol.top)  by 38 NA and 36 CL ions.\n",
      "\n",
      "Back Off! I just backed up topol.top to ./#topol.top.3#\n",
      "Using random seed -1077559330.\n",
      "Replacing solvent molecule 236 (atom 5125) with NA\n",
      "Replacing solvent molecule 6042 (atom 22543) with NA\n",
      "Replacing solvent molecule 7211 (atom 26050) with NA\n",
      "Replacing solvent molecule 10665 (atom 36412) with NA\n",
      "Replacing solvent molecule 3679 (atom 15454) with NA\n",
      "Replacing solvent molecule 203 (atom 5026) with NA\n",
      "Replacing solvent molecule 4274 (atom 17239) with NA\n",
      "Replacing solvent molecule 5300 (atom 20317) with NA\n",
      "Replacing solvent molecule 11651 (atom 39370) with NA\n",
      "Replacing solvent molecule 7060 (atom 25597) with NA\n",
      "Replacing solvent molecule 10519 (atom 35974) with NA\n",
      "Replacing solvent molecule 222 (atom 5083) with NA\n",
      "Replacing solvent molecule 10185 (atom 34972) with NA\n",
      "Replacing solvent molecule 2911 (atom 13150) with NA\n",
      "Replacing solvent molecule 1942 (atom 10243) with NA\n",
      "Replacing solvent molecule 4565 (atom 18112) with NA\n",
      "Replacing solvent molecule 7128 (atom 25801) with NA\n",
      "Replacing solvent molecule 2502 (atom 11923) with NA\n",
      "Replacing solvent molecule 3213 (atom 14056) with NA\n",
      "Replacing solvent molecule 9639 (atom 33334) with NA\n",
      "Replacing solvent molecule 10849 (atom 36964) with NA\n",
      "Replacing solvent molecule 1588 (atom 9181) with NA\n",
      "Replacing solvent molecule 4628 (atom 18301) with NA\n",
      "Replacing solvent molecule 4033 (atom 16516) with NA\n",
      "Replacing solvent molecule 1027 (atom 7498) with NA\n",
      "Replacing solvent molecule 3491 (atom 14890) with NA\n",
      "Replacing solvent molecule 8457 (atom 29788) with NA\n",
      "Replacing solvent molecule 10662 (atom 36403) with NA\n",
      "Replacing solvent molecule 5640 (atom 21337) with NA\n",
      "Replacing solvent molecule 840 (atom 6937) with NA\n",
      "Replacing solvent molecule 6413 (atom 23656) with NA\n",
      "Replacing solvent molecule 9368 (atom 32521) with NA\n",
      "Replacing solvent molecule 9793 (atom 33796) with NA\n",
      "Replacing solvent molecule 2961 (atom 13300) with NA\n",
      "Replacing solvent molecule 8622 (atom 30283) with NA\n",
      "Replacing solvent molecule 4520 (atom 17977) with NA\n",
      "Replacing solvent molecule 2065 (atom 10612) with NA\n",
      "Replacing solvent molecule 8743 (atom 30646) with NA\n",
      "Replacing solvent molecule 1718 (atom 9571) with CL\n",
      "Replacing solvent molecule 5105 (atom 19732) with CL\n",
      "Replacing solvent molecule 1898 (atom 10111) with CL\n",
      "Replacing solvent molecule 1353 (atom 8476) with CL\n",
      "Replacing solvent molecule 2964 (atom 13309) with CL\n",
      "Replacing solvent molecule 5839 (atom 21934) with CL\n",
      "Replacing solvent molecule 10413 (atom 35656) with CL\n",
      "Replacing solvent molecule 1190 (atom 7987) with CL\n",
      "Replacing solvent molecule 479 (atom 5854) with CL\n",
      "Replacing solvent molecule 11746 (atom 39655) with CL\n",
      "Replacing solvent molecule 10203 (atom 35026) with CL\n",
      "Replacing solvent molecule 6522 (atom 23983) with CL\n",
      "Replacing solvent molecule 5858 (atom 21991) with CL\n",
      "Replacing solvent molecule 851 (atom 6970) with CL\n",
      "Replacing solvent molecule 4919 (atom 19174) with CL\n",
      "Replacing solvent molecule 7423 (atom 26686) with CL\n",
      "Replacing solvent molecule 2883 (atom 13066) with CL\n",
      "Replacing solvent molecule 6906 (atom 25135) with CL\n",
      "Replacing solvent molecule 6083 (atom 22666) with CL\n",
      "Replacing solvent molecule 5702 (atom 21523) with CL\n",
      "Replacing solvent molecule 10978 (atom 37351) with CL\n",
      "Replacing solvent molecule 527 (atom 5998) with CL\n",
      "Replacing solvent molecule 6721 (atom 24580) with CL\n",
      "Replacing solvent molecule 5992 (atom 22393) with CL\n",
      "Replacing solvent molecule 7951 (atom 28270) with CL\n",
      "Replacing solvent molecule 9223 (atom 32086) with CL\n",
      "Replacing solvent molecule 2415 (atom 11662) with CL\n",
      "Replacing solvent molecule 4622 (atom 18283) with CL\n",
      "Replacing solvent molecule 6607 (atom 24238) with CL\n",
      "Replacing solvent molecule 1987 (atom 10378) with CL\n",
      "Replacing solvent molecule 10590 (atom 36187) with CL\n",
      "Replacing solvent molecule 9094 (atom 31699) with CL\n",
      "Replacing solvent molecule 6899 (atom 25114) with CL\n",
      "Replacing solvent molecule 3812 (atom 15853) with CL\n",
      "Replacing solvent molecule 1888 (atom 10081) with CL\n",
      "Replacing solvent molecule 11269 (atom 38224) with CL\n",
      "\n",
      "\n",
      "GROMACS reminds you: \"I'm Not Gonna Die Here !\" (Sphere)\n",
      "\n"
     ]
    }
   ],
   "source": [
    "!printf \"SOL\\n\" | gmx genion -s ions.tpr -o 1fjs_solv_ions.gro -conc 0.15 -p \\\n",
    "topol.top -pname NA -nname CL -neutral"
   ]
  },
  {
   "cell_type": "markdown",
   "metadata": {
    "nbpresent": {
     "id": "af2e805e-ca9f-4b95-b58f-0d4055f7d165"
    }
   },
   "source": [
    "We chose group \"SOL\" for embedding ions. You do not want to replace parts of your protein with ions."
   ]
  },
  {
   "cell_type": "markdown",
   "metadata": {},
   "source": [
    "*Note: Make sure to run genion only once. `gmx genion` edits the topology \"in-place\" and does not know if there are already Cl or Na ions in the system. If you run it over again, ions will be added until there is no water left to replace with ions.*"
   ]
  },
  {
   "cell_type": "markdown",
   "metadata": {
    "nbpresent": {
     "id": "9f3bfe12-f048-4d58-88ed-b2cb22450ea2"
    }
   },
   "source": [
    "In the genion command, we provide the structure/state file (-s) as input, generate a .gro file as output (-o), process the topology (-p) to reflect the removal of water molecules and addition of ions, define positive and negative ion names (-pname and -nname, respectively), and tell genion to add ions necessary to neutralize the net charge on the protein by adding the correct number of negative ions (-neutral, which in this case will add 2 Na+ ions to offset the -2 charge on the protein). We further use genion to add a specified concentration of ions in addition to simply neutralizing the system by specifying the -neutral and -conc options in conjunction. Refer to the genion man page for information on how to use these options.\n",
    "\n",
    "The names of the ions specified with -pname and -nname GROMACS are standardized and not dependent on the force-field. The specified ion names are always the elemental symbol in all capital letters, which is the [ moleculetype ] name that is then written to the topology. Residue or atom names may or may not append the sign of the charge (+/-), depending on the force field. Do not use atom or residue names in the genion command, or you will encounter errors in subsequent steps."
   ]
  },
  {
   "cell_type": "markdown",
   "metadata": {
    "nbpresent": {
     "id": "e474e9aa-baeb-4ff7-b445-c17bbdd0173a"
    }
   },
   "source": [
    "Your [ molecules ] directive should now be similar to"
   ]
  },
  {
   "cell_type": "markdown",
   "metadata": {
    "nbpresent": {
     "id": "3fe444f7-f9a1-4b1b-8faa-8436793520fe"
    }
   },
   "source": [
    "    [ molecules ]\n",
    "    ; Compound      #mols\n",
    "    Protein_chain_A    1\n",
    "    Protein_chain_L    1\n",
    "    SOL           11703\n",
    "    NA              38\n",
    "    CL              36"
   ]
  },
  {
   "cell_type": "markdown",
   "metadata": {},
   "source": [
    "Let's check the last lines of the topology file"
   ]
  },
  {
   "cell_type": "code",
   "execution_count": 29,
   "metadata": {
    "nbpresent": {
     "id": "e6be30a5-ee4c-44f9-bb44-5799f3e70317"
    },
    "scrolled": true
   },
   "outputs": [
    {
     "name": "stdout",
     "output_type": "stream",
     "text": [
      "; Compound        #mols\r\n",
      "Protein_chain_A     1\r\n",
      "Protein_chain_L     1\r\n",
      "SOL         11703\r\n",
      "NA               38\r\n",
      "CL               36\r\n"
     ]
    }
   ],
   "source": [
    "!tail -6 topol.top"
   ]
  },
  {
   "cell_type": "markdown",
   "metadata": {},
   "source": [
    "If you see multiple lines of NA and CL, you most likely ran genion multiple times. Start over with the `pdb2gmx`."
   ]
  },
  {
   "cell_type": "markdown",
   "metadata": {
    "nbpresent": {
     "id": "bb96f417-4653-4a5e-914c-54771fe98290"
    }
   },
   "source": [
    "# Energy minimisation"
   ]
  },
  {
   "cell_type": "markdown",
   "metadata": {
    "nbpresent": {
     "id": "60af9d49-7607-43dd-b50e-ed6111b93c45"
    }
   },
   "source": [
    "The solvated, electroneutral system is now assembled. Before we can begin dynamics, we must ensure that the system has no steric clashes or inappropriate geometry. The structure is relaxed through a process called energy minimization (EM)."
   ]
  },
  {
   "cell_type": "markdown",
   "metadata": {
    "nbpresent": {
     "id": "60af9d49-7607-43dd-b50e-ed6111b93c45"
    }
   },
   "source": [
    "To perform energy minimization, we are once again going to use grompp to assemble the structure, topology, and simulation parameters into a binary input file (.tpr), then we will use GROMACS MD engine, mdrun, to run the energy minimization."
   ]
  },
  {
   "cell_type": "markdown",
   "metadata": {
    "nbpresent": {
     "id": "60af9d49-7607-43dd-b50e-ed6111b93c45"
    }
   },
   "source": [
    "Assemble the binary input using grompp using the .mdp parameter file, as input. The simulation parameter file (.mdp) determines how the simulation shall be run. Find more information on all the options in the [manual](http://manual.gromacs.org/documentation/current/user-guide/mdp-options.html) or in the following [webinar](https://bioexcel.eu/webinar-a-walk-through-simulation-parameter-options-mdp-files-for-gromacs-2019-12-05/). There are a lot of parameters that can be set, here we ony set the elemental parametes and leave everything else as default. Let's have a look at the input file:"
   ]
  },
  {
   "cell_type": "code",
   "execution_count": 30,
   "metadata": {},
   "outputs": [
    {
     "name": "stdout",
     "output_type": "stream",
     "text": [
      "title       = CHARMM steepest descent enrgy minimisation\r\n",
      "\r\n",
      "; Parameters describing what to do, when to stop and what to save\r\n",
      "integrator  = steep  ; Algorithm (steep = steepest descent minimization)\r\n",
      "emtol       = 1000.0 ; Stop minimization when the maximum force < 1000.0 kJ/mol/nm\r\n",
      "emstep      = 0.01   ; Minimization step size\r\n",
      "nstenergy   = 500    ; save energies every 1.0 ps, so we can observe if we are successful\r\n",
      "nsteps      = -1     ; run as long as we need\r\n",
      "; Settings that make sure we run with parameters in harmony with the selected force-field\r\n",
      "constraints             = h-bonds   ; bonds involving H are constrained\r\n",
      "rcoulomb                = 1.2       ; short-range electrostatic cutoff (in nm)\r\n",
      "rvdw                    = 1.2       ; short-range van der Waals cutoff (in nm)\r\n",
      "vdw-modifier            = Force-switch ;  specific CHARMM\r\n",
      "rvdw_switch             = 1.0       ;\r\n",
      "DispCorr                = no        ; account for cut-off vdW scheme -\r\n",
      ";in case of CHARMM DispCorr = EnerPres only for monolayers\r\n",
      "coulombtype             = PME       ; Particle Mesh Ewald for long-range electrostatics\r\n",
      "fourierspacing          = 0.15     ; grid spacing for FFT\r\n",
      "\r\n",
      "\r\n"
     ]
    }
   ],
   "source": [
    "!cat input/emin-charmm.mdp"
   ]
  },
  {
   "cell_type": "code",
   "execution_count": 31,
   "metadata": {
    "nbpresent": {
     "id": "34b6c3cb-5926-4ba5-b97a-8b42457956ce"
    },
    "scrolled": true
   },
   "outputs": [
    {
     "name": "stdout",
     "output_type": "stream",
     "text": [
      "                 :-) GROMACS - gmx grompp, 2022-conda_forge (-:\n",
      "\n",
      "Executable:   /Users/ethan/anaconda3/envs/md-intro-tutorial/bin.AVX2_256/gmx\n",
      "Data prefix:  /Users/ethan/anaconda3/envs/md-intro-tutorial\n",
      "Working dir:  /Users/ethan/md-intro-tutorial/md-intro-tutorial-main/data\n",
      "Command line:\n",
      "  gmx grompp -f input/emin-charmm.mdp -c 1fjs_solv_ions.gro -p topol.top -o em.tpr\n",
      "\n",
      "Ignoring obsolete mdp entry 'title'\n",
      "Setting the LD random seed to -11044163\n",
      "\n",
      "Generated 20503 of the 20503 non-bonded parameter combinations\n",
      "Generating 1-4 interactions: fudge = 1\n",
      "\n",
      "Generated 17396 of the 20503 1-4 parameter combinations\n",
      "\n",
      "Excluding 3 bonded neighbours molecule type 'Protein_chain_A'\n",
      "\n",
      "turning H bonds into constraints...\n",
      "\n",
      "Excluding 3 bonded neighbours molecule type 'Protein_chain_L'\n",
      "\n",
      "turning H bonds into constraints...\n",
      "\n",
      "Excluding 2 bonded neighbours molecule type 'SOL'\n",
      "\n",
      "turning H bonds into constraints...\n",
      "\n",
      "Excluding 1 bonded neighbours molecule type 'NA'\n",
      "\n",
      "turning H bonds into constraints...\n",
      "\n",
      "Excluding 1 bonded neighbours molecule type 'CL'\n",
      "\n",
      "turning H bonds into constraints...\n",
      "Analysing residue names:\n",
      "There are:   286    Protein residues\n",
      "There are: 11703      Water residues\n",
      "There are:    74        Ion residues\n",
      "Analysing Protein...\n",
      "Analysing residues not classified as Protein/DNA/RNA/Water and splitting into groups...\n",
      "Number of degrees of freedom in T-Coupling group rest is 81509.00\n",
      "\n",
      "The largest distance between excluded atoms is 0.418 nm\n",
      "Calculating fourier grid dimensions for X Y Z\n",
      "Using a fourier grid of 56x56x56, spacing 0.148 0.148 0.148\n",
      "\n",
      "Estimate for the relative computational load of the PME mesh part: 0.15\n",
      "\n",
      "This run will generate roughly 3 Mb of data\n",
      "\n",
      "GROMACS reminds you: \"I Wrapped a Newspaper Round My Head\" (F. Zappa)\n",
      "\n"
     ]
    }
   ],
   "source": [
    "!gmx grompp -f input/emin-charmm.mdp -c 1fjs_solv_ions.gro -p topol.top -o em.tpr"
   ]
  },
  {
   "cell_type": "markdown",
   "metadata": {
    "nbpresent": {
     "id": "b59bc1fe-5773-440c-ac9e-109d3df55ec4"
    }
   },
   "source": [
    "Make sure you have been updating your topol.top file when running genbox and genion, or else you will get lots of nasty error messages (\"number of coordinates in coordinate file does not match topology,\" etc)."
   ]
  },
  {
   "cell_type": "markdown",
   "metadata": {
    "nbpresent": {
     "id": "a9136c8d-2907-40aa-9eae-d697c9467e49"
    }
   },
   "source": [
    "Once run, we will find the energy-minimized structure in a file called `em.gro`. Additionally to this we will find more information on the run in an ASCII-text log file of the EM process,  `em.log`, a file for storage of energy, `em.edr` and a binary full-precision trajectory `em.trr`. \n"
   ]
  },
  {
   "cell_type": "markdown",
   "metadata": {
    "nbpresent": {
     "id": "b59bc1fe-5773-440c-ac9e-109d3df55ec4"
    }
   },
   "source": [
    "We are now ready to run mdrun to carry out the energy minimisation:"
   ]
  },
  {
   "cell_type": "code",
   "execution_count": 32,
   "metadata": {
    "nbpresent": {
     "id": "eb3e7e13-d78e-4c99-806c-99e9b30d3d69"
    },
    "scrolled": true
   },
   "outputs": [
    {
     "name": "stdout",
     "output_type": "stream",
     "text": [
      "                 :-) GROMACS - gmx mdrun, 2022-conda_forge (-:\n",
      "\n",
      "Executable:   /Users/ethan/anaconda3/envs/md-intro-tutorial/bin.AVX2_256/gmx\n",
      "Data prefix:  /Users/ethan/anaconda3/envs/md-intro-tutorial\n",
      "Working dir:  /Users/ethan/md-intro-tutorial/md-intro-tutorial-main/data\n",
      "Command line:\n",
      "  gmx mdrun -v -deffnm em\n",
      "\n",
      "Reading file em.tpr, VERSION 2022-conda_forge (single precision)\n",
      "Using 1 MPI thread\n",
      "Using 8 OpenMP threads \n",
      "\n",
      "\n",
      "Steepest Descents:\n",
      "   Tolerance (Fmax)   =  1.00000e+03\n",
      "   Number of steps    =           -1\n",
      "Step=    0, Dmax= 1.0e-02 nm, Epot= -1.54071e+05 Fmax= 4.68466e+05, atom= 2834\n",
      "Step=    1, Dmax= 1.0e-02 nm, Epot= -1.89909e+05 Fmax= 1.55440e+05, atom= 39588\n",
      "Step=    2, Dmax= 1.2e-02 nm, Epot= -2.50836e+05 Fmax= 6.95637e+04, atom= 39598\n",
      "Step=    3, Dmax= 1.4e-02 nm, Epot= -3.05815e+05 Fmax= 3.00285e+04, atom= 1444\n",
      "Step=    4, Dmax= 1.7e-02 nm, Epot= -3.55554e+05 Fmax= 2.15579e+04, atom= 4416\n",
      "Step=    5, Dmax= 2.1e-02 nm, Epot= -3.85612e+05 Fmax= 1.70740e+04, atom= 4416\n",
      "Step=    6, Dmax= 2.5e-02 nm, Epot= -4.08419e+05 Fmax= 1.12610e+04, atom= 4416\n",
      "Step=    7, Dmax= 3.0e-02 nm, Epot= -4.31435e+05 Fmax= 9.13791e+03, atom= 34898\n",
      "Step=    8, Dmax= 3.6e-02 nm, Epot= -4.50753e+05 Fmax= 1.34857e+04, atom= 494\n",
      "Step=    9, Dmax= 4.3e-02 nm, Epot= -4.60564e+05 Fmax= 1.78485e+04, atom= 4060\n",
      "Step=   10, Dmax= 5.2e-02 nm, Epot= -4.63441e+05 Fmax= 4.96391e+04, atom= 3904\n",
      "Step=   11, Dmax= 6.2e-02 nm, Epot= -4.70724e+05 Fmax= 3.12634e+04, atom= 3904\n",
      "Step=   13, Dmax= 3.7e-02 nm, Epot= -4.74822e+05 Fmax= 1.64497e+04, atom= 3904\n",
      "Step=   14, Dmax= 4.5e-02 nm, Epot= -4.77624e+05 Fmax= 4.03711e+04, atom= 3904\n",
      "Step=   15, Dmax= 5.3e-02 nm, Epot= -4.81717e+05 Fmax= 2.85390e+04, atom= 3904\n",
      "Step=   17, Dmax= 3.2e-02 nm, Epot= -4.84992e+05 Fmax= 1.26502e+04, atom= 3904\n",
      "Step=   18, Dmax= 3.9e-02 nm, Epot= -4.87532e+05 Fmax= 3.72401e+04, atom= 3904\n",
      "Step=   19, Dmax= 4.6e-02 nm, Epot= -4.91135e+05 Fmax= 2.22286e+04, atom= 3904\n",
      "Step=   21, Dmax= 2.8e-02 nm, Epot= -4.93528e+05 Fmax= 1.32374e+04, atom= 3904\n",
      "Step=   22, Dmax= 3.3e-02 nm, Epot= -4.95458e+05 Fmax= 2.91757e+04, atom= 3904\n",
      "Step=   23, Dmax= 4.0e-02 nm, Epot= -4.97922e+05 Fmax= 2.19044e+04, atom= 3904\n",
      "Step=   24, Dmax= 4.8e-02 nm, Epot= -4.98098e+05 Fmax= 3.92878e+04, atom= 3904\n",
      "Step=   25, Dmax= 5.8e-02 nm, Epot= -5.00473e+05 Fmax= 3.42433e+04, atom= 3904\n",
      "Step=   27, Dmax= 3.5e-02 nm, Epot= -5.04066e+05 Fmax= 9.94672e+03, atom= 3904\n",
      "Step=   29, Dmax= 2.1e-02 nm, Epot= -5.05789e+05 Fmax= 1.66266e+04, atom= 3904\n",
      "Step=   30, Dmax= 2.5e-02 nm, Epot= -5.07368e+05 Fmax= 1.50002e+04, atom= 3904\n",
      "Step=   31, Dmax= 3.0e-02 nm, Epot= -5.08386e+05 Fmax= 2.31680e+04, atom= 3904\n",
      "Step=   32, Dmax= 3.6e-02 nm, Epot= -5.09805e+05 Fmax= 2.32408e+04, atom= 3836\n",
      "Step=   33, Dmax= 4.3e-02 nm, Epot= -5.10064e+05 Fmax= 3.25647e+04, atom= 3836\n",
      "Step=   34, Dmax= 5.2e-02 nm, Epot= -5.11124e+05 Fmax= 3.59145e+04, atom= 3836\n",
      "Step=   36, Dmax= 3.1e-02 nm, Epot= -5.14869e+05 Fmax= 4.98688e+03, atom= 3836\n",
      "Step=   37, Dmax= 3.7e-02 nm, Epot= -5.17523e+05 Fmax= 4.35367e+04, atom= 3836\n",
      "Step=   38, Dmax= 4.5e-02 nm, Epot= -5.20991e+05 Fmax= 1.49091e+04, atom= 3836\n",
      "Step=   40, Dmax= 2.7e-02 nm, Epot= -5.21916e+05 Fmax= 2.07183e+04, atom= 3836\n",
      "Step=   41, Dmax= 3.2e-02 nm, Epot= -5.22895e+05 Fmax= 2.10577e+04, atom= 3836\n",
      "Step=   42, Dmax= 3.8e-02 nm, Epot= -5.23471e+05 Fmax= 2.99938e+04, atom= 3836\n",
      "Step=   43, Dmax= 4.6e-02 nm, Epot= -5.24390e+05 Fmax= 3.01609e+04, atom= 3836\n",
      "Step=   45, Dmax= 2.8e-02 nm, Epot= -5.26111e+05 Fmax= 6.04334e+03, atom= 3836\n",
      "Step=   46, Dmax= 3.3e-02 nm, Epot= -5.27560e+05 Fmax= 3.74416e+04, atom= 3836\n",
      "Step=   47, Dmax= 4.0e-02 nm, Epot= -5.29617e+05 Fmax= 1.52973e+04, atom= 3836\n",
      "Step=   49, Dmax= 2.4e-02 nm, Epot= -5.30414e+05 Fmax= 1.60003e+04, atom= 3836\n",
      "Step=   50, Dmax= 2.9e-02 nm, Epot= -5.31102e+05 Fmax= 2.19131e+04, atom= 3836\n",
      "Step=   51, Dmax= 3.4e-02 nm, Epot= -5.31826e+05 Fmax= 2.30542e+04, atom= 3836\n",
      "Step=   52, Dmax= 4.1e-02 nm, Epot= -5.32238e+05 Fmax= 3.16836e+04, atom= 3836\n",
      "Step=   53, Dmax= 5.0e-02 nm, Epot= -5.32874e+05 Fmax= 3.29448e+04, atom= 3836\n",
      "Step=   55, Dmax= 3.0e-02 nm, Epot= -5.34408e+05 Fmax= 5.87809e+03, atom= 3836\n",
      "Step=   56, Dmax= 3.6e-02 nm, Epot= -5.35446e+05 Fmax= 4.10470e+04, atom= 3836\n",
      "Step=   57, Dmax= 4.3e-02 nm, Epot= -5.37399e+05 Fmax= 1.56175e+04, atom= 3836\n",
      "Step=   59, Dmax= 2.6e-02 nm, Epot= -5.38007e+05 Fmax= 1.80061e+04, atom= 3836\n",
      "Step=   60, Dmax= 3.1e-02 nm, Epot= -5.38538e+05 Fmax= 2.26919e+04, atom= 3836\n",
      "Step=   61, Dmax= 3.7e-02 nm, Epot= -5.39046e+05 Fmax= 2.56182e+04, atom= 3836\n",
      "Step=   62, Dmax= 4.4e-02 nm, Epot= -5.39349e+05 Fmax= 3.31483e+04, atom= 3836\n",
      "Step=   63, Dmax= 5.3e-02 nm, Epot= -5.39733e+05 Fmax= 3.62561e+04, atom= 3836\n",
      "Step=   65, Dmax= 3.2e-02 nm, Epot= -5.41264e+05 Fmax= 5.38617e+03, atom= 3836\n",
      "Step=   66, Dmax= 3.8e-02 nm, Epot= -5.41963e+05 Fmax= 4.53187e+04, atom= 3836\n",
      "Step=   67, Dmax= 4.6e-02 nm, Epot= -5.44028e+05 Fmax= 1.56351e+04, atom= 3836\n",
      "Step=   69, Dmax= 2.8e-02 nm, Epot= -5.44468e+05 Fmax= 2.04465e+04, atom= 3836\n",
      "Step=   70, Dmax= 3.3e-02 nm, Epot= -5.44909e+05 Fmax= 2.32635e+04, atom= 3836\n",
      "Step=   71, Dmax= 4.0e-02 nm, Epot= -5.45210e+05 Fmax= 2.86185e+04, atom= 3836\n",
      "Step=   72, Dmax= 4.8e-02 nm, Epot= -5.45458e+05 Fmax= 3.44867e+04, atom= 3836\n",
      "Step=   73, Dmax= 5.7e-02 nm, Epot= -5.45581e+05 Fmax= 4.00248e+04, atom= 3836\n",
      "Step=   75, Dmax= 3.4e-02 nm, Epot= -5.47219e+05 Fmax= 4.64350e+03, atom= 3836\n",
      "Step=   76, Dmax= 4.1e-02 nm, Epot= -5.47625e+05 Fmax= 5.03313e+04, atom= 3836\n",
      "Step=   77, Dmax= 5.0e-02 nm, Epot= -5.49973e+05 Fmax= 1.53642e+04, atom= 3836\n",
      "Step=   79, Dmax= 3.0e-02 nm, Epot= -5.50242e+05 Fmax= 2.32841e+04, atom= 3836\n",
      "Step=   80, Dmax= 3.6e-02 nm, Epot= -5.50653e+05 Fmax= 2.36799e+04, atom= 3836\n",
      "Step=   81, Dmax= 4.3e-02 nm, Epot= -5.50733e+05 Fmax= 3.20175e+04, atom= 3836\n",
      "Step=   82, Dmax= 5.1e-02 nm, Epot= -5.50981e+05 Fmax= 3.57597e+04, atom= 3836\n",
      "Step=   84, Dmax= 3.1e-02 nm, Epot= -5.52206e+05 Fmax= 5.00147e+03, atom= 3836\n",
      "Step=   85, Dmax= 3.7e-02 nm, Epot= -5.52701e+05 Fmax= 4.29947e+04, atom= 3836\n",
      "Step=   86, Dmax= 4.4e-02 nm, Epot= -5.54145e+05 Fmax= 1.53290e+04, atom= 3836\n",
      "Step=   88, Dmax= 2.7e-02 nm, Epot= -5.54441e+05 Fmax= 1.98480e+04, atom= 3836\n",
      "Step=   89, Dmax= 3.2e-02 nm, Epot= -5.54743e+05 Fmax= 2.18448e+04, atom= 3836\n",
      "Step=   90, Dmax= 3.8e-02 nm, Epot= -5.54895e+05 Fmax= 2.87358e+04, atom= 3836\n",
      "Step=   91, Dmax= 4.6e-02 nm, Epot= -5.55122e+05 Fmax= 3.12240e+04, atom= 3836\n",
      "Step=   93, Dmax= 2.8e-02 nm, Epot= -5.56055e+05 Fmax= 4.67977e+03, atom= 3836\n",
      "Step=   94, Dmax= 3.3e-02 nm, Epot= -5.56417e+05 Fmax= 3.90441e+04, atom= 3836\n",
      "Step=   95, Dmax= 4.0e-02 nm, Epot= -5.57702e+05 Fmax= 1.32627e+04, atom= 3836\n",
      "Step=   97, Dmax= 2.4e-02 nm, Epot= -5.57963e+05 Fmax= 1.78862e+04, atom= 3836\n",
      "Step=   98, Dmax= 2.9e-02 nm, Epot= -5.58243e+05 Fmax= 1.97604e+04, atom= 3836\n",
      "Step=   99, Dmax= 3.4e-02 nm, Epot= -5.58406e+05 Fmax= 2.50475e+04, atom= 3836\n",
      "Step=  100, Dmax= 4.1e-02 nm, Epot= -5.58579e+05 Fmax= 2.92779e+04, atom= 3836\n",
      "Step=  101, Dmax= 4.9e-02 nm, Epot= -5.58603e+05 Fmax= 3.50929e+04, atom= 3836\n",
      "Step=  103, Dmax= 3.0e-02 nm, Epot= -5.59700e+05 Fmax= 3.44696e+03, atom= 3836\n",
      "Step=  104, Dmax= 3.6e-02 nm, Epot= -5.60134e+05 Fmax= 4.41114e+04, atom= 3836\n",
      "Step=  105, Dmax= 4.3e-02 nm, Epot= -5.61737e+05 Fmax= 1.23442e+04, atom= 3836\n",
      "Step=  107, Dmax= 2.6e-02 nm, Epot= -5.61888e+05 Fmax= 2.09182e+04, atom= 3836\n",
      "Step=  108, Dmax= 3.1e-02 nm, Epot= -5.62195e+05 Fmax= 1.95754e+04, atom= 3836\n",
      "Step=  110, Dmax= 1.8e-02 nm, Epot= -5.62625e+05 Fmax= 4.73889e+03, atom= 3836\n",
      "Step=  111, Dmax= 2.2e-02 nm, Epot= -5.63020e+05 Fmax= 2.43307e+04, atom= 3836\n",
      "Step=  112, Dmax= 2.7e-02 nm, Epot= -5.63547e+05 Fmax= 1.05734e+04, atom= 3836\n",
      "Step=  114, Dmax= 1.6e-02 nm, Epot= -5.63802e+05 Fmax= 1.03433e+04, atom= 3836\n",
      "Step=  115, Dmax= 1.9e-02 nm, Epot= -5.64027e+05 Fmax= 1.47041e+04, atom= 3836\n",
      "Step=  116, Dmax= 2.3e-02 nm, Epot= -5.64267e+05 Fmax= 1.54879e+04, atom= 3836\n",
      "Step=  117, Dmax= 2.8e-02 nm, Epot= -5.64419e+05 Fmax= 2.05151e+04, atom= 3836\n",
      "Step=  118, Dmax= 3.3e-02 nm, Epot= -5.64605e+05 Fmax= 2.30408e+04, atom= 3836\n",
      "Step=  119, Dmax= 4.0e-02 nm, Epot= -5.64651e+05 Fmax= 2.87056e+04, atom= 3836\n",
      "Step=  120, Dmax= 4.8e-02 nm, Epot= -5.64689e+05 Fmax= 3.41481e+04, atom= 3836\n"
     ]
    },
    {
     "name": "stdout",
     "output_type": "stream",
     "text": [
      "Step=  122, Dmax= 2.9e-02 nm, Epot= -5.65637e+05 Fmax= 3.67431e+03, atom= 3836\n",
      "Step=  123, Dmax= 3.4e-02 nm, Epot= -5.65957e+05 Fmax= 4.06718e+04, atom= 3836\n",
      "Step=  124, Dmax= 4.1e-02 nm, Epot= -5.67088e+05 Fmax= 1.34488e+04, atom= 3836\n",
      "Step=  126, Dmax= 2.5e-02 nm, Epot= -5.67228e+05 Fmax= 1.92734e+04, atom= 3836\n",
      "Step=  127, Dmax= 3.0e-02 nm, Epot= -5.67438e+05 Fmax= 1.94258e+04, atom= 3836\n",
      "Step=  128, Dmax= 3.6e-02 nm, Epot= -5.67446e+05 Fmax= 2.75030e+04, atom= 3836\n",
      "Step=  129, Dmax= 4.3e-02 nm, Epot= -5.67621e+05 Fmax= 2.81829e+04, atom= 3836\n",
      "Step=  131, Dmax= 2.6e-02 nm, Epot= -5.68289e+05 Fmax= 5.14561e+03, atom= 3836\n",
      "Step=  133, Dmax= 1.5e-02 nm, Epot= -5.68560e+05 Fmax= 1.52207e+04, atom= 3836\n",
      "Step=  134, Dmax= 1.8e-02 nm, Epot= -5.68833e+05 Fmax= 8.94020e+03, atom= 3836\n",
      "Step=  135, Dmax= 2.2e-02 nm, Epot= -5.68944e+05 Fmax= 1.99473e+04, atom= 3836\n",
      "Step=  136, Dmax= 2.7e-02 nm, Epot= -5.69249e+05 Fmax= 1.48990e+04, atom= 3836\n",
      "Step=  138, Dmax= 1.6e-02 nm, Epot= -5.69520e+05 Fmax= 6.05753e+03, atom= 3836\n",
      "Step=  139, Dmax= 1.9e-02 nm, Epot= -5.69714e+05 Fmax= 1.90286e+04, atom= 3836\n",
      "Step=  140, Dmax= 2.3e-02 nm, Epot= -5.70033e+05 Fmax= 1.10609e+04, atom= 3836\n",
      "Step=  142, Dmax= 1.4e-02 nm, Epot= -5.70245e+05 Fmax= 6.94892e+03, atom= 3836\n",
      "Step=  143, Dmax= 1.7e-02 nm, Epot= -5.70434e+05 Fmax= 1.46772e+04, atom= 3836\n",
      "Step=  144, Dmax= 2.0e-02 nm, Epot= -5.70667e+05 Fmax= 1.13312e+04, atom= 3836\n",
      "Step=  145, Dmax= 2.4e-02 nm, Epot= -5.70749e+05 Fmax= 1.97236e+04, atom= 3836\n",
      "Step=  146, Dmax= 2.9e-02 nm, Epot= -5.70984e+05 Fmax= 1.77897e+04, atom= 3836\n",
      "Step=  148, Dmax= 1.7e-02 nm, Epot= -5.71305e+05 Fmax= 4.76283e+03, atom= 3836\n",
      "Step=  149, Dmax= 2.1e-02 nm, Epot= -5.71519e+05 Fmax= 2.21970e+04, atom= 3836\n",
      "Step=  150, Dmax= 2.5e-02 nm, Epot= -5.71913e+05 Fmax= 1.01737e+04, atom= 3836\n",
      "Step=  152, Dmax= 1.5e-02 nm, Epot= -5.72100e+05 Fmax= 9.22371e+03, atom= 3836\n",
      "Step=  153, Dmax= 1.8e-02 nm, Epot= -5.72253e+05 Fmax= 1.40121e+04, atom= 3836\n",
      "Step=  154, Dmax= 2.1e-02 nm, Epot= -5.72435e+05 Fmax= 1.39815e+04, atom= 3836\n",
      "Step=  155, Dmax= 2.6e-02 nm, Epot= -5.72522e+05 Fmax= 1.94185e+04, atom= 3836\n",
      "Step=  156, Dmax= 3.1e-02 nm, Epot= -5.72670e+05 Fmax= 2.09571e+04, atom= 3836\n",
      "Step=  158, Dmax= 1.8e-02 nm, Epot= -5.73059e+05 Fmax= 3.31999e+03, atom= 3836\n",
      "Step=  159, Dmax= 2.2e-02 nm, Epot= -5.73398e+05 Fmax= 2.55639e+04, atom= 3836\n",
      "Step=  160, Dmax= 2.6e-02 nm, Epot= -5.73884e+05 Fmax= 9.25320e+03, atom= 3836\n",
      "Step=  162, Dmax= 1.6e-02 nm, Epot= -5.74042e+05 Fmax= 1.16720e+04, atom= 3836\n",
      "Step=  163, Dmax= 1.9e-02 nm, Epot= -5.74193e+05 Fmax= 1.33018e+04, atom= 3836\n",
      "Step=  164, Dmax= 2.3e-02 nm, Epot= -5.74313e+05 Fmax= 1.68377e+04, atom= 3836\n",
      "Step=  165, Dmax= 2.7e-02 nm, Epot= -5.74431e+05 Fmax= 1.90882e+04, atom= 3836\n",
      "Step=  166, Dmax= 3.3e-02 nm, Epot= -5.74471e+05 Fmax= 2.43720e+04, atom= 3836\n",
      "Step=  167, Dmax= 4.0e-02 nm, Epot= -5.74531e+05 Fmax= 2.72710e+04, atom= 3836\n",
      "Step=  169, Dmax= 2.4e-02 nm, Epot= -5.75119e+05 Fmax= 3.64041e+03, atom= 3836\n",
      "Step=  170, Dmax= 2.8e-02 nm, Epot= -5.75149e+05 Fmax= 3.39651e+04, atom= 3836\n",
      "Step=  171, Dmax= 3.4e-02 nm, Epot= -5.75972e+05 Fmax= 1.09593e+04, atom= 3836\n",
      "Step=  173, Dmax= 2.1e-02 nm, Epot= -5.76072e+05 Fmax= 1.58185e+04, atom= 3836\n",
      "Step=  174, Dmax= 2.5e-02 nm, Epot= -5.76217e+05 Fmax= 1.65575e+04, atom= 3836\n",
      "Step=  175, Dmax= 3.0e-02 nm, Epot= -5.76248e+05 Fmax= 2.20136e+04, atom= 3836\n",
      "Step=  176, Dmax= 3.5e-02 nm, Epot= -5.76334e+05 Fmax= 2.46691e+04, atom= 3836\n",
      "Step=  178, Dmax= 2.1e-02 nm, Epot= -5.76814e+05 Fmax= 3.41397e+03, atom= 3836\n",
      "Step=  179, Dmax= 2.6e-02 nm, Epot= -5.76977e+05 Fmax= 2.98823e+04, atom= 3836\n",
      "Step=  180, Dmax= 3.1e-02 nm, Epot= -5.77578e+05 Fmax= 1.03673e+04, atom= 3836\n",
      "Step=  182, Dmax= 1.8e-02 nm, Epot= -5.77692e+05 Fmax= 1.38464e+04, atom= 3836\n",
      "Step=  183, Dmax= 2.2e-02 nm, Epot= -5.77817e+05 Fmax= 1.50022e+04, atom= 3836\n",
      "Step=  184, Dmax= 2.6e-02 nm, Epot= -5.77874e+05 Fmax= 1.98437e+04, atom= 3836\n",
      "Step=  185, Dmax= 3.2e-02 nm, Epot= -5.77967e+05 Fmax= 2.16564e+04, atom= 3836\n",
      "Step=  187, Dmax= 1.9e-02 nm, Epot= -5.78354e+05 Fmax= 3.18434e+03, atom= 3836\n",
      "Step=  188, Dmax= 2.3e-02 nm, Epot= -5.78525e+05 Fmax= 2.69396e+04, atom= 3836\n",
      "Step=  189, Dmax= 2.7e-02 nm, Epot= -5.79054e+05 Fmax= 9.06584e+03, atom= 3836\n",
      "Step=  191, Dmax= 1.6e-02 nm, Epot= -5.79166e+05 Fmax= 1.24653e+04, atom= 3836\n",
      "Step=  192, Dmax= 2.0e-02 nm, Epot= -5.79289e+05 Fmax= 1.34997e+04, atom= 3836\n",
      "Step=  193, Dmax= 2.4e-02 nm, Epot= -5.79359e+05 Fmax= 1.74945e+04, atom= 3836\n",
      "Step=  194, Dmax= 2.8e-02 nm, Epot= -5.79445e+05 Fmax= 1.99406e+04, atom= 3836\n",
      "Step=  195, Dmax= 3.4e-02 nm, Epot= -5.79447e+05 Fmax= 2.46224e+04, atom= 3836\n",
      "Step=  197, Dmax= 2.0e-02 nm, Epot= -5.79921e+05 Fmax= 2.05113e+03, atom= 3836\n",
      "Step=  198, Dmax= 2.5e-02 nm, Epot= -5.80295e+05 Fmax= 3.06803e+04, atom= 3836\n",
      "Step=  199, Dmax= 2.9e-02 nm, Epot= -5.80976e+05 Fmax= 8.13078e+03, atom= 3836\n",
      "Step=  201, Dmax= 1.8e-02 nm, Epot= -5.81049e+05 Fmax= 1.48472e+04, atom= 3836\n",
      "Step=  202, Dmax= 2.1e-02 nm, Epot= -5.81199e+05 Fmax= 1.30782e+04, atom= 3836\n",
      "Step=  204, Dmax= 1.3e-02 nm, Epot= -5.81382e+05 Fmax= 3.68365e+03, atom= 3836\n",
      "Step=  205, Dmax= 1.5e-02 nm, Epot= -5.81547e+05 Fmax= 1.64124e+04, atom= 3836\n",
      "Step=  206, Dmax= 1.8e-02 nm, Epot= -5.81772e+05 Fmax= 7.68095e+03, atom= 3836\n",
      "Step=  208, Dmax= 1.1e-02 nm, Epot= -5.81893e+05 Fmax= 6.75137e+03, atom= 3836\n",
      "Step=  209, Dmax= 1.3e-02 nm, Epot= -5.82002e+05 Fmax= 1.05587e+04, atom= 3836\n",
      "Step=  210, Dmax= 1.6e-02 nm, Epot= -5.82124e+05 Fmax= 1.02610e+04, atom= 3836\n",
      "Step=  211, Dmax= 1.9e-02 nm, Epot= -5.82194e+05 Fmax= 1.46282e+04, atom= 3836\n",
      "Step=  212, Dmax= 2.3e-02 nm, Epot= -5.82302e+05 Fmax= 1.53889e+04, atom= 3836\n",
      "Step=  213, Dmax= 2.7e-02 nm, Epot= -5.82315e+05 Fmax= 2.04039e+04, atom= 3836\n",
      "Step=  214, Dmax= 3.3e-02 nm, Epot= -5.82375e+05 Fmax= 2.28815e+04, atom= 3836\n",
      "Step=  216, Dmax= 2.0e-02 nm, Epot= -5.82773e+05 Fmax= 3.15556e+03, atom= 3836\n",
      "Step=  217, Dmax= 2.4e-02 nm, Epot= -5.82853e+05 Fmax= 2.77561e+04, atom= 3836\n",
      "Step=  218, Dmax= 2.8e-02 nm, Epot= -5.83357e+05 Fmax= 9.57195e+03, atom= 3836\n",
      "Step=  220, Dmax= 1.7e-02 nm, Epot= -5.83441e+05 Fmax= 1.28767e+04, atom= 3836\n",
      "Step=  221, Dmax= 2.0e-02 nm, Epot= -5.83536e+05 Fmax= 1.38871e+04, atom= 3836\n",
      "Step=  222, Dmax= 2.5e-02 nm, Epot= -5.83572e+05 Fmax= 1.84197e+04, atom= 3836\n",
      "Step=  223, Dmax= 2.9e-02 nm, Epot= -5.83640e+05 Fmax= 2.00838e+04, atom= 3836\n",
      "Step=  225, Dmax= 1.8e-02 nm, Epot= -5.83963e+05 Fmax= 2.96277e+03, atom= 3836\n",
      "Step=  226, Dmax= 2.1e-02 nm, Epot= -5.84062e+05 Fmax= 2.49626e+04, atom= 3836\n",
      "Step=  227, Dmax= 2.5e-02 nm, Epot= -5.84503e+05 Fmax= 8.41659e+03, atom= 3836\n",
      "Step=  229, Dmax= 1.5e-02 nm, Epot= -5.84587e+05 Fmax= 1.15584e+04, atom= 3836\n",
      "Step=  230, Dmax= 1.8e-02 nm, Epot= -5.84683e+05 Fmax= 1.25155e+04, atom= 3836\n",
      "Step=  231, Dmax= 2.2e-02 nm, Epot= -5.84732e+05 Fmax= 1.62389e+04, atom= 3836\n",
      "Step=  232, Dmax= 2.6e-02 nm, Epot= -5.84796e+05 Fmax= 1.84663e+04, atom= 3836\n",
      "Step=  234, Dmax= 1.6e-02 nm, Epot= -5.85071e+05 Fmax= 2.40803e+03, atom= 3836\n",
      "Step=  235, Dmax= 1.9e-02 nm, Epot= -5.85291e+05 Fmax= 2.23796e+04, atom= 3836\n",
      "Step=  236, Dmax= 2.3e-02 nm, Epot= -5.85638e+05 Fmax= 7.56453e+03, atom= 3836\n",
      "Step=  238, Dmax= 1.4e-02 nm, Epot= -5.85725e+05 Fmax= 1.04383e+04, atom= 3836\n",
      "Step=  239, Dmax= 1.6e-02 nm, Epot= -5.85819e+05 Fmax= 1.10551e+04, atom= 3836\n",
      "Step=  240, Dmax= 2.0e-02 nm, Epot= -5.85874e+05 Fmax= 1.48531e+04, atom= 3836\n",
      "Step=  241, Dmax= 2.4e-02 nm, Epot= -5.85950e+05 Fmax= 1.60738e+04, atom= 3836\n",
      "Step=  243, Dmax= 1.4e-02 nm, Epot= -5.86171e+05 Fmax= 2.44223e+03, atom= 3836\n",
      "Step=  244, Dmax= 1.7e-02 nm, Epot= -5.86362e+05 Fmax= 1.99549e+04, atom= 3836\n",
      "Step=  245, Dmax= 2.0e-02 nm, Epot= -5.86659e+05 Fmax= 6.82572e+03, atom= 3836\n",
      "Step=  247, Dmax= 1.2e-02 nm, Epot= -5.86747e+05 Fmax= 9.21879e+03, atom= 3836\n",
      "Step=  248, Dmax= 1.5e-02 nm, Epot= -5.86837e+05 Fmax= 1.00942e+04, atom= 3836\n",
      "Step=  249, Dmax= 1.8e-02 nm, Epot= -5.86902e+05 Fmax= 1.30008e+04, atom= 3836\n",
      "Step=  250, Dmax= 2.1e-02 nm, Epot= -5.86972e+05 Fmax= 1.48362e+04, atom= 3836\n",
      "Step=  251, Dmax= 2.5e-02 nm, Epot= -5.86999e+05 Fmax= 1.83815e+04, atom= 3836\n",
      "Step=  252, Dmax= 3.0e-02 nm, Epot= -5.87019e+05 Fmax= 2.17553e+04, atom= 3836\n",
      "Step=  254, Dmax= 1.8e-02 nm, Epot= -5.87369e+05 Fmax= 2.39096e+03, atom= 3836\n"
     ]
    },
    {
     "name": "stdout",
     "output_type": "stream",
     "text": [
      "Step=  255, Dmax= 2.2e-02 nm, Epot= -5.87504e+05 Fmax= 2.61856e+04, atom= 3836\n",
      "Step=  256, Dmax= 2.6e-02 nm, Epot= -5.87946e+05 Fmax= 8.42481e+03, atom= 3836\n",
      "Step=  258, Dmax= 1.6e-02 nm, Epot= -5.88006e+05 Fmax= 1.24272e+04, atom= 3836\n",
      "Step=  259, Dmax= 1.9e-02 nm, Epot= -5.88095e+05 Fmax= 1.24001e+04, atom= 3836\n",
      "Step=  260, Dmax= 2.3e-02 nm, Epot= -5.88107e+05 Fmax= 1.75645e+04, atom= 3836\n",
      "Step=  261, Dmax= 2.7e-02 nm, Epot= -5.88180e+05 Fmax= 1.81645e+04, atom= 3836\n",
      "Step=  263, Dmax= 1.6e-02 nm, Epot= -5.88440e+05 Fmax= 3.22146e+03, atom= 3836\n",
      "Step=  264, Dmax= 2.0e-02 nm, Epot= -5.88467e+05 Fmax= 2.26237e+04, atom= 3836\n",
      "Step=  265, Dmax= 2.4e-02 nm, Epot= -5.88818e+05 Fmax= 8.31480e+03, atom= 3836\n",
      "Step=  267, Dmax= 1.4e-02 nm, Epot= -5.88892e+05 Fmax= 1.02357e+04, atom= 3836\n",
      "Step=  268, Dmax= 1.7e-02 nm, Epot= -5.88961e+05 Fmax= 1.20832e+04, atom= 3836\n",
      "Step=  269, Dmax= 2.0e-02 nm, Epot= -5.89012e+05 Fmax= 1.46017e+04, atom= 3836\n",
      "Step=  270, Dmax= 2.4e-02 nm, Epot= -5.89048e+05 Fmax= 1.75780e+04, atom= 3836\n",
      "Step=  271, Dmax= 2.9e-02 nm, Epot= -5.89058e+05 Fmax= 2.07935e+04, atom= 3836\n",
      "Step=  273, Dmax= 1.8e-02 nm, Epot= -5.89383e+05 Fmax= 2.16863e+03, atom= 3836\n",
      "Step=  274, Dmax= 2.1e-02 nm, Epot= -5.89489e+05 Fmax= 2.58135e+04, atom= 3836\n",
      "Step=  275, Dmax= 2.5e-02 nm, Epot= -5.89947e+05 Fmax= 7.48594e+03, atom= 3836\n",
      "Step=  277, Dmax= 1.5e-02 nm, Epot= -5.89994e+05 Fmax= 1.23676e+04, atom= 3836\n",
      "Step=  278, Dmax= 1.8e-02 nm, Epot= -5.90086e+05 Fmax= 1.16304e+04, atom= 3836\n",
      "Step=  279, Dmax= 2.2e-02 nm, Epot= -5.90087e+05 Fmax= 1.70167e+04, atom= 3836\n",
      "Step=  280, Dmax= 2.6e-02 nm, Epot= -5.90161e+05 Fmax= 1.75646e+04, atom= 3836\n",
      "Step=  282, Dmax= 1.6e-02 nm, Epot= -5.90399e+05 Fmax= 3.23378e+03, atom= 3836\n",
      "Step=  283, Dmax= 1.9e-02 nm, Epot= -5.90426e+05 Fmax= 2.15646e+04, atom= 3836\n",
      "Step=  284, Dmax= 2.3e-02 nm, Epot= -5.90730e+05 Fmax= 8.28976e+03, atom= 3836\n",
      "Step=  286, Dmax= 1.4e-02 nm, Epot= -5.90801e+05 Fmax= 9.61075e+03, atom= 3836\n",
      "Step=  287, Dmax= 1.6e-02 nm, Epot= -5.90859e+05 Fmax= 1.18181e+04, atom= 3836\n",
      "Step=  288, Dmax= 2.0e-02 nm, Epot= -5.90911e+05 Fmax= 1.39846e+04, atom= 3836\n",
      "Step=  289, Dmax= 2.4e-02 nm, Epot= -5.90940e+05 Fmax= 1.68358e+04, atom= 3836\n",
      "Step=  290, Dmax= 2.8e-02 nm, Epot= -5.90947e+05 Fmax= 2.03686e+04, atom= 3836\n",
      "Step=  292, Dmax= 1.7e-02 nm, Epot= -5.91251e+05 Fmax= 2.01788e+03, atom= 3836\n",
      "Step=  293, Dmax= 2.0e-02 nm, Epot= -5.91400e+05 Fmax= 2.44243e+04, atom= 3836\n",
      "Step=  294, Dmax= 2.4e-02 nm, Epot= -5.91782e+05 Fmax= 7.66399e+03, atom= 3836\n",
      "Step=  296, Dmax= 1.5e-02 nm, Epot= -5.91829e+05 Fmax= 1.16777e+04, atom= 3836\n",
      "Step=  297, Dmax= 1.8e-02 nm, Epot= -5.91908e+05 Fmax= 1.13515e+04, atom= 3836\n",
      "Step=  298, Dmax= 2.1e-02 nm, Epot= -5.91913e+05 Fmax= 1.64283e+04, atom= 3836\n",
      "Step=  299, Dmax= 2.5e-02 nm, Epot= -5.91980e+05 Fmax= 1.67170e+04, atom= 3836\n",
      "Step=  301, Dmax= 1.5e-02 nm, Epot= -5.92198e+05 Fmax= 3.12133e+03, atom= 3836\n",
      "Step=  302, Dmax= 1.8e-02 nm, Epot= -5.92210e+05 Fmax= 2.08401e+04, atom= 3836\n",
      "Step=  303, Dmax= 2.2e-02 nm, Epot= -5.92503e+05 Fmax= 7.84356e+03, atom= 3836\n",
      "Step=  305, Dmax= 1.3e-02 nm, Epot= -5.92567e+05 Fmax= 9.36750e+03, atom= 3836\n",
      "Step=  306, Dmax= 1.6e-02 nm, Epot= -5.92623e+05 Fmax= 1.13235e+04, atom= 3836\n",
      "Step=  307, Dmax= 1.9e-02 nm, Epot= -5.92669e+05 Fmax= 1.34317e+04, atom= 3836\n",
      "Step=  308, Dmax= 2.3e-02 nm, Epot= -5.92696e+05 Fmax= 1.64010e+04, atom= 3836\n",
      "Step=  309, Dmax= 2.7e-02 nm, Epot= -5.92708e+05 Fmax= 1.91980e+04, atom= 3836\n",
      "Step=  311, Dmax= 1.6e-02 nm, Epot= -5.92983e+05 Fmax= 2.10375e+03, atom= 3836\n",
      "Step=  312, Dmax= 2.0e-02 nm, Epot= -5.93056e+05 Fmax= 2.38184e+04, atom= 3836\n",
      "Step=  313, Dmax= 2.3e-02 nm, Epot= -5.93441e+05 Fmax= 7.04612e+03, atom= 3836\n",
      "Step=  315, Dmax= 1.4e-02 nm, Epot= -5.93482e+05 Fmax= 1.13840e+04, atom= 3836\n",
      "Step=  316, Dmax= 1.7e-02 nm, Epot= -5.93559e+05 Fmax= 1.08637e+04, atom= 3836\n",
      "Step=  317, Dmax= 2.0e-02 nm, Epot= -5.93562e+05 Fmax= 1.57138e+04, atom= 3836\n",
      "Step=  318, Dmax= 2.4e-02 nm, Epot= -5.93623e+05 Fmax= 1.63458e+04, atom= 3836\n",
      "Step=  320, Dmax= 1.5e-02 nm, Epot= -5.93827e+05 Fmax= 2.93696e+03, atom= 3836\n",
      "Step=  321, Dmax= 1.8e-02 nm, Epot= -5.93854e+05 Fmax= 2.00500e+04, atom= 3836\n",
      "Step=  322, Dmax= 2.1e-02 nm, Epot= -5.94116e+05 Fmax= 7.63358e+03, atom= 3836\n",
      "Step=  324, Dmax= 1.3e-02 nm, Epot= -5.94177e+05 Fmax= 8.96420e+03, atom= 3836\n",
      "Step=  325, Dmax= 1.5e-02 nm, Epot= -5.94227e+05 Fmax= 1.09123e+04, atom= 3836\n",
      "Step=  326, Dmax= 1.8e-02 nm, Epot= -5.94271e+05 Fmax= 1.30100e+04, atom= 3836\n",
      "Step=  327, Dmax= 2.2e-02 nm, Epot= -5.94297e+05 Fmax= 1.55797e+04, atom= 3836\n",
      "Step=  328, Dmax= 2.6e-02 nm, Epot= -5.94302e+05 Fmax= 1.89101e+04, atom= 3836\n",
      "Step=  330, Dmax= 1.6e-02 nm, Epot= -5.94562e+05 Fmax= 1.84214e+03, atom= 3836\n",
      "Step=  331, Dmax= 1.9e-02 nm, Epot= -5.94697e+05 Fmax= 2.26804e+04, atom= 3836\n",
      "Step=  332, Dmax= 2.3e-02 nm, Epot= -5.95025e+05 Fmax= 7.07232e+03, atom= 3836\n",
      "Step=  334, Dmax= 1.4e-02 nm, Epot= -5.95066e+05 Fmax= 1.08551e+04, atom= 3836\n",
      "Step=  335, Dmax= 1.6e-02 nm, Epot= -5.95134e+05 Fmax= 1.05053e+04, atom= 3836\n",
      "Step=  336, Dmax= 2.0e-02 nm, Epot= -5.95139e+05 Fmax= 1.52471e+04, atom= 3836\n",
      "Step=  337, Dmax= 2.3e-02 nm, Epot= -5.95197e+05 Fmax= 1.54972e+04, atom= 3836\n",
      "Step=  339, Dmax= 1.4e-02 nm, Epot= -5.95383e+05 Fmax= 2.90472e+03, atom= 3836\n",
      "Step=  340, Dmax= 1.7e-02 nm, Epot= -5.95396e+05 Fmax= 1.93161e+04, atom= 3836\n",
      "Step=  341, Dmax= 2.0e-02 nm, Epot= -5.95646e+05 Fmax= 7.28010e+03, atom= 3836\n",
      "Step=  343, Dmax= 1.2e-02 nm, Epot= -5.95702e+05 Fmax= 8.68274e+03, atom= 3836\n",
      "Step=  344, Dmax= 1.5e-02 nm, Epot= -5.95751e+05 Fmax= 1.05009e+04, atom= 3836\n",
      "Step=  345, Dmax= 1.8e-02 nm, Epot= -5.95791e+05 Fmax= 1.24604e+04, atom= 3836\n",
      "Step=  346, Dmax= 2.1e-02 nm, Epot= -5.95814e+05 Fmax= 1.51969e+04, atom= 3836\n",
      "Step=  347, Dmax= 2.5e-02 nm, Epot= -5.95825e+05 Fmax= 1.78248e+04, atom= 3836\n",
      "Step=  349, Dmax= 1.5e-02 nm, Epot= -5.96061e+05 Fmax= 1.93596e+03, atom= 3836\n",
      "Step=  350, Dmax= 1.8e-02 nm, Epot= -5.96132e+05 Fmax= 2.20961e+04, atom= 3836\n",
      "Step=  351, Dmax= 2.2e-02 nm, Epot= -5.96461e+05 Fmax= 6.51949e+03, atom= 3836\n",
      "Step=  353, Dmax= 1.3e-02 nm, Epot= -5.96497e+05 Fmax= 1.05773e+04, atom= 3836\n",
      "Step=  354, Dmax= 1.6e-02 nm, Epot= -5.96565e+05 Fmax= 1.00495e+04, atom= 3836\n",
      "Step=  355, Dmax= 1.9e-02 nm, Epot= -5.96568e+05 Fmax= 1.46034e+04, atom= 3836\n",
      "Step=  356, Dmax= 2.3e-02 nm, Epot= -5.96622e+05 Fmax= 1.51187e+04, atom= 3836\n",
      "Step=  358, Dmax= 1.4e-02 nm, Epot= -5.96797e+05 Fmax= 2.75725e+03, atom= 3836\n",
      "Step=  359, Dmax= 1.6e-02 nm, Epot= -5.96821e+05 Fmax= 1.85606e+04, atom= 3836\n",
      "Step=  360, Dmax= 2.0e-02 nm, Epot= -5.97044e+05 Fmax= 7.10874e+03, atom= 3836\n",
      "Step=  362, Dmax= 1.2e-02 nm, Epot= -5.97098e+05 Fmax= 8.27868e+03, atom= 3836\n",
      "Step=  363, Dmax= 1.4e-02 nm, Epot= -5.97143e+05 Fmax= 1.01564e+04, atom= 3836\n",
      "Step=  364, Dmax= 1.7e-02 nm, Epot= -5.97182e+05 Fmax= 1.20218e+04, atom= 3836\n",
      "Step=  365, Dmax= 2.0e-02 nm, Epot= -5.97204e+05 Fmax= 1.44959e+04, atom= 3836\n",
      "Step=  366, Dmax= 2.4e-02 nm, Epot= -5.97212e+05 Fmax= 1.74773e+04, atom= 3836\n",
      "Step=  368, Dmax= 1.5e-02 nm, Epot= -5.97434e+05 Fmax= 1.75888e+03, atom= 3836\n",
      "Step=  369, Dmax= 1.7e-02 nm, Epot= -5.97547e+05 Fmax= 2.10040e+04, atom= 3836\n",
      "Step=  370, Dmax= 2.1e-02 nm, Epot= -5.97829e+05 Fmax= 6.58450e+03, atom= 3836\n",
      "Step=  372, Dmax= 1.3e-02 nm, Epot= -5.97866e+05 Fmax= 1.00255e+04, atom= 3836\n",
      "Step=  373, Dmax= 1.5e-02 nm, Epot= -5.97925e+05 Fmax= 9.78626e+03, atom= 3836\n",
      "Step=  374, Dmax= 1.8e-02 nm, Epot= -5.97931e+05 Fmax= 1.40847e+04, atom= 3836\n",
      "Step=  375, Dmax= 2.2e-02 nm, Epot= -5.97981e+05 Fmax= 1.44299e+04, atom= 3836\n",
      "Step=  377, Dmax= 1.3e-02 nm, Epot= -5.98143e+05 Fmax= 2.63834e+03, atom= 3836\n",
      "Step=  378, Dmax= 1.6e-02 nm, Epot= -5.98163e+05 Fmax= 1.79720e+04, atom= 3836\n",
      "Step=  379, Dmax= 1.9e-02 nm, Epot= -5.98380e+05 Fmax= 6.68989e+03, atom= 3836\n",
      "Step=  381, Dmax= 1.1e-02 nm, Epot= -5.98429e+05 Fmax= 8.11274e+03, atom= 3836\n",
      "Step=  382, Dmax= 1.4e-02 nm, Epot= -5.98473e+05 Fmax= 9.67364e+03, atom= 3836\n",
      "Step=  383, Dmax= 1.6e-02 nm, Epot= -5.98508e+05 Fmax= 1.16215e+04, atom= 3836\n",
      "Step=  384, Dmax= 1.9e-02 nm, Epot= -5.98532e+05 Fmax= 1.40187e+04, atom= 3836\n",
      "Step=  385, Dmax= 2.3e-02 nm, Epot= -5.98540e+05 Fmax= 1.66096e+04, atom= 3836\n"
     ]
    },
    {
     "name": "stdout",
     "output_type": "stream",
     "text": [
      "Step=  387, Dmax= 1.4e-02 nm, Epot= -5.98746e+05 Fmax= 1.72035e+03, atom= 3836\n",
      "Step=  388, Dmax= 1.7e-02 nm, Epot= -5.98830e+05 Fmax= 2.05704e+04, atom= 3836\n",
      "Step=  389, Dmax= 2.0e-02 nm, Epot= -5.99116e+05 Fmax= 5.96400e+03, atom= 3836\n",
      "Step=  391, Dmax= 1.2e-02 nm, Epot= -5.99149e+05 Fmax= 9.88977e+03, atom= 3836\n",
      "Step=  392, Dmax= 1.5e-02 nm, Epot= -5.99210e+05 Fmax= 9.23443e+03, atom= 3836\n",
      "Step=  393, Dmax= 1.7e-02 nm, Epot= -5.99213e+05 Fmax= 1.36305e+04, atom= 3836\n",
      "Step=  394, Dmax= 2.1e-02 nm, Epot= -5.99264e+05 Fmax= 1.39245e+04, atom= 3836\n",
      "Step=  396, Dmax= 1.3e-02 nm, Epot= -5.99413e+05 Fmax= 2.64651e+03, atom= 3836\n",
      "Step=  397, Dmax= 1.5e-02 nm, Epot= -5.99437e+05 Fmax= 1.71272e+04, atom= 3836\n",
      "Step=  398, Dmax= 1.8e-02 nm, Epot= -5.99628e+05 Fmax= 6.67384e+03, atom= 3836\n",
      "Step=  400, Dmax= 1.1e-02 nm, Epot= -5.99677e+05 Fmax= 7.59050e+03, atom= 3836\n",
      "Step=  401, Dmax= 1.3e-02 nm, Epot= -5.99716e+05 Fmax= 9.50676e+03, atom= 3836\n",
      "Step=  402, Dmax= 1.6e-02 nm, Epot= -5.99754e+05 Fmax= 1.10540e+04, atom= 3836\n",
      "Step=  403, Dmax= 1.9e-02 nm, Epot= -5.99773e+05 Fmax= 1.35397e+04, atom= 3836\n",
      "Step=  404, Dmax= 2.3e-02 nm, Epot= -5.99785e+05 Fmax= 1.60999e+04, atom= 3836\n",
      "Step=  406, Dmax= 1.4e-02 nm, Epot= -5.99975e+05 Fmax= 1.73022e+03, atom= 3836\n",
      "Step=  407, Dmax= 1.6e-02 nm, Epot= -6.00068e+05 Fmax= 1.94065e+04, atom= 3836\n",
      "Step=  408, Dmax= 1.9e-02 nm, Epot= -6.00310e+05 Fmax= 6.17574e+03, atom= 3836\n",
      "Step=  410, Dmax= 1.2e-02 nm, Epot= -6.00345e+05 Fmax= 9.21124e+03, atom= 3836\n",
      "Step=  411, Dmax= 1.4e-02 nm, Epot= -6.00397e+05 Fmax= 9.16328e+03, atom= 3836\n",
      "Step=  412, Dmax= 1.7e-02 nm, Epot= -6.00407e+05 Fmax= 1.29636e+04, atom= 3836\n",
      "Step=  413, Dmax= 2.0e-02 nm, Epot= -6.00449e+05 Fmax= 1.34813e+04, atom= 3836\n",
      "Step=  415, Dmax= 1.2e-02 nm, Epot= -6.00591e+05 Fmax= 2.34859e+03, atom= 3836\n",
      "Step=  416, Dmax= 1.5e-02 nm, Epot= -6.00623e+05 Fmax= 1.67698e+04, atom= 3836\n",
      "Step=  417, Dmax= 1.7e-02 nm, Epot= -6.00814e+05 Fmax= 6.09830e+03, atom= 3836\n",
      "Step=  419, Dmax= 1.0e-02 nm, Epot= -6.00857e+05 Fmax= 7.62712e+03, atom= 3836\n",
      "Step=  420, Dmax= 1.3e-02 nm, Epot= -6.00899e+05 Fmax= 8.86370e+03, atom= 3836\n",
      "Step=  421, Dmax= 1.5e-02 nm, Epot= -6.00930e+05 Fmax= 1.08846e+04, atom= 3836\n",
      "Step=  422, Dmax= 1.8e-02 nm, Epot= -6.00956e+05 Fmax= 1.28850e+04, atom= 3836\n",
      "Step=  423, Dmax= 2.2e-02 nm, Epot= -6.00962e+05 Fmax= 1.55211e+04, atom= 3836\n",
      "Step=  425, Dmax= 1.3e-02 nm, Epot= -6.01141e+05 Fmax= 1.48090e+03, atom= 3836\n",
      "Step=  426, Dmax= 1.6e-02 nm, Epot= -6.01251e+05 Fmax= 1.92027e+04, atom= 3836\n",
      "Step=  427, Dmax= 1.9e-02 nm, Epot= -6.01501e+05 Fmax= 5.40358e+03, atom= 3836\n",
      "Step=  429, Dmax= 1.1e-02 nm, Epot= -6.01532e+05 Fmax= 9.29320e+03, atom= 3836\n",
      "Step=  430, Dmax= 1.3e-02 nm, Epot= -6.01589e+05 Fmax= 8.43817e+03, atom= 3836\n",
      "Step=  431, Dmax= 1.6e-02 nm, Epot= -6.01592e+05 Fmax= 1.27668e+04, atom= 3836\n",
      "Step=  432, Dmax= 1.9e-02 nm, Epot= -6.01641e+05 Fmax= 1.27788e+04, atom= 3836\n",
      "Step=  434, Dmax= 1.2e-02 nm, Epot= -6.01769e+05 Fmax= 2.58186e+03, atom= 3836\n",
      "Step=  435, Dmax= 1.4e-02 nm, Epot= -6.01791e+05 Fmax= 1.57609e+04, atom= 3836\n",
      "Step=  436, Dmax= 1.7e-02 nm, Epot= -6.01954e+05 Fmax= 6.30700e+03, atom= 3836\n",
      "Step=  438, Dmax= 1.0e-02 nm, Epot= -6.02000e+05 Fmax= 6.91593e+03, atom= 3836\n",
      "Step=  439, Dmax= 1.2e-02 nm, Epot= -6.02035e+05 Fmax= 8.94000e+03, atom= 3836\n",
      "Step=  440, Dmax= 1.4e-02 nm, Epot= -6.02072e+05 Fmax= 1.01209e+04, atom= 3836\n",
      "Step=  441, Dmax= 1.7e-02 nm, Epot= -6.02088e+05 Fmax= 1.26873e+04, atom= 3836\n",
      "Step=  442, Dmax= 2.1e-02 nm, Epot= -6.02105e+05 Fmax= 1.47886e+04, atom= 3836\n",
      "Step=  444, Dmax= 1.3e-02 nm, Epot= -6.02266e+05 Fmax= 1.73813e+03, atom= 3836\n",
      "Step=  445, Dmax= 1.5e-02 nm, Epot= -6.02340e+05 Fmax= 1.78892e+04, atom= 3836\n",
      "Step=  446, Dmax= 1.8e-02 nm, Epot= -6.02547e+05 Fmax= 5.83204e+03, atom= 3836\n",
      "Step=  448, Dmax= 1.1e-02 nm, Epot= -6.02581e+05 Fmax= 8.42219e+03, atom= 3836\n",
      "Step=  449, Dmax= 1.3e-02 nm, Epot= -6.02626e+05 Fmax= 8.61839e+03, atom= 3836\n",
      "Step=  450, Dmax= 1.6e-02 nm, Epot= -6.02640e+05 Fmax= 1.18912e+04, atom= 3836\n",
      "Step=  451, Dmax= 1.9e-02 nm, Epot= -6.02675e+05 Fmax= 1.26328e+04, atom= 3836\n",
      "Step=  453, Dmax= 1.1e-02 nm, Epot= -6.02801e+05 Fmax= 2.04831e+03, atom= 3836\n",
      "Step=  454, Dmax= 1.3e-02 nm, Epot= -6.02847e+05 Fmax= 1.56888e+04, atom= 3836\n",
      "Step=  455, Dmax= 1.6e-02 nm, Epot= -6.03015e+05 Fmax= 5.51650e+03, atom= 3836\n",
      "Step=  457, Dmax= 9.7e-03 nm, Epot= -6.03054e+05 Fmax= 7.20865e+03, atom= 3836\n",
      "Step=  458, Dmax= 1.2e-02 nm, Epot= -6.03095e+05 Fmax= 8.08077e+03, atom= 3836\n",
      "Step=  459, Dmax= 1.4e-02 nm, Epot= -6.03121e+05 Fmax= 1.02320e+04, atom= 3836\n",
      "Step=  460, Dmax= 1.7e-02 nm, Epot= -6.03149e+05 Fmax= 1.18037e+04, atom= 3836\n",
      "Step=  461, Dmax= 2.0e-02 nm, Epot= -6.03153e+05 Fmax= 1.45397e+04, atom= 3836\n",
      "Step=  463, Dmax= 1.2e-02 nm, Epot= -6.03311e+05 Fmax= 1.22950e+03, atom= 3836\n",
      "Step=  464, Dmax= 1.4e-02 nm, Epot= -6.03454e+05 Fmax= 1.79737e+04, atom= 3836\n",
      "Step=  465, Dmax= 1.7e-02 nm, Epot= -6.03675e+05 Fmax= 4.84731e+03, atom= 3836\n",
      "Step=  467, Dmax= 1.0e-02 nm, Epot= -6.03704e+05 Fmax= 8.77161e+03, atom= 3836\n",
      "Step=  468, Dmax= 1.3e-02 nm, Epot= -6.03757e+05 Fmax= 7.66837e+03, atom= 3836\n",
      "Step=  469, Dmax= 1.5e-02 nm, Epot= -6.03759e+05 Fmax= 1.19955e+04, atom= 3836\n",
      "Step=  470, Dmax= 1.8e-02 nm, Epot= -6.03808e+05 Fmax= 1.16873e+04, atom= 3836\n",
      "Step=  472, Dmax= 1.1e-02 nm, Epot= -6.03916e+05 Fmax= 2.55119e+03, atom= 3836\n",
      "Step=  473, Dmax= 1.3e-02 nm, Epot= -6.03937e+05 Fmax= 1.44648e+04, atom= 3836\n",
      "Step=  474, Dmax= 1.6e-02 nm, Epot= -6.04075e+05 Fmax= 5.99598e+03, atom= 3836\n",
      "Step=  476, Dmax= 9.3e-03 nm, Epot= -6.04118e+05 Fmax= 6.26169e+03, atom= 3836\n",
      "Step=  477, Dmax= 1.1e-02 nm, Epot= -6.04149e+05 Fmax= 8.44240e+03, atom= 3836\n",
      "Step=  478, Dmax= 1.3e-02 nm, Epot= -6.04186e+05 Fmax= 9.22814e+03, atom= 3836\n",
      "Step=  479, Dmax= 1.6e-02 nm, Epot= -6.04198e+05 Fmax= 1.19230e+04, atom= 3836\n",
      "Step=  480, Dmax= 1.9e-02 nm, Epot= -6.04219e+05 Fmax= 1.35475e+04, atom= 3836\n",
      "Step=  482, Dmax= 1.2e-02 nm, Epot= -6.04357e+05 Fmax= 1.77109e+03, atom= 3836\n",
      "Step=  483, Dmax= 1.4e-02 nm, Epot= -6.04413e+05 Fmax= 1.64533e+04, atom= 3836\n",
      "Step=  484, Dmax= 1.7e-02 nm, Epot= -6.04590e+05 Fmax= 5.54190e+03, atom= 3836\n",
      "Step=  486, Dmax= 1.0e-02 nm, Epot= -6.04623e+05 Fmax= 7.66357e+03, atom= 3836\n",
      "Step=  487, Dmax= 1.2e-02 nm, Epot= -6.04662e+05 Fmax= 8.13949e+03, atom= 3836\n",
      "Step=  488, Dmax= 1.4e-02 nm, Epot= -6.04679e+05 Fmax= 1.08716e+04, atom= 3836\n",
      "Step=  489, Dmax= 1.7e-02 nm, Epot= -6.04708e+05 Fmax= 1.18703e+04, atom= 3836\n",
      "Step=  491, Dmax= 1.0e-02 nm, Epot= -6.04819e+05 Fmax= 1.74455e+03, atom= 3836\n",
      "Step=  492, Dmax= 1.2e-02 nm, Epot= -6.04881e+05 Fmax= 1.47140e+04, atom= 3836\n",
      "Step=  493, Dmax= 1.5e-02 nm, Epot= -6.05031e+05 Fmax= 4.94983e+03, atom= 3836\n",
      "Step=  495, Dmax= 9.0e-03 nm, Epot= -6.05066e+05 Fmax= 6.84630e+03, atom= 3836\n",
      "Step=  496, Dmax= 1.1e-02 nm, Epot= -6.05105e+05 Fmax= 7.32986e+03, atom= 3836\n",
      "Step=  497, Dmax= 1.3e-02 nm, Epot= -6.05127e+05 Fmax= 9.65109e+03, atom= 3836\n",
      "Step=  498, Dmax= 1.6e-02 nm, Epot= -6.05158e+05 Fmax= 1.07771e+04, atom= 3836\n",
      "Step=  499, Dmax= 1.9e-02 nm, Epot= -6.05159e+05 Fmax= 1.36526e+04, atom= 3836\n",
      "Step=  500, Dmax= 2.2e-02 nm, Epot= -6.05165e+05 Fmax= 1.57923e+04, atom= 3836\n",
      "Step=  502, Dmax= 1.3e-02 nm, Epot= -6.05342e+05 Fmax= 1.91835e+03, atom= 3836\n",
      "Step=  503, Dmax= 1.6e-02 nm, Epot= -6.05344e+05 Fmax= 1.91292e+04, atom= 3836\n",
      "Step=  504, Dmax= 1.9e-02 nm, Epot= -6.05571e+05 Fmax= 6.28988e+03, atom= 3836\n",
      "Step=  506, Dmax= 1.2e-02 nm, Epot= -6.05595e+05 Fmax= 8.98335e+03, atom= 3836\n",
      "Step=  507, Dmax= 1.4e-02 nm, Epot= -6.05632e+05 Fmax= 9.27166e+03, atom= 3836\n",
      "Step=  508, Dmax= 1.7e-02 nm, Epot= -6.05633e+05 Fmax= 1.27061e+04, atom= 3836\n",
      "Step=  509, Dmax= 2.0e-02 nm, Epot= -6.05659e+05 Fmax= 1.35642e+04, atom= 3836\n",
      "Step=  511, Dmax= 1.2e-02 nm, Epot= -6.05796e+05 Fmax= 2.16085e+03, atom= 3836\n",
      "Step=  513, Dmax= 7.2e-03 nm, Epot= -6.05852e+05 Fmax= 7.37924e+03, atom= 3836\n",
      "Step=  514, Dmax= 8.7e-03 nm, Epot= -6.05907e+05 Fmax= 3.98037e+03, atom= 3836\n",
      "Step=  515, Dmax= 1.0e-02 nm, Epot= -6.05926e+05 Fmax= 9.64445e+03, atom= 3836\n",
      "Step=  516, Dmax= 1.2e-02 nm, Epot= -6.05990e+05 Fmax= 6.72137e+03, atom= 3836\n",
      "Step=  518, Dmax= 7.5e-03 nm, Epot= -6.06041e+05 Fmax= 3.12191e+03, atom= 3836\n"
     ]
    },
    {
     "name": "stdout",
     "output_type": "stream",
     "text": [
      "Step=  519, Dmax= 9.0e-03 nm, Epot= -6.06075e+05 Fmax= 8.66015e+03, atom= 3836\n",
      "Step=  520, Dmax= 1.1e-02 nm, Epot= -6.06136e+05 Fmax= 5.49397e+03, atom= 3836\n",
      "Step=  522, Dmax= 6.5e-03 nm, Epot= -6.06179e+05 Fmax= 2.97673e+03, atom= 3836\n",
      "Step=  523, Dmax= 7.8e-03 nm, Epot= -6.06219e+05 Fmax= 7.21464e+03, atom= 3836\n",
      "Step=  524, Dmax= 9.3e-03 nm, Epot= -6.06269e+05 Fmax= 4.99997e+03, atom= 3836\n",
      "Step=  525, Dmax= 1.1e-02 nm, Epot= -6.06283e+05 Fmax= 9.64595e+03, atom= 3836\n",
      "Step=  526, Dmax= 1.3e-02 nm, Epot= -6.06338e+05 Fmax= 7.95658e+03, atom= 3836\n",
      "Step=  528, Dmax= 8.0e-03 nm, Epot= -6.06399e+05 Fmax= 2.62787e+03, atom= 3836\n",
      "Step=  529, Dmax= 9.6e-03 nm, Epot= -6.06434e+05 Fmax= 1.00359e+04, atom= 3836\n",
      "Step=  530, Dmax= 1.2e-02 nm, Epot= -6.06509e+05 Fmax= 5.18267e+03, atom= 3836\n",
      "Step=  532, Dmax= 6.9e-03 nm, Epot= -6.06550e+05 Fmax= 3.92820e+03, atom= 3836\n",
      "Step=  533, Dmax= 8.3e-03 nm, Epot= -6.06583e+05 Fmax= 7.02022e+03, atom= 3836\n",
      "Step=  534, Dmax= 1.0e-02 nm, Epot= -6.06626e+05 Fmax= 6.11597e+03, atom= 3836\n",
      "Step=  535, Dmax= 1.2e-02 nm, Epot= -6.06641e+05 Fmax= 9.62819e+03, atom= 3836\n",
      "Step=  536, Dmax= 1.4e-02 nm, Epot= -6.06682e+05 Fmax= 9.30347e+03, atom= 3836\n",
      "Step=  538, Dmax= 8.6e-03 nm, Epot= -6.06757e+05 Fmax= 2.07972e+03, atom= 3836\n",
      "Step=  539, Dmax= 1.0e-02 nm, Epot= -6.06802e+05 Fmax= 1.15215e+04, atom= 3836\n",
      "Step=  540, Dmax= 1.2e-02 nm, Epot= -6.06897e+05 Fmax= 4.84104e+03, atom= 3836\n",
      "Step=  542, Dmax= 7.5e-03 nm, Epot= -6.06935e+05 Fmax= 4.96073e+03, atom= 3836\n",
      "Step=  543, Dmax= 9.0e-03 nm, Epot= -6.06966e+05 Fmax= 6.80470e+03, atom= 3836\n",
      "Step=  544, Dmax= 1.1e-02 nm, Epot= -6.07000e+05 Fmax= 7.32354e+03, atom= 3836\n",
      "Step=  545, Dmax= 1.3e-02 nm, Epot= -6.07019e+05 Fmax= 9.60269e+03, atom= 3836\n",
      "Step=  546, Dmax= 1.5e-02 nm, Epot= -6.07045e+05 Fmax= 1.07589e+04, atom= 3836\n",
      "Step=  548, Dmax= 9.3e-03 nm, Epot= -6.07137e+05 Fmax= 1.48438e+03, atom= 3836\n",
      "Step=  549, Dmax= 1.1e-02 nm, Epot= -6.07217e+05 Fmax= 1.31000e+04, atom= 3836\n",
      "Step=  550, Dmax= 1.3e-02 nm, Epot= -6.07334e+05 Fmax= 4.48954e+03, atom= 3836\n",
      "Step=  552, Dmax= 8.0e-03 nm, Epot= -6.07368e+05 Fmax= 6.06382e+03, atom= 3836\n",
      "Step=  553, Dmax= 9.6e-03 nm, Epot= -6.07402e+05 Fmax= 6.58082e+03, atom= 3836\n",
      "Step=  554, Dmax= 1.2e-02 nm, Epot= -6.07426e+05 Fmax= 8.61707e+03, atom= 3836\n",
      "Step=  555, Dmax= 1.4e-02 nm, Epot= -6.07453e+05 Fmax= 9.58020e+03, atom= 3836\n",
      "Step=  556, Dmax= 1.7e-02 nm, Epot= -6.07458e+05 Fmax= 1.23210e+04, atom= 3836\n",
      "Step=  557, Dmax= 2.0e-02 nm, Epot= -6.07470e+05 Fmax= 1.38586e+04, atom= 3836\n",
      "Step=  559, Dmax= 1.2e-02 nm, Epot= -6.07610e+05 Fmax= 1.81372e+03, atom= 3836\n",
      "Step=  560, Dmax= 1.4e-02 nm, Epot= -6.07615e+05 Fmax= 1.71499e+04, atom= 3836\n",
      "Step=  561, Dmax= 1.7e-02 nm, Epot= -6.07807e+05 Fmax= 5.50060e+03, atom= 3836\n",
      "Step=  563, Dmax= 1.0e-02 nm, Epot= -6.07830e+05 Fmax= 8.07081e+03, atom= 3836\n",
      "Step=  564, Dmax= 1.2e-02 nm, Epot= -6.07864e+05 Fmax= 8.26087e+03, atom= 3836\n",
      "Step=  565, Dmax= 1.5e-02 nm, Epot= -6.07869e+05 Fmax= 1.12850e+04, atom= 3836\n",
      "Step=  566, Dmax= 1.8e-02 nm, Epot= -6.07893e+05 Fmax= 1.22477e+04, atom= 3836\n",
      "Step=  568, Dmax= 1.1e-02 nm, Epot= -6.08006e+05 Fmax= 1.90300e+03, atom= 3836\n",
      "Step=  569, Dmax= 1.3e-02 nm, Epot= -6.08028e+05 Fmax= 1.49680e+04, atom= 3836\n",
      "Step=  570, Dmax= 1.5e-02 nm, Epot= -6.08173e+05 Fmax= 5.35987e+03, atom= 3836\n",
      "Step=  572, Dmax= 9.3e-03 nm, Epot= -6.08202e+05 Fmax= 6.83172e+03, atom= 3836\n",
      "Step=  573, Dmax= 1.1e-02 nm, Epot= -6.08231e+05 Fmax= 7.77563e+03, atom= 3836\n",
      "Step=  574, Dmax= 1.3e-02 nm, Epot= -6.08249e+05 Fmax= 9.78679e+03, atom= 3836\n",
      "Step=  575, Dmax= 1.6e-02 nm, Epot= -6.08267e+05 Fmax= 1.12318e+04, atom= 3836\n",
      "Step=  577, Dmax= 9.6e-03 nm, Epot= -6.08366e+05 Fmax= 1.35191e+03, atom= 3836\n",
      "Step=  578, Dmax= 1.2e-02 nm, Epot= -6.08441e+05 Fmax= 1.38826e+04, atom= 3836\n",
      "Step=  579, Dmax= 1.4e-02 nm, Epot= -6.08575e+05 Fmax= 4.29328e+03, atom= 3836\n",
      "Step=  581, Dmax= 8.3e-03 nm, Epot= -6.08603e+05 Fmax= 6.60106e+03, atom= 3836\n",
      "Step=  582, Dmax= 1.0e-02 nm, Epot= -6.08638e+05 Fmax= 6.49912e+03, atom= 3836\n",
      "Step=  583, Dmax= 1.2e-02 nm, Epot= -6.08654e+05 Fmax= 9.19305e+03, atom= 3836\n",
      "Step=  584, Dmax= 1.4e-02 nm, Epot= -6.08683e+05 Fmax= 9.68170e+03, atom= 3836\n",
      "Step=  586, Dmax= 8.6e-03 nm, Epot= -6.08761e+05 Fmax= 1.66614e+03, atom= 3836\n",
      "Step=  587, Dmax= 1.0e-02 nm, Epot= -6.08815e+05 Fmax= 1.18767e+04, atom= 3836\n",
      "Step=  588, Dmax= 1.2e-02 nm, Epot= -6.08914e+05 Fmax= 4.43272e+03, atom= 3836\n",
      "Step=  590, Dmax= 7.4e-03 nm, Epot= -6.08946e+05 Fmax= 5.34320e+03, atom= 3836\n",
      "Step=  591, Dmax= 8.9e-03 nm, Epot= -6.08975e+05 Fmax= 6.38279e+03, atom= 3836\n",
      "Step=  592, Dmax= 1.1e-02 nm, Epot= -6.09002e+05 Fmax= 7.70312e+03, atom= 3836\n",
      "Step=  593, Dmax= 1.3e-02 nm, Epot= -6.09024e+05 Fmax= 9.16980e+03, atom= 3836\n",
      "Step=  594, Dmax= 1.5e-02 nm, Epot= -6.09036e+05 Fmax= 1.11299e+04, atom= 3836\n",
      "Step=  595, Dmax= 1.9e-02 nm, Epot= -6.09042e+05 Fmax= 1.31451e+04, atom= 3836\n",
      "Step=  597, Dmax= 1.1e-02 nm, Epot= -6.09168e+05 Fmax= 1.38819e+03, atom= 3836\n",
      "Step=  598, Dmax= 1.3e-02 nm, Epot= -6.09214e+05 Fmax= 1.62309e+04, atom= 3836\n",
      "Step=  599, Dmax= 1.6e-02 nm, Epot= -6.09389e+05 Fmax= 4.77705e+03, atom= 3836\n",
      "Step=  601, Dmax= 9.6e-03 nm, Epot= -6.09410e+05 Fmax= 7.79418e+03, atom= 3836\n",
      "Step=  602, Dmax= 1.2e-02 nm, Epot= -6.09446e+05 Fmax= 7.34762e+03, atom= 3836\n",
      "Step=  603, Dmax= 1.4e-02 nm, Epot= -6.09448e+05 Fmax= 1.07742e+04, atom= 3836\n",
      "Step=  604, Dmax= 1.7e-02 nm, Epot= -6.09478e+05 Fmax= 1.10401e+04, atom= 3836\n",
      "Step=  606, Dmax= 1.0e-02 nm, Epot= -6.09572e+05 Fmax= 2.07504e+03, atom= 3836\n",
      "Step=  607, Dmax= 1.2e-02 nm, Epot= -6.09584e+05 Fmax= 1.35884e+04, atom= 3836\n",
      "Step=  608, Dmax= 1.4e-02 nm, Epot= -6.09704e+05 Fmax= 5.25855e+03, atom= 3836\n",
      "Step=  610, Dmax= 8.6e-03 nm, Epot= -6.09734e+05 Fmax= 6.03725e+03, atom= 3836\n",
      "Step=  611, Dmax= 1.0e-02 nm, Epot= -6.09758e+05 Fmax= 7.50843e+03, atom= 3836\n",
      "Step=  612, Dmax= 1.2e-02 nm, Epot= -6.09781e+05 Fmax= 8.77000e+03, atom= 3836\n",
      "Step=  613, Dmax= 1.5e-02 nm, Epot= -6.09793e+05 Fmax= 1.07188e+04, atom= 3836\n",
      "Step=  614, Dmax= 1.8e-02 nm, Epot= -6.09800e+05 Fmax= 1.27424e+04, atom= 3836\n",
      "Step=  616, Dmax= 1.1e-02 nm, Epot= -6.09918e+05 Fmax= 1.36598e+03, atom= 3836\n",
      "Step=  617, Dmax= 1.3e-02 nm, Epot= -6.09973e+05 Fmax= 1.53969e+04, atom= 3836\n",
      "Step=  618, Dmax= 1.5e-02 nm, Epot= -6.10125e+05 Fmax= 4.85976e+03, atom= 3836\n",
      "Step=  620, Dmax= 9.2e-03 nm, Epot= -6.10147e+05 Fmax= 7.31472e+03, atom= 3836\n",
      "Step=  621, Dmax= 1.1e-02 nm, Epot= -6.10179e+05 Fmax= 7.24327e+03, atom= 3836\n",
      "Step=  622, Dmax= 1.3e-02 nm, Epot= -6.10185e+05 Fmax= 1.02703e+04, atom= 3836\n",
      "Step=  623, Dmax= 1.6e-02 nm, Epot= -6.10211e+05 Fmax= 1.06837e+04, atom= 3836\n",
      "Step=  625, Dmax= 9.6e-03 nm, Epot= -6.10300e+05 Fmax= 1.86303e+03, atom= 3836\n",
      "Step=  626, Dmax= 1.2e-02 nm, Epot= -6.10319e+05 Fmax= 1.32737e+04, atom= 3836\n",
      "Step=  627, Dmax= 1.4e-02 nm, Epot= -6.10438e+05 Fmax= 4.83715e+03, atom= 3836\n",
      "Step=  629, Dmax= 8.3e-03 nm, Epot= -6.10465e+05 Fmax= 6.03604e+03, atom= 3836\n",
      "Step=  630, Dmax= 9.9e-03 nm, Epot= -6.10491e+05 Fmax= 7.02091e+03, atom= 3836\n",
      "Step=  631, Dmax= 1.2e-02 nm, Epot= -6.10510e+05 Fmax= 8.62566e+03, atom= 3836\n",
      "Step=  632, Dmax= 1.4e-02 nm, Epot= -6.10526e+05 Fmax= 1.01910e+04, atom= 3836\n",
      "Step=  633, Dmax= 1.7e-02 nm, Epot= -6.10530e+05 Fmax= 1.23201e+04, atom= 3836\n",
      "Step=  635, Dmax= 1.0e-02 nm, Epot= -6.10642e+05 Fmax= 1.15753e+03, atom= 3836\n",
      "Step=  636, Dmax= 1.2e-02 nm, Epot= -6.10714e+05 Fmax= 1.51992e+04, atom= 3836\n",
      "Step=  637, Dmax= 1.5e-02 nm, Epot= -6.10870e+05 Fmax= 4.28242e+03, atom= 3836\n",
      "Step=  639, Dmax= 8.9e-03 nm, Epot= -6.10889e+05 Fmax= 7.36878e+03, atom= 3836\n",
      "Step=  640, Dmax= 1.1e-02 nm, Epot= -6.10924e+05 Fmax= 6.66963e+03, atom= 3836\n",
      "Step=  641, Dmax= 1.3e-02 nm, Epot= -6.10925e+05 Fmax= 1.01342e+04, atom= 3836\n",
      "Step=  642, Dmax= 1.5e-02 nm, Epot= -6.10957e+05 Fmax= 1.00889e+04, atom= 3836\n",
      "Step=  644, Dmax= 9.2e-03 nm, Epot= -6.11037e+05 Fmax= 2.06804e+03, atom= 3836\n",
      "Step=  645, Dmax= 1.1e-02 nm, Epot= -6.11050e+05 Fmax= 1.24617e+04, atom= 3836\n",
      "Step=  646, Dmax= 1.3e-02 nm, Epot= -6.11152e+05 Fmax= 5.01223e+03, atom= 3836\n",
      "Step=  648, Dmax= 8.0e-03 nm, Epot= -6.11181e+05 Fmax= 5.45834e+03, atom= 3836\n",
      "Step=  649, Dmax= 9.6e-03 nm, Epot= -6.11203e+05 Fmax= 7.10283e+03, atom= 3836\n"
     ]
    },
    {
     "name": "stdout",
     "output_type": "stream",
     "text": [
      "Step=  650, Dmax= 1.1e-02 nm, Epot= -6.11227e+05 Fmax= 7.98780e+03, atom= 3836\n",
      "Step=  651, Dmax= 1.4e-02 nm, Epot= -6.11237e+05 Fmax= 1.00842e+04, atom= 3836\n",
      "Step=  652, Dmax= 1.7e-02 nm, Epot= -6.11248e+05 Fmax= 1.16643e+04, atom= 3836\n",
      "Step=  654, Dmax= 9.9e-03 nm, Epot= -6.11349e+05 Fmax= 1.41276e+03, atom= 3836\n",
      "Step=  655, Dmax= 1.2e-02 nm, Epot= -6.11392e+05 Fmax= 1.41525e+04, atom= 3836\n",
      "Step=  656, Dmax= 1.4e-02 nm, Epot= -6.11522e+05 Fmax= 4.63033e+03, atom= 3836\n",
      "Step=  658, Dmax= 8.6e-03 nm, Epot= -6.11544e+05 Fmax= 6.64816e+03, atom= 3836\n",
      "Step=  659, Dmax= 1.0e-02 nm, Epot= -6.11573e+05 Fmax= 6.85188e+03, atom= 3836\n",
      "Step=  660, Dmax= 1.2e-02 nm, Epot= -6.11582e+05 Fmax= 9.38210e+03, atom= 3836\n",
      "Step=  661, Dmax= 1.5e-02 nm, Epot= -6.11604e+05 Fmax= 1.00479e+04, atom= 3836\n",
      "Step=  663, Dmax= 8.9e-03 nm, Epot= -6.11683e+05 Fmax= 1.58711e+03, atom= 3836\n",
      "Step=  664, Dmax= 1.1e-02 nm, Epot= -6.11716e+05 Fmax= 1.24556e+04, atom= 3836\n",
      "Step=  665, Dmax= 1.3e-02 nm, Epot= -6.11823e+05 Fmax= 4.33807e+03, atom= 3836\n",
      "Step=  667, Dmax= 7.7e-03 nm, Epot= -6.11848e+05 Fmax= 5.74113e+03, atom= 3836\n",
      "Step=  668, Dmax= 9.2e-03 nm, Epot= -6.11874e+05 Fmax= 6.36514e+03, atom= 3836\n",
      "Step=  669, Dmax= 1.1e-02 nm, Epot= -6.11891e+05 Fmax= 8.14246e+03, atom= 3836\n",
      "Step=  670, Dmax= 1.3e-02 nm, Epot= -6.11909e+05 Fmax= 9.30165e+03, atom= 3836\n",
      "Step=  671, Dmax= 1.6e-02 nm, Epot= -6.11911e+05 Fmax= 1.15724e+04, atom= 3836\n",
      "Step=  672, Dmax= 1.9e-02 nm, Epot= -6.11912e+05 Fmax= 1.35681e+04, atom= 3836\n",
      "Step=  674, Dmax= 1.1e-02 nm, Epot= -6.12042e+05 Fmax= 1.54957e+03, atom= 3836\n",
      "Step=  675, Dmax= 1.4e-02 nm, Epot= -6.12045e+05 Fmax= 1.64307e+04, atom= 3836\n",
      "Step=  676, Dmax= 1.7e-02 nm, Epot= -6.12213e+05 Fmax= 5.27459e+03, atom= 3836\n",
      "Step=  678, Dmax= 9.9e-03 nm, Epot= -6.12228e+05 Fmax= 7.76850e+03, atom= 3836\n",
      "Step=  679, Dmax= 1.2e-02 nm, Epot= -6.12256e+05 Fmax= 7.82641e+03, atom= 3836\n",
      "Step=  681, Dmax= 7.1e-03 nm, Epot= -6.12310e+05 Fmax= 1.51666e+03, atom= 3836\n",
      "Step=  682, Dmax= 8.6e-03 nm, Epot= -6.12357e+05 Fmax= 9.74010e+03, atom= 3836\n",
      "Step=  683, Dmax= 1.0e-02 nm, Epot= -6.12428e+05 Fmax= 3.73403e+03, atom= 3836\n",
      "Step=  685, Dmax= 6.2e-03 nm, Epot= -6.12455e+05 Fmax= 4.36207e+03, atom= 3836\n",
      "Step=  686, Dmax= 7.4e-03 nm, Epot= -6.12481e+05 Fmax= 5.34816e+03, atom= 3836\n",
      "Step=  687, Dmax= 8.9e-03 nm, Epot= -6.12504e+05 Fmax= 6.30038e+03, atom= 3836\n",
      "Step=  688, Dmax= 1.1e-02 nm, Epot= -6.12523e+05 Fmax= 7.69338e+03, atom= 3836\n",
      "Step=  689, Dmax= 1.3e-02 nm, Epot= -6.12539e+05 Fmax= 9.06770e+03, atom= 3836\n",
      "Step=  690, Dmax= 1.5e-02 nm, Epot= -6.12545e+05 Fmax= 1.10989e+04, atom= 3836\n",
      "Step=  691, Dmax= 1.8e-02 nm, Epot= -6.12546e+05 Fmax= 1.30158e+04, atom= 3836\n",
      "Step=  693, Dmax= 1.1e-02 nm, Epot= -6.12667e+05 Fmax= 1.42235e+03, atom= 3836\n",
      "Step=  694, Dmax= 1.3e-02 nm, Epot= -6.12674e+05 Fmax= 1.60647e+04, atom= 3836\n",
      "Step=  695, Dmax= 1.6e-02 nm, Epot= -6.12842e+05 Fmax= 4.80271e+03, atom= 3836\n",
      "Step=  697, Dmax= 9.5e-03 nm, Epot= -6.12855e+05 Fmax= 7.68743e+03, atom= 3836\n",
      "Step=  698, Dmax= 1.1e-02 nm, Epot= -6.12885e+05 Fmax= 7.35484e+03, atom= 3836\n",
      "Step=  700, Dmax= 6.9e-03 nm, Epot= -6.12934e+05 Fmax= 1.68322e+03, atom= 3836\n",
      "Step=  701, Dmax= 8.2e-03 nm, Epot= -6.12972e+05 Fmax= 9.12919e+03, atom= 3836\n",
      "Step=  702, Dmax= 9.9e-03 nm, Epot= -6.13034e+05 Fmax= 3.87004e+03, atom= 3836\n",
      "Step=  704, Dmax= 5.9e-03 nm, Epot= -6.13061e+05 Fmax= 3.91609e+03, atom= 3836\n",
      "Step=  705, Dmax= 7.1e-03 nm, Epot= -6.13085e+05 Fmax= 5.43442e+03, atom= 3836\n",
      "Step=  706, Dmax= 8.5e-03 nm, Epot= -6.13111e+05 Fmax= 5.78801e+03, atom= 3836\n",
      "Step=  707, Dmax= 1.0e-02 nm, Epot= -6.13126e+05 Fmax= 7.66483e+03, atom= 3836\n",
      "Step=  708, Dmax= 1.2e-02 nm, Epot= -6.13147e+05 Fmax= 8.50699e+03, atom= 3836\n",
      "Step=  709, Dmax= 1.5e-02 nm, Epot= -6.13148e+05 Fmax= 1.08494e+04, atom= 3836\n",
      "Step=  710, Dmax= 1.8e-02 nm, Epot= -6.13155e+05 Fmax= 1.24563e+04, atom= 3836\n",
      "Step=  712, Dmax= 1.1e-02 nm, Epot= -6.13265e+05 Fmax= 1.55608e+03, atom= 3836\n",
      "Step=  713, Dmax= 1.3e-02 nm, Epot= -6.13270e+05 Fmax= 1.51345e+04, atom= 3836\n",
      "Step=  714, Dmax= 1.5e-02 nm, Epot= -6.13413e+05 Fmax= 4.99079e+03, atom= 3836\n",
      "Step=  716, Dmax= 9.2e-03 nm, Epot= -6.13430e+05 Fmax= 7.09457e+03, atom= 3836\n",
      "Step=  717, Dmax= 1.1e-02 nm, Epot= -6.13454e+05 Fmax= 7.36655e+03, atom= 3836\n",
      "Step=  718, Dmax= 1.3e-02 nm, Epot= -6.13457e+05 Fmax= 1.00292e+04, atom= 3836\n",
      "Step=  719, Dmax= 1.6e-02 nm, Epot= -6.13474e+05 Fmax= 1.07839e+04, atom= 3836\n",
      "Step=  721, Dmax= 9.5e-03 nm, Epot= -6.13560e+05 Fmax= 1.67923e+03, atom= 3836\n",
      "Step=  722, Dmax= 1.1e-02 nm, Epot= -6.13567e+05 Fmax= 1.33617e+04, atom= 3836\n",
      "Step=  723, Dmax= 1.4e-02 nm, Epot= -6.13685e+05 Fmax= 4.63042e+03, atom= 3836\n",
      "Step=  725, Dmax= 8.2e-03 nm, Epot= -6.13704e+05 Fmax= 6.16533e+03, atom= 3836\n",
      "Step=  726, Dmax= 9.9e-03 nm, Epot= -6.13727e+05 Fmax= 6.80671e+03, atom= 3836\n",
      "Step=  727, Dmax= 1.2e-02 nm, Epot= -6.13738e+05 Fmax= 8.73336e+03, atom= 3836\n",
      "Step=  728, Dmax= 1.4e-02 nm, Epot= -6.13752e+05 Fmax= 9.95835e+03, atom= 3836\n",
      "Step=  730, Dmax= 8.5e-03 nm, Epot= -6.13827e+05 Fmax= 1.27847e+03, atom= 3836\n",
      "Step=  731, Dmax= 1.0e-02 nm, Epot= -6.13874e+05 Fmax= 1.21133e+04, atom= 3836\n",
      "Step=  732, Dmax= 1.2e-02 nm, Epot= -6.13972e+05 Fmax= 4.03318e+03, atom= 3836\n",
      "Step=  734, Dmax= 7.4e-03 nm, Epot= -6.13993e+05 Fmax= 5.65718e+03, atom= 3836\n",
      "Step=  735, Dmax= 8.8e-03 nm, Epot= -6.14017e+05 Fmax= 5.95113e+03, atom= 3836\n",
      "Step=  736, Dmax= 1.1e-02 nm, Epot= -6.14029e+05 Fmax= 8.00096e+03, atom= 3836\n",
      "Step=  737, Dmax= 1.3e-02 nm, Epot= -6.14048e+05 Fmax= 8.70663e+03, atom= 3836\n",
      "Step=  739, Dmax= 7.6e-03 nm, Epot= -6.14109e+05 Fmax= 1.29979e+03, atom= 3836\n",
      "Step=  740, Dmax= 9.2e-03 nm, Epot= -6.14154e+05 Fmax= 1.07747e+04, atom= 3836\n",
      "Step=  741, Dmax= 1.1e-02 nm, Epot= -6.14237e+05 Fmax= 3.66432e+03, atom= 3836\n",
      "Step=  743, Dmax= 6.6e-03 nm, Epot= -6.14259e+05 Fmax= 5.00096e+03, atom= 3836\n",
      "Step=  744, Dmax= 7.9e-03 nm, Epot= -6.14283e+05 Fmax= 5.40608e+03, atom= 3836\n",
      "Step=  745, Dmax= 9.5e-03 nm, Epot= -6.14299e+05 Fmax= 7.06816e+03, atom= 3836\n",
      "Step=  746, Dmax= 1.1e-02 nm, Epot= -6.14318e+05 Fmax= 7.92588e+03, atom= 3836\n",
      "Step=  747, Dmax= 1.4e-02 nm, Epot= -6.14322e+05 Fmax= 1.00242e+04, atom= 3836\n",
      "Step=  748, Dmax= 1.6e-02 nm, Epot= -6.14328e+05 Fmax= 1.15829e+04, atom= 3836\n",
      "Step=  750, Dmax= 9.9e-03 nm, Epot= -6.14425e+05 Fmax= 1.40640e+03, atom= 3836\n",
      "Step=  751, Dmax= 1.2e-02 nm, Epot= -6.14441e+05 Fmax= 1.40700e+04, atom= 3836\n",
      "Step=  752, Dmax= 1.4e-02 nm, Epot= -6.14566e+05 Fmax= 4.58874e+03, atom= 3836\n",
      "Step=  754, Dmax= 8.5e-03 nm, Epot= -6.14582e+05 Fmax= 6.61670e+03, atom= 3836\n",
      "Step=  755, Dmax= 1.0e-02 nm, Epot= -6.14606e+05 Fmax= 6.79293e+03, atom= 3836\n",
      "Step=  756, Dmax= 1.2e-02 nm, Epot= -6.14609e+05 Fmax= 9.33522e+03, atom= 3836\n",
      "Step=  757, Dmax= 1.5e-02 nm, Epot= -6.14627e+05 Fmax= 9.96549e+03, atom= 3836\n",
      "Step=  759, Dmax= 8.8e-03 nm, Epot= -6.14702e+05 Fmax= 1.59364e+03, atom= 3836\n",
      "Step=  760, Dmax= 1.1e-02 nm, Epot= -6.14713e+05 Fmax= 1.23475e+04, atom= 3836\n",
      "Step=  761, Dmax= 1.3e-02 nm, Epot= -6.14815e+05 Fmax= 4.33572e+03, atom= 3836\n",
      "Step=  763, Dmax= 7.6e-03 nm, Epot= -6.14834e+05 Fmax= 5.67570e+03, atom= 3836\n",
      "Step=  764, Dmax= 9.2e-03 nm, Epot= -6.14855e+05 Fmax= 6.35159e+03, atom= 3836\n",
      "Step=  765, Dmax= 1.1e-02 nm, Epot= -6.14866e+05 Fmax= 8.05899e+03, atom= 3836\n",
      "Step=  766, Dmax= 1.3e-02 nm, Epot= -6.14880e+05 Fmax= 9.27105e+03, atom= 3836\n",
      "Step=  768, Dmax= 7.9e-03 nm, Epot= -6.14946e+05 Fmax= 1.14592e+03, atom= 3836\n",
      "Step=  769, Dmax= 9.5e-03 nm, Epot= -6.14999e+05 Fmax= 1.12712e+04, atom= 3836\n",
      "Step=  770, Dmax= 1.1e-02 nm, Epot= -6.15084e+05 Fmax= 3.69861e+03, atom= 3836\n",
      "Step=  772, Dmax= 6.8e-03 nm, Epot= -6.15104e+05 Fmax= 5.28702e+03, atom= 3836\n",
      "Step=  773, Dmax= 8.2e-03 nm, Epot= -6.15128e+05 Fmax= 5.47654e+03, atom= 3836\n",
      "Step=  774, Dmax= 9.8e-03 nm, Epot= -6.15139e+05 Fmax= 7.45947e+03, atom= 3836\n",
      "Step=  775, Dmax= 1.2e-02 nm, Epot= -6.15158e+05 Fmax= 8.03356e+03, atom= 3836\n",
      "Step=  777, Dmax= 7.1e-03 nm, Epot= -6.15211e+05 Fmax= 1.24667e+03, atom= 3836\n",
      "Step=  778, Dmax= 8.5e-03 nm, Epot= -6.15255e+05 Fmax= 9.94354e+03, atom= 3836\n",
      "Step=  779, Dmax= 1.0e-02 nm, Epot= -6.15326e+05 Fmax= 3.44468e+03, atom= 3836\n",
      "Step=  781, Dmax= 6.1e-03 nm, Epot= -6.15348e+05 Fmax= 4.59094e+03, atom= 3836\n"
     ]
    },
    {
     "name": "stdout",
     "output_type": "stream",
     "text": [
      "Step=  782, Dmax= 7.3e-03 nm, Epot= -6.15370e+05 Fmax= 5.05822e+03, atom= 3836\n",
      "Step=  783, Dmax= 8.8e-03 nm, Epot= -6.15385e+05 Fmax= 6.50893e+03, atom= 3836\n",
      "Step=  784, Dmax= 1.1e-02 nm, Epot= -6.15403e+05 Fmax= 7.39323e+03, atom= 3836\n",
      "Step=  785, Dmax= 1.3e-02 nm, Epot= -6.15409e+05 Fmax= 9.25296e+03, atom= 3836\n",
      "Step=  786, Dmax= 1.5e-02 nm, Epot= -6.15415e+05 Fmax= 1.07794e+04, atom= 3836\n",
      "Step=  788, Dmax= 9.1e-03 nm, Epot= -6.15500e+05 Fmax= 1.26175e+03, atom= 3836\n",
      "Step=  789, Dmax= 1.1e-02 nm, Epot= -6.15526e+05 Fmax= 1.30884e+04, atom= 3836\n",
      "Step=  790, Dmax= 1.3e-02 nm, Epot= -6.15637e+05 Fmax= 4.21031e+03, atom= 3836\n",
      "Step=  792, Dmax= 7.9e-03 nm, Epot= -6.15652e+05 Fmax= 6.17991e+03, atom= 3836\n",
      "Step=  793, Dmax= 9.5e-03 nm, Epot= -6.15674e+05 Fmax= 6.25437e+03, atom= 3836\n",
      "Step=  794, Dmax= 1.1e-02 nm, Epot= -6.15679e+05 Fmax= 8.69900e+03, atom= 3836\n",
      "Step=  795, Dmax= 1.4e-02 nm, Epot= -6.15696e+05 Fmax= 9.19884e+03, atom= 3836\n",
      "Step=  797, Dmax= 8.2e-03 nm, Epot= -6.15761e+05 Fmax= 1.52168e+03, atom= 3836\n",
      "Step=  798, Dmax= 9.8e-03 nm, Epot= -6.15776e+05 Fmax= 1.14000e+04, atom= 3836\n",
      "Step=  799, Dmax= 1.2e-02 nm, Epot= -6.15864e+05 Fmax= 4.06909e+03, atom= 3836\n",
      "Step=  801, Dmax= 7.1e-03 nm, Epot= -6.15882e+05 Fmax= 5.21493e+03, atom= 3836\n",
      "Step=  802, Dmax= 8.5e-03 nm, Epot= -6.15902e+05 Fmax= 5.93683e+03, atom= 3836\n",
      "Step=  803, Dmax= 1.0e-02 nm, Epot= -6.15914e+05 Fmax= 7.42628e+03, atom= 3836\n",
      "Step=  804, Dmax= 1.2e-02 nm, Epot= -6.15926e+05 Fmax= 8.64143e+03, atom= 3836\n",
      "Step=  805, Dmax= 1.5e-02 nm, Epot= -6.15927e+05 Fmax= 1.05879e+04, atom= 3836\n",
      "Step=  807, Dmax= 8.8e-03 nm, Epot= -6.16010e+05 Fmax= 9.29121e+02, atom= 3836\n",
      "\n",
      "writing lowest energy coordinates.\n",
      "\n",
      "Steepest Descents converged to Fmax < 1000 in 808 steps\n",
      "Potential Energy  = -6.1600969e+05\n",
      "Maximum force     =  9.2912146e+02 on atom 3836\n",
      "Norm of force     =  2.0158388e+01\n",
      "\n",
      "GROMACS reminds you: \"I Quit My Job Blowing Leaves\" (Beck)\n",
      "\n"
     ]
    }
   ],
   "source": [
    "!gmx mdrun -v -deffnm em"
   ]
  },
  {
   "cell_type": "markdown",
   "metadata": {
    "nbpresent": {
     "id": "65593f21-7e6d-426e-a48e-847cd9faa631"
    }
   },
   "source": [
    "The -v flag is for the impatient: it makes mdrun verbose, such that it prints its progress to the screen at every step. Never use this flag if run in background, on a HPC center or on a local cluster, it prints unnecessary data in the standard output file. \n",
    "The -deffnm flag will define the file names of the input and output. So, if you did not name your grompp output \"em.tpr,\" you will have to explicitly specify its name with the mdrun -s flag."
   ]
  },
  {
   "cell_type": "markdown",
   "metadata": {},
   "source": [
    "*Note: if you do not want to wait, but look at some of the results directly, copy the data from the /reference directory into the current directory. To do this from within this notebook, remove the comment characters (#) in the following cell*  "
   ]
  },
  {
   "cell_type": "code",
   "execution_count": 33,
   "metadata": {},
   "outputs": [],
   "source": [
    "## ONLY execute the lines below if you do not want to run and wait for the simulation to finish\n",
    "#!cp reference/em_charmm.edr em.edr\n",
    "#!cp reference/em_charmm.gro em.gro"
   ]
  },
  {
   "cell_type": "markdown",
   "metadata": {
    "nbpresent": {
     "id": "0274fdde-8eaf-4df7-b0da-f7744035566f"
    }
   },
   "source": [
    "## Determining if the run was successful"
   ]
  },
  {
   "cell_type": "markdown",
   "metadata": {
    "nbpresent": {
     "id": "a1ca837f-1179-4518-a425-cd9ad733cd73"
    }
   },
   "source": [
    "There are two very important factors to evaluate to determine if EM was successful. \n",
    "\n",
    "The first is the potential energy (printed at the end of the EM process, even without -v). Epot should be negative and (for a simple protein in water) on the order of 100000 kJ/mol, depending on the system size and number of water molecules\n",
    "\n",
    "The second important feature is the maximum force, Fmax, the target for which was set in minim.mdp - \"emtol = 1000.0\" - indicating a target Fmax of no greater than 1000 kJ/(mol nm). It is possible to arrive at a reasonable Epot with Fmax > emtol. If this happens, your system may not be stable enough for simulation. Evaluate why it may be happening, and perhaps change your minimization parameters (integrator, emstep, etc).\n",
    "\n"
   ]
  },
  {
   "cell_type": "markdown",
   "metadata": {
    "nbpresent": {
     "id": "08ee3d6c-ad7d-42be-9622-f43d9ab3d1e7"
    }
   },
   "source": [
    "## Analysing the run results"
   ]
  },
  {
   "cell_type": "markdown",
   "metadata": {
    "nbpresent": {
     "id": "e4c99f39-4127-487f-b3fe-fbe5b3595316"
    }
   },
   "source": [
    "Let's do a bit of analysis. The em.edr file contains all of the energy terms that GROMACS collects during EM. You can analyze any .edr file using the GROMACS energy module:"
   ]
  },
  {
   "cell_type": "markdown",
   "metadata": {
    "nbpresent": {
     "id": "4c87141e-8583-497a-8c8c-22ca7e149a3f"
    }
   },
   "source": [
    "To analyse or visualize simulation data in python or jupyter notebooks, we can output a simplified xvg format from gmx-analysis tools with the option `-xvg none`"
   ]
  },
  {
   "cell_type": "code",
   "execution_count": 34,
   "metadata": {
    "nbpresent": {
     "id": "9ebad872-0589-4675-a240-b89c396a35c1"
    },
    "scrolled": true
   },
   "outputs": [
    {
     "name": "stdout",
     "output_type": "stream",
     "text": [
      "                 :-) GROMACS - gmx energy, 2022-conda_forge (-:\n",
      "\n",
      "Executable:   /Users/ethan/anaconda3/envs/md-intro-tutorial/bin.AVX2_256/gmx\n",
      "Data prefix:  /Users/ethan/anaconda3/envs/md-intro-tutorial\n",
      "Working dir:  /Users/ethan/md-intro-tutorial/md-intro-tutorial-main/data\n",
      "Command line:\n",
      "  gmx energy -f em.edr -o potential.xvg -xvg none\n",
      "\n",
      "Opened em.edr as single precision energy file\n",
      "\n",
      "Select the terms you want from the following list by\n",
      "selecting either (part of) the name or the number or a combination.\n",
      "End your selection with an empty line or a zero.\n",
      "-------------------------------------------------------------------\n",
      "  1  Bond             2  U-B              3  Proper-Dih.      4  Improper-Dih. \n",
      "  5  CMAP-Dih.        6  LJ-14            7  Coulomb-14       8  LJ-(SR)       \n",
      "  9  Coulomb-(SR)    10  Coul.-recip.    11  Potential       12  Pressure      \n",
      " 13  Constr.-rmsd    14  Vir-XX          15  Vir-XY          16  Vir-XZ        \n",
      " 17  Vir-YX          18  Vir-YY          19  Vir-YZ          20  Vir-ZX        \n",
      " 21  Vir-ZY          22  Vir-ZZ          23  Pres-XX         24  Pres-XY       \n",
      " 25  Pres-XZ         26  Pres-YX         27  Pres-YY         28  Pres-YZ       \n",
      " 29  Pres-ZX         30  Pres-ZY         31  Pres-ZZ         32  #Surf*SurfTen \n",
      " 33  T-rest        \n",
      "\n",
      "Last energy frame read 639 time  807.000          \n",
      "\n",
      "Statistics over 808 steps [ 0.0000 through 807.0000 ps ], 1 data sets\n",
      "All statistics are over 640 points (frames)\n",
      "\n",
      "Energy                      Average   Err.Est.       RMSD  Tot-Drift\n",
      "-------------------------------------------------------------------------------\n",
      "Potential                   -586816      15000    43416.2    -101331  (kJ/mol)\n",
      "\n",
      "GROMACS reminds you: \"I Quit My Job Blowing Leaves\" (Beck)\n",
      "\n"
     ]
    }
   ],
   "source": [
    "!printf \"Potential\\n0\\n\" | gmx energy -f em.edr -o potential.xvg -xvg none"
   ]
  },
  {
   "cell_type": "markdown",
   "metadata": {
    "nbpresent": {
     "id": "a4591650-99ca-436f-a572-7e254adb454e"
    }
   },
   "source": [
    "You will be shown the average of Epot, and a file called \"potential.xvg\" will be written. To plot this data file, you can use the script below. The resulting plot should show a steady convergence of Epot."
   ]
  },
  {
   "cell_type": "code",
   "execution_count": 35,
   "metadata": {
    "nbpresent": {
     "id": "4ce04079-a188-4372-ac3f-10665cd8b1a5"
    },
    "scrolled": true
   },
   "outputs": [
    {
     "data": {
      "text/plain": [
       "<AxesSubplot:xlabel='time'>"
      ]
     },
     "execution_count": 35,
     "metadata": {},
     "output_type": "execute_result"
    },
    {
     "data": {
      "image/png": "[encoded data removed]",
      "text/plain": [
       "<Figure size 432x288 with 1 Axes>"
      ]
     },
     "metadata": {
      "needs_background": "light"
     },
     "output_type": "display_data"
    }
   ],
   "source": [
    "import pandas as pd\n",
    "df = pd.read_csv('potential.xvg', sep='\\s+', header=None, names=['time','energy'])\n",
    "df.plot('time')"
   ]
  },
  {
   "cell_type": "markdown",
   "metadata": {
    "nbpresent": {
     "id": "ca79195b-10c4-4c90-8d1c-b4706aeba797"
    }
   },
   "source": [
    "In alternative you can plot data file using Xmgrace plotting tool by directly output xvg format from the analysis tools. To use xmgrace from this notebook, remove the comment character (#) in the following cells: "
   ]
  },
  {
   "cell_type": "code",
   "execution_count": 36,
   "metadata": {
    "nbpresent": {
     "id": "1b4235fe-77e5-4874-8519-aaacde0dcacb"
    },
    "scrolled": true
   },
   "outputs": [],
   "source": [
    "#!printf \"Potential\\n0\\n\" | gmx energy -f em.edr -o potential.xvg"
   ]
  },
  {
   "cell_type": "markdown",
   "metadata": {
    "nbpresent": {
     "id": "ca79195b-10c4-4c90-8d1c-b4706aeba797"
    }
   },
   "source": [
    "To plot this data file, now you will need the Xmgrace plotting tool. "
   ]
  },
  {
   "cell_type": "code",
   "execution_count": 37,
   "metadata": {
    "nbpresent": {
     "id": "ecd1a98a-daa7-4f2e-9825-824bee8578ad"
    },
    "scrolled": true
   },
   "outputs": [],
   "source": [
    "#!xmgrace potential.xvg"
   ]
  },
  {
   "cell_type": "markdown",
   "metadata": {
    "nbpresent": {
     "id": "e6db598c-b3ac-4a16-8044-1662a0646b15"
    }
   },
   "source": [
    "Now that our system is at an energy minimum, we can begin real dynamics."
   ]
  },
  {
   "cell_type": "markdown",
   "metadata": {
    "nbpresent": {
     "id": "4c85e968-f181-42fb-a3b3-ab42facdb15a"
    }
   },
   "source": [
    "# Position restraints "
   ]
  },
  {
   "cell_type": "markdown",
   "metadata": {
    "nbpresent": {
     "id": "2b10cf65-f4fd-4244-bb0b-612e4aa3ade8"
    }
   },
   "source": [
    "EM ensured that we have a reasonable starting structure, in terms of geometry and solvent orientation. To begin real dynamics, we must equilibrate the solvent and ions around the protein. If we were to attempt unrestrained dynamics at this point, the system may collapse. The reason is that the solvent is mostly optimized within itself, and not necessarily with the solute, and ions are randomly placed by replacing water molecules."
   ]
  },
  {
   "cell_type": "markdown",
   "metadata": {
    "nbpresent": {
     "id": "2b10cf65-f4fd-4244-bb0b-612e4aa3ade8"
    }
   },
   "source": [
    "Remember that posre.itp file that pdb2gmx generated a long time ago? We're going to use it now. The purpose of posre.itp is to apply a position restraining force on the heavy atoms of the protein (anything that is not a hydrogen). Movement is permitted, but only after overcoming a substantial energy penalty. The utility of position restraints is that they allow us to relax our solvent and ions around our protein, without the added variable of structural changes in the protein. The origin of the position restraints (the coordinates at which the restraint potential is zero) is provided via a coordinate file passed to the -r option of grompp. Depending from the protein and ion types, this process may also be in the order nanoseconds."
   ]
  },
  {
   "cell_type": "markdown",
   "metadata": {
    "nbpresent": {
     "id": "2b10cf65-f4fd-4244-bb0b-612e4aa3ade8"
    }
   },
   "source": [
    "To use position restraints we need to add \\\"define = -DPOSRES\\\" to the simulation parameter file, .mdp, (more details on the simulation parameters below). Have a look at the .mdp file for this run:"
   ]
  },
  {
   "cell_type": "code",
   "execution_count": 38,
   "metadata": {},
   "outputs": [
    {
     "name": "stdout",
     "output_type": "stream",
     "text": [
      "title                   = CHARMM NVT equilibration \r\n",
      "define                  = -DPOSRES  ; position restrain the protein\r\n",
      "\r\n",
      "; Parameters describing what to do, when to stop and what to save\r\n",
      "integrator              = md        ; leap-frog integrator\r\n"
     ]
    }
   ],
   "source": [
    "!head -5 input/nvt-charmm.mdp "
   ]
  },
  {
   "cell_type": "markdown",
   "metadata": {},
   "source": [
    "When using position restraints, a file with restraint coordinates must be supplied with -r to gmx grompp (see below). It can be the same file as supplied for -c. "
   ]
  },
  {
   "cell_type": "markdown",
   "metadata": {
    "nbpresent": {
     "id": "4c85e968-f181-42fb-a3b3-ab42facdb15a"
    }
   },
   "source": [
    "# Equilibration run - temperature"
   ]
  },
  {
   "cell_type": "markdown",
   "metadata": {
    "nbpresent": {
     "id": "2b10cf65-f4fd-4244-bb0b-612e4aa3ade8"
    }
   },
   "source": [
    "EM ensured that we have a reasonable starting structure, in terms of geometry and solvent orientation. Now the system needs to be brought to the temperature we wish to simulate and establish the proper orientation about the solute (the protein). After we arrive at the correct temperature (based on kinetic energies), we will apply pressure to the system until it reaches the proper density."
   ]
  },
  {
   "cell_type": "markdown",
   "metadata": {
    "nbpresent": {
     "id": "2b10cf65-f4fd-4244-bb0b-612e4aa3ade8"
    }
   },
   "source": [
    "Equilibration is often conducted in two phases. The first phase is conducted under an NVT ensemble (constant Number of particles, Volume, and Temperature). This ensemble is also referred to as \"isothermal-isochoric\" or \"canonical.\" The timeframe for such a procedure is dependent upon the contents of the system. Typically, 100-200 ps should suffice, and we will conduct a 100-ps NVT equilibration for this exercise. Depending on your machine, this may take a while (just under an hour if run in parallel on 16 cores or so)."
   ]
  },
  {
   "cell_type": "markdown",
   "metadata": {
    "nbpresent": {
     "id": "2b10cf65-f4fd-4244-bb0b-612e4aa3ade8"
    }
   },
   "source": [
    "We will call grompp and mdrun just as we did at the EM step, but this time with the energy minimised structure as input and a different .mdp file for the run. Have a look at the input file for this run:"
   ]
  },
  {
   "cell_type": "code",
   "execution_count": 39,
   "metadata": {},
   "outputs": [
    {
     "name": "stdout",
     "output_type": "stream",
     "text": [
      "title                   = CHARMM NVT equilibration \r\n",
      "define                  = -DPOSRES  ; position restrain the protein\r\n",
      "\r\n",
      "; Parameters describing what to do, when to stop and what to save\r\n",
      "integrator              = md        ; leap-frog integrator\r\n",
      "dt                      = 0.002     ; 2 fs\r\n",
      "nsteps                  = 50000     ; 2 * 50000 = 100 ps\r\n",
      "nstenergy               = 500       ; save energy and temperature every 1.0 ps\r\n",
      "\r\n",
      "; periodic boundary condition\r\n",
      "pbc                     = xyz       ;\r\n",
      "\r\n",
      "; Keep system temperature fluctuating physically correct\r\n",
      "tcoupl                  = V-rescale           ; modified Berendsen thermostat\r\n",
      "tc-grps                 = system   ; coupling groups \r\n",
      "tau_t                   = 0.1      ; time constant, in ps\r\n",
      "ref_t                   = 300      ; reference temperature, one for each group, in K\r\n",
      "\r\n",
      "; Pressure coupling is off\r\n",
      "pcoupl                  = no\r\n",
      "\r\n",
      "; Velocity generation\r\n",
      "gen_vel                 = yes                 ; assign velocities from Maxwell distribution\r\n",
      "gen_temp                = 300                 ; temperature for Maxwell distribution\r\n",
      "\r\n",
      "; Settings that make sure we run with parameters in harmony with the selected force-field\r\n",
      "constraints             = h-bonds   ; bonds involving H are constrained\r\n",
      "rcoulomb                = 1.2       ; short-range electrostatic cutoff (in nm)\r\n",
      "rvdw                    = 1.2       ; short-range van der Waals cutoff (in nm)\r\n",
      "vdw-modifier            = Force-switch ;  specific CHARMM\r\n",
      "rvdw_switch             = 1.0       ;\r\n",
      "DispCorr                = no        ; account for cut-off vdW scheme -\r\n",
      ";in case of CHARMM DispCorr = EnerPres only for monolayers\r\n",
      "coulombtype             = PME       ; Particle Mesh Ewald for long-range electrostatics\r\n",
      "fourierspacing          = 0.15     ; grid spacing for FFT\r\n",
      "\r\n",
      "\r\n"
     ]
    }
   ],
   "source": [
    "!cat input/nvt-charmm.mdp"
   ]
  },
  {
   "cell_type": "markdown",
   "metadata": {
    "nbpresent": {
     "id": "cc6aa785-2b71-44bc-8a86-0c95e3b65c82"
    }
   },
   "source": [
    "Instead of energy tolerance, we now give time a step size and a number of steps. Furthermore, we need to set a temperature. Now, we're good to run. Take note of a few parameters in the .mdp file:\n",
    "\n",
    "- `gen_vel = yes`: Initiates velocity generation. Using different random seeds (gen_seed) gives different initial velocities, and thus multiple (different) simulations can be conducted from the same starting structure.\n",
    "- `tcoupl = V-rescale`: The velocity rescaling thermostat is an improvement upon the Berendsen weak coupling method, which did not reproduce a correct kinetic ensemble.\n",
    "- `pcoupl = no`: Pressure coupling is not applied. \n",
    "\n",
    "A full explanation of the parameters used can be found in the GROMACS [manual](http://manual.gromacs.org/documentation/current/user-guide/mdp-options.html), in addition to the comments provided. "
   ]
  },
  {
   "cell_type": "markdown",
   "metadata": {},
   "source": [
    "Now, we're good to run."
   ]
  },
  {
   "cell_type": "code",
   "execution_count": 40,
   "metadata": {
    "nbpresent": {
     "id": "2b413eeb-b4a1-4499-b977-156c6a0b4566"
    },
    "scrolled": true
   },
   "outputs": [
    {
     "name": "stdout",
     "output_type": "stream",
     "text": [
      "                 :-) GROMACS - gmx grompp, 2022-conda_forge (-:\n",
      "\n",
      "Executable:   /Users/ethan/anaconda3/envs/md-intro-tutorial/bin.AVX2_256/gmx\n",
      "Data prefix:  /Users/ethan/anaconda3/envs/md-intro-tutorial\n",
      "Working dir:  /Users/ethan/md-intro-tutorial/md-intro-tutorial-main/data\n",
      "Command line:\n",
      "  gmx grompp -f input/nvt-charmm.mdp -c em.gro -r em.gro -p topol.top -o nvt.tpr\n",
      "\n",
      "Ignoring obsolete mdp entry 'title'\n",
      "Setting the LD random seed to -134291465\n",
      "\n",
      "Generated 20503 of the 20503 non-bonded parameter combinations\n",
      "Generating 1-4 interactions: fudge = 1\n",
      "\n",
      "Generated 17396 of the 20503 1-4 parameter combinations\n",
      "\n",
      "Excluding 3 bonded neighbours molecule type 'Protein_chain_A'\n",
      "\n",
      "turning H bonds into constraints...\n",
      "\n",
      "Excluding 3 bonded neighbours molecule type 'Protein_chain_L'\n",
      "\n",
      "turning H bonds into constraints...\n",
      "\n",
      "Excluding 2 bonded neighbours molecule type 'SOL'\n",
      "\n",
      "turning H bonds into constraints...\n",
      "\n",
      "Excluding 1 bonded neighbours molecule type 'NA'\n",
      "\n",
      "turning H bonds into constraints...\n",
      "\n",
      "Excluding 1 bonded neighbours molecule type 'CL'\n",
      "\n",
      "turning H bonds into constraints...\n",
      "\n",
      "Setting gen_seed to -48242983\n",
      "\n",
      "Velocities were taken from a Maxwell distribution at 300 K\n",
      "Analysing residue names:\n",
      "There are:   286    Protein residues\n",
      "There are: 11703      Water residues\n",
      "There are:    74        Ion residues\n",
      "Analysing Protein...\n",
      "Analysing residues not classified as Protein/DNA/RNA/Water and splitting into groups...\n",
      "Number of degrees of freedom in T-Coupling group System is 81509.00\n",
      "\n",
      "The largest distance between excluded atoms is 0.424 nm\n",
      "\n",
      "Determining Verlet buffer for a tolerance of 0.005 kJ/mol/ps at 300 K\n",
      "\n",
      "Calculated rlist for 1x1 atom pair-list as 1.233 nm, buffer size 0.033 nm\n",
      "\n",
      "Set rlist, assuming 4x4 atom pair-list, to 1.200 nm, buffer size 0.000 nm\n",
      "\n",
      "Note that mdrun will redetermine rlist based on the actual pair-list setup\n",
      "\n",
      "NOTE 1 [file input/nvt-charmm.mdp]:\n",
      "  Removing center of mass motion in the presence of position restraints\n",
      "  might cause artifacts. When you are using position restraints to\n",
      "  equilibrate a macro-molecule, the artifacts are usually negligible.\n",
      "\n",
      "Calculating fourier grid dimensions for X Y Z\n",
      "Using a fourier grid of 56x56x56, spacing 0.148 0.148 0.148\n",
      "\n",
      "Estimate for the relative computational load of the PME mesh part: 0.17\n",
      "\n",
      "This run will generate roughly 3 Mb of data\n",
      "\n",
      "There was 1 note\n",
      "\n",
      "GROMACS reminds you: \"You Look Better Upside Down\" (Throwing Muses)\n",
      "\n",
      "                 :-) GROMACS - gmx mdrun, 2022-conda_forge (-:\n",
      "\n",
      "Executable:   /Users/ethan/anaconda3/envs/md-intro-tutorial/bin.AVX2_256/gmx\n",
      "Data prefix:  /Users/ethan/anaconda3/envs/md-intro-tutorial\n",
      "Working dir:  /Users/ethan/md-intro-tutorial/md-intro-tutorial-main/data\n",
      "Command line:\n",
      "  gmx mdrun -ntmpi 1 -v -deffnm nvt\n",
      "\n",
      "Reading file nvt.tpr, VERSION 2022-conda_forge (single precision)\n",
      "Changing nstlist from 10 to 80, rlist from 1.2 to 1.315\n",
      "\n",
      "Using 1 MPI thread\n",
      "Using 8 OpenMP threads \n",
      "\n",
      "starting mdrun 'COAGULATION FACTOR XA'\n",
      "50000 steps,    100.0 ps.\n",
      "step 49900, remaining wall clock time:     1 s          nish Wed Jun 22 09:56:50 2022, will finish Wed Jun 22 09:56:58 2022, will finish Wed Jun 22 09:57:04 2022, will finish Wed Jun 22 09:56:59 2022\n",
      "Writing final coordinates.\n",
      "step 50000, remaining wall clock time:     0 s          \n",
      "               Core t (s)   Wall t (s)        (%)\n",
      "       Time:     6116.050      764.508      800.0\n",
      "                 (ns/day)    (hour/ns)\n",
      "Performance:       11.302        2.124\n",
      "\n",
      "GROMACS reminds you: \"Programming today is a race between software engineers striving to build bigger and better idiot-proof programs, and the universe trying to build bigger and better idiots. So far, the universe is winning.\" (Rick Cook)\n",
      "\n"
     ]
    }
   ],
   "source": [
    "!gmx grompp -f input/nvt-charmm.mdp -c em.gro -r em.gro -p topol.top -o nvt.tpr \n",
    "!gmx mdrun -ntmpi 1 -v -deffnm nvt"
   ]
  },
  {
   "cell_type": "markdown",
   "metadata": {
    "nbpresent": {
     "id": "828a3d07-e09e-44a3-8c97-350bb3a42a84"
    }
   },
   "source": [
    "Your computer should be working at full speed now to finish this simulation; it should be done in 5 to 10 minutes. "
   ]
  },
  {
   "cell_type": "markdown",
   "metadata": {},
   "source": [
    "*Note: if you do not want to wait, but look at some of the results directly, copy the data from the /reference directory into the current directory. To do this from within this notebook, remove the comment characters (#) in the following cell*  "
   ]
  },
  {
   "cell_type": "code",
   "execution_count": 41,
   "metadata": {},
   "outputs": [],
   "source": [
    "## ONLY execute the lines below if you do not want to run and wait for the simulation to finish\n",
    "#!cp reference/nvt_charmm.edr nvt.edr\n",
    "#!cp reference/nvt_charmm.gro nvt.gro\n",
    "#!cp reference/nvt_charmm.cpt nvt.cpt"
   ]
  },
  {
   "cell_type": "markdown",
   "metadata": {
    "nbpresent": {
     "id": "cc6aa785-2b71-44bc-8a86-0c95e3b65c82"
    }
   },
   "source": [
    "Let's analyze the temperature progression, again using gmx energy:"
   ]
  },
  {
   "cell_type": "code",
   "execution_count": 42,
   "metadata": {
    "nbpresent": {
     "id": "a414818c-cb67-4514-a983-5322d9d388b0"
    },
    "scrolled": true
   },
   "outputs": [
    {
     "name": "stdout",
     "output_type": "stream",
     "text": [
      "                 :-) GROMACS - gmx energy, 2022-conda_forge (-:\r\n",
      "\r\n",
      "Executable:   /Users/ethan/anaconda3/envs/md-intro-tutorial/bin.AVX2_256/gmx\r\n",
      "Data prefix:  /Users/ethan/anaconda3/envs/md-intro-tutorial\r\n",
      "Working dir:  /Users/ethan/md-intro-tutorial/md-intro-tutorial-main/data\r\n",
      "Command line:\r\n",
      "  gmx energy -f nvt.edr -o temperature.xvg -xvg none\r\n",
      "\r\n",
      "Opened nvt.edr as single precision energy file\r\n",
      "\r\n",
      "Select the terms you want from the following list by\r\n",
      "selecting either (part of) the name or the number or a combination.\r\n",
      "End your selection with an empty line or a zero.\r\n",
      "-------------------------------------------------------------------\r\n",
      "  1  Bond             2  U-B              3  Proper-Dih.      4  Improper-Dih. \r\n",
      "  5  CMAP-Dih.        6  LJ-14            7  Coulomb-14       8  LJ-(SR)       \r\n",
      "  9  Coulomb-(SR)    10  Coul.-recip.    11  Position-Rest.  12  Potential     \r\n",
      " 13  Kinetic-En.     14  Total-Energy    15  Conserved-En.   16  Temperature   \r\n",
      " 17  Pressure        18  Constr.-rmsd    19  Vir-XX          20  Vir-XY        \r\n",
      " 21  Vir-XZ          22  Vir-YX          23  Vir-YY          24  Vir-YZ        \r\n",
      " 25  Vir-ZX          26  Vir-ZY          27  Vir-ZZ          28  Pres-XX       \r\n",
      " 29  Pres-XY         30  Pres-XZ         31  Pres-YX         32  Pres-YY       \r\n",
      " 33  Pres-YZ         34  Pres-ZX         35  Pres-ZY         36  Pres-ZZ       \r\n",
      " 37  #Surf*SurfTen   38  T-System        39  Lamb-System   \r\n",
      "\r\n",
      "\r",
      "Reading energy frame      0 time    0.000         \r",
      "Reading energy frame      1 time    1.000         \r",
      "Reading energy frame      2 time    2.000         \r",
      "Reading energy frame      3 time    3.000         \r",
      "Reading energy frame      4 time    4.000         \r",
      "Reading energy frame      5 time    5.000         \r",
      "Reading energy frame      6 time    6.000         \r",
      "Reading energy frame      7 time    7.000         \r",
      "Reading energy frame      8 time    8.000         \r",
      "Reading energy frame      9 time    9.000         \r",
      "Reading energy frame     10 time   10.000         \r",
      "Reading energy frame     11 time   11.000         \r",
      "Reading energy frame     12 time   12.000         \r",
      "Reading energy frame     13 time   13.000         \r",
      "Reading energy frame     14 time   14.000         \r",
      "Reading energy frame     15 time   15.000         \r",
      "Reading energy frame     16 time   16.000         \r",
      "Reading energy frame     17 time   17.000         \r",
      "Reading energy frame     18 time   18.000         \r",
      "Reading energy frame     19 time   19.000         \r",
      "Reading energy frame     20 time   20.000         \r",
      "Reading energy frame     30 time   30.000         \r",
      "Reading energy frame     40 time   40.000         \r",
      "Reading energy frame     50 time   50.000         \r",
      "Reading energy frame     60 time   60.000         \r",
      "Reading energy frame     70 time   70.000         \r",
      "Reading energy frame     80 time   80.000         \r",
      "Reading energy frame     90 time   90.000         \r",
      "Reading energy frame    100 time  100.000         \r",
      "Last energy frame read 100 time  100.000         \r\n",
      "\r\n",
      "Statistics over 50001 steps [ 0.0000 through 100.0000 ps ], 1 data sets\r\n",
      "All statistics are over 501 points\r\n",
      "\r\n",
      "Energy                      Average   Err.Est.       RMSD  Tot-Drift\r\n",
      "-------------------------------------------------------------------------------\r\n",
      "Temperature                 299.702        0.2    2.94796   0.226886  (K)\r\n",
      "\r\n",
      "GROMACS reminds you: \"Programming today is a race between software engineers striving to build bigger and better idiot-proof programs, and the universe trying to build bigger and better idiots. So far, the universe is winning.\" (Rick Cook)\r\n",
      "\r\n"
     ]
    }
   ],
   "source": [
    "!echo \"Temperature\" | gmx energy -f nvt.edr -o temperature.xvg -xvg none"
   ]
  },
  {
   "cell_type": "code",
   "execution_count": 43,
   "metadata": {
    "nbpresent": {
     "id": "4ce04079-a188-4372-ac3f-10665cd8b1a5"
    },
    "scrolled": true
   },
   "outputs": [
    {
     "data": {
      "text/plain": [
       "<AxesSubplot:xlabel='time'>"
      ]
     },
     "execution_count": 43,
     "metadata": {},
     "output_type": "execute_result"
    },
    {
     "data": {
      "image/png": "[encoded data removed]",
      "text/plain": [
       "<Figure size 432x288 with 1 Axes>"
      ]
     },
     "metadata": {
      "needs_background": "light"
     },
     "output_type": "display_data"
    }
   ],
   "source": [
    "import pandas as pd\n",
    "df = pd.read_csv('temperature.xvg', sep='\\s+', header=None, names=['time','temperature'])\n",
    "df.plot('time')"
   ]
  },
  {
   "cell_type": "markdown",
   "metadata": {},
   "source": [
    "Or for alterantive visualization, remove the comment characters (#) in the following cells:"
   ]
  },
  {
   "cell_type": "code",
   "execution_count": 44,
   "metadata": {
    "nbpresent": {
     "id": "a414818c-cb67-4514-a983-5322d9d388b0"
    },
    "scrolled": true
   },
   "outputs": [],
   "source": [
    "#!echo \"Temperature\" | gmx energy -f nvt.edr -o temperature.xvg"
   ]
  },
  {
   "cell_type": "code",
   "execution_count": 45,
   "metadata": {
    "nbpresent": {
     "id": "e44de384-42ac-4813-9a45-cc496b28a4d7"
    },
    "scrolled": true
   },
   "outputs": [],
   "source": [
    "#!xmgrace temperature.xvg"
   ]
  },
  {
   "cell_type": "markdown",
   "metadata": {
    "nbpresent": {
     "id": "00806afa-b604-4964-9616-edc3ff3d046d"
    }
   },
   "source": [
    "From the plot, it is clear that the temperature of the system quickly reaches the target value (300 K), and remains stable over the remainder of the equilibration. For this system, an equilibration period (on the order of 50 ps) may be adequate."
   ]
  },
  {
   "cell_type": "markdown",
   "metadata": {
    "nbpresent": {
     "id": "82f60247-efd9-4559-9b40-ddc31d78b0cf"
    }
   },
   "source": [
    "# Equilibration run - pressure"
   ]
  },
  {
   "cell_type": "markdown",
   "metadata": {
    "nbpresent": {
     "id": "d420cdd6-a94d-49a4-8776-c5ceee7b3cb4"
    }
   },
   "source": [
    "The previous step, NVT equilibration, stabilized the temperature of the system. Prior to data collection, we must also stabilize the pressure (and thus also the density) of the system. Equilibration of pressure is conducted under an NPT ensemble, wherein the Number of particles, Pressure, and Temperature are all constant. The ensemble is also called the \"isothermal-isobaric\" ensemble, and most closely resembles experimental conditions.\n",
    "\n",
    "The .mdp file used for a 100-ps NPT equilibration can be found here. It is not drastically different from the parameter file used for NVT equilibration. Note the addition of the pressure coupling section. Berendsen barostat is used for this equilibation phase."
   ]
  },
  {
   "cell_type": "code",
   "execution_count": 46,
   "metadata": {},
   "outputs": [
    {
     "name": "stdout",
     "output_type": "stream",
     "text": [
      "title                   = CHARMM NPT equilibration \r\n",
      "define                  = -DPOSRES  ; position restrain the protein \r\n",
      "\r\n",
      "; Parameters describing what to do, when to stop and what to save\r\n",
      "integrator              = md        ; leap-frog integrator\r\n",
      "dt                      = 0.002     ; 2 fs\r\n",
      "nsteps                  = 50000     ; 2 * 50000 = 100 ps\r\n",
      "nstenergy               = 500       ; save energy and temperature every 1.0 ps\r\n",
      "\r\n",
      "; periodic boundary condition\r\n",
      "pbc                     = xyz       ;\r\n",
      "\r\n",
      "continuation            = yes      \r\n",
      "\r\n",
      "; Pressure coupling is on\r\n",
      "pcoupl                  = C-rescale             ; Pressure coupling on in NPT\r\n",
      "pcoupltype              = isotropic             ; uniform scaling of box vectors\r\n",
      "tau_p                   = 1.0                   ; time constant, in ps\r\n",
      "ref_p                   = 1.0                   ; reference pressure, in bar\r\n",
      "compressibility         = 4.5e-5                ; isothermal compressibility of water, bar^-1\r\n",
      "refcoord_scaling        = com\r\n",
      "\r\n",
      "; Keep system temperature fluctuating physically correct\r\n",
      "tcoupl                  = V-rescale           ; modified Berendsen thermostat\r\n",
      "tc-grps                 = system   ; coupling groups \r\n",
      "tau_t                   = 0.1      ; time constant, in ps\r\n",
      "ref_t                   = 300      ; reference temperature, one for each group, in K\r\n",
      "\r\n",
      "; Settings that make sure we run with parameters in harmony with the selected force-field\r\n",
      "constraints             = h-bonds   ; bonds involving H are constrained\r\n",
      "rcoulomb                = 1.2       ; short-range electrostatic cutoff (in nm)\r\n",
      "rvdw                    = 1.2       ; short-range van der Waals cutoff (in nm)\r\n",
      "vdw-modifier            = Force-switch ;  specific CHARMM\r\n",
      "rvdw_switch             = 1.0       ;\r\n",
      "DispCorr                = no        ; account for cut-off vdW scheme -\r\n",
      ";in case of CHARMM DispCorr = EnerPres only for monolayers\r\n",
      "coulombtype             = PME       ; Particle Mesh Ewald for long-range electrostatics\r\n",
      "fourierspacing          = 0.15     ; grid spacing for FFT\r\n",
      "\r\n",
      "\r\n",
      "\r\n",
      "\r\n",
      "\r\n",
      "\r\n"
     ]
    }
   ],
   "source": [
    "!cat input/npt-charmm.mdp"
   ]
  },
  {
   "cell_type": "markdown",
   "metadata": {
    "nbpresent": {
     "id": "d420cdd6-a94d-49a4-8776-c5ceee7b3cb4"
    }
   },
   "source": [
    "A few other changes:\n",
    "\n",
    "- `continuation = yes`: We are continuing the simulation from the NVT equilibration phase\n",
    "- `gen_vel = no`: Velocities are read from the trajectory (see below) \n",
    "\n",
    "We will call grompp and mdrun just as we did for NVT equilibration. Note that we are now including the -t flag to include the checkpoint file from the NVT equilibration; this file contains all the necessary state variables to continue our simulation. To conserve the velocities produced during NVT, we must include the final coordinate file (output) of the NVT simulation using the option (-c)."
   ]
  },
  {
   "cell_type": "code",
   "execution_count": 47,
   "metadata": {
    "nbpresent": {
     "id": "d0031438-f9e0-4d31-9c19-df4dc92d2d22"
    }
   },
   "outputs": [
    {
     "name": "stdout",
     "output_type": "stream",
     "text": [
      "                 :-) GROMACS - gmx grompp, 2022-conda_forge (-:\n",
      "\n",
      "Executable:   /Users/ethan/anaconda3/envs/md-intro-tutorial/bin.AVX2_256/gmx\n",
      "Data prefix:  /Users/ethan/anaconda3/envs/md-intro-tutorial\n",
      "Working dir:  /Users/ethan/md-intro-tutorial/md-intro-tutorial-main/data\n",
      "Command line:\n",
      "  gmx grompp -f input/npt-charmm.mdp -c nvt.gro -r nvt.gro -t nvt.cpt -p topol.top -o npt.tpr\n",
      "\n",
      "Ignoring obsolete mdp entry 'title'\n",
      "Setting the LD random seed to -35422809\n",
      "\n",
      "Generated 20503 of the 20503 non-bonded parameter combinations\n",
      "Generating 1-4 interactions: fudge = 1\n",
      "\n",
      "Generated 17396 of the 20503 1-4 parameter combinations\n",
      "\n",
      "Excluding 3 bonded neighbours molecule type 'Protein_chain_A'\n",
      "\n",
      "turning H bonds into constraints...\n",
      "\n",
      "Excluding 3 bonded neighbours molecule type 'Protein_chain_L'\n",
      "\n",
      "turning H bonds into constraints...\n",
      "\n",
      "Excluding 2 bonded neighbours molecule type 'SOL'\n",
      "\n",
      "turning H bonds into constraints...\n",
      "\n",
      "Excluding 1 bonded neighbours molecule type 'NA'\n",
      "\n",
      "turning H bonds into constraints...\n",
      "\n",
      "Excluding 1 bonded neighbours molecule type 'CL'\n",
      "\n",
      "turning H bonds into constraints...\n",
      "\n",
      "The center of mass of the position restraint coord's is  4.759  6.201  2.940\n",
      "\n",
      "The center of mass of the position restraint coord's is  4.759  6.201  2.940\n",
      "Analysing residue names:\n",
      "There are:   286    Protein residues\n",
      "There are: 11703      Water residues\n",
      "There are:    74        Ion residues\n",
      "Analysing Protein...\n",
      "Analysing residues not classified as Protein/DNA/RNA/Water and splitting into groups...\n",
      "Number of degrees of freedom in T-Coupling group System is 81509.00\n",
      "\n",
      "The largest distance between excluded atoms is 0.425 nm\n",
      "\n",
      "Determining Verlet buffer for a tolerance of 0.005 kJ/mol/ps at 300 K\n",
      "\n",
      "Calculated rlist for 1x1 atom pair-list as 1.233 nm, buffer size 0.033 nm\n",
      "\n",
      "Set rlist, assuming 4x4 atom pair-list, to 1.200 nm, buffer size 0.000 nm\n",
      "\n",
      "Note that mdrun will redetermine rlist based on the actual pair-list setup\n",
      "\n",
      "NOTE 1 [file input/npt-charmm.mdp]:\n",
      "  Removing center of mass motion in the presence of position restraints\n",
      "  might cause artifacts. When you are using position restraints to\n",
      "  equilibrate a macro-molecule, the artifacts are usually negligible.\n",
      "\n",
      "\n",
      "Reading Coordinates, Velocities and Box size from old trajectory\n",
      "\n",
      "Will read whole trajectory\n",
      "Last frame         -1 time  100.000   \n",
      "\n",
      "Using frame at t = 100 ps\n",
      "\n",
      "Starting time for run is 0 ps\n",
      "Calculating fourier grid dimensions for X Y Z\n",
      "Using a fourier grid of 56x56x56, spacing 0.148 0.148 0.148\n",
      "\n",
      "Estimate for the relative computational load of the PME mesh part: 0.17\n",
      "\n",
      "This run will generate roughly 3 Mb of data\n",
      "\n",
      "There was 1 note\n",
      "\n",
      "GROMACS reminds you: \"The road to openness is paved with git commits\" (Vedran Miletic)\n",
      "\n"
     ]
    }
   ],
   "source": [
    "!gmx grompp -f input/npt-charmm.mdp -c nvt.gro -r nvt.gro -t nvt.cpt -p topol.top -o npt.tpr"
   ]
  },
  {
   "cell_type": "markdown",
   "metadata": {
    "nbpresent": {
     "id": "6fd8fd4f-6972-4eed-91c9-805282079174"
    }
   },
   "source": [
    "Now we'll start an MD simulation just like before - this one will take a few minutes; that's why it is commented out. Go ahead run it if you want to generate your own data.   "
   ]
  },
  {
   "cell_type": "code",
   "execution_count": 48,
   "metadata": {
    "nbpresent": {
     "id": "8a3208e1-acc3-40ab-b3be-a26fa2bb071c"
    },
    "scrolled": true
   },
   "outputs": [
    {
     "name": "stdout",
     "output_type": "stream",
     "text": [
      "                 :-) GROMACS - gmx mdrun, 2022-conda_forge (-:\n",
      "\n",
      "Executable:   /Users/ethan/anaconda3/envs/md-intro-tutorial/bin.AVX2_256/gmx\n",
      "Data prefix:  /Users/ethan/anaconda3/envs/md-intro-tutorial\n",
      "Working dir:  /Users/ethan/md-intro-tutorial/md-intro-tutorial-main/data\n",
      "Command line:\n",
      "  gmx mdrun -ntmpi 1 -v -deffnm npt\n",
      "\n",
      "Reading file npt.tpr, VERSION 2022-conda_forge (single precision)\n",
      "Changing nstlist from 10 to 80, rlist from 1.2 to 1.315\n",
      "\n",
      "Using 1 MPI thread\n",
      "Using 8 OpenMP threads \n",
      "\n",
      "starting mdrun 'COAGULATION FACTOR XA'\n",
      "50000 steps,    100.0 ps.\n",
      "step 49900, remaining wall clock time:     1 s          inish Wed Jun 22 10:09:30 2022\n",
      "Writing final coordinates.\n",
      "step 50000, remaining wall clock time:     0 s          \n",
      "               Core t (s)   Wall t (s)        (%)\n",
      "       Time:     6087.611      760.952      800.0\n",
      "                 (ns/day)    (hour/ns)\n",
      "Performance:       11.354        2.114\n",
      "\n",
      "GROMACS reminds you: \"Unlike teachers or doctors, our efforts improve the lives of people we'll never meet.\" (Katie Busch-Sorensen)\n",
      "\n"
     ]
    }
   ],
   "source": [
    "!gmx mdrun -ntmpi 1 -v -deffnm npt"
   ]
  },
  {
   "cell_type": "markdown",
   "metadata": {
    "nbpresent": {
     "id": "d0acf72c-7b94-4864-89a4-84674b63a04e"
    }
   },
   "source": [
    "If the simulation takes too long to run for this tutorial, you may use the provided data by copying it to the current directory. But remember that you can always check/analyse the output files while the simulation is still running. "
   ]
  },
  {
   "cell_type": "code",
   "execution_count": 49,
   "metadata": {
    "nbpresent": {
     "id": "cefe08a1-7c2d-4d1d-a575-50a07b1254d8"
    }
   },
   "outputs": [],
   "source": [
    "##ONLY execute the lines below if you do not want to run and wait for the simulation to finish\n",
    "#!cp reference/npt_charmm.edr npt.edr\n",
    "#!cp reference/npt_charmm.gro npt.gro\n",
    "#!cp reference/npt_charmm.cpt npt.cpt"
   ]
  },
  {
   "cell_type": "markdown",
   "metadata": {
    "nbpresent": {
     "id": "eb120f75-b472-4cb1-a3ee-21c580ca03e7"
    }
   },
   "source": [
    "Let's analyze the pressure progression, again using energy:"
   ]
  },
  {
   "cell_type": "code",
   "execution_count": 50,
   "metadata": {
    "nbpresent": {
     "id": "dd41db3e-bcdb-4cad-a8c7-834ebd3b6078"
    },
    "scrolled": false
   },
   "outputs": [
    {
     "name": "stdout",
     "output_type": "stream",
     "text": [
      "                 :-) GROMACS - gmx energy, 2022-conda_forge (-:\r\n",
      "\r\n",
      "Executable:   /Users/ethan/anaconda3/envs/md-intro-tutorial/bin.AVX2_256/gmx\r\n",
      "Data prefix:  /Users/ethan/anaconda3/envs/md-intro-tutorial\r\n",
      "Working dir:  /Users/ethan/md-intro-tutorial/md-intro-tutorial-main/data\r\n",
      "Command line:\r\n",
      "  gmx energy -f npt.edr -o pressure.xvg -xvg none\r\n",
      "\r\n",
      "Opened npt.edr as single precision energy file\r\n",
      "\r\n",
      "Select the terms you want from the following list by\r\n",
      "selecting either (part of) the name or the number or a combination.\r\n",
      "End your selection with an empty line or a zero.\r\n",
      "-------------------------------------------------------------------\r\n",
      "  1  Bond             2  U-B              3  Proper-Dih.      4  Improper-Dih. \r\n",
      "  5  CMAP-Dih.        6  LJ-14            7  Coulomb-14       8  LJ-(SR)       \r\n",
      "  9  Coulomb-(SR)    10  Coul.-recip.    11  Position-Rest.  12  Potential     \r\n",
      " 13  Kinetic-En.     14  Total-Energy    15  Conserved-En.   16  Temperature   \r\n",
      " 17  Pressure        18  Constr.-rmsd    19  Box-X           20  Box-Y         \r\n",
      " 21  Box-Z           22  Volume          23  Density         24  pV            \r\n",
      " 25  Enthalpy        26  Vir-XX          27  Vir-XY          28  Vir-XZ        \r\n",
      " 29  Vir-YX          30  Vir-YY          31  Vir-YZ          32  Vir-ZX        \r\n",
      " 33  Vir-ZY          34  Vir-ZZ          35  Pres-XX         36  Pres-XY       \r\n",
      " 37  Pres-XZ         38  Pres-YX         39  Pres-YY         40  Pres-YZ       \r\n",
      " 41  Pres-ZX         42  Pres-ZY         43  Pres-ZZ         44  #Surf*SurfTen \r\n",
      " 45  T-System        46  Lamb-System   \r\n",
      "\r\n",
      "\r",
      "Reading energy frame      0 time    0.000         \r",
      "Reading energy frame      1 time    1.000         \r",
      "Reading energy frame      2 time    2.000         \r",
      "Reading energy frame      3 time    3.000         \r",
      "Reading energy frame      4 time    4.000         \r",
      "Reading energy frame      5 time    5.000         \r",
      "Reading energy frame      6 time    6.000         \r",
      "Reading energy frame      7 time    7.000         \r",
      "Reading energy frame      8 time    8.000         \r",
      "Reading energy frame      9 time    9.000         \r",
      "Reading energy frame     10 time   10.000         \r",
      "Reading energy frame     11 time   11.000         \r",
      "Reading energy frame     12 time   12.000         \r",
      "Reading energy frame     13 time   13.000         \r",
      "Reading energy frame     14 time   14.000         \r",
      "Reading energy frame     15 time   15.000         \r",
      "Reading energy frame     16 time   16.000         \r",
      "Reading energy frame     17 time   17.000         \r",
      "Reading energy frame     18 time   18.000         \r",
      "Reading energy frame     19 time   19.000         \r",
      "Reading energy frame     20 time   20.000         \r",
      "Reading energy frame     30 time   30.000         \r",
      "Reading energy frame     40 time   40.000         \r",
      "Reading energy frame     50 time   50.000         \r",
      "Reading energy frame     60 time   60.000         \r",
      "Reading energy frame     70 time   70.000         \r",
      "Reading energy frame     80 time   80.000         \r",
      "Reading energy frame     90 time   90.000         \r",
      "Reading energy frame    100 time  100.000         \r",
      "Last energy frame read 100 time  100.000         \r\n",
      "\r\n",
      "Statistics over 50001 steps [ 0.0000 through 100.0000 ps ], 1 data sets\r\n",
      "All statistics are over 501 points\r\n",
      "\r\n",
      "Energy                      Average   Err.Est.       RMSD  Tot-Drift\r\n",
      "-------------------------------------------------------------------------------\r\n",
      "Pressure                   -8.01455        7.3    166.307   -25.6393  (bar)\r\n",
      "\r\n",
      "GROMACS reminds you: \"Unlike teachers or doctors, our efforts improve the lives of people we'll never meet.\" (Katie Busch-Sorensen)\r\n",
      "\r\n"
     ]
    }
   ],
   "source": [
    "!echo \"Pressure\" | gmx energy -f npt.edr -o pressure.xvg -xvg none"
   ]
  },
  {
   "cell_type": "code",
   "execution_count": 51,
   "metadata": {
    "nbpresent": {
     "id": "4ce04079-a188-4372-ac3f-10665cd8b1a5"
    },
    "scrolled": true
   },
   "outputs": [
    {
     "data": {
      "text/plain": [
       "<AxesSubplot:xlabel='time'>"
      ]
     },
     "execution_count": 51,
     "metadata": {},
     "output_type": "execute_result"
    },
    {
     "data": {
      "image/png": "[encoded data removed]",
      "text/plain": [
       "<Figure size 432x288 with 1 Axes>"
      ]
     },
     "metadata": {
      "needs_background": "light"
     },
     "output_type": "display_data"
    }
   ],
   "source": [
    "import pandas as pd\n",
    "df = pd.read_csv('pressure.xvg', sep='\\s+', header=None, names=['time','pressure'])\n",
    "df.plot('time')"
   ]
  },
  {
   "cell_type": "markdown",
   "metadata": {},
   "source": [
    "Or for alterantive visualization, remove the comment characters (#) in the following cells:"
   ]
  },
  {
   "cell_type": "code",
   "execution_count": 52,
   "metadata": {
    "nbpresent": {
     "id": "a414818c-cb67-4514-a983-5322d9d388b0"
    },
    "scrolled": true
   },
   "outputs": [],
   "source": [
    "#!echo \"Pressure\" | gmx energy -f npt.edr -o pressure.xvg"
   ]
  },
  {
   "cell_type": "code",
   "execution_count": 53,
   "metadata": {
    "nbpresent": {
     "id": "c1fd41ec-970c-46aa-abf9-23954d3eb887"
    },
    "scrolled": true
   },
   "outputs": [],
   "source": [
    "#!xmgrace pressure.xvg"
   ]
  },
  {
   "cell_type": "markdown",
   "metadata": {
    "nbpresent": {
     "id": "24293621-f825-48bb-8493-b42fbc65c616"
    }
   },
   "source": [
    "The pressure value fluctuates widely over the course of the 100-ps equilibration phase, but this behavior is not unexpected. The reference pressure was set to 1 bar, so is this outcome acceptable? Pressure is a quantity that fluctuates widely over the course of an MD simulation, as is clear from the large root-mean-square fluctuation (in the order of 100 bar), so statistically speaking, one cannot distinguish a difference between the obtained average and the target/reference value (1 bar). \n",
    "\n",
    "Let's take a look at density as well using energy."
   ]
  },
  {
   "cell_type": "code",
   "execution_count": 54,
   "metadata": {
    "nbpresent": {
     "id": "5f5636cc-2d8e-4fcb-b1a3-a6aa5e059be9"
    },
    "scrolled": true
   },
   "outputs": [
    {
     "name": "stdout",
     "output_type": "stream",
     "text": [
      "                 :-) GROMACS - gmx energy, 2022-conda_forge (-:\r\n",
      "\r\n",
      "Executable:   /Users/ethan/anaconda3/envs/md-intro-tutorial/bin.AVX2_256/gmx\r\n",
      "Data prefix:  /Users/ethan/anaconda3/envs/md-intro-tutorial\r\n",
      "Working dir:  /Users/ethan/md-intro-tutorial/md-intro-tutorial-main/data\r\n",
      "Command line:\r\n",
      "  gmx energy -f npt.edr -o density.xvg -xvg none\r\n",
      "\r\n",
      "Opened npt.edr as single precision energy file\r\n",
      "\r\n",
      "Select the terms you want from the following list by\r\n",
      "selecting either (part of) the name or the number or a combination.\r\n",
      "End your selection with an empty line or a zero.\r\n",
      "-------------------------------------------------------------------\r\n",
      "  1  Bond             2  U-B              3  Proper-Dih.      4  Improper-Dih. \r\n",
      "  5  CMAP-Dih.        6  LJ-14            7  Coulomb-14       8  LJ-(SR)       \r\n",
      "  9  Coulomb-(SR)    10  Coul.-recip.    11  Position-Rest.  12  Potential     \r\n",
      " 13  Kinetic-En.     14  Total-Energy    15  Conserved-En.   16  Temperature   \r\n",
      " 17  Pressure        18  Constr.-rmsd    19  Box-X           20  Box-Y         \r\n",
      " 21  Box-Z           22  Volume          23  Density         24  pV            \r\n",
      " 25  Enthalpy        26  Vir-XX          27  Vir-XY          28  Vir-XZ        \r\n",
      " 29  Vir-YX          30  Vir-YY          31  Vir-YZ          32  Vir-ZX        \r\n",
      " 33  Vir-ZY          34  Vir-ZZ          35  Pres-XX         36  Pres-XY       \r\n",
      " 37  Pres-XZ         38  Pres-YX         39  Pres-YY         40  Pres-YZ       \r\n",
      " 41  Pres-ZX         42  Pres-ZY         43  Pres-ZZ         44  #Surf*SurfTen \r\n",
      " 45  T-System        46  Lamb-System   \r\n",
      "\r\n",
      "\r",
      "Reading energy frame      0 time    0.000         \r",
      "Reading energy frame      1 time    1.000         \r",
      "Reading energy frame      2 time    2.000         \r",
      "Reading energy frame      3 time    3.000         \r",
      "Reading energy frame      4 time    4.000         \r",
      "Reading energy frame      5 time    5.000         \r",
      "Reading energy frame      6 time    6.000         \r",
      "Reading energy frame      7 time    7.000         \r",
      "Reading energy frame      8 time    8.000         \r",
      "Reading energy frame      9 time    9.000         \r",
      "Reading energy frame     10 time   10.000         \r",
      "Reading energy frame     11 time   11.000         \r",
      "Reading energy frame     12 time   12.000         \r",
      "Reading energy frame     13 time   13.000         \r",
      "Reading energy frame     14 time   14.000         \r",
      "Reading energy frame     15 time   15.000         \r",
      "Reading energy frame     16 time   16.000         \r",
      "Reading energy frame     17 time   17.000         \r",
      "Reading energy frame     18 time   18.000         \r",
      "Reading energy frame     19 time   19.000         \r",
      "Reading energy frame     20 time   20.000         \r",
      "Reading energy frame     30 time   30.000         \r",
      "Reading energy frame     40 time   40.000         \r",
      "Reading energy frame     50 time   50.000         \r",
      "Reading energy frame     60 time   60.000         \r",
      "Reading energy frame     70 time   70.000         \r",
      "Reading energy frame     80 time   80.000         \r",
      "Reading energy frame     90 time   90.000         \r",
      "Reading energy frame    100 time  100.000         \r",
      "Last energy frame read 100 time  100.000         \r\n",
      "\r\n",
      "Statistics over 50001 steps [ 0.0000 through 100.0000 ps ], 1 data sets\r\n",
      "All statistics are over 501 points\r\n",
      "\r\n",
      "Energy                      Average   Err.Est.       RMSD  Tot-Drift\r\n",
      "-------------------------------------------------------------------------------\r\n",
      "Density                     1017.59       0.22    1.94676   0.626375  (kg/m^3)\r\n",
      "\r\n",
      "GROMACS reminds you: \"Unlike teachers or doctors, our efforts improve the lives of people we'll never meet.\" (Katie Busch-Sorensen)\r\n",
      "\r\n"
     ]
    }
   ],
   "source": [
    "!echo \"Density\" | gmx energy -f npt.edr -o density.xvg -xvg none"
   ]
  },
  {
   "cell_type": "code",
   "execution_count": 55,
   "metadata": {
    "nbpresent": {
     "id": "4ce04079-a188-4372-ac3f-10665cd8b1a5"
    },
    "scrolled": false
   },
   "outputs": [
    {
     "data": {
      "text/plain": [
       "<AxesSubplot:xlabel='time'>"
      ]
     },
     "execution_count": 55,
     "metadata": {},
     "output_type": "execute_result"
    },
    {
     "data": {
      "image/png": "[encoded data removed]",
      "text/plain": [
       "<Figure size 432x288 with 1 Axes>"
      ]
     },
     "metadata": {
      "needs_background": "light"
     },
     "output_type": "display_data"
    }
   ],
   "source": [
    "import pandas as pd\n",
    "df = pd.read_csv('density.xvg', sep='\\s+', header=None, names=['time','density'])\n",
    "df.plot('time')"
   ]
  },
  {
   "cell_type": "markdown",
   "metadata": {},
   "source": [
    "Or for alterantive visualization, remove the comment characters (#) in the following cells:"
   ]
  },
  {
   "cell_type": "code",
   "execution_count": 56,
   "metadata": {
    "nbpresent": {
     "id": "a414818c-cb67-4514-a983-5322d9d388b0"
    },
    "scrolled": true
   },
   "outputs": [],
   "source": [
    "#!echo \"Density\" | gmx energy -f npt.edr -o density.xvg"
   ]
  },
  {
   "cell_type": "code",
   "execution_count": 57,
   "metadata": {
    "nbpresent": {
     "id": "1b457711-eabc-471c-adff-b44c56fefca1"
    },
    "scrolled": true
   },
   "outputs": [],
   "source": [
    "#!xmgrace density.xvg"
   ]
  },
  {
   "cell_type": "markdown",
   "metadata": {
    "nbpresent": {
     "id": "55be45c5-3caa-472d-995e-9e9532ff4f86"
    }
   },
   "source": [
    "The average value is close to the experimental value of 1000 kg m-3 and the expected density of the TIP3P model of 1001 kg m-3. The parameters for the TIP3P water model closely replicate experimental values for water. The density values are very stable over time, indicating that the system is well-equilibrated now with respect to pressure and density.\n",
    "\n",
    "Please note: Pressure-related terms are slow to converge, and thus you may have to run NPT equilibration slightly longer than is specified here."
   ]
  },
  {
   "cell_type": "markdown",
   "metadata": {
    "nbpresent": {
     "id": "bcefd2f6-8318-40a7-98e0-dc89ecb9ca56"
    }
   },
   "source": [
    "# The \"production\" run"
   ]
  },
  {
   "cell_type": "markdown",
   "metadata": {
    "nbpresent": {
     "id": "f366f0c1-5bb1-47a1-a8af-e6f79e7eb2fc"
    }
   },
   "source": [
    "Upon completion of the two equilibration phases, the system is now well-equilibrated at the desired temperature and pressure. We are now ready to release the position restraints and run production MD for data collection. The process is just like we have seen before, as we will make use of the checkpoint file (which in this case now contains preserve pressure coupling information) to grompp. We will run a 1-ns MD simulation. We use velocity-rescaling temperature coupling as thermostat and stochastic cell rescaling as barostat. A full explanation of the available thermostats and barostats in GROMACS can be found in the manual (see [here](http://manual.gromacs.org/documentation/current/reference-manual/algorithms/molecular-dynamics.html#temperature-coupling) for thermostat and [here](http://manual.gromacs.org/documentation/current/reference-manual/algorithms/molecular-dynamics.html#pressure-coupling) for barostat)"
   ]
  },
  {
   "cell_type": "code",
   "execution_count": 58,
   "metadata": {},
   "outputs": [
    {
     "name": "stdout",
     "output_type": "stream",
     "text": [
      "title                   = CHARMM NPT  \r\n",
      "\r\n",
      "; Parameters describing what to do, when to stop and what to save\r\n",
      "integrator              = md        ; leap-frog integrator\r\n",
      "dt                      = 0.002     ; 2 fs\r\n",
      "nsteps                  = 50000     ; 2 * 50000 = 100 ps\r\n",
      "\r\n",
      "; periodic boundary condition\r\n",
      "pbc                     = xyz       ;\r\n",
      "\r\n",
      "continuation            = yes      \r\n",
      "\r\n",
      "; Output control - output frequency in steps\r\n",
      "; Output frequency for  output trajctory file ,trr\r\n",
      "nstxout                  = 0       ; for writing coords (x) \r\n",
      "nstvout                  = 0       ; for writing velocities (v) \r\n",
      "nstfout                  = 0       ; for writing forces (f) \r\n",
      "; Output frequency for energies to log file and energy file\r\n",
      "nstlog                   = 1000    ; for writing energies to log file\r\n",
      "nstenergy                = 500     ; for writing energies to edr file \r\n",
      "; Output frequency and precision for .xtc file\r\n",
      "nstxout-compressed       = 2500    ; for writing coords (x) \r\n",
      "\r\n",
      "; Pressure coupling is on\r\n",
      "pcoupl                  = C-rescale               ; Pressure coupling on in NPT\r\n",
      "pcoupltype              = isotropic             ; uniform scaling of box vectors\r\n",
      "tau_p                   = 5.0                   ; time constant, in ps\r\n",
      "ref_p                   = 1.0                   ; reference pressure, in bar\r\n",
      "compressibility         = 4.5e-5                ; isothermal compressibility of water, bar^-1\r\n",
      "refcoord_scaling        = com\r\n",
      "\r\n",
      "; Keep system temperature fluctuating physically correct\r\n",
      "tcoupl                  = V-rescale           ; modified Berendsen thermostat\r\n",
      "tc-grps                 = system ; \r\n",
      "tau_t                   = 0.1    ; time constant, in ps\r\n",
      "ref_t                   = 300    ; reference temperature, one for each group, in K\r\n",
      "\r\n",
      "; Settings that make sure we run with parameters in harmony with the selected force-field\r\n",
      "constraints             = h-bonds   ; bonds involving H are constrained\r\n",
      "rcoulomb                = 1.2       ; short-range electrostatic cutoff (in nm)\r\n",
      "rvdw                    = 1.2       ; short-range van der Waals cutoff (in nm)\r\n",
      "vdw-modifier            = Force-switch ;  specific CHARMM\r\n",
      "rvdw_switch             = 1.0       ;\r\n",
      "DispCorr                = no        ; account for cut-off vdW scheme -\r\n",
      ";in case of CHARMM DispCorr = EnerPres only for monolayers\r\n",
      "coulombtype             = PME       ; Particle Mesh Ewald for long-range electrostatics\r\n",
      "fourierspacing          = 0.15     ; grid spacing for FFT\r\n",
      "\r\n"
     ]
    }
   ],
   "source": [
    "!cat input/md-charmm.mdp"
   ]
  },
  {
   "cell_type": "markdown",
   "metadata": {
    "nbpresent": {
     "id": "f0ff0a16-ecdd-40e6-af2c-4234793043c1"
    }
   },
   "source": [
    "Note we have explictly add a section that controls the output frequency in log file (.log), energy file (.edr), in the trajcotry file (.trr) and the compress trajectory file (.xtc).\n",
    "\n",
    "gmx grompp will print an estimate for generated data and PME load. PME load will dictate how many processors should be dedicated to the PME calculation, and how many for the PP (everything except for PME) calculations. Refer to the [manual](http://manual.gromacs.org/documentation/current/user-guide/mdrun-performance.html#parallelization-schemes) for details."
   ]
  },
  {
   "cell_type": "code",
   "execution_count": 59,
   "metadata": {
    "nbpresent": {
     "id": "9749ba51-ceef-4d26-a92b-f056a3a4e4c1"
    },
    "scrolled": true
   },
   "outputs": [
    {
     "name": "stdout",
     "output_type": "stream",
     "text": [
      "                 :-) GROMACS - gmx grompp, 2022-conda_forge (-:\n",
      "\n",
      "Executable:   /Users/ethan/anaconda3/envs/md-intro-tutorial/bin.AVX2_256/gmx\n",
      "Data prefix:  /Users/ethan/anaconda3/envs/md-intro-tutorial\n",
      "Working dir:  /Users/ethan/md-intro-tutorial/md-intro-tutorial-main/data\n",
      "Command line:\n",
      "  gmx grompp -f input/md-charmm.mdp -c npt.gro -t npt.cpt -p topol.top -o md.tpr\n",
      "\n",
      "Ignoring obsolete mdp entry 'title'\n",
      "Setting the LD random seed to -285774371\n",
      "\n",
      "Generated 20503 of the 20503 non-bonded parameter combinations\n",
      "Generating 1-4 interactions: fudge = 1\n",
      "\n",
      "Generated 17396 of the 20503 1-4 parameter combinations\n",
      "\n",
      "Excluding 3 bonded neighbours molecule type 'Protein_chain_A'\n",
      "\n",
      "turning H bonds into constraints...\n",
      "\n",
      "Excluding 3 bonded neighbours molecule type 'Protein_chain_L'\n",
      "\n",
      "turning H bonds into constraints...\n",
      "\n",
      "Excluding 2 bonded neighbours molecule type 'SOL'\n",
      "\n",
      "turning H bonds into constraints...\n",
      "\n",
      "Excluding 1 bonded neighbours molecule type 'NA'\n",
      "\n",
      "turning H bonds into constraints...\n",
      "\n",
      "Excluding 1 bonded neighbours molecule type 'CL'\n",
      "\n",
      "turning H bonds into constraints...\n",
      "Analysing residue names:\n",
      "There are:   286    Protein residues\n",
      "There are: 11703      Water residues\n",
      "There are:    74        Ion residues\n",
      "Analysing Protein...\n",
      "Analysing residues not classified as Protein/DNA/RNA/Water and splitting into groups...\n",
      "Number of degrees of freedom in T-Coupling group System is 81509.00\n",
      "\n",
      "The largest distance between excluded atoms is 0.426 nm\n",
      "\n",
      "Determining Verlet buffer for a tolerance of 0.005 kJ/mol/ps at 300 K\n",
      "\n",
      "Calculated rlist for 1x1 atom pair-list as 1.233 nm, buffer size 0.033 nm\n",
      "\n",
      "Set rlist, assuming 4x4 atom pair-list, to 1.200 nm, buffer size 0.000 nm\n",
      "\n",
      "Note that mdrun will redetermine rlist based on the actual pair-list setup\n",
      "\n",
      "Reading Coordinates, Velocities and Box size from old trajectory\n",
      "\n",
      "Will read whole trajectory\n",
      "Last frame         -1 time  100.000   \n",
      "\n",
      "Using frame at t = 100 ps\n",
      "\n",
      "Starting time for run is 0 ps\n",
      "Calculating fourier grid dimensions for X Y Z\n",
      "Using a fourier grid of 56x56x56, spacing 0.148 0.148 0.148\n",
      "\n",
      "Estimate for the relative computational load of the PME mesh part: 0.17\n",
      "\n",
      "This run will generate roughly 7 Mb of data\n",
      "\n",
      "GROMACS reminds you: \"Never mind, death professor, your structure's fine\" (TV on the Radio)\n",
      "\n"
     ]
    }
   ],
   "source": [
    "!gmx grompp -f input/md-charmm.mdp -c npt.gro -t npt.cpt -p topol.top -o md.tpr"
   ]
  },
  {
   "cell_type": "code",
   "execution_count": 60,
   "metadata": {
    "nbpresent": {
     "id": "94034110-7553-4031-ab62-01022bce77b8"
    },
    "scrolled": true
   },
   "outputs": [
    {
     "name": "stdout",
     "output_type": "stream",
     "text": [
      "                 :-) GROMACS - gmx mdrun, 2022-conda_forge (-:\n",
      "\n",
      "Executable:   /Users/ethan/anaconda3/envs/md-intro-tutorial/bin.AVX2_256/gmx\n",
      "Data prefix:  /Users/ethan/anaconda3/envs/md-intro-tutorial\n",
      "Working dir:  /Users/ethan/md-intro-tutorial/md-intro-tutorial-main/data\n",
      "Command line:\n",
      "  gmx mdrun -ntmpi 1 -v -deffnm md\n",
      "\n",
      "Reading file md.tpr, VERSION 2022-conda_forge (single precision)\n",
      "Changing nstlist from 10 to 80, rlist from 1.2 to 1.315\n",
      "\n",
      "Using 1 MPI thread\n",
      "Using 8 OpenMP threads \n",
      "\n",
      "starting mdrun 'COAGULATION FACTOR XA'\n",
      "50000 steps,    100.0 ps.\n",
      "step 49900, remaining wall clock time:     1 s          \n",
      "Writing final coordinates.\n",
      "step 50000, remaining wall clock time:     0 s          \n",
      "               Core t (s)   Wall t (s)        (%)\n",
      "       Time:     5871.622      733.953      800.0\n",
      "                 (ns/day)    (hour/ns)\n",
      "Performance:       11.772        2.039\n",
      "\n",
      "GROMACS reminds you: \"If you know you are on the right track, if you have this inner knowledge, then nobody can turn you off... no matter what they say.\" (Barbara McClintock)\n",
      "\n"
     ]
    }
   ],
   "source": [
    "!gmx mdrun -ntmpi 1 -v -deffnm md"
   ]
  },
  {
   "cell_type": "markdown",
   "metadata": {
    "nbpresent": {
     "id": "247e14a4-0892-4f32-9624-8402d0b7e070"
    }
   },
   "source": [
    "As before, this run will take some time - probably more than planned for going through this tutorial. As an alternative, use the data provided here"
   ]
  },
  {
   "cell_type": "code",
   "execution_count": 61,
   "metadata": {
    "nbpresent": {
     "id": "cbf6faf8-a98c-464d-8e0f-aa2fd6ae36cb"
    }
   },
   "outputs": [],
   "source": [
    "##ONLY execute the lines below if you do not want to run and wait for the simulation to finish\n",
    "#!cp reference/md_charmm.log md.log\n",
    "#!cp reference/md_charmm.edr md.edr\n",
    "#!cp reference/md_charmm.gro md.gro\n",
    "#!cp reference/md_charmm.xtc md.xtc"
   ]
  },
  {
   "cell_type": "markdown",
   "metadata": {
    "nbpresent": {
     "id": "f5ecb43b-4d2f-44e7-85dd-62f9d2665a17"
    }
   },
   "source": [
    "# Analysis"
   ]
  },
  {
   "cell_type": "markdown",
   "metadata": {
    "nbpresent": {
     "id": "ef9d62ee-3df6-4b4e-ba99-0eb1e6374fb2"
    }
   },
   "source": [
    "Now that we have simulated our protein, we should run some analysis on the system. What types of data are important? This is an important question to ask before running the simulation, so you should have some ideas about the types of data you will want to collect in your own systems. For this tutorial, a few basic tools will be introduced."
   ]
  },
  {
   "cell_type": "markdown",
   "metadata": {
    "nbpresent": {
     "id": "ef9d62ee-3df6-4b4e-ba99-0eb1e6374fb2"
    }
   },
   "source": [
    "The first tool is trjconv, which is used as a post-processing tool to strip out coordinates, correct for periodicity, or manually alter the trajectory (time units, frame frequency, etc). Here you find a suggested workflow for trjconv [link](https://manual.gromacs.org/2021/user-guide/terminology.html?highlight=periodic%20boundary). This exercise, we will use trjconv to account for any periodicity in the system. The protein will diffuse through the unit cell, and may appear \"broken\" or may \"jump\" across to the other side of the box. To account for such actions, issue the following:"
   ]
  },
  {
   "cell_type": "code",
   "execution_count": 62,
   "metadata": {
    "nbpresent": {
     "id": "49e846cb-4d93-4ff7-972e-2a01e68ffe13"
    },
    "scrolled": true
   },
   "outputs": [
    {
     "name": "stdout",
     "output_type": "stream",
     "text": [
      "                :-) GROMACS - gmx trjconv, 2022-conda_forge (-:\n",
      "\n",
      "Executable:   /Users/ethan/anaconda3/envs/md-intro-tutorial/bin.AVX2_256/gmx\n",
      "Data prefix:  /Users/ethan/anaconda3/envs/md-intro-tutorial\n",
      "Working dir:  /Users/ethan/md-intro-tutorial/md-intro-tutorial-main/data\n",
      "Command line:\n",
      "  gmx trjconv -s md.tpr -f md.xtc -o md_center.xtc -center -pbc mol\n",
      "\n",
      "Note that major changes are planned in future for trjconv, to improve usability and utility.\n",
      "Will write xtc: Compressed trajectory (portable xdr format): xtc\n",
      "Reading file md.tpr, VERSION 2022-conda_forge (single precision)\n",
      "Reading file md.tpr, VERSION 2022-conda_forge (single precision)\n",
      "Select group for centering\n",
      "Group     0 (         System) has 39600 elements\n",
      "Group     1 (        Protein) has  4417 elements\n",
      "Group     2 (      Protein-H) has  2238 elements\n",
      "Group     3 (        C-alpha) has   286 elements\n",
      "Group     4 (       Backbone) has   858 elements\n",
      "Group     5 (      MainChain) has  1142 elements\n",
      "Group     6 (   MainChain+Cb) has  1401 elements\n",
      "Group     7 (    MainChain+H) has  1423 elements\n",
      "Group     8 (      SideChain) has  2994 elements\n",
      "Group     9 (    SideChain-H) has  1096 elements\n",
      "Group    10 (    Prot-Masses) has  4417 elements\n",
      "Group    11 (    non-Protein) has 35183 elements\n",
      "Group    12 (          Water) has 35109 elements\n",
      "Group    13 (            SOL) has 35109 elements\n",
      "Group    14 (      non-Water) has  4491 elements\n",
      "Group    15 (            Ion) has    74 elements\n",
      "Group    16 (             NA) has    38 elements\n",
      "Group    17 (             CL) has    36 elements\n",
      "Group    18 ( Water_and_ions) has 35183 elements\n",
      "Select a group: Selected 1: 'Protein'\n",
      "Select group for output\n",
      "Group     0 (         System) has 39600 elements\n",
      "Group     1 (        Protein) has  4417 elements\n",
      "Group     2 (      Protein-H) has  2238 elements\n",
      "Group     3 (        C-alpha) has   286 elements\n",
      "Group     4 (       Backbone) has   858 elements\n",
      "Group     5 (      MainChain) has  1142 elements\n",
      "Group     6 (   MainChain+Cb) has  1401 elements\n",
      "Group     7 (    MainChain+H) has  1423 elements\n",
      "Group     8 (      SideChain) has  2994 elements\n",
      "Group     9 (    SideChain-H) has  1096 elements\n",
      "Group    10 (    Prot-Masses) has  4417 elements\n",
      "Group    11 (    non-Protein) has 35183 elements\n",
      "Group    12 (          Water) has 35109 elements\n",
      "Group    13 (            SOL) has 35109 elements\n",
      "Group    14 (      non-Water) has  4491 elements\n",
      "Group    15 (            Ion) has    74 elements\n",
      "Group    16 (             NA) has    38 elements\n",
      "Group    17 (             CL) has    36 elements\n",
      "Group    18 ( Water_and_ions) has 35183 elements\n",
      "Select a group: Selected 1: 'Protein'\n",
      "Reading frame       0 time    0.000   \n",
      "Precision of md.xtc is 0.001 (nm)\n",
      "Using output precision of 0.001 (nm)\n",
      "Last frame         20 time  100.000    ->  frame     19 time   95.000      \n",
      " ->  frame     20 time  100.000      \n",
      "Last written: frame     20 time  100.000\n",
      "\n",
      "\n",
      "GROMACS reminds you: \"If you know you are on the right track, if you have this inner knowledge, then nobody can turn you off... no matter what they say.\" (Barbara McClintock)\n",
      "\n"
     ]
    }
   ],
   "source": [
    "!printf \"1\\n1\\n\" | gmx trjconv -s md.tpr -f md.xtc -o md_center.xtc -center -pbc mol"
   ]
  },
  {
   "cell_type": "markdown",
   "metadata": {
    "nbpresent": {
     "id": "232962b5-46c5-460e-a6cd-d2c59ae98683"
    }
   },
   "source": [
    "Select 1 (\"Protein\") as the group to be centered and 1 (\"Protein\") for output. We will conduct all our analyses on this \"corrected\" trajectory. Let's look at so obtained trajcetory using vmd. "
   ]
  },
  {
   "cell_type": "code",
   "execution_count": 63,
   "metadata": {
    "nbpresent": {
     "id": "f45c2308-0e74-4025-ac1e-200ba2869162"
    },
    "scrolled": true
   },
   "outputs": [
    {
     "data": {
      "application/vnd.jupyter.widget-view+json": {
       "model_id": "869d8c0fbd0d4a3d91728102813fa103",
       "version_major": 2,
       "version_minor": 0
      },
      "text/plain": [
       "NGLWidget(max_frame=20)"
      ]
     },
     "metadata": {},
     "output_type": "display_data"
    }
   ],
   "source": [
    "import nglview as ng \n",
    "import mdtraj as md\n",
    "traj = md.load(\"md_center.xtc\", top=\"1fjs_newbox.gro\")\n",
    "view = ng.show_mdtraj(traj)\n",
    "view"
   ]
  },
  {
   "cell_type": "markdown",
   "metadata": {},
   "source": [
    "In alternative, remove the comment character (#) to use VMD "
   ]
  },
  {
   "cell_type": "code",
   "execution_count": 64,
   "metadata": {
    "nbpresent": {
     "id": "f45c2308-0e74-4025-ac1e-200ba2869162"
    },
    "scrolled": true
   },
   "outputs": [],
   "source": [
    "#!vmd 1fjs_newbox.gro md_center.xtc"
   ]
  },
  {
   "cell_type": "markdown",
   "metadata": {
    "nbpresent": {
     "id": "ef9d62ee-3df6-4b4e-ba99-0eb1e6374fb2"
    }
   },
   "source": [
    "Note, the protein should never interact with its periodic image (minimum image convention), otherwise the forces calculated will be spurious. To calculate the distance between the protein and its periodic image, we use the tool mindist with the option -pi. "
   ]
  },
  {
   "cell_type": "code",
   "execution_count": 65,
   "metadata": {
    "nbpresent": {
     "id": "49e846cb-4d93-4ff7-972e-2a01e68ffe13"
    },
    "scrolled": true
   },
   "outputs": [
    {
     "name": "stdout",
     "output_type": "stream",
     "text": [
      "                :-) GROMACS - gmx mindist, 2022-conda_forge (-:\n",
      "\n",
      "Executable:   /Users/ethan/anaconda3/envs/md-intro-tutorial/bin.AVX2_256/gmx\n",
      "Data prefix:  /Users/ethan/anaconda3/envs/md-intro-tutorial\n",
      "Working dir:  /Users/ethan/md-intro-tutorial/md-intro-tutorial-main/data\n",
      "Command line:\n",
      "  gmx mindist -s md.tpr -f md_center.xtc -pi -od mindist.xvg\n",
      "\n",
      "Choose a group for distance calculation\n",
      "Reading file md.tpr, VERSION 2022-conda_forge (single precision)\n",
      "Reading file md.tpr, VERSION 2022-conda_forge (single precision)\n",
      "Group     0 (         System) has 39600 elements\n",
      "Group     1 (        Protein) has  4417 elements\n",
      "Group     2 (      Protein-H) has  2238 elements\n",
      "Group     3 (        C-alpha) has   286 elements\n",
      "Group     4 (       Backbone) has   858 elements\n",
      "Group     5 (      MainChain) has  1142 elements\n",
      "Group     6 (   MainChain+Cb) has  1401 elements\n",
      "Group     7 (    MainChain+H) has  1423 elements\n",
      "Group     8 (      SideChain) has  2994 elements\n",
      "Group     9 (    SideChain-H) has  1096 elements\n",
      "Group    10 (    Prot-Masses) has  4417 elements\n",
      "Group    11 (    non-Protein) has 35183 elements\n",
      "Group    12 (          Water) has 35109 elements\n",
      "Group    13 (            SOL) has 35109 elements\n",
      "Group    14 (      non-Water) has  4491 elements\n",
      "Group    15 (            Ion) has    74 elements\n",
      "Group    16 (             NA) has    38 elements\n",
      "Group    17 (             CL) has    36 elements\n",
      "Group    18 ( Water_and_ions) has 35183 elements\n",
      "Select a group: Selected 1: 'Protein'\n",
      "Last frame         20 time  100.000   \n",
      "\n",
      "The shortest periodic distance is 2.06298 (nm) at time 70 (ps),\n",
      "between atoms 2162 and 4142\n",
      "\n",
      "GROMACS reminds you: \"...sometimes a scream is better than a thesis.\" (Ralph Waldo Emerson)\n",
      "\n"
     ]
    }
   ],
   "source": [
    "!printf \"1\\n\" | gmx mindist -s md.tpr -f md_center.xtc -pi -od mindist.xvg \n",
    "#!xmgrace mindist.xvg"
   ]
  },
  {
   "cell_type": "markdown",
   "metadata": {},
   "source": [
    "The distance between the protein and its periodic image should not be smaller than the cut-off used to describe non-bonded interactions."
   ]
  },
  {
   "cell_type": "markdown",
   "metadata": {
    "nbpresent": {
     "id": "232962b5-46c5-460e-a6cd-d2c59ae98683"
    }
   },
   "source": [
    "Now let's look at structural stability. GROMACS has a built-in utility for RMSD calculations called rms. To calculate RMSD relative to the crystal structure, issue this command:"
   ]
  },
  {
   "cell_type": "code",
   "execution_count": 66,
   "metadata": {
    "nbpresent": {
     "id": "41a754a7-38be-4f22-b1af-838fefef505b"
    },
    "scrolled": true
   },
   "outputs": [
    {
     "name": "stdout",
     "output_type": "stream",
     "text": [
      "                  :-) GROMACS - gmx rms, 2022-conda_forge (-:\n",
      "\n",
      "Executable:   /Users/ethan/anaconda3/envs/md-intro-tutorial/bin.AVX2_256/gmx\n",
      "Data prefix:  /Users/ethan/anaconda3/envs/md-intro-tutorial\n",
      "Working dir:  /Users/ethan/md-intro-tutorial/md-intro-tutorial-main/data\n",
      "Command line:\n",
      "  gmx rms -s em.tpr -f md_center.xtc -o rmsd_xray.xvg -tu ns -xvg none\n",
      "\n",
      "Reading file em.tpr, VERSION 2022-conda_forge (single precision)\n",
      "Reading file em.tpr, VERSION 2022-conda_forge (single precision)\n",
      "Select group for least squares fit\n",
      "Group     0 (         System) has 39600 elements\n",
      "Group     1 (        Protein) has  4417 elements\n",
      "Group     2 (      Protein-H) has  2238 elements\n",
      "Group     3 (        C-alpha) has   286 elements\n",
      "Group     4 (       Backbone) has   858 elements\n",
      "Group     5 (      MainChain) has  1142 elements\n",
      "Group     6 (   MainChain+Cb) has  1401 elements\n",
      "Group     7 (    MainChain+H) has  1423 elements\n",
      "Group     8 (      SideChain) has  2994 elements\n",
      "Group     9 (    SideChain-H) has  1096 elements\n",
      "Group    10 (    Prot-Masses) has  4417 elements\n",
      "Group    11 (    non-Protein) has 35183 elements\n",
      "Group    12 (          Water) has 35109 elements\n",
      "Group    13 (            SOL) has 35109 elements\n",
      "Group    14 (      non-Water) has  4491 elements\n",
      "Group    15 (            Ion) has    74 elements\n",
      "Group    16 (             NA) has    38 elements\n",
      "Group    17 (             CL) has    36 elements\n",
      "Group    18 ( Water_and_ions) has 35183 elements\n",
      "Select a group: Selected 4: 'Backbone'\n",
      "Select group for RMSD calculation\n",
      "Group     0 (         System) has 39600 elements\n",
      "Group     1 (        Protein) has  4417 elements\n",
      "Group     2 (      Protein-H) has  2238 elements\n",
      "Group     3 (        C-alpha) has   286 elements\n",
      "Group     4 (       Backbone) has   858 elements\n",
      "Group     5 (      MainChain) has  1142 elements\n",
      "Group     6 (   MainChain+Cb) has  1401 elements\n",
      "Group     7 (    MainChain+H) has  1423 elements\n",
      "Group     8 (      SideChain) has  2994 elements\n",
      "Group     9 (    SideChain-H) has  1096 elements\n",
      "Group    10 (    Prot-Masses) has  4417 elements\n",
      "Group    11 (    non-Protein) has 35183 elements\n",
      "Group    12 (          Water) has 35109 elements\n",
      "Group    13 (            SOL) has 35109 elements\n",
      "Group    14 (      non-Water) has  4491 elements\n",
      "Group    15 (            Ion) has    74 elements\n",
      "Group    16 (             NA) has    38 elements\n",
      "Group    17 (             CL) has    36 elements\n",
      "Group    18 ( Water_and_ions) has 35183 elements\n",
      "Select a group: Selected 1: 'Protein'\n",
      "Reading frame       0 time    0.000   \n",
      "WARNING: topology has 39600 atoms, whereas trajectory has 4417\n",
      "Last frame         20 time    0.100   \n",
      "\n",
      "GROMACS reminds you: \"...sometimes a scream is better than a thesis.\" (Ralph Waldo Emerson)\n",
      "\n"
     ]
    }
   ],
   "source": [
    "!printf \"4\\n1\\n\" | gmx rms -s em.tpr -f md_center.xtc -o rmsd_xray.xvg -tu ns -xvg none"
   ]
  },
  {
   "cell_type": "markdown",
   "metadata": {
    "nbpresent": {
     "id": "ca9b922f-429b-45f5-b118-aa633c85c2e6"
    }
   },
   "source": [
    "Choose 4 (\"Backbone\") for both the least-squares fit and the group for RMSD calculation. The -tu flag will output the results in terms of ns, even though the trajectory was written in ps. This is done for clarity of the output (especially if you have a long simulation - 1ns does not look as nice as 100 ns). The output plot will show the RMSD relative to the structure present in the original pdb file:\n"
   ]
  },
  {
   "cell_type": "code",
   "execution_count": 67,
   "metadata": {
    "nbpresent": {
     "id": "4ce04079-a188-4372-ac3f-10665cd8b1a5"
    },
    "scrolled": false
   },
   "outputs": [
    {
     "data": {
      "text/plain": [
       "<AxesSubplot:xlabel='time'>"
      ]
     },
     "execution_count": 67,
     "metadata": {},
     "output_type": "execute_result"
    },
    {
     "data": {
      "image/png": "[encoded data removed]",
      "text/plain": [
       "<Figure size 432x288 with 1 Axes>"
      ]
     },
     "metadata": {
      "needs_background": "light"
     },
     "output_type": "display_data"
    }
   ],
   "source": [
    "import pandas as pd\n",
    "df = pd.read_csv('rmsd_xray.xvg', sep='\\s+', header=None, names=['time','RMSD'])\n",
    "df.plot('time')"
   ]
  },
  {
   "cell_type": "markdown",
   "metadata": {},
   "source": [
    "Or for alterantive visualization, remove the comment characters (#) in the following cells:"
   ]
  },
  {
   "cell_type": "code",
   "execution_count": 68,
   "metadata": {
    "nbpresent": {
     "id": "41a754a7-38be-4f22-b1af-838fefef505b"
    },
    "scrolled": true
   },
   "outputs": [],
   "source": [
    "#!printf \"4\\n1\\n\" | gmx rms -s em.tpr -f md_center.xtc -o rmsd_xray.xvg -tu ns"
   ]
  },
  {
   "cell_type": "code",
   "execution_count": 69,
   "metadata": {
    "nbpresent": {
     "id": "0938839f-aaff-455f-a2e0-8e6e1c5f7e19"
    },
    "scrolled": true
   },
   "outputs": [],
   "source": [
    "#!xmgrace rmsd_xray.xvg "
   ]
  },
  {
   "cell_type": "markdown",
   "metadata": {
    "nbpresent": {
     "id": "e09ab1d9-4a3c-4f31-a309-524cafbea23f"
    }
   },
   "source": [
    "The time serie shows the RMSD levels off to ~0.15 nm (1 Å), indicating that the structure is stable. \n",
    "\n",
    "The option `-h` provides help information for GROMACS tool. "
   ]
  },
  {
   "cell_type": "code",
   "execution_count": 70,
   "metadata": {},
   "outputs": [
    {
     "name": "stdout",
     "output_type": "stream",
     "text": [
      "                  :-) GROMACS - gmx rms, 2022-conda_forge (-:\r\n",
      "\r\n",
      "Executable:   /Users/ethan/anaconda3/envs/md-intro-tutorial/bin.AVX2_256/gmx\r\n",
      "Data prefix:  /Users/ethan/anaconda3/envs/md-intro-tutorial\r\n",
      "Working dir:  /Users/ethan/md-intro-tutorial/md-intro-tutorial-main/data\r\n",
      "Command line:\r\n",
      "  gmx rms -h\r\n",
      "\r\n",
      "SYNOPSIS\r\n",
      "\r\n",
      "gmx rms [-s [<.tpr/.gro/...>]] [-f [<.xtc/.trr/...>]]\r\n",
      "        [-f2 [<.xtc/.trr/...>]] [-n [<.ndx>]] [-o [<.xvg>]] [-mir [<.xvg>]]\r\n",
      "        [-a [<.xvg>]] [-dist [<.xvg>]] [-m [<.xpm>]] [-bin [<.dat>]]\r\n",
      "        [-bm [<.xpm>]] [-b <time>] [-e <time>] [-dt <time>] [-tu <enum>]\r\n",
      "        [-[no]w] [-xvg <enum>] [-what <enum>] [-[no]pbc] [-fit <enum>]\r\n",
      "        [-prev <int>] [-[no]split] [-skip <int>] [-skip2 <int>] [-max <real>]\r\n",
      "        [-min <real>] [-bmax <real>] [-bmin <real>] [-[no]mw]\r\n",
      "        [-nlevels <int>] [-ng <int>]\r\n",
      "\r\n",
      "DESCRIPTION\r\n",
      "\r\n",
      "gmx rms compares two structures by computing the root mean square deviation\r\n",
      "(RMSD), the size-independent rho similarity parameter (rho) or the scaled rho\r\n",
      "(rhosc), see Maiorov & Crippen, Proteins 22, 273 (1995). This is selected by\r\n",
      "-what.\r\n",
      "\r\n",
      "Each structure from a trajectory (-f) is compared to a reference structure.\r\n",
      "The reference structure is taken from the structure file (-s).\r\n",
      "\r\n",
      "With option -mir also a comparison with the mirror image of the reference\r\n",
      "structure is calculated. This is useful as a reference for 'significant'\r\n",
      "values, see Maiorov & Crippen, Proteins 22, 273 (1995).\r\n",
      "\r\n",
      "Option -prev produces the comparison with a previous frame the specified\r\n",
      "number of frames ago.\r\n",
      "\r\n",
      "Option -m produces a matrix in .xpm format of comparison values of each\r\n",
      "structure in the trajectory with respect to each other structure. This file\r\n",
      "can be visualized with for instance xv and can be converted to postscript with\r\n",
      "gmx xpm2ps.\r\n",
      "\r\n",
      "Option -fit controls the least-squares fitting of the structures on top of\r\n",
      "each other: complete fit (rotation and translation), translation only, or no\r\n",
      "fitting at all.\r\n",
      "\r\n",
      "Option -mw controls whether mass weighting is done or not. If you select the\r\n",
      "option (default) and supply a valid .tpr file masses will be taken from there,\r\n",
      "otherwise the masses will be deduced from the atommass.dat file in GMXLIB\r\n",
      "(deprecated). This is fine for proteins, but not necessarily for other\r\n",
      "molecules. You can check whether this happened by turning on the -debug flag\r\n",
      "and inspecting the log file.\r\n",
      "\r\n",
      "With -f2, the 'other structures' are taken from a second trajectory, this\r\n",
      "generates a comparison matrix of one trajectory versus the other.\r\n",
      "\r\n",
      "Option -bin does a binary dump of the comparison matrix.\r\n",
      "\r\n",
      "Option -bm produces a matrix of average bond angle deviations analogously to\r\n",
      "the -m option. Only bonds between atoms in the comparison group are\r\n",
      "considered.\r\n",
      "\r\n",
      "OPTIONS\r\n",
      "\r\n",
      "Options to specify input files:\r\n",
      "\r\n",
      " -s      [<.tpr/.gro/...>]  (topol.tpr)\r\n",
      "           Structure+mass(db): tpr gro g96 pdb brk ent\r\n",
      " -f      [<.xtc/.trr/...>]  (traj.xtc)\r\n",
      "           Trajectory: xtc trr cpt gro g96 pdb tng\r\n",
      " -f2     [<.xtc/.trr/...>]  (traj.xtc)       (Opt.)\r\n",
      "           Trajectory: xtc trr cpt gro g96 pdb tng\r\n",
      " -n      [<.ndx>]           (index.ndx)      (Opt.)\r\n",
      "           Index file\r\n",
      "\r\n",
      "Options to specify output files:\r\n",
      "\r\n",
      " -o      [<.xvg>]           (rmsd.xvg)\r\n",
      "           xvgr/xmgr file\r\n",
      " -mir    [<.xvg>]           (rmsdmir.xvg)    (Opt.)\r\n",
      "           xvgr/xmgr file\r\n",
      " -a      [<.xvg>]           (avgrp.xvg)      (Opt.)\r\n",
      "           xvgr/xmgr file\r\n",
      " -dist   [<.xvg>]           (rmsd-dist.xvg)  (Opt.)\r\n",
      "           xvgr/xmgr file\r\n",
      " -m      [<.xpm>]           (rmsd.xpm)       (Opt.)\r\n",
      "           X PixMap compatible matrix file\r\n",
      " -bin    [<.dat>]           (rmsd.dat)       (Opt.)\r\n",
      "           Generic data file\r\n",
      " -bm     [<.xpm>]           (bond.xpm)       (Opt.)\r\n",
      "           X PixMap compatible matrix file\r\n",
      "\r\n",
      "Other options:\r\n",
      "\r\n",
      " -b      <time>             (0)\r\n",
      "           Time of first frame to read from trajectory (default unit ps)\r\n",
      " -e      <time>             (0)\r\n",
      "           Time of last frame to read from trajectory (default unit ps)\r\n",
      " -dt     <time>             (0)\r\n",
      "           Only use frame when t MOD dt = first time (default unit ps)\r\n",
      " -tu     <enum>             (ps)\r\n",
      "           Unit for time values: fs, ps, ns, us, ms, s\r\n",
      " -[no]w                     (no)\r\n",
      "           View output .xvg, .xpm, .eps and .pdb files\r\n",
      " -xvg    <enum>             (xmgrace)\r\n",
      "           xvg plot formatting: xmgrace, xmgr, none\r\n",
      " -what   <enum>             (rmsd)\r\n",
      "           Structural difference measure: rmsd, rho, rhosc\r\n",
      " -[no]pbc                   (yes)\r\n",
      "           PBC check\r\n",
      " -fit    <enum>             (rot+trans)\r\n",
      "           Fit to reference structure: rot+trans, translation, none\r\n",
      " -prev   <int>              (0)\r\n",
      "           Compare with previous frame\r\n",
      " -[no]split                 (no)\r\n",
      "           Split graph where time is zero\r\n",
      " -skip   <int>              (1)\r\n",
      "           Only write every nr-th frame to matrix\r\n",
      " -skip2  <int>              (1)\r\n",
      "           Only write every nr-th frame to matrix\r\n",
      " -max    <real>             (-1)\r\n",
      "           Maximum level in comparison matrix\r\n",
      " -min    <real>             (-1)\r\n",
      "           Minimum level in comparison matrix\r\n",
      " -bmax   <real>             (-1)\r\n",
      "           Maximum level in bond angle matrix\r\n",
      " -bmin   <real>             (-1)\r\n",
      "           Minimum level in bond angle matrix\r\n",
      " -[no]mw                    (yes)\r\n",
      "           Use mass weighting for superposition\r\n",
      " -nlevels <int>             (80)\r\n",
      "           Number of levels in the matrices\r\n",
      " -ng     <int>              (1)\r\n",
      "           Number of groups to compute RMS between\r\n",
      "\r\n",
      "GROMACS reminds you: \"May the Force Be With You\" (Star Wars)\r\n",
      "\r\n"
     ]
    }
   ],
   "source": [
    "!gmx rms -h"
   ]
  },
  {
   "cell_type": "markdown",
   "metadata": {
    "nbpresent": {
     "id": "0c6ed6c2-b327-4aa5-be30-5a34dda3fb00"
    }
   },
   "source": [
    "## Radius of gyration"
   ]
  },
  {
   "cell_type": "markdown",
   "metadata": {
    "nbpresent": {
     "id": "5e00cc55-3f22-419c-b7ec-12b1a1974c87"
    }
   },
   "source": [
    "The radius of gyration of a protein is a measure of its compactness. If a protein is stably folded, it will likely maintain a relatively steady value of Rg. If a protein unfolds, its Rg will change over time. Let's analyze the radius of gyration for the protein in our simulation:"
   ]
  },
  {
   "cell_type": "code",
   "execution_count": 71,
   "metadata": {
    "nbpresent": {
     "id": "d5801034-d329-48bd-9563-b59b3df88421"
    },
    "scrolled": true
   },
   "outputs": [
    {
     "name": "stdout",
     "output_type": "stream",
     "text": [
      "                 :-) GROMACS - gmx gyrate, 2022-conda_forge (-:\n",
      "\n",
      "Executable:   /Users/ethan/anaconda3/envs/md-intro-tutorial/bin.AVX2_256/gmx\n",
      "Data prefix:  /Users/ethan/anaconda3/envs/md-intro-tutorial\n",
      "Working dir:  /Users/ethan/md-intro-tutorial/md-intro-tutorial-main/data\n",
      "Command line:\n",
      "  gmx gyrate -f md_center.xtc -s md.tpr -o gyrate.xvg -xvg none\n",
      "\n",
      "Reading file md.tpr, VERSION 2022-conda_forge (single precision)\n",
      "Reading file md.tpr, VERSION 2022-conda_forge (single precision)\n",
      "Group     0 (         System) has 39600 elements\n",
      "Group     1 (        Protein) has  4417 elements\n",
      "Group     2 (      Protein-H) has  2238 elements\n",
      "Group     3 (        C-alpha) has   286 elements\n",
      "Group     4 (       Backbone) has   858 elements\n",
      "Group     5 (      MainChain) has  1142 elements\n",
      "Group     6 (   MainChain+Cb) has  1401 elements\n",
      "Group     7 (    MainChain+H) has  1423 elements\n",
      "Group     8 (      SideChain) has  2994 elements\n",
      "Group     9 (    SideChain-H) has  1096 elements\n",
      "Group    10 (    Prot-Masses) has  4417 elements\n",
      "Group    11 (    non-Protein) has 35183 elements\n",
      "Group    12 (          Water) has 35109 elements\n",
      "Group    13 (            SOL) has 35109 elements\n",
      "Group    14 (      non-Water) has  4491 elements\n",
      "Group    15 (            Ion) has    74 elements\n",
      "Group    16 (             NA) has    38 elements\n",
      "Group    17 (             CL) has    36 elements\n",
      "Group    18 ( Water_and_ions) has 35183 elements\n",
      "Select a group: Selected 1: 'Protein'\n",
      "Last frame         20 time  100.000   \n",
      "\n",
      "GROMACS reminds you: \"May the Force Be With You\" (Star Wars)\n",
      "\n"
     ]
    }
   ],
   "source": [
    "!echo \"1\" | gmx gyrate -f md_center.xtc -s md.tpr -o gyrate.xvg -xvg none"
   ]
  },
  {
   "cell_type": "code",
   "execution_count": 72,
   "metadata": {
    "nbpresent": {
     "id": "4ce04079-a188-4372-ac3f-10665cd8b1a5"
    },
    "scrolled": false
   },
   "outputs": [
    {
     "data": {
      "text/plain": [
       "<AxesSubplot:xlabel='time'>"
      ]
     },
     "execution_count": 72,
     "metadata": {},
     "output_type": "execute_result"
    },
    {
     "data": {
      "image/png": "[encoded data removed]",
      "text/plain": [
       "<Figure size 432x288 with 1 Axes>"
      ]
     },
     "metadata": {
      "needs_background": "light"
     },
     "output_type": "display_data"
    }
   ],
   "source": [
    "import pandas as pd\n",
    "df = pd.read_csv('gyrate.xvg', sep='\\s+', header=None, names=['time','Rg'], usecols=[0, 1])\n",
    "df.plot('time')"
   ]
  },
  {
   "cell_type": "markdown",
   "metadata": {},
   "source": [
    "Or for alterantive visualization, remove the comment characters (#) in the following cells:"
   ]
  },
  {
   "cell_type": "code",
   "execution_count": 73,
   "metadata": {
    "nbpresent": {
     "id": "d5801034-d329-48bd-9563-b59b3df88421"
    },
    "scrolled": true
   },
   "outputs": [],
   "source": [
    "#!echo \"1\" | gmx gyrate -f md_center.xtc -s md.tpr -o gyrate.xvg "
   ]
  },
  {
   "cell_type": "code",
   "execution_count": 74,
   "metadata": {
    "nbpresent": {
     "id": "bacba8b7-de93-4e5f-a08b-5154ace5af43"
    },
    "scrolled": true
   },
   "outputs": [],
   "source": [
    "#!xmgrace gyrate.xvg"
   ]
  },
  {
   "cell_type": "markdown",
   "metadata": {
    "nbpresent": {
     "id": "ca31ca31-edde-434e-9757-96e683450f2b"
    }
   },
   "source": [
    "We can see from the reasonably invariant Rg values that the protein remains very stable, in its compact (folded) form over the course of 1 ns at 300 K. This result is not unexpected, but illustrates an advanced capacity of GROMACS analysis that comes built-in."
   ]
  },
  {
   "cell_type": "markdown",
   "metadata": {
    "nbpresent": {
     "id": "0c6ed6c2-b327-4aa5-be30-5a34dda3fb00"
    }
   },
   "source": [
    "## Index file"
   ]
  },
  {
   "cell_type": "markdown",
   "metadata": {},
   "source": [
    "Index groups are necessary for almost every GROMACS tools. All GROMACS tools can generate default index groups. If one needs special index groups, he/she can use gmx make_ndx to generate an index file (ndx). For example the command `splitch 1` splits the group 1 (Protein) in chains and the command `q`  close the tool.  "
   ]
  },
  {
   "cell_type": "code",
   "execution_count": 75,
   "metadata": {},
   "outputs": [
    {
     "name": "stdout",
     "output_type": "stream",
     "text": [
      "                :-) GROMACS - gmx make_ndx, 2022-conda_forge (-:\n",
      "\n",
      "Executable:   /Users/ethan/anaconda3/envs/md-intro-tutorial/bin.AVX2_256/gmx\n",
      "Data prefix:  /Users/ethan/anaconda3/envs/md-intro-tutorial\n",
      "Working dir:  /Users/ethan/md-intro-tutorial/md-intro-tutorial-main/data\n",
      "Command line:\n",
      "  gmx make_ndx -f em.tpr -o\n",
      "\n",
      "\n",
      "Reading structure file\n",
      "Reading file em.tpr, VERSION 2022-conda_forge (single precision)\n",
      "Reading file em.tpr, VERSION 2022-conda_forge (single precision)\n",
      "Going to read 0 old index file(s)\n",
      "Analysing residue names:\n",
      "There are:   286    Protein residues\n",
      "There are: 11703      Water residues\n",
      "There are:    74        Ion residues\n",
      "Analysing Protein...\n",
      "Analysing residues not classified as Protein/DNA/RNA/Water and splitting into groups...\n",
      "\n",
      "  0 System              : 39600 atoms\n",
      "  1 Protein             :  4417 atoms\n",
      "  2 Protein-H           :  2238 atoms\n",
      "  3 C-alpha             :   286 atoms\n",
      "  4 Backbone            :   858 atoms\n",
      "  5 MainChain           :  1142 atoms\n",
      "  6 MainChain+Cb        :  1401 atoms\n",
      "  7 MainChain+H         :  1423 atoms\n",
      "  8 SideChain           :  2994 atoms\n",
      "  9 SideChain-H         :  1096 atoms\n",
      " 10 Prot-Masses         :  4417 atoms\n",
      " 11 non-Protein         : 35183 atoms\n",
      " 12 Water               : 35109 atoms\n",
      " 13 SOL                 : 35109 atoms\n",
      " 14 non-Water           :  4491 atoms\n",
      " 15 Ion                 :    74 atoms\n",
      " 16 NA                  :    38 atoms\n",
      " 17 CL                  :    36 atoms\n",
      " 18 Water_and_ions      : 35183 atoms\n",
      "\n",
      " nr : group      '!': not  'name' nr name   'splitch' nr    Enter: list groups\n",
      " 'a': atom       '&': and  'del' nr         'splitres' nr   'l': list residues\n",
      " 't': atom type  '|': or   'keep' nr        'splitat' nr    'h': help\n",
      " 'r': residue              'res' nr         'chain' char\n",
      " \"name\": group             'case': case sensitive           'q': save and quit\n",
      " 'ri': residue index\n",
      "\n",
      "> \n",
      "Found 2 chains\n",
      "1:  3673 atoms (1 to 3673)\n",
      "2:   744 atoms (3674 to 4417)\n",
      "\n",
      "> \n",
      "\n",
      "GROMACS reminds you: \"May the Force Be With You\" (Star Wars)\n",
      "\n"
     ]
    }
   ],
   "source": [
    "!printf \"splitch 1\\nq\\n\" | gmx make_ndx -f em.tpr -o "
   ]
  },
  {
   "cell_type": "markdown",
   "metadata": {},
   "source": [
    "Now we can calculate the hydrogen bonds between the two protein chains using the tool gmx hbond. The option -num provide the number of hydrogen bond as a funtion of time.  "
   ]
  },
  {
   "cell_type": "code",
   "execution_count": 76,
   "metadata": {},
   "outputs": [
    {
     "name": "stdout",
     "output_type": "stream",
     "text": [
      "                 :-) GROMACS - gmx hbond, 2022-conda_forge (-:\n",
      "\n",
      "Executable:   /Users/ethan/anaconda3/envs/md-intro-tutorial/bin.AVX2_256/gmx\n",
      "Data prefix:  /Users/ethan/anaconda3/envs/md-intro-tutorial\n",
      "Working dir:  /Users/ethan/md-intro-tutorial/md-intro-tutorial-main/data\n",
      "Command line:\n",
      "  gmx hbond -f md.xtc -s md.tpr -n index.ndx -num -xvg none\n",
      "\n",
      "Reading file md.tpr, VERSION 2022-conda_forge (single precision)\n",
      "Specify 2 groups to analyze:\n",
      "Group     0 (         System) has 39600 elements\n",
      "Group     1 (        Protein) has  4417 elements\n",
      "Group     2 (      Protein-H) has  2238 elements\n",
      "Group     3 (        C-alpha) has   286 elements\n",
      "Group     4 (       Backbone) has   858 elements\n",
      "Group     5 (      MainChain) has  1142 elements\n",
      "Group     6 (   MainChain+Cb) has  1401 elements\n",
      "Group     7 (    MainChain+H) has  1423 elements\n",
      "Group     8 (      SideChain) has  2994 elements\n",
      "Group     9 (    SideChain-H) has  1096 elements\n",
      "Group    10 (    Prot-Masses) has  4417 elements\n",
      "Group    11 (    non-Protein) has 35183 elements\n",
      "Group    12 (          Water) has 35109 elements\n",
      "Group    13 (            SOL) has 35109 elements\n",
      "Group    14 (      non-Water) has  4491 elements\n",
      "Group    15 (            Ion) has    74 elements\n",
      "Group    16 (             NA) has    38 elements\n",
      "Group    17 (             CL) has    36 elements\n",
      "Group    18 ( Water_and_ions) has 35183 elements\n",
      "Group    19 ( Protein_chain1) has  3673 elements\n",
      "Group    20 ( Protein_chain2) has   744 elements\n",
      "Select a group: Selected 19: 'Protein_chain1'\n",
      "Select a group: Selected 20: 'Protein_chain2'\n",
      "Checking for overlap in atoms between Protein_chain1 and Protein_chain2\n",
      "Calculating hydrogen bonds between Protein_chain1 (3673 atoms) and Protein_chain2 (744 atoms)\n",
      "Found 421 donors and 820 acceptors\n",
      "Reading frame       0 time    0.000   \n",
      "Will do grid-search on 19x19x13 grid, rcut=0.34999999\n",
      "Frame loop parallelized with OpenMP using 8 threads.\n",
      "Last frame         20 time  100.000   \n",
      "Average number of hbonds per timeframe 8.000 out of 172610 possible\n",
      "\n",
      "GROMACS reminds you: \"May the Force Be With You\" (Star Wars)\n",
      "\n"
     ]
    }
   ],
   "source": [
    "!printf \"19\\n20\\n\"| gmx hbond -f md.xtc -s md.tpr  -n index.ndx -num -xvg none"
   ]
  },
  {
   "cell_type": "code",
   "execution_count": 77,
   "metadata": {
    "nbpresent": {
     "id": "4ce04079-a188-4372-ac3f-10665cd8b1a5"
    },
    "scrolled": false
   },
   "outputs": [
    {
     "data": {
      "text/plain": [
       "<AxesSubplot:xlabel='time'>"
      ]
     },
     "execution_count": 77,
     "metadata": {},
     "output_type": "execute_result"
    },
    {
     "data": {
      "image/png": "[encoded data removed]",
      "text/plain": [
       "<Figure size 432x288 with 1 Axes>"
      ]
     },
     "metadata": {
      "needs_background": "light"
     },
     "output_type": "display_data"
    }
   ],
   "source": [
    "import pandas as pd\n",
    "df = pd.read_csv('hbnum.xvg', sep='\\s+', header=None, names=['time','H-bonds'], usecols=[0, 1])\n",
    "df.plot('time')"
   ]
  },
  {
   "cell_type": "markdown",
   "metadata": {},
   "source": [
    "Or for alterantive visualization, remove the comment characters (#) in the following cells:"
   ]
  },
  {
   "cell_type": "code",
   "execution_count": 78,
   "metadata": {},
   "outputs": [],
   "source": [
    "#!printf \"19\\n20\\n\"| gmx hbond -f md.xtc -s md.tpr  -n index.ndx -num"
   ]
  },
  {
   "cell_type": "code",
   "execution_count": 79,
   "metadata": {},
   "outputs": [],
   "source": [
    "#!xmgrace hbnum.xvg"
   ]
  },
  {
   "cell_type": "markdown",
   "metadata": {
    "nbpresent": {
     "id": "f71b256d-7af7-4fc5-aecf-3a7470134fb9"
    }
   },
   "source": [
    "## Excursion: Plotting gromacs data with \"pandas\" in python and notebooks"
   ]
  },
  {
   "cell_type": "markdown",
   "metadata": {
    "nbpresent": {
     "id": "4c87141e-8583-497a-8c8c-22ca7e149a3f"
    }
   },
   "source": [
    "To analyse or visualize simulation data in python or jupyter notebooks, we can output a simplified xvg format from gmx-analysis tools with the option `-xvg none`"
   ]
  },
  {
   "cell_type": "code",
   "execution_count": 80,
   "metadata": {
    "nbpresent": {
     "id": "9ebad872-0589-4675-a240-b89c396a35c1"
    },
    "scrolled": true
   },
   "outputs": [
    {
     "name": "stdout",
     "output_type": "stream",
     "text": [
      "                 :-) GROMACS - gmx energy, 2022-conda_forge (-:\r\n",
      "\r\n",
      "Executable:   /Users/ethan/anaconda3/envs/md-intro-tutorial/bin.AVX2_256/gmx\r\n",
      "Data prefix:  /Users/ethan/anaconda3/envs/md-intro-tutorial\r\n",
      "Working dir:  /Users/ethan/md-intro-tutorial/md-intro-tutorial-main/data\r\n",
      "Command line:\r\n",
      "  gmx energy -f em.edr -o potential.xvg -xvg none\r\n",
      "\r\n",
      "Opened em.edr as single precision energy file\r\n",
      "\r\n",
      "Select the terms you want from the following list by\r\n",
      "selecting either (part of) the name or the number or a combination.\r\n",
      "End your selection with an empty line or a zero.\r\n",
      "-------------------------------------------------------------------\r\n",
      "  1  Bond             2  U-B              3  Proper-Dih.      4  Improper-Dih. \r\n",
      "  5  CMAP-Dih.        6  LJ-14            7  Coulomb-14       8  LJ-(SR)       \r\n",
      "  9  Coulomb-(SR)    10  Coul.-recip.    11  Potential       12  Pressure      \r\n",
      " 13  Constr.-rmsd    14  Vir-XX          15  Vir-XY          16  Vir-XZ        \r\n",
      " 17  Vir-YX          18  Vir-YY          19  Vir-YZ          20  Vir-ZX        \r\n",
      " 21  Vir-ZY          22  Vir-ZZ          23  Pres-XX         24  Pres-XY       \r\n",
      " 25  Pres-XZ         26  Pres-YX         27  Pres-YY         28  Pres-YZ       \r\n",
      " 29  Pres-ZX         30  Pres-ZY         31  Pres-ZZ         32  #Surf*SurfTen \r\n",
      " 33  T-rest        \r\n",
      "\r\n",
      "\r\n",
      "Back Off! I just backed up potential.xvg to ./#potential.xvg.1#\r\n",
      "\r",
      "Reading energy frame      0 time    0.000         \r",
      "Reading energy frame      1 time    1.000         \r",
      "Reading energy frame      2 time    2.000         \r",
      "Reading energy frame      3 time    3.000         \r",
      "Reading energy frame      4 time    4.000         \r",
      "Reading energy frame      5 time    5.000         \r",
      "Reading energy frame      6 time    6.000         \r",
      "Reading energy frame      7 time    7.000         \r",
      "Reading energy frame      8 time    8.000         \r",
      "Reading energy frame      9 time    9.000         \r",
      "Reading energy frame     10 time   10.000         \r",
      "Reading energy frame     11 time   11.000         \r",
      "Reading energy frame     12 time   13.000         \r",
      "Reading energy frame     13 time   14.000         \r",
      "Reading energy frame     14 time   15.000         \r",
      "Reading energy frame     15 time   17.000         \r",
      "Reading energy frame     16 time   18.000         \r",
      "Reading energy frame     17 time   19.000         \r",
      "Reading energy frame     18 time   21.000         \r",
      "Reading energy frame     19 time   22.000         \r",
      "Reading energy frame     20 time   23.000         \r",
      "Reading energy frame     30 time   36.000         \r",
      "Reading energy frame     40 time   49.000         \r",
      "Reading energy frame     50 time   61.000         \r",
      "Reading energy frame     60 time   73.000         \r",
      "Reading energy frame     70 time   86.000         \r",
      "Reading energy frame     80 time   99.000         \r",
      "Reading energy frame     90 time  112.000         \r",
      "Reading energy frame    100 time  124.000         \r",
      "Reading energy frame    110 time  138.000         \r",
      "Reading energy frame    120 time  150.000         \r",
      "Reading energy frame    130 time  163.000         \r",
      "Reading energy frame    140 time  175.000         \r",
      "Reading energy frame    150 time  188.000         \r",
      "Reading energy frame    160 time  201.000         \r",
      "Reading energy frame    170 time  213.000         \r",
      "Reading energy frame    180 time  226.000         \r",
      "Reading energy frame    190 time  239.000         \r",
      "Reading energy frame    200 time  251.000         \r",
      "Reading energy frame    300 time  378.000         \r",
      "Reading energy frame    400 time  504.000         \r",
      "Reading energy frame    500 time  631.000         \r",
      "Reading energy frame    600 time  757.000         \r",
      "Last energy frame read 639 time  807.000         \r\n",
      "\r\n",
      "Statistics over 808 steps [ 0.0000 through 807.0000 ps ], 1 data sets\r\n",
      "All statistics are over 640 points (frames)\r\n",
      "\r\n",
      "Energy                      Average   Err.Est.       RMSD  Tot-Drift\r\n",
      "-------------------------------------------------------------------------------\r\n",
      "Pressure                   -3633.13       1200     4976.1   -7086.02  (bar)\r\n",
      "\r\n",
      "GROMACS reminds you: \"If you open your mind too much, your brains will fall out.\" (Tim Minchin)\r\n",
      "\r\n"
     ]
    }
   ],
   "source": [
    "!echo \"12\\n0\\n\" | gmx energy -f em.edr -o potential.xvg -xvg none"
   ]
  },
  {
   "cell_type": "markdown",
   "metadata": {
    "nbpresent": {
     "id": "a4591650-99ca-436f-a572-7e254adb454e"
    }
   },
   "source": [
    "And here is the plot.."
   ]
  },
  {
   "cell_type": "code",
   "execution_count": 81,
   "metadata": {
    "nbpresent": {
     "id": "4ce04079-a188-4372-ac3f-10665cd8b1a5"
    },
    "scrolled": true
   },
   "outputs": [
    {
     "data": {
      "text/plain": [
       "<AxesSubplot:xlabel='time'>"
      ]
     },
     "execution_count": 81,
     "metadata": {},
     "output_type": "execute_result"
    },
    {
     "data": {
      "image/png": "[encoded data removed]",
      "text/plain": [
       "<Figure size 432x288 with 1 Axes>"
      ]
     },
     "metadata": {
      "needs_background": "light"
     },
     "output_type": "display_data"
    }
   ],
   "source": [
    "import pandas as pd\n",
    "df = pd.read_csv('potential.xvg', sep='\\s+', header=None, names=['time','energy'])\n",
    "df.plot('time')"
   ]
  },
  {
   "cell_type": "code",
   "execution_count": null,
   "metadata": {},
   "outputs": [],
   "source": []
  }
 ],
 "metadata": {
  "anaconda-cloud": {},
  "kernelspec": {
   "display_name": "Python 3 (ipykernel)",
   "language": "python",
   "name": "python3"
  },
  "language_info": {
   "codemirror_mode": {
    "name": "ipython",
    "version": 3
   },
   "file_extension": ".py",
   "mimetype": "text/x-python",
   "name": "python",
   "nbconvert_exporter": "python",
   "pygments_lexer": "ipython3",
   "version": "3.10.5"
  },
  "nbpresent": {
   "slides": {
    "5ee989b6-b87f-45b2-b186-0f81e2eb6c0e": {
     "id": "5ee989b6-b87f-45b2-b186-0f81e2eb6c0e",
     "prev": null,
     "regions": {
      "1099d9ed-4336-403d-8924-acb02ce1d7c0": {
       "attrs": {
        "height": 0.2,
        "width": 0.4,
        "x": 0.1,
        "y": 0.7
       },
       "id": "1099d9ed-4336-403d-8924-acb02ce1d7c0"
      },
      "159e8040-85d4-4abc-8f26-2cf90a0407d7": {
       "attrs": {
        "height": 0.6,
        "width": 0.8,
        "x": 0.1,
        "y": 0.1
       },
       "id": "159e8040-85d4-4abc-8f26-2cf90a0407d7"
      },
      "d9ecb908-45c1-485f-bb18-bbc91a1fd84e": {
       "attrs": {
        "height": 0.2,
        "width": 0.4,
        "x": 0.5,
        "y": 0.7
       },
       "id": "d9ecb908-45c1-485f-bb18-bbc91a1fd84e"
      }
     }
    }
   },
   "themes": {}
  }
 },
 "nbformat": 4,
 "nbformat_minor": 2
}
